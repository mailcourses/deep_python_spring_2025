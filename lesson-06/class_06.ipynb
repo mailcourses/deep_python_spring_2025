{
 "cells": [
  {
   "cell_type": "code",
   "execution_count": 1,
   "id": "9f93f6d1-0401-4a40-b155-d35a5758b667",
   "metadata": {},
   "outputs": [
    {
     "data": {
      "text/plain": [
       "314"
      ]
     },
     "execution_count": 1,
     "metadata": {},
     "output_type": "execute_result"
    }
   ],
   "source": [
    "int(\"314\")"
   ]
  },
  {
   "cell_type": "code",
   "execution_count": 2,
   "id": "8043aef5-f16d-4d81-a763-3e5203cebb1b",
   "metadata": {},
   "outputs": [
    {
     "data": {
      "text/plain": [
       "3"
      ]
     },
     "execution_count": 2,
     "metadata": {},
     "output_type": "execute_result"
    }
   ],
   "source": [
    "int(3.14)"
   ]
  },
  {
   "cell_type": "code",
   "execution_count": 4,
   "id": "4c6ed9ea-b27b-488d-8495-ba1ad16abe5b",
   "metadata": {},
   "outputs": [
    {
     "data": {
      "text/plain": [
       "(3, -3, 4, -4)"
      ]
     },
     "execution_count": 4,
     "metadata": {},
     "output_type": "execute_result"
    }
   ],
   "source": [
    "int(3.99), int(-3.99), int(4.99), int(-4.99)"
   ]
  },
  {
   "cell_type": "code",
   "execution_count": 6,
   "id": "8f4a5d8b-f664-4c73-a5d4-2a3aac9bc487",
   "metadata": {},
   "outputs": [
    {
     "data": {
      "text/plain": [
       "50860026"
      ]
     },
     "execution_count": 6,
     "metadata": {},
     "output_type": "execute_result"
    }
   ],
   "source": [
    "int(\"0101010010101\", 5)"
   ]
  },
  {
   "cell_type": "code",
   "execution_count": 8,
   "id": "cd14834c-792d-4fda-97ee-a409b4397e06",
   "metadata": {},
   "outputs": [
    {
     "data": {
      "text/plain": [
       "(3, 3.1)"
      ]
     },
     "execution_count": 8,
     "metadata": {},
     "output_type": "execute_result"
    }
   ],
   "source": [
    "round(3.14), round(3.14, 1)"
   ]
  },
  {
   "cell_type": "code",
   "execution_count": 9,
   "id": "a35f93ca-4291-4f46-bf86-2b61ea375f37",
   "metadata": {},
   "outputs": [
    {
     "data": {
      "text/plain": [
       "4"
      ]
     },
     "execution_count": 9,
     "metadata": {},
     "output_type": "execute_result"
    }
   ],
   "source": [
    "round(3.5)"
   ]
  },
  {
   "cell_type": "code",
   "execution_count": 10,
   "id": "a35ceba1-9f2a-4bb1-826b-dd77368f0806",
   "metadata": {},
   "outputs": [
    {
     "data": {
      "text/plain": [
       "2"
      ]
     },
     "execution_count": 10,
     "metadata": {},
     "output_type": "execute_result"
    }
   ],
   "source": [
    "round(2.5)"
   ]
  },
  {
   "cell_type": "code",
   "execution_count": 14,
   "id": "0b2b2bde-482e-4dd1-a80b-7b67ba8feea0",
   "metadata": {},
   "outputs": [
    {
     "data": {
      "text/plain": [
       "(3.5, 3.2, 3.9, 3.4, 3.5)"
      ]
     },
     "execution_count": 14,
     "metadata": {},
     "output_type": "execute_result"
    }
   ],
   "source": [
    "round(3.55, 1), round(3.25, 1), round(3.85, 1), round(3.35, 1), round(3.45, 1)"
   ]
  },
  {
   "cell_type": "code",
   "execution_count": 15,
   "id": "91db6035-4c16-4025-a31e-c7aec96e88c6",
   "metadata": {},
   "outputs": [
    {
     "data": {
      "text/plain": [
       "False"
      ]
     },
     "execution_count": 15,
     "metadata": {},
     "output_type": "execute_result"
    }
   ],
   "source": [
    "0.1 + 0.2 == 0.3"
   ]
  },
  {
   "cell_type": "code",
   "execution_count": 17,
   "id": "eff40129-e5f7-4bc2-be2b-e4a752b57b7c",
   "metadata": {},
   "outputs": [
    {
     "data": {
      "text/plain": [
       "True"
      ]
     },
     "execution_count": 17,
     "metadata": {},
     "output_type": "execute_result"
    }
   ],
   "source": [
    "abs(0.1 + 0.2 - 0.3) <= 2 ** -30"
   ]
  },
  {
   "cell_type": "code",
   "execution_count": 18,
   "id": "3fa08fee-c449-472b-8849-2ff7e4a1f0b2",
   "metadata": {},
   "outputs": [],
   "source": [
    "import math"
   ]
  },
  {
   "cell_type": "code",
   "execution_count": 20,
   "id": "3da866b5-3030-4d88-99f9-0204ad50a863",
   "metadata": {},
   "outputs": [
    {
     "data": {
      "text/plain": [
       "True"
      ]
     },
     "execution_count": 20,
     "metadata": {},
     "output_type": "execute_result"
    }
   ],
   "source": [
    "math.isclose(0.1 + 0.2, 0.3)"
   ]
  },
  {
   "cell_type": "code",
   "execution_count": null,
   "id": "5302dcf0-e5a0-4f23-967e-3dc5ecde4ea2",
   "metadata": {},
   "outputs": [],
   "source": []
  },
  {
   "cell_type": "code",
   "execution_count": null,
   "id": "3003a98b-6cc0-4097-b307-48a3c3192205",
   "metadata": {},
   "outputs": [],
   "source": []
  },
  {
   "cell_type": "code",
   "execution_count": null,
   "id": "83d1b71a-98d2-494b-85f3-14f1905671e2",
   "metadata": {},
   "outputs": [],
   "source": []
  },
  {
   "cell_type": "code",
   "execution_count": null,
   "id": "33888778-5fa0-4c90-a772-4a91980e5f88",
   "metadata": {},
   "outputs": [],
   "source": []
  },
  {
   "cell_type": "code",
   "execution_count": 29,
   "id": "a276fe66-73e1-4423-91a7-07c7a110b68f",
   "metadata": {},
   "outputs": [],
   "source": [
    "import threading\n",
    "import time"
   ]
  },
  {
   "cell_type": "code",
   "execution_count": 22,
   "id": "65f3c17e-264b-4ae0-8a4f-18b32a0596c7",
   "metadata": {},
   "outputs": [
    {
     "data": {
      "text/plain": [
       "8"
      ]
     },
     "execution_count": 22,
     "metadata": {},
     "output_type": "execute_result"
    }
   ],
   "source": [
    "threading.active_count()"
   ]
  },
  {
   "cell_type": "code",
   "execution_count": 23,
   "id": "85e81600-49ed-49f6-8bd0-aef8d710eb95",
   "metadata": {},
   "outputs": [
    {
     "name": "stderr",
     "output_type": "stream",
     "text": [
      "/var/folders/c1/9wdb7dps2x332c6l1y2hrqkh0000gp/T/ipykernel_60215/2205834880.py:1: DeprecationWarning: activeCount() is deprecated, use active_count() instead\n",
      "  threading.activeCount()\n"
     ]
    },
    {
     "data": {
      "text/plain": [
       "8"
      ]
     },
     "execution_count": 23,
     "metadata": {},
     "output_type": "execute_result"
    }
   ],
   "source": [
    "threading.activeCount()"
   ]
  },
  {
   "cell_type": "code",
   "execution_count": 24,
   "id": "ee16266a-c131-4637-bbf9-b49856927e65",
   "metadata": {},
   "outputs": [
    {
     "data": {
      "text/plain": [
       "[<_MainThread(MainThread, started 140704311966528)>,\n",
       " <Thread(IOPub, started daemon 123145577582592)>,\n",
       " <Heartbeat(Heartbeat, started daemon 123145594372096)>,\n",
       " <Thread(Thread-2 (_watch_pipe_fd), started daemon 123145612234752)>,\n",
       " <Thread(Thread-3 (_watch_pipe_fd), started daemon 123145629024256)>,\n",
       " <ControlThread(Control, started daemon 123145645813760)>,\n",
       " <HistorySavingThread(IPythonHistorySavingThread, started 123145662603264)>,\n",
       " <ParentPollerUnix(Thread-1, started daemon 123145679929344)>]"
      ]
     },
     "execution_count": 24,
     "metadata": {},
     "output_type": "execute_result"
    }
   ],
   "source": [
    "threading.enumerate()"
   ]
  },
  {
   "cell_type": "code",
   "execution_count": 25,
   "id": "5bdf73cd-e808-4429-8bb0-3e382f3f45aa",
   "metadata": {},
   "outputs": [
    {
     "data": {
      "text/plain": [
       "140704311966528"
      ]
     },
     "execution_count": 25,
     "metadata": {},
     "output_type": "execute_result"
    }
   ],
   "source": [
    "threading.get_ident()"
   ]
  },
  {
   "cell_type": "code",
   "execution_count": 26,
   "id": "299f4fb6-7522-43ed-b4ad-c1e6d6145bfc",
   "metadata": {},
   "outputs": [],
   "source": [
    "th = threading.current_thread()"
   ]
  },
  {
   "cell_type": "code",
   "execution_count": 27,
   "id": "33511ca9-2801-4521-aabd-2e0caced36f6",
   "metadata": {},
   "outputs": [
    {
     "data": {
      "text/plain": [
       "<_MainThread(MainThread, started 140704311966528)>"
      ]
     },
     "execution_count": 27,
     "metadata": {},
     "output_type": "execute_result"
    }
   ],
   "source": [
    "th"
   ]
  },
  {
   "cell_type": "code",
   "execution_count": 28,
   "id": "801ea244-e6c9-4965-9f98-591441044db3",
   "metadata": {},
   "outputs": [
    {
     "data": {
      "text/plain": [
       "('MainThread', False, 140704311966528, 8904570, True)"
      ]
     },
     "execution_count": 28,
     "metadata": {},
     "output_type": "execute_result"
    }
   ],
   "source": [
    "th.name, th.daemon, th.ident, th.native_id, th.is_alive()"
   ]
  },
  {
   "cell_type": "code",
   "execution_count": null,
   "id": "c3c420bd-28f3-42df-8651-769501bb8e1b",
   "metadata": {},
   "outputs": [],
   "source": []
  },
  {
   "cell_type": "code",
   "execution_count": null,
   "id": "d0991f69-dae7-44c4-b12e-2f6271ef0363",
   "metadata": {},
   "outputs": [],
   "source": []
  },
  {
   "cell_type": "code",
   "execution_count": 32,
   "id": "4e0c6096-b2d4-4f43-bc88-79e88b3a676d",
   "metadata": {},
   "outputs": [
    {
     "name": "stdout",
     "output_type": "stream",
     "text": [
      "data.is_alive()=False\n",
      "self.name='Thread-6', self.n=10 -- started\n",
      "self.name='Thread-6', i=0\n",
      "self.name='Thread-6', i=1\n",
      "self.name='Thread-6', i=2\n",
      "self.name='Thread-6', i=3\n"
     ]
    }
   ],
   "source": [
    "class DataProcessor(threading.Thread):\n",
    "    def __init__(self, n):\n",
    "        super().__init__()\n",
    "        self.n = n\n",
    "        self.result = 0\n",
    "\n",
    "    def run(self):\n",
    "        print(f\"{self.name=}, {self.n=} -- started\")\n",
    "\n",
    "        for i in range(self.n):\n",
    "            print(f\"{self.name=}, {i=}\")\n",
    "            self.result += i\n",
    "            time.sleep(1)\n",
    "\n",
    "\n",
    "data = DataProcessor(10)\n",
    "print(f\"{data.is_alive()=}\")\n",
    "\n",
    "data.start()\n"
   ]
  },
  {
   "cell_type": "code",
   "execution_count": 33,
   "id": "645c3e7a-fe0c-4624-b28d-dce7218c9779",
   "metadata": {},
   "outputs": [
    {
     "name": "stdout",
     "output_type": "stream",
     "text": [
      "something\n",
      "self.name='Thread-6', i=4\n",
      "self.name='Thread-6', i=5\n",
      "self.name='Thread-6', i=6\n"
     ]
    }
   ],
   "source": [
    "print(\"something\")"
   ]
  },
  {
   "cell_type": "code",
   "execution_count": 34,
   "id": "54afd867-0580-47fb-bc1e-1dd5b9a3dfae",
   "metadata": {},
   "outputs": [
    {
     "name": "stdout",
     "output_type": "stream",
     "text": [
      "something\n",
      "self.name='Thread-6', i=7\n",
      "self.name='Thread-6', i=8\n",
      "self.name='Thread-6', i=9\n"
     ]
    }
   ],
   "source": [
    "print(\"something\")"
   ]
  },
  {
   "cell_type": "code",
   "execution_count": 35,
   "id": "a9098114-392a-41d0-80df-a5df3e8193b1",
   "metadata": {},
   "outputs": [
    {
     "data": {
      "text/plain": [
       "45"
      ]
     },
     "execution_count": 35,
     "metadata": {},
     "output_type": "execute_result"
    }
   ],
   "source": [
    "data.result"
   ]
  },
  {
   "cell_type": "code",
   "execution_count": null,
   "id": "c6eadfb1-daa7-4208-87a3-a7ba56caaf8c",
   "metadata": {},
   "outputs": [],
   "source": []
  },
  {
   "cell_type": "code",
   "execution_count": 36,
   "id": "4ea42932-f865-4660-b106-fda82281e7de",
   "metadata": {},
   "outputs": [
    {
     "name": "stdout",
     "output_type": "stream",
     "text": [
      "data.is_alive()=False\n",
      "self.name='Thread-7', self.n=10 -- started\n",
      "self.name='Thread-7', i=0\n",
      "self.name='Thread-7', i=1\n",
      "self.name='Thread-7', i=2\n",
      "self.name='Thread-7', i=3\n",
      "self.name='Thread-7', i=4\n",
      "self.name='Thread-7', i=5\n",
      "self.name='Thread-7', i=6\n",
      "self.name='Thread-7', i=7\n",
      "self.name='Thread-7', i=8\n",
      "self.name='Thread-7', i=9\n",
      "after join False\n"
     ]
    }
   ],
   "source": [
    "class DataProcessor(threading.Thread):\n",
    "    def __init__(self, n):\n",
    "        super().__init__()\n",
    "        self.n = n\n",
    "        self.result = 0\n",
    "\n",
    "    def run(self):\n",
    "        print(f\"{self.name=}, {self.n=} -- started\")\n",
    "\n",
    "        for i in range(self.n):\n",
    "            print(f\"{self.name=}, {i=}\")\n",
    "            self.result += i\n",
    "            time.sleep(1)\n",
    "\n",
    "\n",
    "data = DataProcessor(10)\n",
    "print(f\"{data.is_alive()=}\")\n",
    "\n",
    "data.start()\n",
    "data.join()\n",
    "print(\"after join\", data.is_alive())"
   ]
  },
  {
   "cell_type": "code",
   "execution_count": null,
   "id": "fd44ddc2-e254-4923-815a-de07117bc9ad",
   "metadata": {},
   "outputs": [],
   "source": []
  },
  {
   "cell_type": "code",
   "execution_count": null,
   "id": "5aad567c-8d14-4340-949c-73214fc4e043",
   "metadata": {},
   "outputs": [],
   "source": []
  },
  {
   "cell_type": "code",
   "execution_count": null,
   "id": "d694e026-83e6-4d47-a738-e19625624ff3",
   "metadata": {},
   "outputs": [],
   "source": []
  },
  {
   "cell_type": "code",
   "execution_count": 38,
   "id": "81b9e16d-4f18-47dd-a764-d9e7edf7d3d2",
   "metadata": {},
   "outputs": [
    {
     "name": "stdout",
     "output_type": "stream",
     "text": [
      "data.is_alive()=False\n",
      "self.name='Thread-8', self.n=10 -- started\n",
      "self.name='Thread-8', i=0\n",
      "self.name='Thread-8', i=1\n",
      "self.name='Thread-8', i=2\n",
      "self.name='Thread-8', i=3\n",
      "after join True\n"
     ]
    }
   ],
   "source": [
    "data = DataProcessor(10)\n",
    "print(f\"{data.is_alive()=}\")\n",
    "\n",
    "data.start()\n",
    "data.join(4)\n",
    "print(\"after join\", data.is_alive())"
   ]
  },
  {
   "cell_type": "code",
   "execution_count": 39,
   "id": "5c7ab695-00be-490d-bae9-449957bfc505",
   "metadata": {},
   "outputs": [
    {
     "name": "stdout",
     "output_type": "stream",
     "text": [
      "after join separate True\n",
      "self.name='Thread-8', i=4\n",
      "self.name='Thread-8', i=5\n",
      "self.name='Thread-8', i=6\n",
      "self.name='Thread-8', i=7\n",
      "self.name='Thread-8', i=8\n",
      "self.name='Thread-8', i=9\n"
     ]
    }
   ],
   "source": [
    "print(\"after join separate\", data.is_alive())"
   ]
  },
  {
   "cell_type": "code",
   "execution_count": null,
   "id": "87759113-50ad-4c7b-b64c-6f996412a616",
   "metadata": {},
   "outputs": [],
   "source": []
  },
  {
   "cell_type": "code",
   "execution_count": null,
   "id": "38f2a67e-d616-4e92-9b1f-e94fb93d1ccb",
   "metadata": {},
   "outputs": [],
   "source": []
  },
  {
   "cell_type": "code",
   "execution_count": 40,
   "id": "ae2e5594-df63-4646-9db7-58b7802c6f24",
   "metadata": {},
   "outputs": [],
   "source": [
    "N = 10 ** 8\n",
    "\n",
    "def counter(a, b):\n",
    "    while a < b:\n",
    "        a += 1"
   ]
  },
  {
   "cell_type": "code",
   "execution_count": 41,
   "id": "7540a713-575b-4974-8f9a-2aa5edd7b94c",
   "metadata": {},
   "outputs": [
    {
     "name": "stdout",
     "output_type": "stream",
     "text": [
      "CPU times: user 4.59 s, sys: 101 ms, total: 4.69 s\n",
      "Wall time: 5.75 s\n"
     ]
    }
   ],
   "source": [
    "%%time\n",
    "\n",
    "counter(0, N)"
   ]
  },
  {
   "cell_type": "code",
   "execution_count": null,
   "id": "a8814aaf-ac96-43b7-8598-ebd16bb6e381",
   "metadata": {},
   "outputs": [],
   "source": []
  },
  {
   "cell_type": "code",
   "execution_count": 42,
   "id": "a0ac2f23-3a32-47d9-91b4-8535a3a58b9b",
   "metadata": {},
   "outputs": [
    {
     "name": "stdout",
     "output_type": "stream",
     "text": [
      "CPU times: user 4.93 s, sys: 95.2 ms, total: 5.03 s\n",
      "Wall time: 5.95 s\n"
     ]
    }
   ],
   "source": [
    "%%time\n",
    "\n",
    "th = threading.Thread(target=counter, args=(0, N), name=\"counter_solo\")\n",
    "th.start()\n",
    "th.join()"
   ]
  },
  {
   "cell_type": "code",
   "execution_count": 56,
   "id": "65ffd8e4-d2f4-46eb-bc6b-356ab0cfb7e3",
   "metadata": {},
   "outputs": [
    {
     "name": "stdout",
     "output_type": "stream",
     "text": [
      "threading.current_thread().name='counter_0' -- started\n",
      "threading.current_thread().name='counter_1' -- started\n",
      "threading.current_thread().name='counter_2' -- started\n",
      "threading.current_thread().name='counter_3' -- started\n",
      "threading.current_thread().name='counter_4' -- started\n",
      "threading.current_thread().name='counter_5' -- started\n",
      "threading.current_thread().name='counter_6' -- started\n",
      "threading.current_thread().name='counter_7' -- started\n",
      "threading.current_thread().name='counter_8' -- started\n",
      "threading.current_thread().name='counter_9' -- started\n",
      "threading.current_thread().name='counter_5' -- finish\n",
      "threading.current_thread().name='counter_8' -- finish\n",
      "threading.current_thread().name='counter_4' -- finish\n",
      "threading.current_thread().name='counter_7' -- finish\n",
      "threading.current_thread().name='counter_9' -- finish\n",
      "threading.current_thread().name='counter_2' -- finish\n",
      "threading.current_thread().name='counter_6' -- finish\n",
      "threading.current_thread().name='counter_1' -- finish\n",
      "threading.current_thread().name='counter_3' -- finish\n",
      "threading.current_thread().name='counter_0' -- finish\n",
      "CPU times: user 6.03 s, sys: 352 ms, total: 6.38 s\n",
      "Wall time: 8.64 s\n"
     ]
    }
   ],
   "source": [
    "%%time\n",
    "\n",
    "N = 10 ** 8\n",
    "N_THREADS = 10\n",
    "N_JOBS = N // N_THREADS\n",
    "\n",
    "\n",
    "def counter(a, b):\n",
    "    print(f\"{threading.current_thread().name=} -- started\")\n",
    "    while a < b:\n",
    "        a += 1\n",
    "    print(f\"{threading.current_thread().name=} -- finish\")\n",
    "\n",
    "\n",
    "threads = [\n",
    "    threading.Thread(\n",
    "        target=counter,\n",
    "        args=(i * N_JOBS, (i + 1) * N_JOBS),\n",
    "        name=f\"counter_{i}\"\n",
    "    )\n",
    "    for i in range(N_THREADS)\n",
    "]\n",
    "\n",
    "for th in threads:\n",
    "    th.start()\n",
    "\n",
    "for th in threads:\n",
    "    th.join()"
   ]
  },
  {
   "cell_type": "code",
   "execution_count": 53,
   "id": "93240c57-4e18-46d1-a330-0a09ca255ff4",
   "metadata": {},
   "outputs": [
    {
     "name": "stdout",
     "output_type": "stream",
     "text": [
      "123\n"
     ]
    }
   ],
   "source": [
    "print(123)"
   ]
  },
  {
   "cell_type": "code",
   "execution_count": null,
   "id": "4db9197e-d1d9-48f0-a4ac-3c9153de7a3c",
   "metadata": {},
   "outputs": [],
   "source": []
  },
  {
   "cell_type": "code",
   "execution_count": null,
   "id": "357d0bdd-a7ee-4eda-8d31-a0d818ee5576",
   "metadata": {},
   "outputs": [],
   "source": []
  },
  {
   "cell_type": "code",
   "execution_count": 60,
   "id": "7d5dfef0-d142-4aab-8cca-a2022a631b13",
   "metadata": {},
   "outputs": [
    {
     "name": "stdout",
     "output_type": "stream",
     "text": [
      "START count=0\n",
      "FINISH count=3656761\n",
      "CPU times: user 4.19 s, sys: 179 ms, total: 4.37 s\n",
      "Wall time: 5.27 s\n"
     ]
    }
   ],
   "source": [
    "%%time\n",
    "\n",
    "N = 2 * 10 ** 7\n",
    "N_THREADS = 10\n",
    "N_JOBS = N // N_THREADS\n",
    "\n",
    "count = 0\n",
    "\n",
    "\n",
    "def counter(a, b):\n",
    "    global count\n",
    "    while a < b:\n",
    "        a += 1\n",
    "        tmp = count   # 100, 100, 100 ....\n",
    "        y = 10\n",
    "        x = y + tmp\n",
    "        z = min(tmp, 100)\n",
    "        tmp += 1      # 101, 101, 101 ....\n",
    "        count = tmp   # 101, 101, 101 ....\n",
    "\n",
    "\n",
    "threads = [\n",
    "    threading.Thread(\n",
    "        target=counter,\n",
    "        args=(i * N_JOBS, (i + 1) * N_JOBS),\n",
    "        name=f\"counter_{i}\"\n",
    "    )\n",
    "    for i in range(N_THREADS)\n",
    "]\n",
    "\n",
    "print(f\"START {count=}\")\n",
    "\n",
    "for th in threads:\n",
    "    th.start()\n",
    "\n",
    "for th in threads:\n",
    "    th.join()\n",
    "\n",
    "print(f\"FINISH {count=}\")"
   ]
  },
  {
   "cell_type": "code",
   "execution_count": null,
   "id": "75ac81f2-9ea5-42da-9ebd-b23fcad9a06d",
   "metadata": {},
   "outputs": [],
   "source": []
  },
  {
   "cell_type": "code",
   "execution_count": 62,
   "id": "1c94c602-63be-4145-bf04-e20f058341bf",
   "metadata": {},
   "outputs": [
    {
     "name": "stdout",
     "output_type": "stream",
     "text": [
      "START count=0\n",
      "FINISH count=20000000\n",
      "CPU times: user 9.33 s, sys: 733 ms, total: 10.1 s\n",
      "Wall time: 11.8 s\n"
     ]
    }
   ],
   "source": [
    "%%time\n",
    "\n",
    "N = 2 * 10 ** 7\n",
    "N_THREADS = 10\n",
    "N_JOBS = N // N_THREADS\n",
    "\n",
    "count = 0\n",
    "lock = threading.Lock()\n",
    "\n",
    "\n",
    "def counter(a, b):\n",
    "    global count\n",
    "    while a < b:\n",
    "        a += 1\n",
    "        \n",
    "        with lock:  # 1\n",
    "            tmp = count  # 1 GIL aq\n",
    "            y = 10  # 1 GIL rel\n",
    "            x = y + tmp # 1 GIL aq\n",
    "            z = min(tmp, 100)  # 2 GIL aq\n",
    "            tmp += 1\n",
    "            count = tmp # 2 GIL rel\n",
    "\n",
    "\n",
    "threads = [\n",
    "    threading.Thread(\n",
    "        target=counter,\n",
    "        args=(i * N_JOBS, (i + 1) * N_JOBS),\n",
    "        name=f\"counter_{i}\"\n",
    "    )\n",
    "    for i in range(N_THREADS)\n",
    "]\n",
    "\n",
    "print(f\"START {count=}\")\n",
    "\n",
    "for th in threads:\n",
    "    th.start()\n",
    "\n",
    "for th in threads:\n",
    "    th.join()\n",
    "\n",
    "print(f\"FINISH {count=}\")"
   ]
  },
  {
   "cell_type": "code",
   "execution_count": 63,
   "id": "8f3875cf-5514-4800-b979-3f4b75404207",
   "metadata": {},
   "outputs": [
    {
     "data": {
      "text/plain": [
       "[<_MainThread(MainThread, started 140704311966528)>,\n",
       " <Thread(IOPub, started daemon 123145577582592)>,\n",
       " <Heartbeat(Heartbeat, started daemon 123145594372096)>,\n",
       " <Thread(Thread-2 (_watch_pipe_fd), started daemon 123145612234752)>,\n",
       " <Thread(Thread-3 (_watch_pipe_fd), started daemon 123145629024256)>,\n",
       " <ControlThread(Control, started daemon 123145645813760)>,\n",
       " <HistorySavingThread(IPythonHistorySavingThread, started 123145662603264)>,\n",
       " <ParentPollerUnix(Thread-1, started daemon 123145679929344)>]"
      ]
     },
     "execution_count": 63,
     "metadata": {},
     "output_type": "execute_result"
    }
   ],
   "source": [
    "threading.enumerate()"
   ]
  },
  {
   "cell_type": "code",
   "execution_count": null,
   "id": "68fbb5ae-b57a-4c28-81bc-5b164e3b7863",
   "metadata": {},
   "outputs": [],
   "source": []
  },
  {
   "cell_type": "code",
   "execution_count": null,
   "id": "8193957c-0d03-43e3-b247-43cdfc8946da",
   "metadata": {},
   "outputs": [],
   "source": []
  },
  {
   "cell_type": "code",
   "execution_count": null,
   "id": "cf7f0d39-6297-4715-ad5c-351fb085170d",
   "metadata": {},
   "outputs": [],
   "source": []
  },
  {
   "cell_type": "code",
   "execution_count": 26,
   "id": "d85dde08-2723-4f0f-83d4-563ca1c34ba3",
   "metadata": {},
   "outputs": [],
   "source": [
    "from urllib.request import urlopen\n",
    "import time\n",
    "import threading"
   ]
  },
  {
   "cell_type": "code",
   "execution_count": 2,
   "id": "a01510f9-d51d-4b4e-b37c-96e446251a9e",
   "metadata": {},
   "outputs": [],
   "source": [
    "URL = \"http://ru.wikipedia.org/wiki/Python\""
   ]
  },
  {
   "cell_type": "code",
   "execution_count": 3,
   "id": "9239323c-b7b8-4d93-be28-5facaa110d6c",
   "metadata": {},
   "outputs": [],
   "source": [
    "def fetch_url(url):\n",
    "    return urlopen(url)"
   ]
  },
  {
   "cell_type": "code",
   "execution_count": 4,
   "id": "49b143e4-131f-45da-94da-794dc1773825",
   "metadata": {},
   "outputs": [],
   "source": [
    "resp = fetch_url(URL)"
   ]
  },
  {
   "cell_type": "code",
   "execution_count": 10,
   "id": "aea4e762-5046-4b3c-a91f-ff203809a3e4",
   "metadata": {},
   "outputs": [
    {
     "data": {
      "text/plain": [
       "200"
      ]
     },
     "execution_count": 10,
     "metadata": {},
     "output_type": "execute_result"
    }
   ],
   "source": [
    "resp.code"
   ]
  },
  {
   "cell_type": "code",
   "execution_count": 12,
   "id": "2d7f3ceb-7aff-44b6-9c0d-dd1a8e0ae1ac",
   "metadata": {},
   "outputs": [
    {
     "name": "stdout",
     "output_type": "stream",
     "text": [
      "CPU times: user 88.1 ms, sys: 31.5 ms, total: 120 ms\n",
      "Wall time: 12.9 s\n"
     ]
    }
   ],
   "source": [
    "%%time\n",
    "\n",
    "URL = \"http://ru.wikipedia.org/wiki/Python\"\n",
    "URLS = [URL] * 20\n",
    "\n",
    "\n",
    "def fetch_url(url):\n",
    "    return urlopen(url)\n",
    "\n",
    "\n",
    "def fetch_batch_urls(urls):\n",
    "    for url in urls:\n",
    "        fetch_url(url)\n",
    "\n",
    "\n",
    "fetch_batch_urls(URLS)"
   ]
  },
  {
   "cell_type": "code",
   "execution_count": null,
   "id": "cfdfb1d8-4ce2-45da-aeaf-17de922096cc",
   "metadata": {},
   "outputs": [],
   "source": []
  },
  {
   "cell_type": "code",
   "execution_count": 21,
   "id": "e633bae7-d429-4778-b839-9ca127e0c2aa",
   "metadata": {},
   "outputs": [
    {
     "name": "stdout",
     "output_type": "stream",
     "text": [
      "threading.current_thread().name='fetch_batch_urls_0' -- started 2\n",
      "threading.current_thread().name='fetch_batch_urls_1' -- started 2\n",
      "threading.current_thread().name='fetch_batch_urls_2' -- started 2\n",
      "threading.current_thread().name='fetch_batch_urls_3' -- started 2\n",
      "threading.current_thread().name='fetch_batch_urls_4' -- started 2\n",
      "threading.current_thread().name='fetch_batch_urls_5' -- started 2\n",
      "threading.current_thread().name='fetch_batch_urls_6' -- started 2\n",
      "threading.current_thread().name='fetch_batch_urls_7' -- started 2\n",
      "threading.current_thread().name='fetch_batch_urls_8' -- started 2\n",
      "threading.current_thread().name='fetch_batch_urls_9' -- started 2\n",
      "threading.current_thread().name='fetch_batch_urls_0' -- finishthreading.current_thread().name='fetch_batch_urls_1' -- finish 2\n",
      " 2\n",
      "threading.current_thread().name='fetch_batch_urls_6' -- finish 2\n",
      "threading.current_thread().name='fetch_batch_urls_5' -- finish 2\n",
      "threading.current_thread().name='fetch_batch_urls_4' -- finishthreading.current_thread().name='fetch_batch_urls_7' -- finish 2\n",
      "threading.current_thread().name='fetch_batch_urls_9' -- finish 2\n",
      "threading.current_thread().name='fetch_batch_urls_3' -- finish 2\n",
      " 2\n",
      "threading.current_thread().name='fetch_batch_urls_8' -- finish 2\n",
      "threading.current_thread().name='fetch_batch_urls_2' -- finish 2\n",
      "CPU times: user 101 ms, sys: 36.2 ms, total: 137 ms\n",
      "Wall time: 8.6 s\n"
     ]
    }
   ],
   "source": [
    "%%time\n",
    "\n",
    "URL = \"http://ru.wikipedia.org/wiki/Python\"\n",
    "URLS = [URL] * 20\n",
    "N_THREADS = 10\n",
    "N_JOBS = len(URLS) // N_THREADS\n",
    "\n",
    "\n",
    "def fetch_url(url):\n",
    "    return urlopen(url)\n",
    "\n",
    "\n",
    "def fetch_batch_urls(urls):\n",
    "    print(f\"{threading.current_thread().name=} -- started\", len(urls))\n",
    "    for url in urls:\n",
    "        fetch_url(url)\n",
    "    print(f\"{threading.current_thread().name=} -- finish\", len(urls))\n",
    "\n",
    "\n",
    "def run():\n",
    "    threads = [\n",
    "        threading.Thread(\n",
    "            target=fetch_batch_urls,\n",
    "            args=(URLS[i * N_JOBS : (i + 1) * N_JOBS],),\n",
    "            name=f\"fetch_batch_urls_{i}\"\n",
    "        )\n",
    "        for i in range(N_THREADS)\n",
    "    ]\n",
    "    \n",
    "    for th in threads:\n",
    "        th.start()\n",
    "    \n",
    "    for th in threads:\n",
    "        th.join()\n",
    "\n",
    "\n",
    "run()"
   ]
  },
  {
   "cell_type": "code",
   "execution_count": 24,
   "id": "47ee8b25-5585-4cf2-bf4d-6965e426c3c0",
   "metadata": {},
   "outputs": [
    {
     "name": "stdout",
     "output_type": "stream",
     "text": [
      "CPU times: user 118 ms, sys: 2.04 s, total: 2.16 s\n",
      "Wall time: 2.46 s\n"
     ]
    }
   ],
   "source": [
    "%%time\n",
    "\n",
    "URL = \"http://ru.wikipedia.org/wiki/Python\"\n",
    "URLS = [URL] * 2000\n",
    "N_THREADS = 1000\n",
    "N_JOBS = len(URLS) // N_THREADS\n",
    "\n",
    "\n",
    "def fetch_url(url):\n",
    "    time.sleep(1)\n",
    "\n",
    "\n",
    "def fetch_batch_urls(urls):\n",
    "    for url in urls:\n",
    "        fetch_url(url)\n",
    "\n",
    "def run():\n",
    "    threads = [\n",
    "        threading.Thread(\n",
    "            target=fetch_batch_urls,\n",
    "            args=(URLS[i * N_JOBS : (i + 1) * N_JOBS],),\n",
    "            name=f\"fetch_batch_urls_{i}\"\n",
    "        )\n",
    "        for i in range(N_THREADS)\n",
    "    ]\n",
    "    \n",
    "    for th in threads:\n",
    "        th.start()\n",
    "    \n",
    "    for th in threads:\n",
    "        th.join()\n",
    "\n",
    "\n",
    "run()"
   ]
  },
  {
   "cell_type": "code",
   "execution_count": 29,
   "id": "1c060d4a-23f7-4564-9384-29793ad11fe3",
   "metadata": {},
   "outputs": [
    {
     "name": "stdout",
     "output_type": "stream",
     "text": [
      "threading.current_thread().name='fetch_batch_urls_0' -- started 2\n",
      "threading.current_thread().name='fetch_batch_urls_1' -- started 2\n",
      "threading.current_thread().name='fetch_batch_urls_2' -- started 2\n",
      "threading.current_thread().name='fetch_batch_urls_3' -- started 2\n",
      "threading.current_thread().name='fetch_batch_urls_4' -- started 2\n",
      "threading.current_thread().name='fetch_batch_urls_5' -- started 2\n",
      "threading.current_thread().name='fetch_batch_urls_6' -- started 2\n",
      "threading.current_thread().name='fetch_batch_urls_7' -- started 2\n",
      "threading.current_thread().name='fetch_batch_urls_8' -- started 2\n",
      "threading.current_thread().name='fetch_batch_urls_9' -- started 2\n",
      "threading.current_thread().name='fetch_batch_urls_2' -- finish 6.4928669929504395\n",
      "threading.current_thread().name='fetch_batch_urls_9' -- finish 6.516428232192993\n",
      "threading.current_thread().name='fetch_batch_urls_7' -- finish 7.315694808959961\n",
      "threading.current_thread().name='fetch_batch_urls_6' -- finish 7.316965818405151\n",
      "threading.current_thread().name='fetch_batch_urls_8' -- finish 7.320839166641235\n",
      "threading.current_thread().name='fetch_batch_urls_1' -- finish 7.3603692054748535\n",
      "threading.current_thread().name='fetch_batch_urls_5' -- finish 7.357841730117798\n",
      "threading.current_thread().name='fetch_batch_urls_4' -- finish 7.358780860900879\n",
      "threading.current_thread().name='fetch_batch_urls_3' -- finish 7.4433510303497314\n",
      "threading.current_thread().name='fetch_batch_urls_0' -- finish 7.538039207458496\n",
      "CPU times: user 92.9 ms, sys: 32.6 ms, total: 126 ms\n",
      "Wall time: 7.54 s\n"
     ]
    }
   ],
   "source": [
    "%%time\n",
    "\n",
    "URL = \"http://ru.wikipedia.org/wiki/Python\"\n",
    "URLS = [URL] * 20\n",
    "N_THREADS = 10\n",
    "N_JOBS = len(URLS) // N_THREADS\n",
    "\n",
    "\n",
    "def fetch_url(url, sem):\n",
    "    with sem:\n",
    "        return urlopen(url)\n",
    "\n",
    "\n",
    "def fetch_batch_urls(urls, sem):\n",
    "    print(f\"{threading.current_thread().name=} -- started\", len(urls))\n",
    "    t1 = time.time()\n",
    "    for url in urls:\n",
    "        fetch_url(url, sem)\n",
    "    print(f\"{threading.current_thread().name=} -- finish\", time.time() - t1)\n",
    "\n",
    "\n",
    "def run():\n",
    "    sem = threading.Semaphore(10)\n",
    "\n",
    "    threads = [\n",
    "        threading.Thread(\n",
    "            target=fetch_batch_urls,\n",
    "            args=(URLS[i * N_JOBS : (i + 1) * N_JOBS], sem),\n",
    "            name=f\"fetch_batch_urls_{i}\"\n",
    "        )\n",
    "        for i in range(N_THREADS)\n",
    "    ]\n",
    "    \n",
    "    for th in threads:\n",
    "        th.start()\n",
    "    \n",
    "    for th in threads:\n",
    "        th.join()\n",
    "\n",
    "\n",
    "run()"
   ]
  },
  {
   "cell_type": "code",
   "execution_count": null,
   "id": "bb7224fa-9a40-45aa-8c62-28d221252ba6",
   "metadata": {},
   "outputs": [],
   "source": []
  },
  {
   "cell_type": "code",
   "execution_count": 30,
   "id": "a35b45fa-8f28-4b8e-a9de-79613b78457f",
   "metadata": {},
   "outputs": [],
   "source": [
    "import queue"
   ]
  },
  {
   "cell_type": "code",
   "execution_count": 35,
   "id": "23fe49f5-b0fb-435f-adb3-4e67f6474189",
   "metadata": {},
   "outputs": [
    {
     "name": "stdout",
     "output_type": "stream",
     "text": [
      "threading.current_thread().name='worker_fetch_0' -- started\n",
      "threading.current_thread().name='worker_fetch_1' -- started\n",
      "threading.current_thread().name='worker_fetch_2' -- started\n",
      "threading.current_thread().name='worker_fetch_3' -- started\n",
      "threading.current_thread().name='worker_fetch_4' -- started\n",
      "threading.current_thread().name='worker_fetch_3' -- finished 6\n",
      "threading.current_thread().name='worker_fetch_4' -- finished 6\n",
      "threading.current_thread().name='worker_fetch_2' -- finished 6\n",
      "threading.current_thread().name='worker_fetch_0' -- finished 6\n",
      "threading.current_thread().name='worker_fetch_1' -- finished 6\n",
      "[200, 200, 200, 200, 200, 200, 200, 200, 200, 200, 200, 200, 200, 200, 200, 200, 200, 200, 200, 200, 200, 200, 200, 200, 200, 200, 200, 200, 200, 200]\n",
      "CPU times: user 170 ms, sys: 61.2 ms, total: 231 ms\n",
      "Wall time: 10 s\n"
     ]
    }
   ],
   "source": [
    "%%time\n",
    "\n",
    "URL = \"http://ru.wikipedia.org/wiki/Python\"\n",
    "URLS = [URL] * 30\n",
    "N_THREADS = 5\n",
    "\n",
    "\n",
    "def fetch_url(url, sem, results):\n",
    "    with sem:\n",
    "        resp = urlopen(url)\n",
    "    results.append(resp.code)\n",
    "\n",
    "\n",
    "def worker_fetch(que, sem, results):\n",
    "    print(f\"{threading.current_thread().name=} -- started\")\n",
    "    count = 0\n",
    "\n",
    "    while True:\n",
    "        url = que.get()\n",
    "        if url is None:\n",
    "            que.put(None)\n",
    "            break\n",
    "\n",
    "        fetch_url(url, sem, results)\n",
    "        count += 1\n",
    "\n",
    "    print(f\"{threading.current_thread().name=} -- finished\", count)\n",
    "\n",
    "\n",
    "def run():\n",
    "    sem = threading.Semaphore(10)\n",
    "    que = queue.Queue()\n",
    "    results = []\n",
    "\n",
    "    for url in URLS:\n",
    "        que.put(url)\n",
    "\n",
    "    que.put(None)\n",
    "\n",
    "    threads = [\n",
    "        threading.Thread(\n",
    "            target=worker_fetch,\n",
    "            args=(que, sem, results),\n",
    "            name=f\"worker_fetch_{i}\"\n",
    "        )\n",
    "        for i in range(N_THREADS)\n",
    "    ]\n",
    "    \n",
    "    for th in threads:\n",
    "        th.start()\n",
    "    \n",
    "    for th in threads:\n",
    "        th.join()\n",
    "\n",
    "    print(results)\n",
    "\n",
    "\n",
    "run()"
   ]
  },
  {
   "cell_type": "code",
   "execution_count": 36,
   "id": "ddda4e40-3383-4cba-a0fb-54c299544aa0",
   "metadata": {},
   "outputs": [],
   "source": [
    "q = queue.Queue()"
   ]
  },
  {
   "cell_type": "code",
   "execution_count": 38,
   "id": "4d2317f9-7758-4e12-b26c-b260ffed19c0",
   "metadata": {},
   "outputs": [
    {
     "ename": "Empty",
     "evalue": "",
     "output_type": "error",
     "traceback": [
      "\u001b[31m---------------------------------------------------------------------------\u001b[39m",
      "\u001b[31mEmpty\u001b[39m                                     Traceback (most recent call last)",
      "\u001b[36mCell\u001b[39m\u001b[36m \u001b[39m\u001b[32mIn[38]\u001b[39m\u001b[32m, line 1\u001b[39m\n\u001b[32m----> \u001b[39m\u001b[32m1\u001b[39m \u001b[43mq\u001b[49m\u001b[43m.\u001b[49m\u001b[43mget\u001b[49m\u001b[43m(\u001b[49m\u001b[43mtimeout\u001b[49m\u001b[43m=\u001b[49m\u001b[32;43m2\u001b[39;49m\u001b[43m)\u001b[49m\n",
      "\u001b[36mFile \u001b[39m\u001b[32m/Library/Frameworks/Python.framework/Versions/3.13/lib/python3.13/queue.py:212\u001b[39m, in \u001b[36mQueue.get\u001b[39m\u001b[34m(self, block, timeout)\u001b[39m\n\u001b[32m    210\u001b[39m remaining = endtime - time()\n\u001b[32m    211\u001b[39m \u001b[38;5;28;01mif\u001b[39;00m remaining <= \u001b[32m0.0\u001b[39m:\n\u001b[32m--> \u001b[39m\u001b[32m212\u001b[39m     \u001b[38;5;28;01mraise\u001b[39;00m Empty\n\u001b[32m    213\u001b[39m \u001b[38;5;28mself\u001b[39m.not_empty.wait(remaining)\n\u001b[32m    214\u001b[39m \u001b[38;5;28;01mif\u001b[39;00m \u001b[38;5;28mself\u001b[39m.is_shutdown \u001b[38;5;129;01mand\u001b[39;00m \u001b[38;5;129;01mnot\u001b[39;00m \u001b[38;5;28mself\u001b[39m._qsize():\n",
      "\u001b[31mEmpty\u001b[39m: "
     ]
    }
   ],
   "source": [
    "q.get(timeout=2)"
   ]
  },
  {
   "cell_type": "code",
   "execution_count": null,
   "id": "20d0c6d8-300d-4140-863c-56420f312e8d",
   "metadata": {},
   "outputs": [],
   "source": []
  }
 ],
 "metadata": {
  "kernelspec": {
   "display_name": "Python 3 (ipykernel)",
   "language": "python",
   "name": "python3"
  },
  "language_info": {
   "codemirror_mode": {
    "name": "ipython",
    "version": 3
   },
   "file_extension": ".py",
   "mimetype": "text/x-python",
   "name": "python",
   "nbconvert_exporter": "python",
   "pygments_lexer": "ipython3",
   "version": "3.13.2"
  }
 },
 "nbformat": 4,
 "nbformat_minor": 5
}
