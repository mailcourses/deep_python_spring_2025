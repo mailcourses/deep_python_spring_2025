{
 "cells": [
  {
   "cell_type": "code",
   "execution_count": 1,
   "id": "e4626142-3537-4241-a2ec-cb3a58d05248",
   "metadata": {},
   "outputs": [],
   "source": [
    "import logging"
   ]
  },
  {
   "cell_type": "code",
   "execution_count": null,
   "id": "91545ff8-e269-4943-a885-bc1fe2f1782f",
   "metadata": {},
   "outputs": [],
   "source": []
  },
  {
   "cell_type": "code",
   "execution_count": 2,
   "id": "68fa0329-472c-4827-ad07-e5ac01085f1e",
   "metadata": {},
   "outputs": [],
   "source": [
    "root = logging.getLogger()\n",
    "edx = logging.getLogger(\"edx\")"
   ]
  },
  {
   "cell_type": "code",
   "execution_count": 3,
   "id": "49d5f7e5-8ba0-41b0-915c-c43931811523",
   "metadata": {},
   "outputs": [],
   "source": [
    "root.info(\"root info\")"
   ]
  },
  {
   "cell_type": "code",
   "execution_count": 5,
   "id": "f605f9de-18b5-41a7-bea3-ce8f9ccd5a1f",
   "metadata": {},
   "outputs": [],
   "source": [
    "edx.info(\"edx info\")"
   ]
  },
  {
   "cell_type": "code",
   "execution_count": 6,
   "id": "c01eecaa-8d43-4337-9bd4-becca1da2bc6",
   "metadata": {},
   "outputs": [
    {
     "data": {
      "text/plain": [
       "30"
      ]
     },
     "execution_count": 6,
     "metadata": {},
     "output_type": "execute_result"
    }
   ],
   "source": [
    "root.getEffectiveLevel()"
   ]
  },
  {
   "cell_type": "code",
   "execution_count": 7,
   "id": "548892ee-13a9-4691-b386-61bd1cfc682d",
   "metadata": {},
   "outputs": [
    {
     "data": {
      "text/plain": [
       "30"
      ]
     },
     "execution_count": 7,
     "metadata": {},
     "output_type": "execute_result"
    }
   ],
   "source": [
    "logging.WARNING"
   ]
  },
  {
   "cell_type": "code",
   "execution_count": 8,
   "id": "f8c8e977-09ac-4c92-b244-c38ea5989e27",
   "metadata": {},
   "outputs": [
    {
     "name": "stderr",
     "output_type": "stream",
     "text": [
      "root error\n"
     ]
    }
   ],
   "source": [
    "root.error(\"root error\")"
   ]
  },
  {
   "cell_type": "code",
   "execution_count": 9,
   "id": "19203cc0-e59a-401b-b238-0b122b2be847",
   "metadata": {},
   "outputs": [
    {
     "name": "stderr",
     "output_type": "stream",
     "text": [
      "edx error\n"
     ]
    }
   ],
   "source": [
    "edx.error(\"edx error\")"
   ]
  },
  {
   "cell_type": "code",
   "execution_count": 10,
   "id": "e69d983b-a5d9-41b0-9273-9409e73c8177",
   "metadata": {},
   "outputs": [
    {
     "name": "stderr",
     "output_type": "stream",
     "text": [
      "ERROR:root:logging error\n"
     ]
    }
   ],
   "source": [
    "logging.error(\"logging error\")"
   ]
  },
  {
   "cell_type": "code",
   "execution_count": null,
   "id": "2529fcac-3cb9-4c6d-9473-25d26874e771",
   "metadata": {},
   "outputs": [],
   "source": []
  },
  {
   "cell_type": "code",
   "execution_count": 11,
   "id": "4b9b0987-7c34-49fc-a26a-294530dbb871",
   "metadata": {},
   "outputs": [
    {
     "data": {
      "text/plain": [
       "[<StreamHandler stderr (NOTSET)>]"
      ]
     },
     "execution_count": 11,
     "metadata": {},
     "output_type": "execute_result"
    }
   ],
   "source": [
    "root.handlers"
   ]
  },
  {
   "cell_type": "code",
   "execution_count": null,
   "id": "15211cae-c372-40f4-9373-46c158ba3fc3",
   "metadata": {},
   "outputs": [],
   "source": []
  },
  {
   "cell_type": "code",
   "execution_count": 12,
   "id": "7df5ee03-ada0-433c-9401-1ebec0457d0f",
   "metadata": {},
   "outputs": [],
   "source": [
    "edx1 = logging.getLogger(\"edx\")"
   ]
  },
  {
   "cell_type": "code",
   "execution_count": 13,
   "id": "c3a522e3-4359-4179-b39c-8c6530527553",
   "metadata": {},
   "outputs": [
    {
     "data": {
      "text/plain": [
       "True"
      ]
     },
     "execution_count": 13,
     "metadata": {},
     "output_type": "execute_result"
    }
   ],
   "source": [
    "edx is edx1"
   ]
  },
  {
   "cell_type": "code",
   "execution_count": null,
   "id": "c9536cdc-d1ba-4153-97a9-372b9cc794d9",
   "metadata": {},
   "outputs": [],
   "source": []
  },
  {
   "cell_type": "code",
   "execution_count": null,
   "id": "9cb89bab-885a-4364-84dc-248606881e33",
   "metadata": {},
   "outputs": [],
   "source": []
  },
  {
   "cell_type": "code",
   "execution_count": 27,
   "id": "0f3400cc-686d-441b-a8d7-154b1e5010aa",
   "metadata": {},
   "outputs": [],
   "source": [
    "import logging\n",
    "\n",
    "logging.basicConfig(\n",
    "    filename=\"root.log\",\n",
    "    filemode=\"w\",\n",
    "    level=logging.INFO,\n",
    "    format=\"%(asctime)s\\t%(levelname)s\\t%(name)s\\t%(message)s\",\n",
    "    force=True,\n",
    ")"
   ]
  },
  {
   "cell_type": "code",
   "execution_count": 28,
   "id": "bb2c7df9-e6ec-4fb7-8d3f-e0a12c5f6e91",
   "metadata": {},
   "outputs": [],
   "source": [
    "root = logging.getLogger()"
   ]
  },
  {
   "cell_type": "code",
   "execution_count": 17,
   "id": "9375609f-9b14-4e02-a71c-1a48c4977efe",
   "metadata": {},
   "outputs": [
    {
     "data": {
      "text/plain": [
       "(<RootLogger root (INFO)>,\n",
       " [<FileHandler /Users/g.kandaurov/projects/deep_python_spring_2025/lesson-09/root.log (NOTSET)>])"
      ]
     },
     "execution_count": 17,
     "metadata": {},
     "output_type": "execute_result"
    }
   ],
   "source": [
    "root, root.handlers"
   ]
  },
  {
   "cell_type": "code",
   "execution_count": 29,
   "id": "e5d1fa56-dfba-4dc4-a2cd-90cf6537aa3a",
   "metadata": {},
   "outputs": [],
   "source": [
    "root.handlers[0].setLevel(logging.WARNING)"
   ]
  },
  {
   "cell_type": "code",
   "execution_count": 30,
   "id": "de10150b-b9a5-44eb-8ee0-1eca2063ea02",
   "metadata": {},
   "outputs": [
    {
     "data": {
      "text/plain": [
       "(<RootLogger root (INFO)>,\n",
       " [<FileHandler /Users/g.kandaurov/projects/deep_python_spring_2025/lesson-09/root.log (WARNING)>])"
      ]
     },
     "execution_count": 30,
     "metadata": {},
     "output_type": "execute_result"
    }
   ],
   "source": [
    "root, root.handlers"
   ]
  },
  {
   "cell_type": "code",
   "execution_count": 31,
   "id": "99ca58a7-66c3-4b06-9a36-20e99eaa9599",
   "metadata": {},
   "outputs": [],
   "source": [
    "root.debug(\"dbg\")\n",
    "root.info(\"inf\")\n",
    "root.warning(\"wrn\")\n",
    "root.error(\"err\")\n",
    "root.critical(\"crit\")"
   ]
  },
  {
   "cell_type": "code",
   "execution_count": 32,
   "id": "2f973c3c-5b01-494c-8ad1-2685220738ed",
   "metadata": {},
   "outputs": [
    {
     "name": "stdout",
     "output_type": "stream",
     "text": [
      "2025-05-22 20:17:30,064\tWARNING\troot\twrn\n",
      "2025-05-22 20:17:30,064\tERROR\troot\terr\n",
      "2025-05-22 20:17:30,065\tCRITICAL\troot\tcrit\n"
     ]
    }
   ],
   "source": [
    "!cat root.log"
   ]
  },
  {
   "cell_type": "code",
   "execution_count": null,
   "id": "5e4ab66a-c136-4538-9333-83b7d1c4b093",
   "metadata": {},
   "outputs": [],
   "source": []
  },
  {
   "cell_type": "code",
   "execution_count": 33,
   "id": "a7e7a126-1491-4389-b264-669082696a85",
   "metadata": {},
   "outputs": [],
   "source": [
    "edx = logging.getLogger(\"class.edx\")"
   ]
  },
  {
   "cell_type": "code",
   "execution_count": 34,
   "id": "6520089f-d116-4864-abcc-e6eba610591e",
   "metadata": {},
   "outputs": [
    {
     "data": {
      "text/plain": [
       "<Logger class.edx (INFO)>"
      ]
     },
     "execution_count": 34,
     "metadata": {},
     "output_type": "execute_result"
    }
   ],
   "source": [
    "edx"
   ]
  },
  {
   "cell_type": "code",
   "execution_count": 35,
   "id": "25be79ef-654d-4e7c-94e4-c0b4cde2fe63",
   "metadata": {},
   "outputs": [],
   "source": [
    "edx.error(\"edx Zero error\")"
   ]
  },
  {
   "cell_type": "code",
   "execution_count": 36,
   "id": "47d9d060-678e-45eb-b385-843ac10a232d",
   "metadata": {},
   "outputs": [
    {
     "name": "stdout",
     "output_type": "stream",
     "text": [
      "2025-05-22 20:17:30,064\tWARNING\troot\twrn\n",
      "2025-05-22 20:17:30,064\tERROR\troot\terr\n",
      "2025-05-22 20:17:30,065\tCRITICAL\troot\tcrit\n",
      "2025-05-22 20:18:55,950\tERROR\tclass.edx\tedx Zero error\n"
     ]
    }
   ],
   "source": [
    "!cat root.log"
   ]
  },
  {
   "cell_type": "code",
   "execution_count": null,
   "id": "2523bc6c-2535-42c3-a31d-967f44330014",
   "metadata": {},
   "outputs": [],
   "source": []
  },
  {
   "cell_type": "code",
   "execution_count": 38,
   "id": "b9822791-07fc-495f-a31f-621e41a74231",
   "metadata": {},
   "outputs": [],
   "source": [
    "class_log = logging.getLogger(\"class\")\n",
    "\n",
    "class_log.addHandler(logging.StreamHandler())"
   ]
  },
  {
   "cell_type": "code",
   "execution_count": 39,
   "id": "ade68c07-15f2-4449-896f-8a78513d1ecc",
   "metadata": {},
   "outputs": [
    {
     "name": "stderr",
     "output_type": "stream",
     "text": [
      "classssss\n"
     ]
    }
   ],
   "source": [
    "class_log.error(\"classssss\")"
   ]
  },
  {
   "cell_type": "code",
   "execution_count": 40,
   "id": "e8638d92-26c1-40f3-a010-dacb8666f796",
   "metadata": {},
   "outputs": [
    {
     "name": "stdout",
     "output_type": "stream",
     "text": [
      "2025-05-22 20:17:30,064\tWARNING\troot\twrn\n",
      "2025-05-22 20:17:30,064\tERROR\troot\terr\n",
      "2025-05-22 20:17:30,065\tCRITICAL\troot\tcrit\n",
      "2025-05-22 20:18:55,950\tERROR\tclass.edx\tedx Zero error\n",
      "2025-05-22 20:21:35,464\tERROR\tclass\tclassssss\n"
     ]
    }
   ],
   "source": [
    "!cat root.log"
   ]
  },
  {
   "cell_type": "code",
   "execution_count": 41,
   "id": "e395e617-1d04-4d0b-ad52-234168a850a2",
   "metadata": {},
   "outputs": [
    {
     "name": "stderr",
     "output_type": "stream",
     "text": [
      "edx KeyError\n"
     ]
    }
   ],
   "source": [
    "edx.error(\"edx KeyError\")"
   ]
  },
  {
   "cell_type": "code",
   "execution_count": 42,
   "id": "f54f8cdc-f3e4-4cd4-9c40-e24cadb99705",
   "metadata": {},
   "outputs": [
    {
     "name": "stdout",
     "output_type": "stream",
     "text": [
      "2025-05-22 20:17:30,064\tWARNING\troot\twrn\n",
      "2025-05-22 20:17:30,064\tERROR\troot\terr\n",
      "2025-05-22 20:17:30,065\tCRITICAL\troot\tcrit\n",
      "2025-05-22 20:18:55,950\tERROR\tclass.edx\tedx Zero error\n",
      "2025-05-22 20:21:35,464\tERROR\tclass\tclassssss\n",
      "2025-05-22 20:22:44,807\tERROR\tclass.edx\tedx KeyError\n"
     ]
    }
   ],
   "source": [
    "!cat root.log"
   ]
  },
  {
   "cell_type": "code",
   "execution_count": 44,
   "id": "7b4fa6a8-e835-4030-bf06-ba051a5496b5",
   "metadata": {},
   "outputs": [],
   "source": [
    "# {root.}class.edx"
   ]
  },
  {
   "cell_type": "code",
   "execution_count": null,
   "id": "67748da3-e71a-45c9-b6ee-8e704a96159f",
   "metadata": {},
   "outputs": [],
   "source": []
  },
  {
   "cell_type": "code",
   "execution_count": null,
   "id": "a07374c6-6fea-48cd-8668-2a7e698693fa",
   "metadata": {},
   "outputs": [],
   "source": []
  },
  {
   "cell_type": "code",
   "execution_count": 74,
   "id": "0cc3ec72-992c-425f-8f1e-027c6d1f14c8",
   "metadata": {},
   "outputs": [],
   "source": [
    "def create_logger(name):\n",
    "    logger = logging.getLogger(name)\n",
    "    logger.setLevel(logging.INFO)\n",
    "\n",
    "    formatter1 = logging.Formatter(\n",
    "        \"11111 %(asctime)s\\t%(levelname)s\\t%(name)s\\t%(message)s\"\n",
    "    )\n",
    "    formatter2 = logging.Formatter(\n",
    "        \"22222 %(asctime)s\\t%(levelname)s\\t%(name)s\\t%(message)s\"\n",
    "    )\n",
    "\n",
    "    print(\"handlers before\", logger.handlers)\n",
    "    while logger.handlers:\n",
    "        logger.removeHandler(logger.handlers[0])\n",
    "    print(\"handlers after\", logger.handlers)\n",
    "\n",
    "    stream = logging.StreamHandler()\n",
    "    stream.setLevel(logging.DEBUG)\n",
    "    stream.setFormatter(formatter1)\n",
    "\n",
    "    file_handler = logging.FileHandler(f\"{name}.log\", mode=\"w\")\n",
    "    file_handler.setLevel(logging.WARNING)\n",
    "    file_handler.setFormatter(formatter2)\n",
    "\n",
    "    logger.addHandler(stream)\n",
    "    logger.addHandler(file_handler)\n",
    "\n",
    "    return logger"
   ]
  },
  {
   "cell_type": "code",
   "execution_count": 46,
   "id": "483b6019-c299-4167-a4ab-87e785b34969",
   "metadata": {},
   "outputs": [],
   "source": [
    "log = create_logger(\"log\")"
   ]
  },
  {
   "cell_type": "code",
   "execution_count": 47,
   "id": "571cdb19-ebcd-4dda-a7a9-9d86dbd96276",
   "metadata": {},
   "outputs": [
    {
     "name": "stderr",
     "output_type": "stream",
     "text": [
      "11111 2025-05-22 20:34:34,566\tERROR\tlog\tlog error created\n"
     ]
    }
   ],
   "source": [
    "log.error(\"log error created\")"
   ]
  },
  {
   "cell_type": "code",
   "execution_count": 48,
   "id": "5e6454e2-e653-444b-8625-92a007468ede",
   "metadata": {},
   "outputs": [
    {
     "name": "stdout",
     "output_type": "stream",
     "text": [
      "22222 2025-05-22 20:34:34,566\tERROR\tlog\tlog error created\n"
     ]
    }
   ],
   "source": [
    "!cat log.log"
   ]
  },
  {
   "cell_type": "code",
   "execution_count": 49,
   "id": "ebe68a6f-bee6-4845-accb-9588c512dc41",
   "metadata": {},
   "outputs": [
    {
     "name": "stdout",
     "output_type": "stream",
     "text": [
      "2025-05-22 20:17:30,064\tWARNING\troot\twrn\n",
      "2025-05-22 20:17:30,064\tERROR\troot\terr\n",
      "2025-05-22 20:17:30,065\tCRITICAL\troot\tcrit\n",
      "2025-05-22 20:18:55,950\tERROR\tclass.edx\tedx Zero error\n",
      "2025-05-22 20:21:35,464\tERROR\tclass\tclassssss\n",
      "2025-05-22 20:22:44,807\tERROR\tclass.edx\tedx KeyError\n",
      "2025-05-22 20:34:34,566\tERROR\tlog\tlog error created\n"
     ]
    }
   ],
   "source": [
    "!cat root.log"
   ]
  },
  {
   "cell_type": "code",
   "execution_count": null,
   "id": "56ce04c1-1d33-4623-aae9-9f3214fa659b",
   "metadata": {},
   "outputs": [],
   "source": []
  },
  {
   "cell_type": "code",
   "execution_count": 55,
   "id": "c470b613-5489-46a4-943d-2485ab70cadc",
   "metadata": {},
   "outputs": [],
   "source": [
    "log = create_logger(\"log\")"
   ]
  },
  {
   "cell_type": "code",
   "execution_count": 52,
   "id": "946b03b5-1bf7-4d93-881a-1feb69e05a10",
   "metadata": {},
   "outputs": [
    {
     "name": "stderr",
     "output_type": "stream",
     "text": [
      "11111 2025-05-22 20:36:01,849\tERROR\tlog\tlog error created\n",
      "11111 2025-05-22 20:36:01,849\tERROR\tlog\tlog error created\n",
      "11111 2025-05-22 20:36:01,849\tERROR\tlog\tlog error created\n"
     ]
    }
   ],
   "source": [
    "log.error(\"log error created\")"
   ]
  },
  {
   "cell_type": "code",
   "execution_count": 53,
   "id": "8fb0ed1a-513b-4fe0-9cce-51756bfee417",
   "metadata": {},
   "outputs": [
    {
     "name": "stdout",
     "output_type": "stream",
     "text": [
      "22222 2025-05-22 20:36:01,849\tERROR\tlog\tlog error created\n",
      "22222 2025-05-22 20:36:01,849\tERROR\tlog\tlog error created\n"
     ]
    }
   ],
   "source": [
    "!cat log.log"
   ]
  },
  {
   "cell_type": "code",
   "execution_count": 56,
   "id": "bbddd40c-0a8a-4f1c-b5b5-10e3c48c5416",
   "metadata": {},
   "outputs": [
    {
     "data": {
      "text/plain": [
       "[<StreamHandler stderr (DEBUG)>,\n",
       " <FileHandler /Users/g.kandaurov/projects/deep_python_spring_2025/lesson-09/log.log (WARNING)>,\n",
       " <StreamHandler stderr (DEBUG)>,\n",
       " <FileHandler /Users/g.kandaurov/projects/deep_python_spring_2025/lesson-09/log.log (WARNING)>,\n",
       " <StreamHandler stderr (DEBUG)>,\n",
       " <FileHandler /Users/g.kandaurov/projects/deep_python_spring_2025/lesson-09/log.log (WARNING)>,\n",
       " <StreamHandler stderr (DEBUG)>,\n",
       " <FileHandler /Users/g.kandaurov/projects/deep_python_spring_2025/lesson-09/log.log (WARNING)>]"
      ]
     },
     "execution_count": 56,
     "metadata": {},
     "output_type": "execute_result"
    }
   ],
   "source": [
    "log.handlers"
   ]
  },
  {
   "cell_type": "code",
   "execution_count": null,
   "id": "b51a3b1b-f31f-4933-8956-01cf5a36ef20",
   "metadata": {},
   "outputs": [],
   "source": [
    "log.removeHandler()"
   ]
  },
  {
   "cell_type": "code",
   "execution_count": 71,
   "id": "6489455c-23c2-4969-bcac-d99486a36909",
   "metadata": {},
   "outputs": [
    {
     "data": {
      "text/plain": [
       "{<FileHandler /Users/g.kandaurov/projects/deep_python_spring_2025/lesson-09/log.log (WARNING)>,\n",
       " <FileHandler /Users/g.kandaurov/projects/deep_python_spring_2025/lesson-09/log.log (WARNING)>,\n",
       " <FileHandler /Users/g.kandaurov/projects/deep_python_spring_2025/lesson-09/log.log (WARNING)>,\n",
       " <FileHandler /Users/g.kandaurov/projects/deep_python_spring_2025/lesson-09/log.log (WARNING)>,\n",
       " <StreamHandler stderr (DEBUG)>,\n",
       " <StreamHandler stderr (DEBUG)>,\n",
       " <StreamHandler stderr (DEBUG)>,\n",
       " <StreamHandler stderr (DEBUG)>}"
      ]
     },
     "execution_count": 71,
     "metadata": {},
     "output_type": "execute_result"
    }
   ],
   "source": [
    "set(log.handlers)"
   ]
  },
  {
   "cell_type": "code",
   "execution_count": null,
   "id": "2797bc17-734a-4e9b-be31-bbabf198016a",
   "metadata": {},
   "outputs": [],
   "source": []
  },
  {
   "cell_type": "code",
   "execution_count": null,
   "id": "bdd62d65-78ef-486f-b7be-5c9faa2d5928",
   "metadata": {},
   "outputs": [],
   "source": []
  },
  {
   "cell_type": "code",
   "execution_count": 75,
   "id": "fb27fca8-0e4f-45fe-9b0f-1dafc39d42a0",
   "metadata": {},
   "outputs": [
    {
     "name": "stdout",
     "output_type": "stream",
     "text": [
      "handlers before [<StreamHandler stderr (DEBUG)>, <FileHandler /Users/g.kandaurov/projects/deep_python_spring_2025/lesson-09/log.log (WARNING)>, <StreamHandler stderr (DEBUG)>, <FileHandler /Users/g.kandaurov/projects/deep_python_spring_2025/lesson-09/log.log (WARNING)>, <StreamHandler stderr (DEBUG)>, <FileHandler /Users/g.kandaurov/projects/deep_python_spring_2025/lesson-09/log.log (WARNING)>, <StreamHandler stderr (DEBUG)>, <FileHandler /Users/g.kandaurov/projects/deep_python_spring_2025/lesson-09/log.log (WARNING)>]\n",
      "handlers after []\n"
     ]
    }
   ],
   "source": [
    "log = create_logger(\"log\")"
   ]
  },
  {
   "cell_type": "code",
   "execution_count": 76,
   "id": "5fa8ffea-7a7f-451c-ab17-1576211b0ae1",
   "metadata": {},
   "outputs": [
    {
     "data": {
      "text/plain": [
       "[<StreamHandler stderr (DEBUG)>,\n",
       " <FileHandler /Users/g.kandaurov/projects/deep_python_spring_2025/lesson-09/log.log (WARNING)>]"
      ]
     },
     "execution_count": 76,
     "metadata": {},
     "output_type": "execute_result"
    }
   ],
   "source": [
    "log.handlers"
   ]
  },
  {
   "cell_type": "code",
   "execution_count": 77,
   "id": "1cc8f5ab-e92b-4590-9335-56faa1586c55",
   "metadata": {},
   "outputs": [
    {
     "name": "stdout",
     "output_type": "stream",
     "text": [
      "handlers before [<StreamHandler stderr (DEBUG)>, <FileHandler /Users/g.kandaurov/projects/deep_python_spring_2025/lesson-09/log.log (WARNING)>]\n",
      "handlers after []\n"
     ]
    }
   ],
   "source": [
    "log = create_logger(\"log\")"
   ]
  },
  {
   "cell_type": "code",
   "execution_count": 78,
   "id": "6deb8342-dd62-45a0-b15c-09a4bc496667",
   "metadata": {},
   "outputs": [
    {
     "data": {
      "text/plain": [
       "[<StreamHandler stderr (DEBUG)>,\n",
       " <FileHandler /Users/g.kandaurov/projects/deep_python_spring_2025/lesson-09/log.log (WARNING)>]"
      ]
     },
     "execution_count": 78,
     "metadata": {},
     "output_type": "execute_result"
    }
   ],
   "source": [
    "log.handlers"
   ]
  },
  {
   "cell_type": "code",
   "execution_count": null,
   "id": "27898e54-7b4a-40a9-8b69-6377fd3c5eb0",
   "metadata": {},
   "outputs": [],
   "source": []
  },
  {
   "cell_type": "code",
   "execution_count": null,
   "id": "4dc7abba-7c6d-4db6-bedd-0d27a13aa658",
   "metadata": {},
   "outputs": [],
   "source": []
  },
  {
   "cell_type": "code",
   "execution_count": 79,
   "id": "98e9783c-4695-4408-9b2d-4df269ad92ce",
   "metadata": {},
   "outputs": [
    {
     "name": "stderr",
     "output_type": "stream",
     "text": [
      "11111 2025-05-22 20:51:21,927\tERROR\tlog\tlog error created\n"
     ]
    }
   ],
   "source": [
    "log.error(\"log error created\")"
   ]
  },
  {
   "cell_type": "code",
   "execution_count": 80,
   "id": "9d89e285-bb6d-4f5b-a947-2996e076a73c",
   "metadata": {},
   "outputs": [
    {
     "name": "stdout",
     "output_type": "stream",
     "text": [
      "22222 2025-05-22 20:51:21,927\tERROR\tlog\tlog error created\n"
     ]
    }
   ],
   "source": [
    "!cat log.log"
   ]
  },
  {
   "cell_type": "code",
   "execution_count": 81,
   "id": "0f32d599-9e29-4a31-971e-c87367f337da",
   "metadata": {},
   "outputs": [
    {
     "name": "stdout",
     "output_type": "stream",
     "text": [
      "2025-05-22 20:17:30,064\tWARNING\troot\twrn\n",
      "2025-05-22 20:17:30,064\tERROR\troot\terr\n",
      "2025-05-22 20:17:30,065\tCRITICAL\troot\tcrit\n",
      "2025-05-22 20:18:55,950\tERROR\tclass.edx\tedx Zero error\n",
      "2025-05-22 20:21:35,464\tERROR\tclass\tclassssss\n",
      "2025-05-22 20:22:44,807\tERROR\tclass.edx\tedx KeyError\n",
      "2025-05-22 20:34:34,566\tERROR\tlog\tlog error created\n",
      "2025-05-22 20:36:01,849\tERROR\tlog\tlog error created\n",
      "2025-05-22 20:51:21,927\tERROR\tlog\tlog error created\n"
     ]
    }
   ],
   "source": [
    "!cat root.log"
   ]
  },
  {
   "cell_type": "code",
   "execution_count": null,
   "id": "da625d53-0df1-4fa0-a7b0-261360b30d70",
   "metadata": {},
   "outputs": [],
   "source": []
  },
  {
   "cell_type": "code",
   "execution_count": null,
   "id": "175d867c-3c9f-48eb-808a-bf7891ffe2d5",
   "metadata": {},
   "outputs": [],
   "source": []
  },
  {
   "cell_type": "code",
   "execution_count": null,
   "id": "69dc7eff-f3df-4d5b-a974-5723a386178c",
   "metadata": {},
   "outputs": [],
   "source": []
  },
  {
   "cell_type": "code",
   "execution_count": null,
   "id": "0451586f-099c-4d6e-a81a-13d97aed1deb",
   "metadata": {},
   "outputs": [],
   "source": []
  },
  {
   "cell_type": "code",
   "execution_count": 57,
   "id": "9e258dfd-8708-4f29-a90f-3e59fe9e3f88",
   "metadata": {},
   "outputs": [],
   "source": [
    "lst = [1, 2]"
   ]
  },
  {
   "cell_type": "code",
   "execution_count": 58,
   "id": "9a630351-9e2a-4817-8b74-1ff2eb658d05",
   "metadata": {},
   "outputs": [],
   "source": [
    "lst.clear()"
   ]
  },
  {
   "cell_type": "code",
   "execution_count": 59,
   "id": "57cd7342-0d40-4a85-ad82-4aec3ec4f55d",
   "metadata": {},
   "outputs": [
    {
     "data": {
      "text/plain": [
       "[]"
      ]
     },
     "execution_count": 59,
     "metadata": {},
     "output_type": "execute_result"
    }
   ],
   "source": [
    "lst"
   ]
  },
  {
   "cell_type": "code",
   "execution_count": 61,
   "id": "d0d1134a-45d7-4b91-bd18-0b0ec3c8c973",
   "metadata": {},
   "outputs": [
    {
     "data": {
      "text/plain": [
       "4373405248"
      ]
     },
     "execution_count": 61,
     "metadata": {},
     "output_type": "execute_result"
    }
   ],
   "source": [
    "lst = [1, 2]\n",
    "id(lst)"
   ]
  },
  {
   "cell_type": "code",
   "execution_count": 62,
   "id": "4150ff41-8625-4407-9a79-80fee6c6f808",
   "metadata": {},
   "outputs": [],
   "source": [
    "lst[:] = []"
   ]
  },
  {
   "cell_type": "code",
   "execution_count": 63,
   "id": "977c59df-6e67-454f-89d9-4854e2d3f462",
   "metadata": {},
   "outputs": [
    {
     "data": {
      "text/plain": [
       "4373405248"
      ]
     },
     "execution_count": 63,
     "metadata": {},
     "output_type": "execute_result"
    }
   ],
   "source": [
    "id(lst)"
   ]
  },
  {
   "cell_type": "code",
   "execution_count": 68,
   "id": "9acd0ea9-6dd0-467b-8b61-e403990d6c62",
   "metadata": {},
   "outputs": [
    {
     "name": "stdout",
     "output_type": "stream",
     "text": [
      "[0, 1, 2, 3, 4, 5, 6, 7, 8, 9]\n",
      "0 [1, 2, 3, 4, 5, 6, 7, 8, 9]\n",
      "2 [1, 3, 4, 5, 6, 7, 8, 9]\n",
      "4 [1, 3, 5, 6, 7, 8, 9]\n",
      "6 [1, 3, 5, 7, 8, 9]\n",
      "8 [1, 3, 5, 7, 9]\n",
      "[1, 3, 5, 7, 9]\n"
     ]
    }
   ],
   "source": [
    "lst = list(range(10))\n",
    "print(lst)\n",
    "\n",
    "for elem in lst:\n",
    "    lst.remove(elem)\n",
    "    print(elem, lst)\n",
    "\n",
    "print(lst)"
   ]
  },
  {
   "cell_type": "code",
   "execution_count": 69,
   "id": "cc2507d3-b932-4b58-a767-fcc11b1fac43",
   "metadata": {},
   "outputs": [
    {
     "name": "stdout",
     "output_type": "stream",
     "text": [
      "[0, 1, 2, 3, 4, 5, 6, 7, 8, 9]\n",
      "0 [1, 2, 3, 4, 5, 6, 7, 8, 9]\n",
      "1 [2, 3, 4, 5, 6, 7, 8, 9]\n",
      "2 [3, 4, 5, 6, 7, 8, 9]\n",
      "3 [4, 5, 6, 7, 8, 9]\n",
      "4 [5, 6, 7, 8, 9]\n",
      "5 [6, 7, 8, 9]\n",
      "6 [7, 8, 9]\n",
      "7 [8, 9]\n",
      "8 [9]\n",
      "9 []\n",
      "[]\n"
     ]
    }
   ],
   "source": [
    "lst = list(range(10))\n",
    "print(lst)\n",
    "\n",
    "for elem in lst[:]:\n",
    "    lst.remove(elem)\n",
    "    print(elem, lst)\n",
    "\n",
    "print(lst)"
   ]
  },
  {
   "cell_type": "code",
   "execution_count": 70,
   "id": "9a54758a-067b-4872-98e8-c62a16f94814",
   "metadata": {},
   "outputs": [
    {
     "name": "stdout",
     "output_type": "stream",
     "text": [
      "[0, 1, 2, 3, 4, 5, 6, 7, 8, 9]\n",
      "9 [0, 1, 2, 3, 4, 5, 6, 7, 8]\n",
      "8 [0, 1, 2, 3, 4, 5, 6, 7]\n",
      "7 [0, 1, 2, 3, 4, 5, 6]\n",
      "6 [0, 1, 2, 3, 4, 5]\n",
      "5 [0, 1, 2, 3, 4]\n",
      "4 [0, 1, 2, 3]\n",
      "3 [0, 1, 2]\n",
      "2 [0, 1]\n",
      "1 [0]\n",
      "0 []\n",
      "[]\n"
     ]
    }
   ],
   "source": [
    "lst = list(range(10))\n",
    "print(lst)\n",
    "\n",
    "while lst:\n",
    "    elem = lst.pop()\n",
    "    print(elem, lst)\n",
    "\n",
    "print(lst)"
   ]
  },
  {
   "cell_type": "code",
   "execution_count": null,
   "id": "5f8c75a6-8ace-4e55-910b-32c754fdb885",
   "metadata": {},
   "outputs": [],
   "source": []
  },
  {
   "cell_type": "code",
   "execution_count": null,
   "id": "86bf6ab5-9de4-4cc0-b1d4-56589c46bca5",
   "metadata": {},
   "outputs": [],
   "source": []
  },
  {
   "cell_type": "code",
   "execution_count": 1,
   "id": "319d2e74-b6be-4417-a24e-d3d306823660",
   "metadata": {},
   "outputs": [],
   "source": [
    "import logging\n",
    "\n",
    "def create_logger(name):\n",
    "    logger = logging.getLogger(name)\n",
    "    logger.setLevel(logging.INFO)\n",
    "    logger.propagate = False\n",
    "\n",
    "    formatter1 = logging.Formatter(\n",
    "        \"11111 %(asctime)s\\t%(levelname)s\\t%(name)s\\t%(message)s\"\n",
    "    )\n",
    "    formatter2 = logging.Formatter(\n",
    "        \"22222 %(asctime)s\\t%(levelname)s\\t%(name)s\\t%(message)s\"\n",
    "    )\n",
    "\n",
    "    print(\"handlers before\", logger.handlers)\n",
    "    while logger.handlers:\n",
    "        logger.removeHandler(logger.handlers[0])\n",
    "    print(\"handlers after\", logger.handlers)\n",
    "\n",
    "    stream = logging.StreamHandler()\n",
    "    stream.setLevel(logging.DEBUG)\n",
    "    stream.setFormatter(formatter1)\n",
    "\n",
    "    file_handler = logging.FileHandler(f\"{name}.log\", mode=\"w\")\n",
    "    file_handler.setLevel(logging.WARNING)\n",
    "    file_handler.setFormatter(formatter2)\n",
    "\n",
    "    logger.addHandler(stream)\n",
    "    logger.addHandler(file_handler)\n",
    "\n",
    "    return logger"
   ]
  },
  {
   "cell_type": "code",
   "execution_count": 3,
   "id": "6dd86aa3-adae-4298-b0d3-01fa5428c7a7",
   "metadata": {},
   "outputs": [
    {
     "name": "stdout",
     "output_type": "stream",
     "text": [
      "handlers before []\n",
      "handlers after []\n"
     ]
    }
   ],
   "source": [
    "log = create_logger(\"log_new\")"
   ]
  },
  {
   "cell_type": "code",
   "execution_count": 4,
   "id": "14549e2a-5a17-4e4b-a877-fa5294261c85",
   "metadata": {},
   "outputs": [
    {
     "name": "stderr",
     "output_type": "stream",
     "text": [
      "11111 2025-05-22 20:55:12,915\tERROR\tlog_new\tlog error created\n"
     ]
    }
   ],
   "source": [
    "log.error(\"log error created\")"
   ]
  },
  {
   "cell_type": "code",
   "execution_count": 6,
   "id": "52c18859-dd1c-4b60-8ec0-f5933d347253",
   "metadata": {},
   "outputs": [
    {
     "name": "stdout",
     "output_type": "stream",
     "text": [
      "22222 2025-05-22 20:55:12,915\tERROR\tlog_new\tlog error created\n"
     ]
    }
   ],
   "source": [
    "!cat log_new.log"
   ]
  },
  {
   "cell_type": "code",
   "execution_count": 7,
   "id": "44f9b55e-a8f3-4ae8-a2b2-016e4b6f50ea",
   "metadata": {},
   "outputs": [
    {
     "name": "stdout",
     "output_type": "stream",
     "text": [
      "2025-05-22 20:17:30,064\tWARNING\troot\twrn\n",
      "2025-05-22 20:17:30,064\tERROR\troot\terr\n",
      "2025-05-22 20:17:30,065\tCRITICAL\troot\tcrit\n",
      "2025-05-22 20:18:55,950\tERROR\tclass.edx\tedx Zero error\n",
      "2025-05-22 20:21:35,464\tERROR\tclass\tclassssss\n",
      "2025-05-22 20:22:44,807\tERROR\tclass.edx\tedx KeyError\n",
      "2025-05-22 20:34:34,566\tERROR\tlog\tlog error created\n",
      "2025-05-22 20:36:01,849\tERROR\tlog\tlog error created\n",
      "2025-05-22 20:51:21,927\tERROR\tlog\tlog error created\n",
      "2025-05-22 20:52:45,172\tERROR\tlog\tlog error created\n",
      "2025-05-22 20:53:31,884\tERROR\tlog\tlog error created\n"
     ]
    }
   ],
   "source": [
    "!cat root.log"
   ]
  },
  {
   "cell_type": "code",
   "execution_count": null,
   "id": "28266852-f24b-449b-98dc-5fce2ec0f0d3",
   "metadata": {},
   "outputs": [],
   "source": []
  },
  {
   "cell_type": "code",
   "execution_count": null,
   "id": "85772a0b-f3a5-4908-b348-430b395450c9",
   "metadata": {},
   "outputs": [],
   "source": []
  },
  {
   "cell_type": "code",
   "execution_count": 10,
   "id": "4b2845d3-54c9-48c7-922c-1a8b306dc6a6",
   "metadata": {},
   "outputs": [
    {
     "name": "stderr",
     "output_type": "stream",
     "text": [
      "11111 2025-05-22 21:02:00,904\tERROR\tlog_new\terror on connect to db=passwords by user=steve\n"
     ]
    }
   ],
   "source": [
    "username = \"steve\"\n",
    "dbname = \"passwords\"\n",
    "\n",
    "log.error(\"error on connect to db=%s by user=%s\" % (dbname, username))"
   ]
  },
  {
   "cell_type": "code",
   "execution_count": 11,
   "id": "94614ae3-c94e-4e1d-86c5-64c134820a52",
   "metadata": {},
   "outputs": [
    {
     "name": "stderr",
     "output_type": "stream",
     "text": [
      "11111 2025-05-22 21:02:46,697\tERROR\tlog_new\terror on connect to db=passwords by user=steve\n"
     ]
    }
   ],
   "source": [
    "username = \"steve\"\n",
    "dbname = \"passwords\"\n",
    "\n",
    "log.error(\"error on connect to db=%s by user=%s\", dbname, username)"
   ]
  },
  {
   "cell_type": "code",
   "execution_count": null,
   "id": "eae1d5c5-0e1a-4a6e-85a6-5ef128085619",
   "metadata": {},
   "outputs": [],
   "source": []
  },
  {
   "cell_type": "code",
   "execution_count": null,
   "id": "936dca62-10ef-4e14-8cd5-5ea5e4506611",
   "metadata": {},
   "outputs": [],
   "source": []
  },
  {
   "cell_type": "code",
   "execution_count": 14,
   "id": "9c7c685c-582b-4425-9718-8c649ace578c",
   "metadata": {},
   "outputs": [],
   "source": [
    "class DbDataFilter(logging.Filter):\n",
    "    def filter(self, record):\n",
    "        print(record.__dict__)\n",
    "        \n",
    "        return True\n",
    "\n",
    "log.handlers[0].addFilter(DbDataFilter())"
   ]
  },
  {
   "cell_type": "code",
   "execution_count": 15,
   "id": "7c8a14cc-4165-4100-861e-31ee6d894858",
   "metadata": {},
   "outputs": [
    {
     "name": "stderr",
     "output_type": "stream",
     "text": [
      "11111 2025-05-22 21:06:22,629\tERROR\tlog_new\terror on connect to db=passwords by user=steve\n"
     ]
    },
    {
     "name": "stdout",
     "output_type": "stream",
     "text": [
      "{'name': 'log_new', 'msg': 'error on connect to db=%s by user=%s', 'args': ('passwords', 'steve'), 'levelname': 'ERROR', 'levelno': 40, 'pathname': '/var/folders/c1/9wdb7dps2x332c6l1y2hrqkh0000gp/T/ipykernel_67164/1333293416.py', 'filename': '1333293416.py', 'module': '1333293416', 'exc_info': None, 'exc_text': None, 'stack_info': None, 'lineno': 1, 'funcName': '<module>', 'created': 1747937182.629877, 'msecs': 629.0, 'relativeCreated': 751228.476, 'thread': 140704311966528, 'threadName': 'MainThread', 'processName': 'MainProcess', 'process': 67164, 'taskName': 'Task-2'}\n"
     ]
    }
   ],
   "source": [
    "log.error(\"error on connect to db=%s by user=%s\", dbname, username)"
   ]
  },
  {
   "cell_type": "code",
   "execution_count": 18,
   "id": "afff769d-477a-4365-992f-2ee437536749",
   "metadata": {},
   "outputs": [
    {
     "name": "stderr",
     "output_type": "stream",
     "text": [
      "11111 2025-05-22 21:09:43,430\tERROR\tlog_new\terror on connect to db=users by user=steve\n"
     ]
    },
    {
     "name": "stdout",
     "output_type": "stream",
     "text": [
      "handlers before [<StreamHandler stderr (DEBUG)>, <FileHandler /Users/g.kandaurov/projects/deep_python_spring_2025/lesson-09/log_new.log (WARNING)>]\n",
      "handlers after []\n"
     ]
    }
   ],
   "source": [
    "class DbDataFilter(logging.Filter):\n",
    "    def filter(self, record):\n",
    "        return \"passwords\" != record.args[0]\n",
    "\n",
    "\n",
    "log = create_logger(\"log_new\")\n",
    "log.handlers[0].addFilter(DbDataFilter())\n",
    "\n",
    "log.error(\"error on connect to db=%s by user=%s\", dbname, username)\n",
    "log.error(\"error on connect to db=%s by user=%s\", \"users\", username)"
   ]
  },
  {
   "cell_type": "code",
   "execution_count": null,
   "id": "8c7bf5dd-e02c-48af-b94e-d1fe490d18b7",
   "metadata": {},
   "outputs": [],
   "source": []
  },
  {
   "cell_type": "code",
   "execution_count": null,
   "id": "d2dd00f0-4c89-4ba3-bf0b-cb1ddd5921ad",
   "metadata": {},
   "outputs": [],
   "source": []
  },
  {
   "cell_type": "code",
   "execution_count": 19,
   "id": "179f0578-5548-4d89-8b8d-26f5e7a83e98",
   "metadata": {},
   "outputs": [],
   "source": [
    "import logging\n",
    "import logging.config\n",
    "\n",
    "\n",
    "conf = {\n",
    "    \"version\": 1,\n",
    "    \"formatters\": {\n",
    "        \"form1\": {\n",
    "            \"format\": \"11111 %(asctime)s\\t%(levelname)s\\t%(name)s\\t%(message)s\",\n",
    "        },\n",
    "        \"form2\": {\n",
    "            \"format\": \"22222 %(asctime)s\\t%(levelname)s\\t%(name)s\\t%(message)s\",\n",
    "        },\n",
    "        \"form3\": {\n",
    "            \"format\": \"rooot %(asctime)s\\t%(levelname)s\\t%(name)s\\t%(message)s\",\n",
    "        },\n",
    "    },\n",
    "    \"handlers\": {\n",
    "        \"stream_handler\": {\n",
    "            \"class\": \"logging.StreamHandler\",\n",
    "            \"level\": \"INFO\",\n",
    "            \"formatter\": \"form1\",\n",
    "        },\n",
    "        \"root_stream_handler\": {\n",
    "            \"class\": \"logging.StreamHandler\",\n",
    "            \"level\": \"DEBUG\",\n",
    "            \"formatter\": \"form3\",\n",
    "        },\n",
    "        \"file_handler\": {\n",
    "            \"class\": \"logging.FileHandler\",\n",
    "            \"level\": \"ERROR\",\n",
    "            \"formatter\": \"form2\",\n",
    "            \"filename\": \"dict_fh.log\",\n",
    "            \"mode\": \"w\",\n",
    "        },\n",
    "    },\n",
    "    \"loggers\": {\n",
    "        \"\": {\n",
    "            \"level\": \"DEBUG\",\n",
    "            \"handlers\": [\"root_stream_handler\"],\n",
    "        },\n",
    "        \"edx\": {\n",
    "            \"level\": \"INFO\",\n",
    "            \"handlers\": [\"stream_handler\", \"file_handler\"],\n",
    "            \"propagate\": False,\n",
    "        },\n",
    "    },\n",
    "}\n",
    "\n",
    "logging.config.dictConfig(conf)"
   ]
  },
  {
   "cell_type": "code",
   "execution_count": 20,
   "id": "b07913f1-5a6b-4593-80a2-efead87fdd2b",
   "metadata": {},
   "outputs": [],
   "source": [
    "root = logging.getLogger()"
   ]
  },
  {
   "cell_type": "code",
   "execution_count": 22,
   "id": "cb0dea85-05dd-41fc-8f34-4606384ba10f",
   "metadata": {},
   "outputs": [
    {
     "name": "stderr",
     "output_type": "stream",
     "text": [
      "rooot 2025-05-22 21:15:20,826\tDEBUG\troot\tnew root error\n"
     ]
    }
   ],
   "source": [
    "root.debug(\"new root error\")"
   ]
  },
  {
   "cell_type": "code",
   "execution_count": 23,
   "id": "0f6c6bd0-52dc-440d-9acf-098c96a53487",
   "metadata": {},
   "outputs": [],
   "source": [
    "edx = logging.getLogger(\"edx\")"
   ]
  },
  {
   "cell_type": "code",
   "execution_count": 24,
   "id": "6983eedb-fa90-4e3b-8e73-444a540003ea",
   "metadata": {},
   "outputs": [
    {
     "name": "stderr",
     "output_type": "stream",
     "text": [
      "11111 2025-05-22 21:15:43,446\tERROR\tedx\tnew_edx_error\n"
     ]
    }
   ],
   "source": [
    "edx.error(\"new_edx_error\")"
   ]
  },
  {
   "cell_type": "code",
   "execution_count": 25,
   "id": "d8bcfe68-c77f-4ad8-ab20-4172f08abf5d",
   "metadata": {},
   "outputs": [
    {
     "name": "stdout",
     "output_type": "stream",
     "text": [
      "22222 2025-05-22 21:15:43,446\tERROR\tedx\tnew_edx_error\n"
     ]
    }
   ],
   "source": [
    "!cat dict_fh.log"
   ]
  },
  {
   "cell_type": "code",
   "execution_count": 31,
   "id": "194d69e9-844a-4ea5-85c5-8d15d046021f",
   "metadata": {},
   "outputs": [
    {
     "name": "stderr",
     "output_type": "stream",
     "text": [
      "11111 2025-05-22 21:27:50,022\tERROR\tedx\twrong with KeyError('123')\n",
      "Traceback (most recent call last):\n",
      "  File \"/var/folders/c1/9wdb7dps2x332c6l1y2hrqkh0000gp/T/ipykernel_67164/2268810351.py\", line 3, in <module>\n",
      "    dct[\"123\"]\n",
      "    ~~~^^^^^^^\n",
      "KeyError: '123'\n"
     ]
    }
   ],
   "source": [
    "dct = {}\n",
    "try:\n",
    "    dct[\"123\"]\n",
    "except Exception as err:\n",
    "    edx.exception(f\"wrong with {err!r}\")"
   ]
  },
  {
   "cell_type": "code",
   "execution_count": null,
   "id": "90c78903-fbaa-4f60-8638-79a74cda7a98",
   "metadata": {},
   "outputs": [],
   "source": []
  },
  {
   "cell_type": "code",
   "execution_count": null,
   "id": "edb5df33-5042-49e2-9a7a-74b05bd01714",
   "metadata": {},
   "outputs": [],
   "source": []
  }
 ],
 "metadata": {
  "kernelspec": {
   "display_name": "Python 3 (ipykernel)",
   "language": "python",
   "name": "python3"
  },
  "language_info": {
   "codemirror_mode": {
    "name": "ipython",
    "version": 3
   },
   "file_extension": ".py",
   "mimetype": "text/x-python",
   "name": "python",
   "nbconvert_exporter": "python",
   "pygments_lexer": "ipython3",
   "version": "3.13.2"
  }
 },
 "nbformat": 4,
 "nbformat_minor": 5
}
