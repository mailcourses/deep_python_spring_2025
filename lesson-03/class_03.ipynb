{
 "cells": [
  {
   "cell_type": "code",
   "execution_count": 1,
   "id": "d9c73bbf-70a9-4683-83e4-32abe878a786",
   "metadata": {},
   "outputs": [
    {
     "data": {
      "text/plain": [
       "{'__name__': '__main__',\n",
       " '__doc__': 'Automatically created module for IPython interactive environment',\n",
       " '__package__': None,\n",
       " '__loader__': None,\n",
       " '__spec__': None,\n",
       " '__builtin__': <module 'builtins' (built-in)>,\n",
       " '__builtins__': <module 'builtins' (built-in)>,\n",
       " '_ih': ['', 'globals()'],\n",
       " '_oh': {},\n",
       " '_dh': [PosixPath('/Users/g.kandaurov/projects/deep_python_spring_2025/lesson-03')],\n",
       " 'In': ['', 'globals()'],\n",
       " 'Out': {},\n",
       " 'get_ipython': <bound method InteractiveShell.get_ipython of <ipykernel.zmqshell.ZMQInteractiveShell object at 0x11094c050>>,\n",
       " 'exit': <IPython.core.autocall.ZMQExitAutocall at 0x110a952b0>,\n",
       " 'quit': <IPython.core.autocall.ZMQExitAutocall at 0x110a952b0>,\n",
       " 'open': <function _io.open(file, mode='r', buffering=-1, encoding=None, errors=None, newline=None, closefd=True, opener=None)>,\n",
       " '_': '',\n",
       " '__': '',\n",
       " '___': '',\n",
       " '__session__': '/Users/g.kandaurov/projects/deep_python_spring_2025/lesson-03/Untitled.ipynb',\n",
       " '_i': '',\n",
       " '_ii': '',\n",
       " '_iii': '',\n",
       " '_i1': 'globals()'}"
      ]
     },
     "execution_count": 1,
     "metadata": {},
     "output_type": "execute_result"
    }
   ],
   "source": [
    "globals()"
   ]
  },
  {
   "cell_type": "code",
   "execution_count": 4,
   "id": "5058bbc8-8ace-4fe1-aafc-2276bc6189cf",
   "metadata": {},
   "outputs": [
    {
     "data": {
      "text/plain": [
       "True"
      ]
     },
     "execution_count": 4,
     "metadata": {},
     "output_type": "execute_result"
    }
   ],
   "source": [
    "locals() is globals()"
   ]
  },
  {
   "cell_type": "code",
   "execution_count": 28,
   "id": "112f4e8a-e32c-4123-a8dc-9bf442de9c1d",
   "metadata": {},
   "outputs": [
    {
     "data": {
      "text/plain": [
       "(4576063360, 4576063360)"
      ]
     },
     "execution_count": 28,
     "metadata": {},
     "output_type": "execute_result"
    }
   ],
   "source": [
    "id(locals()), id(globals())"
   ]
  },
  {
   "cell_type": "code",
   "execution_count": 32,
   "id": "3a09515d-41e4-4c72-a37d-2a7714c44afd",
   "metadata": {},
   "outputs": [
    {
     "data": {
      "text/plain": [
       "(4520534448, 4520533568)"
      ]
     },
     "execution_count": 32,
     "metadata": {},
     "output_type": "execute_result"
    }
   ],
   "source": [
    "id(locals), id(globals)"
   ]
  },
  {
   "cell_type": "code",
   "execution_count": 29,
   "id": "a7173652-aa9a-4ab0-bcb7-e343f03523e6",
   "metadata": {},
   "outputs": [],
   "source": [
    "qqqqqqq = 123"
   ]
  },
  {
   "cell_type": "code",
   "execution_count": 30,
   "id": "8033809d-86bd-4b1b-8934-d654768fcb11",
   "metadata": {},
   "outputs": [
    {
     "data": {
      "text/plain": [
       "4576063360"
      ]
     },
     "execution_count": 30,
     "metadata": {},
     "output_type": "execute_result"
    }
   ],
   "source": [
    "id(globals())"
   ]
  },
  {
   "cell_type": "code",
   "execution_count": 5,
   "id": "adec5605-c3ff-4797-80db-4badcbd04dc3",
   "metadata": {},
   "outputs": [
    {
     "ename": "NameError",
     "evalue": "name 'qwerty' is not defined",
     "output_type": "error",
     "traceback": [
      "\u001b[31m---------------------------------------------------------------------------\u001b[39m",
      "\u001b[31mNameError\u001b[39m                                 Traceback (most recent call last)",
      "\u001b[36mCell\u001b[39m\u001b[36m \u001b[39m\u001b[32mIn[5]\u001b[39m\u001b[32m, line 1\u001b[39m\n\u001b[32m----> \u001b[39m\u001b[32m1\u001b[39m \u001b[43mqwerty\u001b[49m\n",
      "\u001b[31mNameError\u001b[39m: name 'qwerty' is not defined"
     ]
    }
   ],
   "source": [
    "qwerty"
   ]
  },
  {
   "cell_type": "code",
   "execution_count": 6,
   "id": "f687b95a-7f60-46a7-80ef-85201940b029",
   "metadata": {},
   "outputs": [],
   "source": [
    "def update_glob(value):\n",
    "    globals()[\"qwerty\"] = value\n",
    "\n",
    "update_glob(\"12345\")"
   ]
  },
  {
   "cell_type": "code",
   "execution_count": 7,
   "id": "213f53de-89c5-4e55-a663-742c2b98790c",
   "metadata": {},
   "outputs": [
    {
     "data": {
      "text/plain": [
       "'12345'"
      ]
     },
     "execution_count": 7,
     "metadata": {},
     "output_type": "execute_result"
    }
   ],
   "source": [
    "qwerty"
   ]
  },
  {
   "cell_type": "code",
   "execution_count": 8,
   "id": "b1750436-6e97-4165-b25f-169c867a0ac7",
   "metadata": {},
   "outputs": [
    {
     "data": {
      "text/plain": [
       "'12345'"
      ]
     },
     "execution_count": 8,
     "metadata": {},
     "output_type": "execute_result"
    }
   ],
   "source": [
    "globals()[\"qwerty\"]"
   ]
  },
  {
   "cell_type": "code",
   "execution_count": 9,
   "id": "97e3a387-4647-41a0-9038-3d1741c37927",
   "metadata": {},
   "outputs": [],
   "source": [
    "globals()[\"@@@@@@qwerty\"] = \"321\""
   ]
  },
  {
   "cell_type": "code",
   "execution_count": 10,
   "id": "c6b5d2ec-7582-46af-ba6b-a06a7534fcc9",
   "metadata": {},
   "outputs": [
    {
     "ename": "SyntaxError",
     "evalue": "invalid syntax (1656796671.py, line 1)",
     "output_type": "error",
     "traceback": [
      "  \u001b[36mCell\u001b[39m\u001b[36m \u001b[39m\u001b[32mIn[10]\u001b[39m\u001b[32m, line 1\u001b[39m\n\u001b[31m    \u001b[39m\u001b[31m@@@@@@qwerty\u001b[39m\n     ^\n\u001b[31mSyntaxError\u001b[39m\u001b[31m:\u001b[39m invalid syntax\n"
     ]
    }
   ],
   "source": [
    "@@@@@@qwerty"
   ]
  },
  {
   "cell_type": "code",
   "execution_count": 11,
   "id": "a0607f91-cdee-444a-8793-c9df4db3f4af",
   "metadata": {},
   "outputs": [
    {
     "data": {
      "text/plain": [
       "'321'"
      ]
     },
     "execution_count": 11,
     "metadata": {},
     "output_type": "execute_result"
    }
   ],
   "source": [
    "globals()[\"@@@@@@qwerty\"]"
   ]
  },
  {
   "cell_type": "code",
   "execution_count": 12,
   "id": "5c0d74cd-0257-4a56-89c7-010b5d15adeb",
   "metadata": {},
   "outputs": [
    {
     "data": {
      "text/plain": [
       "{'__name__': '__main__',\n",
       " '__doc__': 'Automatically created module for IPython interactive environment',\n",
       " '__package__': None,\n",
       " '__loader__': None,\n",
       " '__spec__': None,\n",
       " '__builtin__': <module 'builtins' (built-in)>,\n",
       " '__builtins__': <module 'builtins' (built-in)>,\n",
       " '_ih': ['',\n",
       "  'globals()',\n",
       "  'loclas()',\n",
       "  'locals()',\n",
       "  'locals() is globals()',\n",
       "  'qwerty',\n",
       "  'def update_glob(value):\\n    globals()[\"qwerty\"] = value\\n\\nupdate_glob(\"12345\")',\n",
       "  'qwerty',\n",
       "  'globals()[\"qwerty\"]',\n",
       "  'globals()[\"@@@@@@qwerty\"] = \"321\"',\n",
       "  '@@@@@@qwerty',\n",
       "  'globals()[\"@@@@@@qwerty\"]',\n",
       "  'globals()'],\n",
       " '_oh': {1: {...}, 3: {...}, 4: True, 7: '12345', 8: '12345', 11: '321'},\n",
       " '_dh': [PosixPath('/Users/g.kandaurov/projects/deep_python_spring_2025/lesson-03')],\n",
       " 'In': ['',\n",
       "  'globals()',\n",
       "  'loclas()',\n",
       "  'locals()',\n",
       "  'locals() is globals()',\n",
       "  'qwerty',\n",
       "  'def update_glob(value):\\n    globals()[\"qwerty\"] = value\\n\\nupdate_glob(\"12345\")',\n",
       "  'qwerty',\n",
       "  'globals()[\"qwerty\"]',\n",
       "  'globals()[\"@@@@@@qwerty\"] = \"321\"',\n",
       "  '@@@@@@qwerty',\n",
       "  'globals()[\"@@@@@@qwerty\"]',\n",
       "  'globals()'],\n",
       " 'Out': {1: {...}, 3: {...}, 4: True, 7: '12345', 8: '12345', 11: '321'},\n",
       " 'get_ipython': <bound method InteractiveShell.get_ipython of <ipykernel.zmqshell.ZMQInteractiveShell object at 0x11094c050>>,\n",
       " 'exit': <IPython.core.autocall.ZMQExitAutocall at 0x110a952b0>,\n",
       " 'quit': <IPython.core.autocall.ZMQExitAutocall at 0x110a952b0>,\n",
       " 'open': <function _io.open(file, mode='r', buffering=-1, encoding=None, errors=None, newline=None, closefd=True, opener=None)>,\n",
       " '_': '321',\n",
       " '__': '12345',\n",
       " '___': '12345',\n",
       " '__session__': '/Users/g.kandaurov/projects/deep_python_spring_2025/lesson-03/Untitled.ipynb',\n",
       " '_i': 'globals()[\"@@@@@@qwerty\"]',\n",
       " '_ii': '@@@@@@qwerty',\n",
       " '_iii': 'globals()[\"@@@@@@qwerty\"] = \"321\"',\n",
       " '_i1': 'globals()',\n",
       " '_1': {...},\n",
       " '_i2': 'loclas()',\n",
       " '_i3': 'locals()',\n",
       " '_3': {...},\n",
       " '_i4': 'locals() is globals()',\n",
       " '_4': True,\n",
       " '_i5': 'qwerty',\n",
       " '_i6': 'def update_glob(value):\\n    globals()[\"qwerty\"] = value\\n\\nupdate_glob(\"12345\")',\n",
       " 'update_glob': <function __main__.update_glob(value)>,\n",
       " 'qwerty': '12345',\n",
       " '_i7': 'qwerty',\n",
       " '_7': '12345',\n",
       " '_i8': 'globals()[\"qwerty\"]',\n",
       " '_8': '12345',\n",
       " '_i9': 'globals()[\"@@@@@@qwerty\"] = \"321\"',\n",
       " '@@@@@@qwerty': '321',\n",
       " '_i10': '@@@@@@qwerty',\n",
       " '_i11': 'globals()[\"@@@@@@qwerty\"]',\n",
       " '_11': '321',\n",
       " '_i12': 'globals()'}"
      ]
     },
     "execution_count": 12,
     "metadata": {},
     "output_type": "execute_result"
    }
   ],
   "source": [
    "globals()"
   ]
  },
  {
   "cell_type": "code",
   "execution_count": null,
   "id": "9eb09b8b-9458-4abc-99ec-927b5840a717",
   "metadata": {},
   "outputs": [],
   "source": []
  },
  {
   "cell_type": "code",
   "execution_count": null,
   "id": "6c5d84d9-e354-4ce1-a23c-2e68cb2165bb",
   "metadata": {},
   "outputs": [],
   "source": []
  },
  {
   "cell_type": "code",
   "execution_count": null,
   "id": "c3071914-62c9-47e9-8b19-e6894455403b",
   "metadata": {},
   "outputs": [],
   "source": []
  },
  {
   "cell_type": "code",
   "execution_count": 17,
   "id": "4f4e31ea-2ad0-4e45-a2dd-546a87541695",
   "metadata": {},
   "outputs": [
    {
     "name": "stdout",
     "output_type": "stream",
     "text": [
      "before len=<built-in function len>\n",
      "change len=123, len2=<built-in function len>\n",
      "after len=<built-in function len>\n"
     ]
    }
   ],
   "source": [
    "def change_builtin():\n",
    "    len = 123\n",
    "    len2 = __builtins__.len\n",
    "    print(f\"change {len=}, {len2=}\")\n",
    "\n",
    "print(f\"before {len=}\")\n",
    "\n",
    "change_builtin()\n",
    "\n",
    "print(f\"after {len=}\")"
   ]
  },
  {
   "cell_type": "code",
   "execution_count": null,
   "id": "88f8385c-a530-4d6c-a100-1b7afb45c14e",
   "metadata": {},
   "outputs": [],
   "source": []
  },
  {
   "cell_type": "code",
   "execution_count": null,
   "id": "00e3cb5c-a590-42ba-8019-483dbec3f9f5",
   "metadata": {},
   "outputs": [],
   "source": []
  },
  {
   "cell_type": "code",
   "execution_count": 18,
   "id": "fb17fe6d-bb1d-49c3-a873-0e01f1f0f482",
   "metadata": {},
   "outputs": [],
   "source": [
    "def update_default(a, x=[]):\n",
    "    x.append(a)\n",
    "    return x"
   ]
  },
  {
   "cell_type": "code",
   "execution_count": 21,
   "id": "9884db84-b1ad-4827-84ab-a482440e5bbf",
   "metadata": {},
   "outputs": [
    {
     "data": {
      "text/plain": [
       "4581898560"
      ]
     },
     "execution_count": 21,
     "metadata": {},
     "output_type": "execute_result"
    }
   ],
   "source": [
    "id(update_default.__defaults__[0])"
   ]
  },
  {
   "cell_type": "code",
   "execution_count": 22,
   "id": "ba4ebb6c-8e73-42fa-b736-32f17fcbb9c6",
   "metadata": {},
   "outputs": [],
   "source": [
    "update_default.__defaults__[0].append(50)"
   ]
  },
  {
   "cell_type": "code",
   "execution_count": 23,
   "id": "e494e183-c44a-4ecd-9eec-c758270f0f00",
   "metadata": {},
   "outputs": [
    {
     "data": {
      "text/plain": [
       "[50, 10]"
      ]
     },
     "execution_count": 23,
     "metadata": {},
     "output_type": "execute_result"
    }
   ],
   "source": [
    "update_default(10)"
   ]
  },
  {
   "cell_type": "code",
   "execution_count": 24,
   "id": "6c0310b7-9121-4626-bd5c-b2abdd0d49eb",
   "metadata": {},
   "outputs": [
    {
     "data": {
      "text/plain": [
       "([50, 10],)"
      ]
     },
     "execution_count": 24,
     "metadata": {},
     "output_type": "execute_result"
    }
   ],
   "source": [
    "update_default.__defaults__"
   ]
  },
  {
   "cell_type": "code",
   "execution_count": 25,
   "id": "9e92754f-d888-4c8d-8f3b-e5e32f924dd1",
   "metadata": {},
   "outputs": [],
   "source": [
    "update_default.__defaults__ = ([1, 2, 3],)"
   ]
  },
  {
   "cell_type": "code",
   "execution_count": 26,
   "id": "b3eecbd3-9a13-4135-a354-b88ca7b01286",
   "metadata": {},
   "outputs": [
    {
     "data": {
      "text/plain": [
       "4582135552"
      ]
     },
     "execution_count": 26,
     "metadata": {},
     "output_type": "execute_result"
    }
   ],
   "source": [
    "id(update_default.__defaults__[0])"
   ]
  },
  {
   "cell_type": "code",
   "execution_count": 27,
   "id": "7622d4a4-392c-4249-9707-6f0569821a81",
   "metadata": {},
   "outputs": [
    {
     "data": {
      "text/plain": [
       "[1, 2, 3, 10]"
      ]
     },
     "execution_count": 27,
     "metadata": {},
     "output_type": "execute_result"
    }
   ],
   "source": [
    "update_default(10)"
   ]
  },
  {
   "cell_type": "code",
   "execution_count": null,
   "id": "fceb19c8-92bc-4df3-9260-c53ca701d94b",
   "metadata": {},
   "outputs": [],
   "source": []
  },
  {
   "cell_type": "code",
   "execution_count": null,
   "id": "90768cac-80e9-4947-8f36-434803b44084",
   "metadata": {},
   "outputs": [],
   "source": []
  },
  {
   "cell_type": "code",
   "execution_count": null,
   "id": "2a3a132a-1f34-4366-aeab-e8678fb94537",
   "metadata": {},
   "outputs": [],
   "source": []
  },
  {
   "cell_type": "code",
   "execution_count": 34,
   "id": "275d49f3-d74d-4150-ba3d-03b77f081109",
   "metadata": {},
   "outputs": [
    {
     "name": "stdout",
     "output_type": "stream",
     "text": [
      "before counter=0\n"
     ]
    },
    {
     "ename": "UnboundLocalError",
     "evalue": "cannot access local variable 'counter' where it is not associated with a value",
     "output_type": "error",
     "traceback": [
      "\u001b[31m---------------------------------------------------------------------------\u001b[39m",
      "\u001b[31mUnboundLocalError\u001b[39m                         Traceback (most recent call last)",
      "\u001b[36mCell\u001b[39m\u001b[36m \u001b[39m\u001b[32mIn[34]\u001b[39m\u001b[32m, line 11\u001b[39m\n\u001b[32m      6\u001b[39m     \u001b[38;5;28mprint\u001b[39m(\u001b[33mf\u001b[39m\u001b[33m\"\u001b[39m\u001b[33mcalc \u001b[39m\u001b[38;5;132;01m{\u001b[39;00mcounter\u001b[38;5;132;01m=}\u001b[39;00m\u001b[33m, \u001b[39m\u001b[38;5;132;01m{\u001b[39;00m\u001b[38;5;28mlocals\u001b[39m()\u001b[38;5;132;01m=}\u001b[39;00m\u001b[33m\"\u001b[39m)\n\u001b[32m      9\u001b[39m \u001b[38;5;28mprint\u001b[39m(\u001b[33mf\u001b[39m\u001b[33m\"\u001b[39m\u001b[33mbefore \u001b[39m\u001b[38;5;132;01m{\u001b[39;00mcounter\u001b[38;5;132;01m=}\u001b[39;00m\u001b[33m\"\u001b[39m)\n\u001b[32m---> \u001b[39m\u001b[32m11\u001b[39m \u001b[43mcalc_data\u001b[49m\u001b[43m(\u001b[49m\u001b[43m)\u001b[49m\n\u001b[32m     13\u001b[39m \u001b[38;5;28mprint\u001b[39m(\u001b[33mf\u001b[39m\u001b[33m\"\u001b[39m\u001b[33mafter \u001b[39m\u001b[38;5;132;01m{\u001b[39;00mcounter\u001b[38;5;132;01m=}\u001b[39;00m\u001b[33m\"\u001b[39m)\n",
      "\u001b[36mCell\u001b[39m\u001b[36m \u001b[39m\u001b[32mIn[34]\u001b[39m\u001b[32m, line 5\u001b[39m, in \u001b[36mcalc_data\u001b[39m\u001b[34m()\u001b[39m\n\u001b[32m      4\u001b[39m \u001b[38;5;28;01mdef\u001b[39;00m\u001b[38;5;250m \u001b[39m\u001b[34mcalc_data\u001b[39m():\n\u001b[32m----> \u001b[39m\u001b[32m5\u001b[39m     \u001b[43mcounter\u001b[49m += \u001b[32m1\u001b[39m\n\u001b[32m      6\u001b[39m     \u001b[38;5;28mprint\u001b[39m(\u001b[33mf\u001b[39m\u001b[33m\"\u001b[39m\u001b[33mcalc \u001b[39m\u001b[38;5;132;01m{\u001b[39;00mcounter\u001b[38;5;132;01m=}\u001b[39;00m\u001b[33m, \u001b[39m\u001b[38;5;132;01m{\u001b[39;00m\u001b[38;5;28mlocals\u001b[39m()\u001b[38;5;132;01m=}\u001b[39;00m\u001b[33m\"\u001b[39m)\n",
      "\u001b[31mUnboundLocalError\u001b[39m: cannot access local variable 'counter' where it is not associated with a value"
     ]
    }
   ],
   "source": [
    "counter = 0\n",
    "\n",
    "\n",
    "def calc_data():\n",
    "    counter += 1\n",
    "    print(f\"calc {counter=}, {locals()=}\")\n",
    "\n",
    "\n",
    "print(f\"before {counter=}\")\n",
    "\n",
    "calc_data()\n",
    "\n",
    "print(f\"after {counter=}\")"
   ]
  },
  {
   "cell_type": "code",
   "execution_count": null,
   "id": "4c405a42-dc1c-4d40-a59f-c8af4c400d80",
   "metadata": {},
   "outputs": [],
   "source": []
  },
  {
   "cell_type": "code",
   "execution_count": 35,
   "id": "5fc46382-1382-4f2f-8b67-f4dfc5d1d161",
   "metadata": {},
   "outputs": [
    {
     "name": "stdout",
     "output_type": "stream",
     "text": [
      "before counter=0\n",
      "calc counter=1, locals()={'counter': 1}\n",
      "after counter=0\n"
     ]
    }
   ],
   "source": [
    "counter = 0\n",
    "\n",
    "\n",
    "def calc_data():\n",
    "    counter = 0\n",
    "    counter += 1\n",
    "    print(f\"calc {counter=}, {locals()=}\")\n",
    "\n",
    "\n",
    "print(f\"before {counter=}\")\n",
    "\n",
    "calc_data()\n",
    "\n",
    "print(f\"after {counter=}\")"
   ]
  },
  {
   "cell_type": "code",
   "execution_count": null,
   "id": "dee31439-16bc-483a-ab4e-1abfac1352bb",
   "metadata": {},
   "outputs": [],
   "source": []
  },
  {
   "cell_type": "code",
   "execution_count": 37,
   "id": "0bf4648d-4e69-4b63-a568-f82077c6ab14",
   "metadata": {},
   "outputs": [
    {
     "name": "stdout",
     "output_type": "stream",
     "text": [
      "before counter=0\n",
      "calc counter=1, locals()={}\n",
      "after counter=1\n"
     ]
    }
   ],
   "source": [
    "counter = 0\n",
    "\n",
    "\n",
    "def calc_data():\n",
    "    global counter\n",
    "    counter += 1\n",
    "    print(f\"calc {counter=}, {locals()=}\")\n",
    "\n",
    "\n",
    "print(f\"before {counter=}\")\n",
    "\n",
    "calc_data()\n",
    "\n",
    "print(f\"after {counter=}\")"
   ]
  },
  {
   "cell_type": "code",
   "execution_count": null,
   "id": "7994ea5b-f456-4c74-8520-b2d8c297dc59",
   "metadata": {},
   "outputs": [],
   "source": []
  },
  {
   "cell_type": "code",
   "execution_count": null,
   "id": "d4738643-9c8a-450b-bc33-bee8ef61bc8a",
   "metadata": {},
   "outputs": [],
   "source": []
  },
  {
   "cell_type": "code",
   "execution_count": 38,
   "id": "d39e49ab-c942-4127-b5c5-69bce8460917",
   "metadata": {},
   "outputs": [
    {
     "name": "stdout",
     "output_type": "stream",
     "text": [
      "before counter=0\n",
      "0\n",
      "calc counter=0, locals()={}\n",
      "after counter=0\n"
     ]
    }
   ],
   "source": [
    "counter = 0\n",
    "\n",
    "\n",
    "def calc_data():\n",
    "    print(counter)\n",
    "    print(f\"calc {counter=}, {locals()=}\")\n",
    "\n",
    "\n",
    "print(f\"before {counter=}\")\n",
    "\n",
    "calc_data()\n",
    "\n",
    "print(f\"after {counter=}\")"
   ]
  },
  {
   "cell_type": "code",
   "execution_count": null,
   "id": "116a1d55-3363-482a-9083-d70f73a214e8",
   "metadata": {},
   "outputs": [],
   "source": []
  },
  {
   "cell_type": "code",
   "execution_count": 39,
   "id": "02b2ce3b-e2fe-429b-92c7-f6fa9791ca8b",
   "metadata": {},
   "outputs": [
    {
     "name": "stdout",
     "output_type": "stream",
     "text": [
      "before counter=[]\n",
      "calc counter=[1], locals()={}\n",
      "after counter=[1]\n"
     ]
    }
   ],
   "source": [
    "counter = []\n",
    "\n",
    "\n",
    "def calc_data():\n",
    "    counter.append(1)\n",
    "    print(f\"calc {counter=}, {locals()=}\")\n",
    "\n",
    "\n",
    "print(f\"before {counter=}\")\n",
    "\n",
    "calc_data()\n",
    "\n",
    "print(f\"after {counter=}\")"
   ]
  },
  {
   "cell_type": "code",
   "execution_count": null,
   "id": "009d6aab-cc77-4b1f-91b2-b64f2b3758d8",
   "metadata": {},
   "outputs": [],
   "source": []
  },
  {
   "cell_type": "code",
   "execution_count": null,
   "id": "01a755a4-5b1e-4ee5-b5f7-b41c498a479c",
   "metadata": {},
   "outputs": [],
   "source": []
  },
  {
   "cell_type": "code",
   "execution_count": null,
   "id": "594e9963-7e4a-49d9-9831-fd270a01d613",
   "metadata": {},
   "outputs": [],
   "source": []
  },
  {
   "cell_type": "code",
   "execution_count": 41,
   "id": "0723d605-3846-4656-b308-4629a04d31d1",
   "metadata": {},
   "outputs": [
    {
     "name": "stdout",
     "output_type": "stream",
     "text": [
      "before counter=[]\n",
      "calc counter=[1, 2, 3], locals()={}\n",
      "after counter=[1, 2, 3]\n"
     ]
    }
   ],
   "source": [
    "counter = []\n",
    "\n",
    "\n",
    "def calc_data():\n",
    "    global counter\n",
    "    counter = [1, 2, 3]\n",
    "    print(f\"calc {counter=}, {locals()=}\")\n",
    "\n",
    "\n",
    "print(f\"before {counter=}\")\n",
    "\n",
    "calc_data()\n",
    "\n",
    "print(f\"after {counter=}\")"
   ]
  },
  {
   "cell_type": "code",
   "execution_count": null,
   "id": "c7a1f947-326c-468c-bc2f-1846e84443a4",
   "metadata": {},
   "outputs": [],
   "source": []
  },
  {
   "cell_type": "code",
   "execution_count": null,
   "id": "9b34b45a-33ad-4784-833a-e545a7efb400",
   "metadata": {},
   "outputs": [],
   "source": []
  },
  {
   "cell_type": "code",
   "execution_count": null,
   "id": "da69d962-7cb0-490d-b601-78d1478d5858",
   "metadata": {},
   "outputs": [],
   "source": []
  },
  {
   "cell_type": "code",
   "execution_count": 42,
   "id": "fd3b7549-6d4f-47e6-96b8-652974695630",
   "metadata": {},
   "outputs": [
    {
     "name": "stdout",
     "output_type": "stream",
     "text": [
      "before counter=[]\n",
      "inner: counter=[1, 2, 3], locals()={'counter': [1, 2, 3]}\n",
      "among counter=[]\n",
      "inner: counter=[1, 2, 3], locals()={'counter': [1, 2, 3]}\n",
      "after counter=[]\n"
     ]
    }
   ],
   "source": [
    "counter = []\n",
    "\n",
    "\n",
    "def calc_data():\n",
    "    counter = [1, 2, 3]\n",
    "\n",
    "    def inner():\n",
    "        print(f\"inner: {counter=}, {locals()=}\")\n",
    "\n",
    "    inner()\n",
    "\n",
    "    return inner\n",
    "\n",
    "\n",
    "print(f\"before {counter=}\")\n",
    "\n",
    "inner = calc_data()\n",
    "\n",
    "print(f\"among {counter=}\")\n",
    "\n",
    "inner()\n",
    "\n",
    "print(f\"after {counter=}\")"
   ]
  },
  {
   "cell_type": "code",
   "execution_count": null,
   "id": "7b62965e-b18b-418f-8708-8f8f786a3af8",
   "metadata": {},
   "outputs": [],
   "source": []
  },
  {
   "cell_type": "code",
   "execution_count": 44,
   "id": "d56ad8c0-b860-4453-b4f6-834ed52bb004",
   "metadata": {},
   "outputs": [
    {
     "name": "stdout",
     "output_type": "stream",
     "text": [
      "before counter=[]\n",
      "inner: counter=[10], locals()={'counter': [10]}\n",
      "calc_data: counter=[1, 2, 3], locals()={'counter': [1, 2, 3], 'inner': <function calc_data.<locals>.inner at 0x1112e3a60>}\n",
      "among counter=[]\n",
      "inner: counter=[10], locals()={'counter': [10]}\n",
      "after counter=[]\n"
     ]
    }
   ],
   "source": [
    "counter = []\n",
    "\n",
    "\n",
    "def calc_data():\n",
    "    counter = [1, 2, 3]\n",
    "\n",
    "    def inner():\n",
    "        counter = [10]\n",
    "        print(f\"inner: {counter=}, {locals()=}\")\n",
    "\n",
    "    inner()\n",
    "\n",
    "    print(f\"calc_data: {counter=}, {locals()=}\")\n",
    "\n",
    "    return inner\n",
    "\n",
    "\n",
    "print(f\"before {counter=}\")\n",
    "\n",
    "inner = calc_data()\n",
    "\n",
    "print(f\"among {counter=}\")\n",
    "\n",
    "inner()\n",
    "\n",
    "print(f\"after {counter=}\")"
   ]
  },
  {
   "cell_type": "code",
   "execution_count": 45,
   "id": "b484a761-6601-49c0-a346-72a71c22aca4",
   "metadata": {},
   "outputs": [
    {
     "name": "stdout",
     "output_type": "stream",
     "text": [
      "before counter=[]\n",
      "inner: counter=[10], locals()={'counter': [10]}\n",
      "calc_data: counter=[10], locals()={'inner': <function calc_data.<locals>.inner at 0x1112e3d80>, 'counter': [10]}\n",
      "among counter=[]\n",
      "inner: counter=[10], locals()={'counter': [10]}\n",
      "after counter=[]\n"
     ]
    }
   ],
   "source": [
    "counter = []\n",
    "\n",
    "\n",
    "def calc_data():\n",
    "    counter = [1, 2, 3]\n",
    "\n",
    "    def inner():\n",
    "        nonlocal counter\n",
    "        counter = [10]\n",
    "        print(f\"inner: {counter=}, {locals()=}\")\n",
    "\n",
    "    inner()\n",
    "\n",
    "    print(f\"calc_data: {counter=}, {locals()=}\")\n",
    "\n",
    "    return inner\n",
    "\n",
    "\n",
    "print(f\"before {counter=}\")\n",
    "\n",
    "inner = calc_data()\n",
    "\n",
    "print(f\"among {counter=}\")\n",
    "\n",
    "inner()\n",
    "\n",
    "print(f\"after {counter=}\")"
   ]
  },
  {
   "cell_type": "code",
   "execution_count": 46,
   "id": "35d37177-76c4-41c9-8de0-d09b93598c68",
   "metadata": {},
   "outputs": [
    {
     "ename": "SyntaxError",
     "evalue": "no binding for nonlocal 'new_var' found (3766576165.py, line 9)",
     "output_type": "error",
     "traceback": [
      "  \u001b[36mCell\u001b[39m\u001b[36m \u001b[39m\u001b[32mIn[46]\u001b[39m\u001b[32m, line 9\u001b[39m\n\u001b[31m    \u001b[39m\u001b[31mnonlocal new_var\u001b[39m\n    ^\n\u001b[31mSyntaxError\u001b[39m\u001b[31m:\u001b[39m no binding for nonlocal 'new_var' found\n"
     ]
    }
   ],
   "source": [
    "counter = []\n",
    "\n",
    "\n",
    "def calc_data():\n",
    "    counter = [1, 2, 3]\n",
    "\n",
    "    def inner():\n",
    "        nonlocal counter\n",
    "        nonlocal new_var\n",
    "        new_var = 99\n",
    "        counter = [10]\n",
    "        print(f\"inner: {counter=}, {locals()=}\")\n",
    "\n",
    "    inner()\n",
    "\n",
    "    print(f\"calc_data: {counter=}, {locals()=}\")\n",
    "\n",
    "    return inner\n",
    "\n",
    "\n",
    "print(f\"before {counter=}\")\n",
    "\n",
    "inner = calc_data()\n",
    "\n",
    "print(f\"among {counter=}\")\n",
    "\n",
    "inner()\n",
    "\n",
    "print(f\"after {counter=}\")"
   ]
  },
  {
   "cell_type": "code",
   "execution_count": null,
   "id": "a0631599-bd3d-476f-9875-d5f38c837b0d",
   "metadata": {},
   "outputs": [],
   "source": []
  },
  {
   "cell_type": "code",
   "execution_count": null,
   "id": "c6b5c7c7-8888-44a5-8096-85eedcf52bc2",
   "metadata": {},
   "outputs": [],
   "source": []
  },
  {
   "cell_type": "code",
   "execution_count": 49,
   "id": "6a7b32c8-15ed-42e6-97a1-42fa29afc086",
   "metadata": {},
   "outputs": [
    {
     "name": "stdout",
     "output_type": "stream",
     "text": [
      "fn.__name__='fn_sleep' call count=1: avg=1.0039689540863037\n",
      "fn.__name__='fn_sleep' call count=2: avg=2.0038970708847046\n",
      "fn.__name__='fn_sleep' call count=3: avg=1.6705606778462727\n",
      "fn.__name__='fn_sleep' call count=4: avg=2.0037887692451477\n"
     ]
    }
   ],
   "source": [
    "from functools import wraps\n",
    "from time import time, sleep\n",
    "\n",
    "\n",
    "def measure_time(fn):\n",
    "    count = 0\n",
    "    total_sum = 0\n",
    "    \n",
    "    @wraps(fn)\n",
    "    def inner(*args, **kwargs):\n",
    "        nonlocal count, total_sum\n",
    "        \n",
    "        t1 = time()\n",
    "        try:\n",
    "            return fn(*args, **kwargs)\n",
    "        finally:\n",
    "            t2 = time()\n",
    "            count += 1\n",
    "            total_sum += t2 - t1\n",
    "            print(f\"{fn.__name__=} call {count=}: avg={total_sum / count}\")\n",
    "\n",
    "    return inner\n",
    "\n",
    "\n",
    "@measure_time\n",
    "def fn_sleep(n):\n",
    "    sleep(n)\n",
    "\n",
    "\n",
    "fn_sleep(1)\n",
    "fn_sleep(3)\n",
    "fn_sleep(1)\n",
    "fn_sleep(3)"
   ]
  },
  {
   "cell_type": "code",
   "execution_count": 50,
   "id": "ef41857d-43bb-48ab-8f75-b355c3602138",
   "metadata": {},
   "outputs": [
    {
     "name": "stdout",
     "output_type": "stream",
     "text": [
      "fn.__name__='fn_sleep' call count=1: avg=1.0021297931671143\n",
      "fn.__name__='fn_sleep' call count=2: avg=2.002768397331238\n",
      "fn.__name__='fn_sleep' call count=11: avg=91.00036735968156\n",
      "fn.__name__='fn_sleep' call count=12: avg=83.66737641890843\n"
     ]
    }
   ],
   "source": [
    "from functools import wraps\n",
    "from time import time, sleep\n",
    "\n",
    "\n",
    "def measure_time(fn):\n",
    "    count = 0\n",
    "    total_sum = 0\n",
    "    \n",
    "    @wraps(fn)\n",
    "    def inner(*args, **kwargs):\n",
    "        nonlocal count, total_sum\n",
    "        \n",
    "        t1 = time()\n",
    "        try:\n",
    "            return fn(*args, **kwargs)\n",
    "        finally:\n",
    "            t2 = time()\n",
    "            count += 1\n",
    "            total_sum += t2 - t1\n",
    "            print(f\"{fn.__name__=} call {count=}: avg={total_sum / count}\")\n",
    "\n",
    "    def set(a, b):\n",
    "        nonlocal count, total_sum\n",
    "        count = a\n",
    "        total_sum = b\n",
    "\n",
    "    inner.set = set\n",
    "\n",
    "    return inner\n",
    "\n",
    "\n",
    "@measure_time\n",
    "def fn_sleep(n):\n",
    "    sleep(n)\n",
    "\n",
    "\n",
    "fn_sleep(1)\n",
    "fn_sleep(3)\n",
    "\n",
    "fn_sleep.set(10, 1000)\n",
    "\n",
    "fn_sleep(1)\n",
    "fn_sleep(3)"
   ]
  },
  {
   "cell_type": "code",
   "execution_count": null,
   "id": "f9c6d193-d7d3-4549-9132-28661aef1322",
   "metadata": {},
   "outputs": [],
   "source": []
  },
  {
   "cell_type": "code",
   "execution_count": null,
   "id": "994b3f8d-bc5b-454d-bd90-10f2fb2defbd",
   "metadata": {},
   "outputs": [],
   "source": []
  },
  {
   "cell_type": "code",
   "execution_count": null,
   "id": "5b1a5f53-5805-402b-80b0-225067c0b006",
   "metadata": {},
   "outputs": [],
   "source": []
  },
  {
   "cell_type": "code",
   "execution_count": null,
   "id": "fcda7226-afc8-4496-ade1-521935f145cd",
   "metadata": {},
   "outputs": [],
   "source": []
  },
  {
   "cell_type": "code",
   "execution_count": null,
   "id": "6c744239-b089-430c-98a8-6cbb00b66826",
   "metadata": {},
   "outputs": [],
   "source": []
  },
  {
   "cell_type": "code",
   "execution_count": null,
   "id": "ae8e36b7-43ad-44c1-b154-1286baad2126",
   "metadata": {},
   "outputs": [],
   "source": []
  },
  {
   "cell_type": "code",
   "execution_count": null,
   "id": "d8c657ee-96fe-45b2-91d9-80e9739d5491",
   "metadata": {},
   "outputs": [],
   "source": []
  },
  {
   "cell_type": "code",
   "execution_count": null,
   "id": "c4ed1338-9593-4b1c-ac01-bcd523fe9ad9",
   "metadata": {},
   "outputs": [],
   "source": []
  },
  {
   "cell_type": "code",
   "execution_count": null,
   "id": "6978f98e-9dfc-47de-9973-665a8ee0ddf4",
   "metadata": {},
   "outputs": [],
   "source": []
  },
  {
   "cell_type": "code",
   "execution_count": 51,
   "id": "29af1b22-79a7-4086-b049-1d58ae7a2877",
   "metadata": {},
   "outputs": [],
   "source": [
    "class ClassAttr:\n",
    "    name = \"cls_name\"\n",
    "    __cls_private = \"cls_private\"\n",
    "\n",
    "    def __init__(self, val):\n",
    "        self.val = val\n",
    "        self._protected = \"protected\"\n",
    "        self.__private = \"private\"\n",
    "\n",
    "    def print(self):\n",
    "        print(\n",
    "            f\"{self.val=}, {self._protected=}, {self.__private=}, \"\n",
    "            f\"{self.name=}, {self.__cls_private=}\"\n",
    "        )\n",
    "\n",
    "    def print_new(self):\n",
    "        print(f\"{self.__private_3=}\")"
   ]
  },
  {
   "cell_type": "code",
   "execution_count": 52,
   "id": "21d8c714-0889-4606-879e-4492aa95c7cd",
   "metadata": {},
   "outputs": [],
   "source": [
    "item = ClassAttr(99)"
   ]
  },
  {
   "cell_type": "code",
   "execution_count": 54,
   "id": "4193a9ee-adb9-4e6a-b943-76a9a7e8e9eb",
   "metadata": {},
   "outputs": [
    {
     "data": {
      "text/plain": [
       "{'val': 99, '_protected': 'protected', '_ClassAttr__private': 'private'}"
      ]
     },
     "execution_count": 54,
     "metadata": {},
     "output_type": "execute_result"
    }
   ],
   "source": [
    "item.__dict__"
   ]
  },
  {
   "cell_type": "code",
   "execution_count": 55,
   "id": "22953677-7986-4fa7-9893-05005041a2a8",
   "metadata": {},
   "outputs": [
    {
     "data": {
      "text/plain": [
       "mappingproxy({'__module__': '__main__',\n",
       "              '__firstlineno__': 1,\n",
       "              'name': 'cls_name',\n",
       "              '_ClassAttr__cls_private': 'cls_private',\n",
       "              '__init__': <function __main__.ClassAttr.__init__(self, val)>,\n",
       "              'print': <function __main__.ClassAttr.print(self)>,\n",
       "              'print_new': <function __main__.ClassAttr.print_new(self)>,\n",
       "              '__static_attributes__': ('__private', '_protected', 'val'),\n",
       "              '__dict__': <attribute '__dict__' of 'ClassAttr' objects>,\n",
       "              '__weakref__': <attribute '__weakref__' of 'ClassAttr' objects>,\n",
       "              '__doc__': None})"
      ]
     },
     "execution_count": 55,
     "metadata": {},
     "output_type": "execute_result"
    }
   ],
   "source": [
    "ClassAttr.__dict__"
   ]
  },
  {
   "cell_type": "code",
   "execution_count": 56,
   "id": "0e4e81e7-8f2f-4612-9eb4-353a365edcfc",
   "metadata": {},
   "outputs": [
    {
     "ename": "TypeError",
     "evalue": "'mappingproxy' object does not support item assignment",
     "output_type": "error",
     "traceback": [
      "\u001b[31m---------------------------------------------------------------------------\u001b[39m",
      "\u001b[31mTypeError\u001b[39m                                 Traceback (most recent call last)",
      "\u001b[36mCell\u001b[39m\u001b[36m \u001b[39m\u001b[32mIn[56]\u001b[39m\u001b[32m, line 1\u001b[39m\n\u001b[32m----> \u001b[39m\u001b[32m1\u001b[39m \u001b[43mClassAttr\u001b[49m\u001b[43m.\u001b[49m\u001b[34;43m__dict__\u001b[39;49m\u001b[43m[\u001b[49m\u001b[33;43m\"\u001b[39;49m\u001b[33;43mqwerty\u001b[39;49m\u001b[33;43m\"\u001b[39;49m\u001b[43m]\u001b[49m = \u001b[33m\"\u001b[39m\u001b[33m123\u001b[39m\u001b[33m\"\u001b[39m\n",
      "\u001b[31mTypeError\u001b[39m: 'mappingproxy' object does not support item assignment"
     ]
    }
   ],
   "source": [
    "ClassAttr.__dict__[\"qwerty\"] = \"123\""
   ]
  },
  {
   "cell_type": "code",
   "execution_count": 57,
   "id": "9983e90b-4da7-402c-bb7b-ab9730f48060",
   "metadata": {},
   "outputs": [],
   "source": [
    "item.__dict__[\"qwerty\"] = \"123\""
   ]
  },
  {
   "cell_type": "code",
   "execution_count": 58,
   "id": "d2f6d698-9d9a-4e4e-b93a-8a7f15348cb2",
   "metadata": {},
   "outputs": [
    {
     "data": {
      "text/plain": [
       "{'val': 99,\n",
       " '_protected': 'protected',\n",
       " '_ClassAttr__private': 'private',\n",
       " 'qwerty': '123'}"
      ]
     },
     "execution_count": 58,
     "metadata": {},
     "output_type": "execute_result"
    }
   ],
   "source": [
    "item.__dict__"
   ]
  },
  {
   "cell_type": "code",
   "execution_count": 59,
   "id": "740e3f47-60ee-4123-9c20-df660df506d2",
   "metadata": {},
   "outputs": [
    {
     "data": {
      "text/plain": [
       "(99, '123', 'protected')"
      ]
     },
     "execution_count": 59,
     "metadata": {},
     "output_type": "execute_result"
    }
   ],
   "source": [
    "item.val, item.qwerty, item._protected"
   ]
  },
  {
   "cell_type": "code",
   "execution_count": 60,
   "id": "67821e5d-7e86-4dcc-8386-c00e07807979",
   "metadata": {},
   "outputs": [
    {
     "ename": "AttributeError",
     "evalue": "'ClassAttr' object has no attribute '__private'",
     "output_type": "error",
     "traceback": [
      "\u001b[31m---------------------------------------------------------------------------\u001b[39m",
      "\u001b[31mAttributeError\u001b[39m                            Traceback (most recent call last)",
      "\u001b[36mCell\u001b[39m\u001b[36m \u001b[39m\u001b[32mIn[60]\u001b[39m\u001b[32m, line 1\u001b[39m\n\u001b[32m----> \u001b[39m\u001b[32m1\u001b[39m \u001b[43mitem\u001b[49m\u001b[43m.\u001b[49m\u001b[43m__private\u001b[49m\n",
      "\u001b[31mAttributeError\u001b[39m: 'ClassAttr' object has no attribute '__private'"
     ]
    }
   ],
   "source": [
    "item.__private"
   ]
  },
  {
   "cell_type": "code",
   "execution_count": 61,
   "id": "4bc7465e-7925-4e75-a9da-a1cd70ba22fd",
   "metadata": {},
   "outputs": [
    {
     "name": "stdout",
     "output_type": "stream",
     "text": [
      "self.val=99, self._protected='protected', self.__private='private', self.name='cls_name', self.__cls_private='cls_private'\n"
     ]
    }
   ],
   "source": [
    "item.print()"
   ]
  },
  {
   "cell_type": "code",
   "execution_count": 62,
   "id": "3e2b3079-818a-4464-aee0-f7a8eaf13651",
   "metadata": {},
   "outputs": [
    {
     "data": {
      "text/plain": [
       "'private'"
      ]
     },
     "execution_count": 62,
     "metadata": {},
     "output_type": "execute_result"
    }
   ],
   "source": [
    "item._ClassAttr__private"
   ]
  },
  {
   "cell_type": "code",
   "execution_count": 63,
   "id": "cebc1657-8e4c-4470-95f1-7ec76611fd71",
   "metadata": {},
   "outputs": [],
   "source": [
    "item._ClassAttr__private = \"update priv\""
   ]
  },
  {
   "cell_type": "code",
   "execution_count": 64,
   "id": "4070150c-5bdd-4e38-bbc7-e07078a99abe",
   "metadata": {},
   "outputs": [
    {
     "data": {
      "text/plain": [
       "'update priv'"
      ]
     },
     "execution_count": 64,
     "metadata": {},
     "output_type": "execute_result"
    }
   ],
   "source": [
    "item._ClassAttr__private"
   ]
  },
  {
   "cell_type": "code",
   "execution_count": 65,
   "id": "966a3b6e-b965-4972-b553-448b23e13429",
   "metadata": {},
   "outputs": [],
   "source": [
    "item.__new_priv = \"new_priv\""
   ]
  },
  {
   "cell_type": "code",
   "execution_count": 66,
   "id": "066e4282-4bf6-4327-ad27-39e657729bbe",
   "metadata": {},
   "outputs": [
    {
     "data": {
      "text/plain": [
       "'new_priv'"
      ]
     },
     "execution_count": 66,
     "metadata": {},
     "output_type": "execute_result"
    }
   ],
   "source": [
    "item.__new_priv"
   ]
  },
  {
   "cell_type": "code",
   "execution_count": 67,
   "id": "35690071-7b58-4952-9399-7bf73f8d3eb5",
   "metadata": {},
   "outputs": [
    {
     "ename": "AttributeError",
     "evalue": "'ClassAttr' object has no attribute '_ClassAttr__private_3'",
     "output_type": "error",
     "traceback": [
      "\u001b[31m---------------------------------------------------------------------------\u001b[39m",
      "\u001b[31mAttributeError\u001b[39m                            Traceback (most recent call last)",
      "\u001b[36mCell\u001b[39m\u001b[36m \u001b[39m\u001b[32mIn[67]\u001b[39m\u001b[32m, line 1\u001b[39m\n\u001b[32m----> \u001b[39m\u001b[32m1\u001b[39m \u001b[43mitem\u001b[49m\u001b[43m.\u001b[49m\u001b[43mprint_new\u001b[49m\u001b[43m(\u001b[49m\u001b[43m)\u001b[49m\n",
      "\u001b[36mCell\u001b[39m\u001b[36m \u001b[39m\u001b[32mIn[51]\u001b[39m\u001b[32m, line 17\u001b[39m, in \u001b[36mClassAttr.print_new\u001b[39m\u001b[34m(self)\u001b[39m\n\u001b[32m     16\u001b[39m \u001b[38;5;28;01mdef\u001b[39;00m\u001b[38;5;250m \u001b[39m\u001b[34mprint_new\u001b[39m(\u001b[38;5;28mself\u001b[39m):\n\u001b[32m---> \u001b[39m\u001b[32m17\u001b[39m     \u001b[38;5;28mprint\u001b[39m(\u001b[33mf\u001b[39m\u001b[33m\"\u001b[39m\u001b[38;5;132;01m{\u001b[39;00m\u001b[38;5;28;43mself\u001b[39;49m\u001b[43m.\u001b[49m\u001b[43m__private_3\u001b[49m\u001b[38;5;132;01m=}\u001b[39;00m\u001b[33m\"\u001b[39m)\n",
      "\u001b[31mAttributeError\u001b[39m: 'ClassAttr' object has no attribute '_ClassAttr__private_3'"
     ]
    }
   ],
   "source": [
    "item.print_new()"
   ]
  },
  {
   "cell_type": "code",
   "execution_count": 68,
   "id": "2eecc4f9-4319-44bd-a3a0-64aefa7a95ae",
   "metadata": {},
   "outputs": [],
   "source": [
    "item._ClassAttr__private_3 = \"priv 3\""
   ]
  },
  {
   "cell_type": "code",
   "execution_count": 69,
   "id": "b16592fe-1e0b-4e64-9e68-445f7c174186",
   "metadata": {},
   "outputs": [
    {
     "name": "stdout",
     "output_type": "stream",
     "text": [
      "self.__private_3='priv 3'\n"
     ]
    }
   ],
   "source": [
    "item.print_new()"
   ]
  },
  {
   "cell_type": "code",
   "execution_count": 70,
   "id": "2f59e7b8-0eca-43db-b326-69388b1bd1e1",
   "metadata": {},
   "outputs": [],
   "source": [
    "item.__dict__[\"%%%qqq\"] = \"123\""
   ]
  },
  {
   "cell_type": "code",
   "execution_count": 71,
   "id": "10cd8292-116d-4be1-9838-412b35d5353b",
   "metadata": {},
   "outputs": [
    {
     "ename": "SyntaxError",
     "evalue": "invalid syntax (2098656922.py, line 1)",
     "output_type": "error",
     "traceback": [
      "  \u001b[36mCell\u001b[39m\u001b[36m \u001b[39m\u001b[32mIn[71]\u001b[39m\u001b[32m, line 1\u001b[39m\n\u001b[31m    \u001b[39m\u001b[31mitem.%%%qqq\u001b[39m\n         ^\n\u001b[31mSyntaxError\u001b[39m\u001b[31m:\u001b[39m invalid syntax\n"
     ]
    }
   ],
   "source": [
    "item.%%%qqq"
   ]
  },
  {
   "cell_type": "code",
   "execution_count": 72,
   "id": "3669f217-cdfb-4846-8524-4c798b3eca00",
   "metadata": {},
   "outputs": [
    {
     "data": {
      "text/plain": [
       "'123'"
      ]
     },
     "execution_count": 72,
     "metadata": {},
     "output_type": "execute_result"
    }
   ],
   "source": [
    "getattr(item, \"%%%qqq\")"
   ]
  },
  {
   "cell_type": "code",
   "execution_count": 73,
   "id": "526fb385-3a3f-4263-b4f2-e38b3acf24b5",
   "metadata": {},
   "outputs": [
    {
     "data": {
      "text/plain": [
       "'123'"
      ]
     },
     "execution_count": 73,
     "metadata": {},
     "output_type": "execute_result"
    }
   ],
   "source": [
    "item.__dict__[\"%%%qqq\"]"
   ]
  },
  {
   "cell_type": "code",
   "execution_count": null,
   "id": "3882e50e-7e78-4b43-af71-9adfaab62304",
   "metadata": {},
   "outputs": [],
   "source": []
  },
  {
   "cell_type": "code",
   "execution_count": null,
   "id": "ece395b9-d42f-4128-9c55-7cd99dfddf69",
   "metadata": {},
   "outputs": [],
   "source": []
  },
  {
   "cell_type": "code",
   "execution_count": null,
   "id": "3583b204-50a1-4471-b024-835602491701",
   "metadata": {},
   "outputs": [],
   "source": []
  },
  {
   "cell_type": "code",
   "execution_count": 74,
   "id": "96139493-8280-4139-890f-91f834c8afa9",
   "metadata": {},
   "outputs": [],
   "source": [
    "class ClassAttr:\n",
    "    name = \"cls_name\"\n",
    "    __cls_private = \"cls_private\"\n",
    "\n",
    "    def __init__(self, val):\n",
    "        self.val = val\n",
    "        self._protected = \"protected\"\n",
    "        self.__private = \"private\"\n",
    "\n",
    "    def create_private(self, name, value):\n",
    "        setattr(self, f\"__{name}\", value)\n",
    "\n",
    "    def print(self):\n",
    "        print(\n",
    "            f\"{self.val=}, {self._protected=}, {self.__private=}, \"\n",
    "            f\"{self.name=}, {self.__cls_private=}\"\n",
    "        )\n",
    "\n",
    "    def print_new(self):\n",
    "        print(f\"{self.__private_3=}\")"
   ]
  },
  {
   "cell_type": "code",
   "execution_count": 75,
   "id": "36ab87a1-f147-4090-a639-889c6d0f840d",
   "metadata": {},
   "outputs": [],
   "source": [
    "item = ClassAttr(99)"
   ]
  },
  {
   "cell_type": "code",
   "execution_count": 76,
   "id": "b20c9b15-8176-4684-8085-94bc49ca4537",
   "metadata": {},
   "outputs": [],
   "source": [
    "item.create_private(\"qwerty\", 123)"
   ]
  },
  {
   "cell_type": "code",
   "execution_count": 77,
   "id": "36747697-8e24-4632-a0e9-5274c1a34042",
   "metadata": {},
   "outputs": [
    {
     "data": {
      "text/plain": [
       "{'val': 99,\n",
       " '_protected': 'protected',\n",
       " '_ClassAttr__private': 'private',\n",
       " '__qwerty': 123}"
      ]
     },
     "execution_count": 77,
     "metadata": {},
     "output_type": "execute_result"
    }
   ],
   "source": [
    "item.__dict__"
   ]
  },
  {
   "cell_type": "code",
   "execution_count": 78,
   "id": "bb28a03d-b8e1-4524-ac82-a716ba567278",
   "metadata": {},
   "outputs": [],
   "source": [
    "def create_private_up(self, val):\n",
    "    self.__new_private = val\n",
    "\n",
    "\n",
    "ClassAttr.create_private_up = create_private_up"
   ]
  },
  {
   "cell_type": "code",
   "execution_count": 79,
   "id": "3978d623-709b-4b3d-a8ce-9b4ff344eb0c",
   "metadata": {},
   "outputs": [],
   "source": [
    "item.create_private_up(123)"
   ]
  },
  {
   "cell_type": "code",
   "execution_count": 80,
   "id": "47602595-ab41-4489-a50f-03475282d4bf",
   "metadata": {},
   "outputs": [
    {
     "data": {
      "text/plain": [
       "{'val': 99,\n",
       " '_protected': 'protected',\n",
       " '_ClassAttr__private': 'private',\n",
       " '__qwerty': 123,\n",
       " '__new_private': 123}"
      ]
     },
     "execution_count": 80,
     "metadata": {},
     "output_type": "execute_result"
    }
   ],
   "source": [
    "item.__dict__"
   ]
  },
  {
   "cell_type": "code",
   "execution_count": 82,
   "id": "c6250293-a135-40a6-9889-aabcc5847007",
   "metadata": {},
   "outputs": [],
   "source": [
    "ClassAttr.create_private_up(item, 456)"
   ]
  },
  {
   "cell_type": "code",
   "execution_count": 83,
   "id": "6946fe0f-407c-443f-8c26-5e7b14e8f66e",
   "metadata": {},
   "outputs": [
    {
     "data": {
      "text/plain": [
       "{'val': 99,\n",
       " '_protected': 'protected',\n",
       " '_ClassAttr__private': 'private',\n",
       " '__qwerty': 123,\n",
       " '__new_private': 456}"
      ]
     },
     "execution_count": 83,
     "metadata": {},
     "output_type": "execute_result"
    }
   ],
   "source": [
    "item.__dict__"
   ]
  },
  {
   "cell_type": "code",
   "execution_count": null,
   "id": "030c88db-753a-4b25-b178-4ea395b41bb0",
   "metadata": {},
   "outputs": [],
   "source": []
  },
  {
   "cell_type": "code",
   "execution_count": null,
   "id": "feaf481f-eee3-4402-9286-06f602a683d1",
   "metadata": {},
   "outputs": [],
   "source": []
  },
  {
   "cell_type": "code",
   "execution_count": 84,
   "id": "603e3c05-4c0e-4669-9d7d-60675093bfad",
   "metadata": {},
   "outputs": [
    {
     "data": {
      "text/plain": [
       "'cls_name'"
      ]
     },
     "execution_count": 84,
     "metadata": {},
     "output_type": "execute_result"
    }
   ],
   "source": [
    "item.name"
   ]
  },
  {
   "cell_type": "code",
   "execution_count": 85,
   "id": "b01f68f7-603f-4c63-9957-189a33d707ac",
   "metadata": {},
   "outputs": [
    {
     "ename": "AttributeError",
     "evalue": "'ClassAttr' object has no attribute 'name1'",
     "output_type": "error",
     "traceback": [
      "\u001b[31m---------------------------------------------------------------------------\u001b[39m",
      "\u001b[31mAttributeError\u001b[39m                            Traceback (most recent call last)",
      "\u001b[36mCell\u001b[39m\u001b[36m \u001b[39m\u001b[32mIn[85]\u001b[39m\u001b[32m, line 1\u001b[39m\n\u001b[32m----> \u001b[39m\u001b[32m1\u001b[39m \u001b[43mitem\u001b[49m\u001b[43m.\u001b[49m\u001b[43mname1\u001b[49m\n",
      "\u001b[31mAttributeError\u001b[39m: 'ClassAttr' object has no attribute 'name1'"
     ]
    }
   ],
   "source": [
    "item.name1"
   ]
  },
  {
   "cell_type": "code",
   "execution_count": 90,
   "id": "c5aabf18-bc86-4b35-b4e4-a6ac19cefbad",
   "metadata": {},
   "outputs": [],
   "source": [
    "item.name = [\"object name\", 123]"
   ]
  },
  {
   "cell_type": "code",
   "execution_count": 91,
   "id": "746447bf-f906-41c2-91c4-aed62111f2ca",
   "metadata": {},
   "outputs": [
    {
     "data": {
      "text/plain": [
       "(['object name', 123], 'cls_name')"
      ]
     },
     "execution_count": 91,
     "metadata": {},
     "output_type": "execute_result"
    }
   ],
   "source": [
    "item.name, ClassAttr.name"
   ]
  },
  {
   "cell_type": "code",
   "execution_count": 92,
   "id": "9006ff0a-a4b4-460a-b3fd-3579d9b6fdbc",
   "metadata": {},
   "outputs": [
    {
     "data": {
      "text/plain": [
       "{'val': 99,\n",
       " '_protected': 'protected',\n",
       " '_ClassAttr__private': 'private',\n",
       " '__qwerty': 123,\n",
       " '__new_private': 456,\n",
       " 'name': ['object name', 123]}"
      ]
     },
     "execution_count": 92,
     "metadata": {},
     "output_type": "execute_result"
    }
   ],
   "source": [
    "item.__dict__"
   ]
  },
  {
   "cell_type": "code",
   "execution_count": 94,
   "id": "3f66bb34-3143-442f-b8bd-030301867830",
   "metadata": {},
   "outputs": [],
   "source": [
    "class ClassAttr:\n",
    "    name = [\"cls_name\", \"123\"]\n",
    "    __cls_private = \"cls_private\"\n",
    "\n",
    "    def __init__(self, val):\n",
    "        self.val = val\n",
    "        self._protected = \"protected\"\n",
    "        self.__private = \"private\"\n",
    "\n",
    "    def create_private(self, name, value):\n",
    "        setattr(self, f\"__{name}\", value)\n",
    "\n",
    "    def print(self):\n",
    "        print(\n",
    "            f\"{self.val=}, {self._protected=}, {self.__private=}, \"\n",
    "            f\"{self.name=}, {self.__cls_private=}\"\n",
    "        )\n",
    "\n",
    "    def print_new(self):\n",
    "        print(f\"{self.__private_3=}\")"
   ]
  },
  {
   "cell_type": "code",
   "execution_count": 95,
   "id": "0364d7ee-fb04-4c4b-bb0d-7e4c4295fbd5",
   "metadata": {},
   "outputs": [],
   "source": [
    "item = ClassAttr(99)"
   ]
  },
  {
   "cell_type": "code",
   "execution_count": 97,
   "id": "7086d5d2-b542-4e17-ba69-aec9e545fa22",
   "metadata": {},
   "outputs": [
    {
     "data": {
      "text/plain": [
       "(['cls_name', '123'], ['cls_name', '123'])"
      ]
     },
     "execution_count": 97,
     "metadata": {},
     "output_type": "execute_result"
    }
   ],
   "source": [
    "item.name, ClassAttr.name"
   ]
  },
  {
   "cell_type": "code",
   "execution_count": 98,
   "id": "012b565b-7ce8-4124-81e4-09bee87a8107",
   "metadata": {},
   "outputs": [],
   "source": [
    "item.name = [1, 2, 3]"
   ]
  },
  {
   "cell_type": "code",
   "execution_count": 99,
   "id": "4351a0b8-7f09-4c7e-b48b-84b81d69a388",
   "metadata": {},
   "outputs": [
    {
     "data": {
      "text/plain": [
       "([1, 2, 3], ['cls_name', '123'])"
      ]
     },
     "execution_count": 99,
     "metadata": {},
     "output_type": "execute_result"
    }
   ],
   "source": [
    "item.name, ClassAttr.name"
   ]
  },
  {
   "cell_type": "code",
   "execution_count": 100,
   "id": "c458076d-1e7e-44fa-b9ff-23e4219b517c",
   "metadata": {},
   "outputs": [],
   "source": [
    "del item.name"
   ]
  },
  {
   "cell_type": "code",
   "execution_count": 101,
   "id": "917b4eca-5d9d-43b1-b426-14a468d86faa",
   "metadata": {},
   "outputs": [
    {
     "data": {
      "text/plain": [
       "(['cls_name', '123'], ['cls_name', '123'])"
      ]
     },
     "execution_count": 101,
     "metadata": {},
     "output_type": "execute_result"
    }
   ],
   "source": [
    "item.name, ClassAttr.name"
   ]
  },
  {
   "cell_type": "code",
   "execution_count": 102,
   "id": "15814c1e-ed2f-4fd3-97aa-fa58fb1e3ce3",
   "metadata": {},
   "outputs": [],
   "source": [
    "item.name.append(456)"
   ]
  },
  {
   "cell_type": "code",
   "execution_count": 103,
   "id": "97d099ef-8700-4104-88c2-bbeb67020ab4",
   "metadata": {},
   "outputs": [
    {
     "data": {
      "text/plain": [
       "(['cls_name', '123', 456], ['cls_name', '123', 456])"
      ]
     },
     "execution_count": 103,
     "metadata": {},
     "output_type": "execute_result"
    }
   ],
   "source": [
    "item.name, ClassAttr.name"
   ]
  },
  {
   "cell_type": "code",
   "execution_count": null,
   "id": "8008e617-127e-4d3d-8dcb-f2f9fb2ee974",
   "metadata": {},
   "outputs": [],
   "source": []
  },
  {
   "cell_type": "code",
   "execution_count": null,
   "id": "30d7599e-e675-45c6-b652-afd1f26d97c0",
   "metadata": {},
   "outputs": [],
   "source": []
  },
  {
   "cell_type": "code",
   "execution_count": null,
   "id": "b0b34cd1-f987-40fb-84a9-271f628dd276",
   "metadata": {},
   "outputs": [],
   "source": []
  },
  {
   "cell_type": "code",
   "execution_count": 104,
   "id": "4d02d47a-dd6c-4986-906f-438bed61e085",
   "metadata": {},
   "outputs": [],
   "source": [
    "class ClassAttr:\n",
    "    name = \"cls_name\"\n",
    "    __cls_private = \"cls_private\"\n",
    "\n",
    "    def __init__(self, val):\n",
    "        self.val = val\n",
    "        self._protected = \"protected\"\n",
    "        self.__private = \"private\"\n",
    "\n",
    "    def create_private(self, name, value):\n",
    "        setattr(self, f\"__{name}\", value)\n",
    "\n",
    "    def print(self):\n",
    "        print(\n",
    "            f\"{self.val=}, {self._protected=}, {self.__private=}, \"\n",
    "            f\"{self.name=}, {self.__cls_private=}\"\n",
    "        )\n",
    "\n",
    "    def print_new(self):\n",
    "        print(f\"{self.__private_3=}\")"
   ]
  },
  {
   "cell_type": "code",
   "execution_count": 105,
   "id": "70d8f1cf-0613-40c9-a12d-70c7db7e6fe0",
   "metadata": {},
   "outputs": [],
   "source": [
    "item = ClassAttr(99)"
   ]
  },
  {
   "cell_type": "code",
   "execution_count": 106,
   "id": "9f2b1a85-ad54-4a62-b44d-9a3af2ce0d4b",
   "metadata": {},
   "outputs": [
    {
     "data": {
      "text/plain": [
       "('cls_name', 'cls_name')"
      ]
     },
     "execution_count": 106,
     "metadata": {},
     "output_type": "execute_result"
    }
   ],
   "source": [
    "item.name, ClassAttr.name"
   ]
  },
  {
   "cell_type": "code",
   "execution_count": 107,
   "id": "a44583d1-1cc5-4fe6-a768-421d950eeb71",
   "metadata": {},
   "outputs": [],
   "source": [
    "item.name += \"345\"  # item.name = item.name + \"345\""
   ]
  },
  {
   "cell_type": "code",
   "execution_count": 108,
   "id": "298fceb7-7048-48ee-b97a-c89a1ab1000c",
   "metadata": {},
   "outputs": [
    {
     "data": {
      "text/plain": [
       "{'val': 99,\n",
       " '_protected': 'protected',\n",
       " '_ClassAttr__private': 'private',\n",
       " 'name': 'cls_name345'}"
      ]
     },
     "execution_count": 108,
     "metadata": {},
     "output_type": "execute_result"
    }
   ],
   "source": [
    "item.__dict__"
   ]
  },
  {
   "cell_type": "code",
   "execution_count": 109,
   "id": "38f68838-fef6-4522-a858-16f1abe02b31",
   "metadata": {},
   "outputs": [
    {
     "data": {
      "text/plain": [
       "('cls_name345', 'cls_name')"
      ]
     },
     "execution_count": 109,
     "metadata": {},
     "output_type": "execute_result"
    }
   ],
   "source": [
    "item.name, ClassAttr.name"
   ]
  },
  {
   "cell_type": "code",
   "execution_count": 110,
   "id": "6fc4fcef-711f-4469-99d9-e42f3cce9b63",
   "metadata": {},
   "outputs": [],
   "source": [
    "ClassAttr.city = \"Moscow\" != ClassAttr.__dict__[\"city\"] = \"Moscow\""
   ]
  },
  {
   "cell_type": "code",
   "execution_count": 111,
   "id": "e45aab91-7a75-4d5a-bdad-3465ca65adeb",
   "metadata": {},
   "outputs": [
    {
     "data": {
      "text/plain": [
       "mappingproxy({'__module__': '__main__',\n",
       "              '__firstlineno__': 1,\n",
       "              'name': 'cls_name',\n",
       "              '_ClassAttr__cls_private': 'cls_private',\n",
       "              '__init__': <function __main__.ClassAttr.__init__(self, val)>,\n",
       "              'create_private': <function __main__.ClassAttr.create_private(self, name, value)>,\n",
       "              'print': <function __main__.ClassAttr.print(self)>,\n",
       "              'print_new': <function __main__.ClassAttr.print_new(self)>,\n",
       "              '__static_attributes__': ('__private', '_protected', 'val'),\n",
       "              '__dict__': <attribute '__dict__' of 'ClassAttr' objects>,\n",
       "              '__weakref__': <attribute '__weakref__' of 'ClassAttr' objects>,\n",
       "              '__doc__': None,\n",
       "              'city': 'Moscow'})"
      ]
     },
     "execution_count": 111,
     "metadata": {},
     "output_type": "execute_result"
    }
   ],
   "source": [
    "ClassAttr.__dict__"
   ]
  },
  {
   "cell_type": "code",
   "execution_count": 112,
   "id": "bb0ca852-a2a8-4810-9fae-1f3be4ad75a7",
   "metadata": {},
   "outputs": [
    {
     "data": {
      "text/plain": [
       "'Moscow'"
      ]
     },
     "execution_count": 112,
     "metadata": {},
     "output_type": "execute_result"
    }
   ],
   "source": [
    "ClassAttr.city"
   ]
  },
  {
   "cell_type": "code",
   "execution_count": null,
   "id": "d9366dbd-6c50-4cb6-9deb-f0e9b38b33d7",
   "metadata": {},
   "outputs": [],
   "source": []
  },
  {
   "cell_type": "code",
   "execution_count": null,
   "id": "0e118d9f-79b6-40dc-8c2b-e394efad78c0",
   "metadata": {},
   "outputs": [],
   "source": []
  },
  {
   "cell_type": "code",
   "execution_count": 123,
   "id": "10115e29-8080-4cbb-b045-1ee253cc0f53",
   "metadata": {},
   "outputs": [],
   "source": [
    "class ClassAttr:\n",
    "    name = \"cls_name\"\n",
    "    __cls_private = \"cls_private\"\n",
    "\n",
    "    #def __new__(cls,)\n",
    "\n",
    "    def __init__(self, val):\n",
    "        self.val = val\n",
    "        self._protected = \"protected\"\n",
    "        self.__private = \"private\"\n",
    "\n",
    "    def create_private(self, name, value):\n",
    "        setattr(self, f\"__{name}\", value)\n",
    "\n",
    "    def print(self):\n",
    "        print(\n",
    "            f\"{self.val=}, {self._protected=}, {self.__private=}, \"\n",
    "            f\"{self.name=}, {self.__cls_private=}\"\n",
    "        )\n",
    "\n",
    "    @staticmethod\n",
    "    def __calc():\n",
    "        print(\"static __calc\")\n",
    "\n",
    "    @staticmethod\n",
    "    def call_calc():\n",
    "        print(\"call_calc\")\n",
    "        ClassAttr.__calc()\n",
    "\n",
    "    @classmethod\n",
    "    def __cls_calc(cls):\n",
    "        print(\"class __cls_calc\")\n",
    "\n",
    "    @classmethod\n",
    "    def cls_calc(cls):\n",
    "        print(\"class cls_calc\", cls)\n",
    "        cls.name = \"update name\"\n",
    "        cls.__cls_calc()"
   ]
  },
  {
   "cell_type": "code",
   "execution_count": 124,
   "id": "0676822f-ee50-4459-8496-7da6ae103f9d",
   "metadata": {},
   "outputs": [],
   "source": [
    "item = ClassAttr(99)"
   ]
  },
  {
   "cell_type": "code",
   "execution_count": 125,
   "id": "d5cf8b0b-47d0-420b-8601-0a49a2c42b4e",
   "metadata": {},
   "outputs": [
    {
     "name": "stdout",
     "output_type": "stream",
     "text": [
      "class cls_calc <class '__main__.ClassAttr'>\n",
      "class __cls_calc\n"
     ]
    }
   ],
   "source": [
    "item.cls_calc()"
   ]
  },
  {
   "cell_type": "code",
   "execution_count": 122,
   "id": "5dd4c0c7-0996-4c68-8aa1-e3e256504e69",
   "metadata": {},
   "outputs": [
    {
     "name": "stdout",
     "output_type": "stream",
     "text": [
      "class cls_calc <class '__main__.ClassAttr'>\n",
      "class __cls_calc\n"
     ]
    }
   ],
   "source": [
    "ClassAttr.cls_calc()"
   ]
  },
  {
   "cell_type": "code",
   "execution_count": 126,
   "id": "f563f98a-6222-452c-971a-d1b0c35ae50a",
   "metadata": {},
   "outputs": [
    {
     "data": {
      "text/plain": [
       "'update name'"
      ]
     },
     "execution_count": 126,
     "metadata": {},
     "output_type": "execute_result"
    }
   ],
   "source": [
    "ClassAttr.name"
   ]
  },
  {
   "cell_type": "code",
   "execution_count": 127,
   "id": "d79af229-c803-4253-a61c-c32460d35d14",
   "metadata": {},
   "outputs": [
    {
     "ename": "AttributeError",
     "evalue": "'ClassAttr' object has no attribute '__cls_calc'",
     "output_type": "error",
     "traceback": [
      "\u001b[31m---------------------------------------------------------------------------\u001b[39m",
      "\u001b[31mAttributeError\u001b[39m                            Traceback (most recent call last)",
      "\u001b[36mCell\u001b[39m\u001b[36m \u001b[39m\u001b[32mIn[127]\u001b[39m\u001b[32m, line 1\u001b[39m\n\u001b[32m----> \u001b[39m\u001b[32m1\u001b[39m \u001b[43mitem\u001b[49m\u001b[43m.\u001b[49m\u001b[43m__cls_calc\u001b[49m()\n",
      "\u001b[31mAttributeError\u001b[39m: 'ClassAttr' object has no attribute '__cls_calc'"
     ]
    }
   ],
   "source": [
    "item.__cls_calc()"
   ]
  },
  {
   "cell_type": "code",
   "execution_count": 128,
   "id": "e9652e0b-adc6-4bb2-8de3-a12861e6f3df",
   "metadata": {},
   "outputs": [
    {
     "ename": "AttributeError",
     "evalue": "type object 'ClassAttr' has no attribute '__cls_calc'",
     "output_type": "error",
     "traceback": [
      "\u001b[31m---------------------------------------------------------------------------\u001b[39m",
      "\u001b[31mAttributeError\u001b[39m                            Traceback (most recent call last)",
      "\u001b[36mCell\u001b[39m\u001b[36m \u001b[39m\u001b[32mIn[128]\u001b[39m\u001b[32m, line 1\u001b[39m\n\u001b[32m----> \u001b[39m\u001b[32m1\u001b[39m \u001b[43mClassAttr\u001b[49m\u001b[43m.\u001b[49m\u001b[43m__cls_calc\u001b[49m()\n",
      "\u001b[31mAttributeError\u001b[39m: type object 'ClassAttr' has no attribute '__cls_calc'"
     ]
    }
   ],
   "source": [
    "ClassAttr.__cls_calc()"
   ]
  },
  {
   "cell_type": "code",
   "execution_count": 129,
   "id": "bfdb4bab-e9b5-4041-aa12-dce0bd6aa6b1",
   "metadata": {},
   "outputs": [
    {
     "name": "stdout",
     "output_type": "stream",
     "text": [
      "class __cls_calc\n"
     ]
    }
   ],
   "source": [
    "ClassAttr._ClassAttr__cls_calc()"
   ]
  },
  {
   "cell_type": "code",
   "execution_count": 130,
   "id": "8d7e4300-0bc1-492a-84f4-34bf482724fa",
   "metadata": {},
   "outputs": [
    {
     "name": "stdout",
     "output_type": "stream",
     "text": [
      "class __cls_calc\n"
     ]
    }
   ],
   "source": [
    "item._ClassAttr__cls_calc()"
   ]
  },
  {
   "cell_type": "code",
   "execution_count": null,
   "id": "e293bd09-c324-426c-9fe0-16f982679315",
   "metadata": {},
   "outputs": [],
   "source": []
  },
  {
   "cell_type": "code",
   "execution_count": 131,
   "id": "6e7ee53d-bb4e-4a44-af1c-bfad86950c36",
   "metadata": {},
   "outputs": [
    {
     "name": "stdout",
     "output_type": "stream",
     "text": [
      "call_calc\n",
      "static __calc\n"
     ]
    }
   ],
   "source": [
    "item.call_calc()"
   ]
  },
  {
   "cell_type": "code",
   "execution_count": 132,
   "id": "c8aa9e89-1505-4cfb-9336-06b4921d3251",
   "metadata": {},
   "outputs": [
    {
     "name": "stdout",
     "output_type": "stream",
     "text": [
      "call_calc\n",
      "static __calc\n"
     ]
    }
   ],
   "source": [
    "ClassAttr.call_calc()"
   ]
  },
  {
   "cell_type": "code",
   "execution_count": 133,
   "id": "6443c88e-9660-4785-992b-b28cba9b677e",
   "metadata": {},
   "outputs": [
    {
     "ename": "AttributeError",
     "evalue": "'ClassAttr' object has no attribute '__calc'",
     "output_type": "error",
     "traceback": [
      "\u001b[31m---------------------------------------------------------------------------\u001b[39m",
      "\u001b[31mAttributeError\u001b[39m                            Traceback (most recent call last)",
      "\u001b[36mCell\u001b[39m\u001b[36m \u001b[39m\u001b[32mIn[133]\u001b[39m\u001b[32m, line 1\u001b[39m\n\u001b[32m----> \u001b[39m\u001b[32m1\u001b[39m \u001b[43mitem\u001b[49m\u001b[43m.\u001b[49m\u001b[43m__calc\u001b[49m()\n",
      "\u001b[31mAttributeError\u001b[39m: 'ClassAttr' object has no attribute '__calc'"
     ]
    }
   ],
   "source": [
    "item.__calc()"
   ]
  },
  {
   "cell_type": "code",
   "execution_count": 134,
   "id": "eacf8db2-ad67-475b-b2ee-af9740fa8065",
   "metadata": {},
   "outputs": [
    {
     "ename": "AttributeError",
     "evalue": "type object 'ClassAttr' has no attribute '__calc'",
     "output_type": "error",
     "traceback": [
      "\u001b[31m---------------------------------------------------------------------------\u001b[39m",
      "\u001b[31mAttributeError\u001b[39m                            Traceback (most recent call last)",
      "\u001b[36mCell\u001b[39m\u001b[36m \u001b[39m\u001b[32mIn[134]\u001b[39m\u001b[32m, line 1\u001b[39m\n\u001b[32m----> \u001b[39m\u001b[32m1\u001b[39m \u001b[43mClassAttr\u001b[49m\u001b[43m.\u001b[49m\u001b[43m__calc\u001b[49m()\n",
      "\u001b[31mAttributeError\u001b[39m: type object 'ClassAttr' has no attribute '__calc'"
     ]
    }
   ],
   "source": [
    "ClassAttr.__calc()"
   ]
  },
  {
   "cell_type": "code",
   "execution_count": 135,
   "id": "745c71ff-c704-4db2-8da4-84132e2ff0a7",
   "metadata": {},
   "outputs": [
    {
     "name": "stdout",
     "output_type": "stream",
     "text": [
      "static __calc\n"
     ]
    }
   ],
   "source": [
    "item._ClassAttr__calc()"
   ]
  },
  {
   "cell_type": "code",
   "execution_count": 136,
   "id": "f41a4599-3d3d-418a-8175-1133d1cb2137",
   "metadata": {},
   "outputs": [
    {
     "name": "stdout",
     "output_type": "stream",
     "text": [
      "static __calc\n"
     ]
    }
   ],
   "source": [
    "ClassAttr._ClassAttr__calc()"
   ]
  },
  {
   "cell_type": "code",
   "execution_count": null,
   "id": "c91308e8-3660-441f-abb9-420f9a291d71",
   "metadata": {},
   "outputs": [],
   "source": []
  },
  {
   "cell_type": "code",
   "execution_count": null,
   "id": "0ffb92e2-a429-42e3-b2b7-842d5e2450d9",
   "metadata": {},
   "outputs": [],
   "source": []
  },
  {
   "cell_type": "code",
   "execution_count": null,
   "id": "49c9ebd1-76e4-4793-93bb-cc7276e3ba43",
   "metadata": {},
   "outputs": [],
   "source": []
  },
  {
   "cell_type": "code",
   "execution_count": null,
   "id": "804879ce-99dd-47d9-9472-a7119780c53d",
   "metadata": {},
   "outputs": [],
   "source": []
  },
  {
   "cell_type": "code",
   "execution_count": 140,
   "id": "f93382fb-8c14-4e7f-a755-d15e5cc500fd",
   "metadata": {},
   "outputs": [],
   "source": [
    "class Num:\n",
    "    def __init__(self, n):\n",
    "        self.n = n\n",
    "\n",
    "    def __add__(self, other):\n",
    "        print(\"__add__\", other)\n",
    "        return self.n + other\n",
    "\n",
    "n = Num(99)"
   ]
  },
  {
   "cell_type": "code",
   "execution_count": 141,
   "id": "ea449405-9f76-46ee-a3f0-bd66c073d508",
   "metadata": {},
   "outputs": [
    {
     "name": "stdout",
     "output_type": "stream",
     "text": [
      "__add__ 10\n"
     ]
    },
    {
     "data": {
      "text/plain": [
       "109"
      ]
     },
     "execution_count": 141,
     "metadata": {},
     "output_type": "execute_result"
    }
   ],
   "source": [
    "n + 10"
   ]
  },
  {
   "cell_type": "code",
   "execution_count": 143,
   "id": "a2ab44c0-f5c6-48b8-a897-b9fd2ad2a807",
   "metadata": {},
   "outputs": [
    {
     "ename": "TypeError",
     "evalue": "unsupported operand type(s) for +: 'int' and 'Num'",
     "output_type": "error",
     "traceback": [
      "\u001b[31m---------------------------------------------------------------------------\u001b[39m",
      "\u001b[31mTypeError\u001b[39m                                 Traceback (most recent call last)",
      "\u001b[36mCell\u001b[39m\u001b[36m \u001b[39m\u001b[32mIn[143]\u001b[39m\u001b[32m, line 1\u001b[39m\n\u001b[32m----> \u001b[39m\u001b[32m1\u001b[39m \u001b[32;43m10\u001b[39;49m\u001b[43m \u001b[49m\u001b[43m+\u001b[49m\u001b[43m \u001b[49m\u001b[43mn\u001b[49m\n",
      "\u001b[31mTypeError\u001b[39m: unsupported operand type(s) for +: 'int' and 'Num'"
     ]
    }
   ],
   "source": [
    "10 + n"
   ]
  },
  {
   "cell_type": "code",
   "execution_count": 144,
   "id": "c8e69356-36d2-42b3-af81-51fc56882bfe",
   "metadata": {},
   "outputs": [],
   "source": [
    "class Num:\n",
    "    def __init__(self, n):\n",
    "        self.n = n\n",
    "\n",
    "    def __add__(self, other):\n",
    "        print(\"__add__\", other)\n",
    "        return self.n + other\n",
    "\n",
    "    def __radd__(self, other):\n",
    "        print(\"__radd__\", other)\n",
    "        return self.n + other\n",
    "\n",
    "\n",
    "n = Num(99)"
   ]
  },
  {
   "cell_type": "code",
   "execution_count": 145,
   "id": "712d7e63-eeb1-4290-9d62-45e9985602d4",
   "metadata": {},
   "outputs": [
    {
     "name": "stdout",
     "output_type": "stream",
     "text": [
      "__add__ 10\n"
     ]
    },
    {
     "data": {
      "text/plain": [
       "109"
      ]
     },
     "execution_count": 145,
     "metadata": {},
     "output_type": "execute_result"
    }
   ],
   "source": [
    "n + 10"
   ]
  },
  {
   "cell_type": "code",
   "execution_count": 146,
   "id": "ffff699b-89a8-4ec2-afce-7b38b69ec1e4",
   "metadata": {},
   "outputs": [
    {
     "name": "stdout",
     "output_type": "stream",
     "text": [
      "__radd__ 10\n"
     ]
    },
    {
     "data": {
      "text/plain": [
       "109"
      ]
     },
     "execution_count": 146,
     "metadata": {},
     "output_type": "execute_result"
    }
   ],
   "source": [
    "10 + n"
   ]
  },
  {
   "cell_type": "code",
   "execution_count": 150,
   "id": "15e2b7a8-ca0e-4b01-8446-d1aec4090f8e",
   "metadata": {},
   "outputs": [
    {
     "data": {
      "text/plain": [
       "<bound method Num.__add__ of <__main__.Num object at 0x11135fa10>>"
      ]
     },
     "execution_count": 150,
     "metadata": {},
     "output_type": "execute_result"
    }
   ],
   "source": [
    "n.__add__"
   ]
  },
  {
   "cell_type": "code",
   "execution_count": 151,
   "id": "01aed677-2bbf-4197-aede-9d2555df754c",
   "metadata": {},
   "outputs": [
    {
     "data": {
      "text/plain": [
       "<function __main__.Num.__add__(self, other)>"
      ]
     },
     "execution_count": 151,
     "metadata": {},
     "output_type": "execute_result"
    }
   ],
   "source": [
    "Num.__add__"
   ]
  },
  {
   "cell_type": "code",
   "execution_count": 152,
   "id": "cf1ebf68-71b3-4874-a6da-80523ae8fa1c",
   "metadata": {},
   "outputs": [
    {
     "name": "stdout",
     "output_type": "stream",
     "text": [
      "__add__ 10\n"
     ]
    },
    {
     "data": {
      "text/plain": [
       "109"
      ]
     },
     "execution_count": 152,
     "metadata": {},
     "output_type": "execute_result"
    }
   ],
   "source": [
    "n.__add__(10)"
   ]
  },
  {
   "cell_type": "code",
   "execution_count": 153,
   "id": "86e30b8c-f837-4408-a89b-cf7159e7c5e1",
   "metadata": {},
   "outputs": [
    {
     "name": "stdout",
     "output_type": "stream",
     "text": [
      "__add__ 10\n"
     ]
    },
    {
     "data": {
      "text/plain": [
       "109"
      ]
     },
     "execution_count": 153,
     "metadata": {},
     "output_type": "execute_result"
    }
   ],
   "source": [
    "Num.__add__(n, 10)"
   ]
  },
  {
   "cell_type": "code",
   "execution_count": 156,
   "id": "245ed986-59e9-4a10-bd42-7036349f55e1",
   "metadata": {},
   "outputs": [
    {
     "name": "stdout",
     "output_type": "stream",
     "text": [
      "__add__ <MagicMock id='4598971232'>\n"
     ]
    },
    {
     "data": {
      "text/plain": [
       "<MagicMock name='mock.n.__add__()' id='4600594848'>"
      ]
     },
     "execution_count": 156,
     "metadata": {},
     "output_type": "execute_result"
    }
   ],
   "source": [
    "from unittest import mock\n",
    "\n",
    "m1 = mock.MagicMock()\n",
    "m2 = mock.MagicMock()\n",
    "\n",
    "Num.__add__(m1, m2)"
   ]
  },
  {
   "cell_type": "code",
   "execution_count": 158,
   "id": "27355475-4193-4bb4-86ca-8dc48c60bf02",
   "metadata": {},
   "outputs": [
    {
     "data": {
      "text/plain": [
       "<MagicMock name='mock.n.mock_call' id='4576292752'>"
      ]
     },
     "execution_count": 158,
     "metadata": {},
     "output_type": "execute_result"
    }
   ],
   "source": [
    "m1.n.mock_call"
   ]
  },
  {
   "cell_type": "code",
   "execution_count": null,
   "id": "ad5436cf-7902-4e68-8f41-656a16f9c87b",
   "metadata": {},
   "outputs": [],
   "source": []
  },
  {
   "cell_type": "code",
   "execution_count": null,
   "id": "428864f6-4ac5-4b7b-95d5-ad433b44b39d",
   "metadata": {},
   "outputs": [],
   "source": []
  },
  {
   "cell_type": "code",
   "execution_count": null,
   "id": "15162031-f9fc-4e5e-947b-d35c70402fa7",
   "metadata": {},
   "outputs": [],
   "source": []
  },
  {
   "cell_type": "code",
   "execution_count": 147,
   "id": "a330b469-4699-4d1e-b5f3-2a8bd220f179",
   "metadata": {},
   "outputs": [],
   "source": [
    "class A:\n",
    "    pass\n",
    "\n",
    "\n",
    "class B(A):\n",
    "    pass\n",
    "\n",
    "\n",
    "class C(A):\n",
    "    pass\n",
    "\n",
    "\n",
    "class D(B, C):\n",
    "    pass"
   ]
  },
  {
   "cell_type": "code",
   "execution_count": 148,
   "id": "1bb66196-389d-49d4-8e54-f99e126cb31f",
   "metadata": {},
   "outputs": [
    {
     "data": {
      "text/plain": [
       "[__main__.D, __main__.B, __main__.C, __main__.A, object]"
      ]
     },
     "execution_count": 148,
     "metadata": {},
     "output_type": "execute_result"
    }
   ],
   "source": [
    "D.mro()"
   ]
  },
  {
   "cell_type": "code",
   "execution_count": 149,
   "id": "d2c6dcc5-c833-4fae-9705-bc6d16459b87",
   "metadata": {},
   "outputs": [
    {
     "ename": "TypeError",
     "evalue": "Cannot create a consistent method resolution order (MRO) for bases A, B, C",
     "output_type": "error",
     "traceback": [
      "\u001b[31m---------------------------------------------------------------------------\u001b[39m",
      "\u001b[31mTypeError\u001b[39m                                 Traceback (most recent call last)",
      "\u001b[36mCell\u001b[39m\u001b[36m \u001b[39m\u001b[32mIn[149]\u001b[39m\u001b[32m, line 1\u001b[39m\n\u001b[32m----> \u001b[39m\u001b[32m1\u001b[39m \u001b[38;5;28;43;01mclass\u001b[39;49;00m\u001b[38;5;250;43m \u001b[39;49m\u001b[34;43;01mE\u001b[39;49;00m\u001b[43m(\u001b[49m\u001b[43mA\u001b[49m\u001b[43m,\u001b[49m\u001b[43m \u001b[49m\u001b[43mB\u001b[49m\u001b[43m,\u001b[49m\u001b[43m \u001b[49m\u001b[43mC\u001b[49m\u001b[43m)\u001b[49m\u001b[43m:\u001b[49m\n\u001b[32m      2\u001b[39m \u001b[43m    \u001b[49m\u001b[38;5;28;43;01mpass\u001b[39;49;00m\n",
      "\u001b[31mTypeError\u001b[39m: Cannot create a consistent method resolution order (MRO) for bases A, B, C"
     ]
    }
   ],
   "source": [
    "class E(A, B, C):\n",
    "    pass"
   ]
  },
  {
   "cell_type": "code",
   "execution_count": null,
   "id": "fe7170c3-4008-4e6e-9d75-b224ccccad19",
   "metadata": {},
   "outputs": [],
   "source": []
  }
 ],
 "metadata": {
  "kernelspec": {
   "display_name": "Python 3 (ipykernel)",
   "language": "python",
   "name": "python3"
  },
  "language_info": {
   "codemirror_mode": {
    "name": "ipython",
    "version": 3
   },
   "file_extension": ".py",
   "mimetype": "text/x-python",
   "name": "python",
   "nbconvert_exporter": "python",
   "pygments_lexer": "ipython3",
   "version": "3.13.2"
  }
 },
 "nbformat": 4,
 "nbformat_minor": 5
}
