{
 "cells": [
  {
   "cell_type": "code",
   "execution_count": 2,
   "id": "c8eb91f3-4f12-40db-a54e-3bcebef56257",
   "metadata": {},
   "outputs": [],
   "source": [
    "def fn(x=...):\n",
    "    if x is ...:\n",
    "        print(\"yes\")\n",
    "    else:\n",
    "        print(\"no\")"
   ]
  },
  {
   "cell_type": "code",
   "execution_count": 3,
   "id": "3c147f6b-df33-4b0d-9491-1c069d62ef96",
   "metadata": {},
   "outputs": [
    {
     "name": "stdout",
     "output_type": "stream",
     "text": [
      "yes\n"
     ]
    }
   ],
   "source": [
    "fn()"
   ]
  },
  {
   "cell_type": "code",
   "execution_count": 4,
   "id": "4165289a-578c-4557-953c-fd45e1f09a3d",
   "metadata": {},
   "outputs": [
    {
     "name": "stdout",
     "output_type": "stream",
     "text": [
      "no\n"
     ]
    }
   ],
   "source": [
    "fn(123)"
   ]
  },
  {
   "cell_type": "code",
   "execution_count": 7,
   "id": "801ae22b-6caa-4740-b8ae-f1ff2b133cc9",
   "metadata": {},
   "outputs": [],
   "source": [
    "def fn(x=None):\n",
    "    if x is None:\n",
    "        print(\"yes\")\n",
    "    else:\n",
    "        print(\"no\")"
   ]
  },
  {
   "cell_type": "code",
   "execution_count": 8,
   "id": "199fa366-3be8-4885-87d2-34aa761b05a4",
   "metadata": {},
   "outputs": [],
   "source": [
    "obj = object()\n",
    "\n",
    "def fn(x=obj):\n",
    "    if x is obj:\n",
    "        print(\"yes\")\n",
    "    else:\n",
    "        print(\"no\")"
   ]
  },
  {
   "cell_type": "code",
   "execution_count": 9,
   "id": "149e6488-a610-495d-befb-d70e73b56f8f",
   "metadata": {},
   "outputs": [
    {
     "name": "stdout",
     "output_type": "stream",
     "text": [
      "yes\n"
     ]
    }
   ],
   "source": [
    "fn()"
   ]
  },
  {
   "cell_type": "code",
   "execution_count": 10,
   "id": "96bd9ed2-1380-47ff-aa81-b0338716a598",
   "metadata": {},
   "outputs": [
    {
     "name": "stdout",
     "output_type": "stream",
     "text": [
      "no\n"
     ]
    }
   ],
   "source": [
    "fn(None)"
   ]
  },
  {
   "cell_type": "code",
   "execution_count": 11,
   "id": "aa0bd003-e42c-492b-ba4d-cfc1f96033a2",
   "metadata": {},
   "outputs": [],
   "source": [
    "def fn1(data: tuple[int, ...]):\n",
    "    pass"
   ]
  },
  {
   "cell_type": "code",
   "execution_count": null,
   "id": "b007675b-ff73-46da-b68a-d81333e4fdfb",
   "metadata": {},
   "outputs": [],
   "source": []
  },
  {
   "cell_type": "code",
   "execution_count": null,
   "id": "918d1203-eec3-4560-b323-09a22acacc35",
   "metadata": {},
   "outputs": [],
   "source": []
  },
  {
   "cell_type": "markdown",
   "id": "b2a0c85c-0e20-478d-ace7-57d49552ffd3",
   "metadata": {},
   "source": [
    "# Рекурсия"
   ]
  },
  {
   "cell_type": "code",
   "execution_count": 12,
   "id": "90417c41-0d5b-42da-8bc8-8c4eb40a95ba",
   "metadata": {},
   "outputs": [],
   "source": [
    "def summutor(n):\n",
    "    if n < 0:\n",
    "        raise Exception(\"wrong\")\n",
    "\n",
    "    if n == 0:\n",
    "        return 0\n",
    "\n",
    "    return n + summutor(n - 1)"
   ]
  },
  {
   "cell_type": "code",
   "execution_count": 14,
   "id": "d7e35a90-f24d-46bc-ba61-3e23eee2c918",
   "metadata": {},
   "outputs": [
    {
     "data": {
      "text/plain": [
       "(55, 1, 4950)"
      ]
     },
     "execution_count": 14,
     "metadata": {},
     "output_type": "execute_result"
    }
   ],
   "source": [
    "summutor(10), summutor(1), summutor(99)"
   ]
  },
  {
   "cell_type": "code",
   "execution_count": 15,
   "id": "97e33c63-45b7-4b86-8d4e-19ac24384f4c",
   "metadata": {},
   "outputs": [],
   "source": [
    "import sys"
   ]
  },
  {
   "cell_type": "code",
   "execution_count": 16,
   "id": "7d0da4ff-378e-4f40-b7a4-2859138ba038",
   "metadata": {},
   "outputs": [
    {
     "data": {
      "text/plain": [
       "3000"
      ]
     },
     "execution_count": 16,
     "metadata": {},
     "output_type": "execute_result"
    }
   ],
   "source": [
    "sys.getrecursionlimit()"
   ]
  },
  {
   "cell_type": "code",
   "execution_count": null,
   "id": "c54adbe4-2931-4cbd-bdb0-fe48b15d054c",
   "metadata": {},
   "outputs": [],
   "source": []
  },
  {
   "cell_type": "code",
   "execution_count": 27,
   "id": "a1565cba-f37f-45e2-833c-e56b1122ac47",
   "metadata": {},
   "outputs": [
    {
     "ename": "RecursionError",
     "evalue": "maximum recursion depth exceeded",
     "output_type": "error",
     "traceback": [
      "\u001b[31m---------------------------------------------------------------------------\u001b[39m",
      "\u001b[31mRecursionError\u001b[39m                            Traceback (most recent call last)",
      "\u001b[36mCell\u001b[39m\u001b[36m \u001b[39m\u001b[32mIn[27]\u001b[39m\u001b[32m, line 1\u001b[39m\n\u001b[32m----> \u001b[39m\u001b[32m1\u001b[39m \u001b[43msummutor\u001b[49m\u001b[43m(\u001b[49m\u001b[32;43m2978\u001b[39;49m\u001b[43m)\u001b[49m\n",
      "\u001b[36mCell\u001b[39m\u001b[36m \u001b[39m\u001b[32mIn[12]\u001b[39m\u001b[32m, line 8\u001b[39m, in \u001b[36msummutor\u001b[39m\u001b[34m(n)\u001b[39m\n\u001b[32m      5\u001b[39m \u001b[38;5;28;01mif\u001b[39;00m n == \u001b[32m0\u001b[39m:\n\u001b[32m      6\u001b[39m     \u001b[38;5;28;01mreturn\u001b[39;00m \u001b[32m0\u001b[39m\n\u001b[32m----> \u001b[39m\u001b[32m8\u001b[39m \u001b[38;5;28;01mreturn\u001b[39;00m n + \u001b[43msummutor\u001b[49m\u001b[43m(\u001b[49m\u001b[43mn\u001b[49m\u001b[43m \u001b[49m\u001b[43m-\u001b[49m\u001b[43m \u001b[49m\u001b[32;43m1\u001b[39;49m\u001b[43m)\u001b[49m\n",
      "\u001b[36mCell\u001b[39m\u001b[36m \u001b[39m\u001b[32mIn[12]\u001b[39m\u001b[32m, line 8\u001b[39m, in \u001b[36msummutor\u001b[39m\u001b[34m(n)\u001b[39m\n\u001b[32m      5\u001b[39m \u001b[38;5;28;01mif\u001b[39;00m n == \u001b[32m0\u001b[39m:\n\u001b[32m      6\u001b[39m     \u001b[38;5;28;01mreturn\u001b[39;00m \u001b[32m0\u001b[39m\n\u001b[32m----> \u001b[39m\u001b[32m8\u001b[39m \u001b[38;5;28;01mreturn\u001b[39;00m n + \u001b[43msummutor\u001b[49m\u001b[43m(\u001b[49m\u001b[43mn\u001b[49m\u001b[43m \u001b[49m\u001b[43m-\u001b[49m\u001b[43m \u001b[49m\u001b[32;43m1\u001b[39;49m\u001b[43m)\u001b[49m\n",
      "    \u001b[31m[... skipping similar frames: summutor at line 8 (2974 times)]\u001b[39m\n",
      "\u001b[36mCell\u001b[39m\u001b[36m \u001b[39m\u001b[32mIn[12]\u001b[39m\u001b[32m, line 8\u001b[39m, in \u001b[36msummutor\u001b[39m\u001b[34m(n)\u001b[39m\n\u001b[32m      5\u001b[39m \u001b[38;5;28;01mif\u001b[39;00m n == \u001b[32m0\u001b[39m:\n\u001b[32m      6\u001b[39m     \u001b[38;5;28;01mreturn\u001b[39;00m \u001b[32m0\u001b[39m\n\u001b[32m----> \u001b[39m\u001b[32m8\u001b[39m \u001b[38;5;28;01mreturn\u001b[39;00m n + \u001b[43msummutor\u001b[49m\u001b[43m(\u001b[49m\u001b[43mn\u001b[49m\u001b[43m \u001b[49m\u001b[43m-\u001b[49m\u001b[43m \u001b[49m\u001b[32;43m1\u001b[39;49m\u001b[43m)\u001b[49m\n",
      "\u001b[31mRecursionError\u001b[39m: maximum recursion depth exceeded"
     ]
    }
   ],
   "source": [
    "summutor(2978)"
   ]
  },
  {
   "cell_type": "code",
   "execution_count": 28,
   "id": "da23aee5-37bd-49db-ab26-80b5bb68f0fa",
   "metadata": {},
   "outputs": [],
   "source": [
    "sys.setrecursionlimit(10000)"
   ]
  },
  {
   "cell_type": "code",
   "execution_count": 30,
   "id": "92f0f87d-7d89-42d9-b8e2-b058d853c08e",
   "metadata": {},
   "outputs": [
    {
     "data": {
      "text/plain": [
       "(4435731, 40504500)"
      ]
     },
     "execution_count": 30,
     "metadata": {},
     "output_type": "execute_result"
    }
   ],
   "source": [
    "summutor(2978), summutor(9000)"
   ]
  },
  {
   "cell_type": "code",
   "execution_count": null,
   "id": "2e740a2d-7616-4eda-b846-a49ef9d44cab",
   "metadata": {},
   "outputs": [],
   "source": []
  },
  {
   "cell_type": "code",
   "execution_count": null,
   "id": "a128f4bb-0a9d-4f6b-8828-df4d1c802986",
   "metadata": {},
   "outputs": [],
   "source": []
  },
  {
   "cell_type": "markdown",
   "id": "eab131d4-948f-4669-9d54-3d73c8e9cc15",
   "metadata": {},
   "source": [
    "# Параметры и аргументы функций"
   ]
  },
  {
   "cell_type": "code",
   "execution_count": 31,
   "id": "89b0b12b-342a-465d-9add-853fd6d543a6",
   "metadata": {},
   "outputs": [],
   "source": [
    "def fn1(x, y=100):\n",
    "    return x + y"
   ]
  },
  {
   "cell_type": "code",
   "execution_count": 32,
   "id": "3cf5e95f-3916-4686-9674-3088573225b8",
   "metadata": {},
   "outputs": [
    {
     "data": {
      "text/plain": [
       "(30, 30, 110, 110, 30)"
      ]
     },
     "execution_count": 32,
     "metadata": {},
     "output_type": "execute_result"
    }
   ],
   "source": [
    "fn1(10, 20), fn1(x=10, y=20), fn1(x=10), fn1(x=10), fn1(y=10, x=20), "
   ]
  },
  {
   "cell_type": "code",
   "execution_count": 35,
   "id": "d60a9c9f-dd63-49b5-902d-b09e41937e59",
   "metadata": {},
   "outputs": [],
   "source": [
    "def fn2(*args, **kwargs):\n",
    "    print(args, kwargs)\n",
    "    #fn40(*args, **kwargs)"
   ]
  },
  {
   "cell_type": "code",
   "execution_count": 36,
   "id": "0a3a5e88-f047-4e99-970e-739a02e52979",
   "metadata": {},
   "outputs": [
    {
     "name": "stdout",
     "output_type": "stream",
     "text": [
      "() {}\n",
      "(1, 2) {'k': 10, 'r': 20}\n",
      "(1, 4) {}\n",
      "() {'k': 40}\n"
     ]
    },
    {
     "data": {
      "text/plain": [
       "(None, None, None, None)"
      ]
     },
     "execution_count": 36,
     "metadata": {},
     "output_type": "execute_result"
    }
   ],
   "source": [
    "fn2(), fn2(1, 2, k=10, r=20), fn2(1, 4), fn2(k=40)"
   ]
  },
  {
   "cell_type": "code",
   "execution_count": 37,
   "id": "f56b8041-8de2-4250-b43e-4606389cc48f",
   "metadata": {},
   "outputs": [
    {
     "data": {
      "text/plain": [
       "\u001b[31mSignature:\u001b[39m len(obj, /)\n",
       "\u001b[31mDocstring:\u001b[39m Return the number of items in a container.\n",
       "\u001b[31mType:\u001b[39m      builtin_function_or_method"
      ]
     },
     "metadata": {},
     "output_type": "display_data"
    }
   ],
   "source": [
    "len?"
   ]
  },
  {
   "cell_type": "code",
   "execution_count": 38,
   "id": "ee640e26-92c1-43e3-a141-e9043b00b802",
   "metadata": {},
   "outputs": [
    {
     "data": {
      "text/plain": [
       "3"
      ]
     },
     "execution_count": 38,
     "metadata": {},
     "output_type": "execute_result"
    }
   ],
   "source": [
    "len([1, 2, 3])"
   ]
  },
  {
   "cell_type": "code",
   "execution_count": 39,
   "id": "6beda8c4-aae4-4bf5-a271-bb8566e0ec6d",
   "metadata": {},
   "outputs": [
    {
     "ename": "TypeError",
     "evalue": "len() takes no keyword arguments",
     "output_type": "error",
     "traceback": [
      "\u001b[31m---------------------------------------------------------------------------\u001b[39m",
      "\u001b[31mTypeError\u001b[39m                                 Traceback (most recent call last)",
      "\u001b[36mCell\u001b[39m\u001b[36m \u001b[39m\u001b[32mIn[39]\u001b[39m\u001b[32m, line 1\u001b[39m\n\u001b[32m----> \u001b[39m\u001b[32m1\u001b[39m \u001b[38;5;28;43mlen\u001b[39;49m\u001b[43m(\u001b[49m\u001b[43mobj\u001b[49m\u001b[43m=\u001b[49m\u001b[43m[\u001b[49m\u001b[32;43m1\u001b[39;49m\u001b[43m,\u001b[49m\u001b[43m \u001b[49m\u001b[32;43m2\u001b[39;49m\u001b[43m,\u001b[49m\u001b[43m \u001b[49m\u001b[32;43m3\u001b[39;49m\u001b[43m]\u001b[49m\u001b[43m)\u001b[49m\n",
      "\u001b[31mTypeError\u001b[39m: len() takes no keyword arguments"
     ]
    }
   ],
   "source": [
    "len(obj=[1, 2, 3])"
   ]
  },
  {
   "cell_type": "code",
   "execution_count": null,
   "id": "5e6ab6b8-a668-431e-9f47-da92a904f71a",
   "metadata": {},
   "outputs": [],
   "source": []
  },
  {
   "cell_type": "code",
   "execution_count": 40,
   "id": "b713eb49-ae34-4cba-bd4a-a7a99cf9c40f",
   "metadata": {},
   "outputs": [],
   "source": [
    "def fn7(pos1, /, pos2, pos3=3, *, kw1=11, **kwargs):\n",
    "    print(f\"{pos1=}, {pos2=}, {pos3=}, {kw1=}, {kwargs=}\")"
   ]
  },
  {
   "cell_type": "code",
   "execution_count": 43,
   "id": "1efa1066-a3d5-48a8-bafc-7592e39d786d",
   "metadata": {},
   "outputs": [
    {
     "name": "stdout",
     "output_type": "stream",
     "text": [
      "pos1=11, pos2=22, pos3=3, kw1=11, kwargs={}\n"
     ]
    }
   ],
   "source": [
    "fn7(11, 22)"
   ]
  },
  {
   "cell_type": "code",
   "execution_count": 44,
   "id": "680e1c12-e30d-41f0-a50b-c5f63f742d15",
   "metadata": {},
   "outputs": [
    {
     "name": "stdout",
     "output_type": "stream",
     "text": [
      "pos1=11, pos2=22, pos3=3, kw1=11, kwargs={}\n"
     ]
    }
   ],
   "source": [
    "fn7(11, pos2=22)"
   ]
  },
  {
   "cell_type": "code",
   "execution_count": 45,
   "id": "e471e180-cbcc-4b3b-8a13-7f8c5b641ed4",
   "metadata": {},
   "outputs": [
    {
     "name": "stdout",
     "output_type": "stream",
     "text": [
      "pos1=11, pos2=22, pos3=3, kw1=33, kwargs={'ww': 44}\n"
     ]
    }
   ],
   "source": [
    "fn7(11, 22, kw1=33, ww=44)"
   ]
  },
  {
   "cell_type": "code",
   "execution_count": 46,
   "id": "bfac60bd-e96a-4c51-86ba-b520f614e065",
   "metadata": {},
   "outputs": [],
   "source": [
    "def fn8(pos1, /, pos2, pos3=3, *args, kw1=11, **kwargs):\n",
    "    print(f\"{pos1=}, {pos2=}, {pos3=}, {args=}, {kw1=}, {kwargs=}\")"
   ]
  },
  {
   "cell_type": "code",
   "execution_count": 47,
   "id": "548dd8b9-3618-4718-967a-fe7ed110647a",
   "metadata": {},
   "outputs": [
    {
     "name": "stdout",
     "output_type": "stream",
     "text": [
      "pos1=11, pos2=22, pos3=33, args=(44, 55, 66), kw1=99, kwargs={'ww': 44}\n"
     ]
    }
   ],
   "source": [
    "fn7(11, 22, 33, 44, 55, 66, kw1=99, ww=44)"
   ]
  },
  {
   "cell_type": "code",
   "execution_count": null,
   "id": "a19582d8-cba7-49d7-b4ab-2568e8503b2c",
   "metadata": {},
   "outputs": [],
   "source": []
  },
  {
   "cell_type": "code",
   "execution_count": 49,
   "id": "acbfd759-c8c8-4321-92cc-579feca0b4f7",
   "metadata": {},
   "outputs": [],
   "source": [
    "def double_param(x, **kwargs):\n",
    "    print(f\"{x=}, {kwargs=}\")"
   ]
  },
  {
   "cell_type": "code",
   "execution_count": 50,
   "id": "edc14651-5078-44cd-a473-4b64a8cc1396",
   "metadata": {},
   "outputs": [
    {
     "name": "stdout",
     "output_type": "stream",
     "text": [
      "x=10, kwargs={'k': 55}\n"
     ]
    }
   ],
   "source": [
    "double_param(10, k=55)"
   ]
  },
  {
   "cell_type": "code",
   "execution_count": 52,
   "id": "559c999c-153a-4503-88b2-a4ff8b508d01",
   "metadata": {},
   "outputs": [
    {
     "ename": "TypeError",
     "evalue": "double_param() got multiple values for argument 'x'",
     "output_type": "error",
     "traceback": [
      "\u001b[31m---------------------------------------------------------------------------\u001b[39m",
      "\u001b[31mTypeError\u001b[39m                                 Traceback (most recent call last)",
      "\u001b[36mCell\u001b[39m\u001b[36m \u001b[39m\u001b[32mIn[52]\u001b[39m\u001b[32m, line 1\u001b[39m\n\u001b[32m----> \u001b[39m\u001b[32m1\u001b[39m \u001b[43mdouble_param\u001b[49m\u001b[43m(\u001b[49m\u001b[32;43m10\u001b[39;49m\u001b[43m,\u001b[49m\u001b[43m \u001b[49m\u001b[43m*\u001b[49m\u001b[43m*\u001b[49m\u001b[43m{\u001b[49m\u001b[33;43m\"\u001b[39;49m\u001b[33;43mx\u001b[39;49m\u001b[33;43m\"\u001b[39;49m\u001b[43m:\u001b[49m\u001b[32;43m55\u001b[39;49m\u001b[43m}\u001b[49m\u001b[43m)\u001b[49m\n",
      "\u001b[31mTypeError\u001b[39m: double_param() got multiple values for argument 'x'"
     ]
    }
   ],
   "source": [
    "double_param(10, **{\"x\":55})"
   ]
  },
  {
   "cell_type": "code",
   "execution_count": 53,
   "id": "3d3955e6-9dbd-41a1-b0b8-6b7161734db0",
   "metadata": {},
   "outputs": [],
   "source": [
    "def double_param_wrong(x, /, **kwargs):\n",
    "    print(f\"{x=}, {kwargs=}\")\n",
    "    call(x, **kwargs)"
   ]
  },
  {
   "cell_type": "code",
   "execution_count": 54,
   "id": "41e80633-f5d1-42c9-beb5-bf3e74a55d73",
   "metadata": {},
   "outputs": [
    {
     "name": "stdout",
     "output_type": "stream",
     "text": [
      "x=10, kwargs={'k': 55}\n"
     ]
    }
   ],
   "source": [
    "double_param_wrong(10, k=55)"
   ]
  },
  {
   "cell_type": "code",
   "execution_count": 55,
   "id": "e8fb93e2-5153-4d70-841c-01989b2efa7e",
   "metadata": {},
   "outputs": [
    {
     "name": "stdout",
     "output_type": "stream",
     "text": [
      "x=10, kwargs={'x': 55}\n"
     ]
    }
   ],
   "source": [
    "double_param_wrong(10, **{\"x\":55})"
   ]
  },
  {
   "cell_type": "code",
   "execution_count": null,
   "id": "299f8d83-8bf8-4695-ac17-bf15586dfbc4",
   "metadata": {},
   "outputs": [],
   "source": []
  },
  {
   "cell_type": "markdown",
   "id": "f1341f63-57bf-4be3-89ee-617659a52564",
   "metadata": {},
   "source": [
    "# Параметры по умолчанию"
   ]
  },
  {
   "cell_type": "code",
   "execution_count": 56,
   "id": "a05fb140-3356-4f31-98e9-a478d5163f45",
   "metadata": {},
   "outputs": [],
   "source": [
    "def add_number(num, adder=20):\n",
    "    return num + adder"
   ]
  },
  {
   "cell_type": "code",
   "execution_count": 57,
   "id": "b3cd7a02-80e5-4897-b95e-e4094a4ac019",
   "metadata": {},
   "outputs": [
    {
     "data": {
      "text/plain": [
       "30"
      ]
     },
     "execution_count": 57,
     "metadata": {},
     "output_type": "execute_result"
    }
   ],
   "source": [
    "add_number(10)"
   ]
  },
  {
   "cell_type": "code",
   "execution_count": 58,
   "id": "285211ea-b86f-473f-869d-2302275e0b90",
   "metadata": {},
   "outputs": [
    {
     "data": {
      "text/plain": [
       "60"
      ]
     },
     "execution_count": 58,
     "metadata": {},
     "output_type": "execute_result"
    }
   ],
   "source": [
    "add_number(10, 50)"
   ]
  },
  {
   "cell_type": "code",
   "execution_count": 59,
   "id": "5228d49f-03f2-4e2e-80ef-6abaee21255d",
   "metadata": {},
   "outputs": [
    {
     "data": {
      "text/plain": [
       "[1, 2, 3]"
      ]
     },
     "execution_count": 59,
     "metadata": {},
     "output_type": "execute_result"
    }
   ],
   "source": [
    "add_number([1, 2], [3])"
   ]
  },
  {
   "cell_type": "code",
   "execution_count": null,
   "id": "a6f55269-4c7b-4c58-be8e-9bd52ccf1730",
   "metadata": {},
   "outputs": [],
   "source": []
  },
  {
   "cell_type": "code",
   "execution_count": 60,
   "id": "695a2422-ca72-4a09-b336-0508ce165d13",
   "metadata": {},
   "outputs": [],
   "source": [
    "def append_to_list(val, lst=[]):\n",
    "    lst.append(val)\n",
    "    return lst"
   ]
  },
  {
   "cell_type": "code",
   "execution_count": 61,
   "id": "855300e3-f0f9-4275-b400-1b7f6b5e3fb7",
   "metadata": {},
   "outputs": [
    {
     "data": {
      "text/plain": [
       "[1, 2, 3, 4]"
      ]
     },
     "execution_count": 61,
     "metadata": {},
     "output_type": "execute_result"
    }
   ],
   "source": [
    "append_to_list(4, [1, 2, 3])"
   ]
  },
  {
   "cell_type": "code",
   "execution_count": 62,
   "id": "9f3bf177-6496-4ee7-9a07-82ad5d48a6f9",
   "metadata": {},
   "outputs": [
    {
     "data": {
      "text/plain": [
       "[1, 2, 5]"
      ]
     },
     "execution_count": 62,
     "metadata": {},
     "output_type": "execute_result"
    }
   ],
   "source": [
    "append_to_list(5, [1, 2])"
   ]
  },
  {
   "cell_type": "code",
   "execution_count": 63,
   "id": "89f84e5c-1e03-4c7d-8b78-424527070cad",
   "metadata": {},
   "outputs": [],
   "source": [
    "lst1 = append_to_list(10)"
   ]
  },
  {
   "cell_type": "code",
   "execution_count": 64,
   "id": "a02f4d1a-85c8-4198-ba4b-9266ea657cc5",
   "metadata": {},
   "outputs": [],
   "source": [
    "lst2 = append_to_list(20)"
   ]
  },
  {
   "cell_type": "code",
   "execution_count": 65,
   "id": "c2ca479d-fa07-49df-91de-5596586fa472",
   "metadata": {},
   "outputs": [
    {
     "data": {
      "text/plain": [
       "([10, 20], [10, 20])"
      ]
     },
     "execution_count": 65,
     "metadata": {},
     "output_type": "execute_result"
    }
   ],
   "source": [
    "lst1, lst2"
   ]
  },
  {
   "cell_type": "code",
   "execution_count": 66,
   "id": "9a9113fe-8489-4d15-925f-1fd8859e019c",
   "metadata": {},
   "outputs": [
    {
     "data": {
      "text/plain": [
       "True"
      ]
     },
     "execution_count": 66,
     "metadata": {},
     "output_type": "execute_result"
    }
   ],
   "source": [
    "lst1 is lst2"
   ]
  },
  {
   "cell_type": "code",
   "execution_count": 77,
   "id": "bdef996e-30ff-46ef-88d3-3807ac4c3e4d",
   "metadata": {},
   "outputs": [],
   "source": [
    "def append_to_list(val, lst=None):\n",
    "    if lst is None:\n",
    "        lst = []\n",
    "    lst.append(val)\n",
    "    return lst"
   ]
  },
  {
   "cell_type": "code",
   "execution_count": 74,
   "id": "d240550e-aa8b-49f6-8f3b-42e6f254af2b",
   "metadata": {},
   "outputs": [],
   "source": [
    "lst1 = append_to_list(10)"
   ]
  },
  {
   "cell_type": "code",
   "execution_count": 75,
   "id": "507a0321-0335-46d7-8a3f-28e7cc25e6a0",
   "metadata": {},
   "outputs": [],
   "source": [
    "lst2 = append_to_list(20)"
   ]
  },
  {
   "cell_type": "code",
   "execution_count": 76,
   "id": "d1b59b6b-7040-43fe-937d-bfcba8c2f6c7",
   "metadata": {},
   "outputs": [
    {
     "data": {
      "text/plain": [
       "([10], [20], False)"
      ]
     },
     "execution_count": 76,
     "metadata": {},
     "output_type": "execute_result"
    }
   ],
   "source": [
    "lst1, lst2, lst1 is lst2"
   ]
  },
  {
   "cell_type": "code",
   "execution_count": null,
   "id": "c4ed3bea-253c-4caa-971b-d4dae5163077",
   "metadata": {},
   "outputs": [],
   "source": []
  },
  {
   "cell_type": "code",
   "execution_count": null,
   "id": "dff6b27d-ce47-47fb-96d5-a38378acab7b",
   "metadata": {},
   "outputs": [],
   "source": []
  },
  {
   "cell_type": "markdown",
   "id": "efd22dcb-5d85-4176-9b01-44d8f26ab0a8",
   "metadata": {},
   "source": [
    "# передача аргументов"
   ]
  },
  {
   "cell_type": "code",
   "execution_count": 83,
   "id": "63ab781c-c677-4f23-b4aa-b6721e02e789",
   "metadata": {},
   "outputs": [
    {
     "data": {
      "text/plain": [
       "([5.05, 10.1], [5.05, 10.1], True)"
      ]
     },
     "execution_count": 83,
     "metadata": {},
     "output_type": "execute_result"
    }
   ],
   "source": [
    "prices = [10.1, 20.2]\n",
    "\n",
    "\n",
    "def add_sale(price_list, discount):\n",
    "    for i, price in enumerate(price_list):\n",
    "        price_list[i] = price * discount\n",
    "\n",
    "    return price_list\n",
    "\n",
    "\n",
    "updated_prices = add_sale(prices, 0.5)\n",
    "updated_prices, prices, prices is updated_prices"
   ]
  },
  {
   "cell_type": "code",
   "execution_count": 87,
   "id": "b86a6d6a-3290-494f-9305-6858e4f43625",
   "metadata": {},
   "outputs": [
    {
     "data": {
      "text/plain": [
       "([5.05, 10.1], [10.1, 20.2], False)"
      ]
     },
     "execution_count": 87,
     "metadata": {},
     "output_type": "execute_result"
    }
   ],
   "source": [
    "prices = [10.1, 20.2]\n",
    "\n",
    "\n",
    "def add_sale(price_list, discount):\n",
    "    price_list = [val * discount for val in price_list]\n",
    "    return price_list\n",
    "\n",
    "\n",
    "updated_prices = add_sale(prices, 0.5)  # price_list = prices, discount = 0.5\n",
    "updated_prices, prices, prices is updated_prices"
   ]
  },
  {
   "cell_type": "code",
   "execution_count": 88,
   "id": "b1023e42-581b-4119-801a-9a2d546273b8",
   "metadata": {},
   "outputs": [
    {
     "data": {
      "text/plain": [
       "([5.05, 10.1, 15.15], [10.1, 20.2, 30.3], False)"
      ]
     },
     "execution_count": 88,
     "metadata": {},
     "output_type": "execute_result"
    }
   ],
   "source": [
    "prices = [10.1, 20.2]\n",
    "\n",
    "\n",
    "def add_sale(price_list, discount):\n",
    "    price_list.append(30.3)\n",
    "    \n",
    "    price_list = [val * discount for val in price_list]\n",
    "    return price_list\n",
    "\n",
    "\n",
    "updated_prices = add_sale(prices, 0.5)  # price_list = prices, discount = 0.5\n",
    "updated_prices, prices, prices is updated_prices"
   ]
  },
  {
   "cell_type": "code",
   "execution_count": null,
   "id": "6f8fbaac-a6c7-4b91-b0ea-3d9d3e879f90",
   "metadata": {},
   "outputs": [],
   "source": []
  },
  {
   "cell_type": "code",
   "execution_count": 89,
   "id": "3e7fe58e-a020-4807-a158-7e43322b5a38",
   "metadata": {},
   "outputs": [],
   "source": [
    "lst = list(range(-10, 10))"
   ]
  },
  {
   "cell_type": "code",
   "execution_count": 90,
   "id": "224e44be-2e3d-4df9-a8a6-b27e5bd027e7",
   "metadata": {},
   "outputs": [
    {
     "data": {
      "text/plain": [
       "[-10, -9, -8, -7, -6, -5, -4, -3, -2, -1, 0, 1, 2, 3, 4, 5, 6, 7, 8, 9]"
      ]
     },
     "execution_count": 90,
     "metadata": {},
     "output_type": "execute_result"
    }
   ],
   "source": [
    "lst"
   ]
  },
  {
   "cell_type": "code",
   "execution_count": 92,
   "id": "d441ea61-4168-4728-9a83-f7792fd0dbec",
   "metadata": {},
   "outputs": [
    {
     "data": {
      "text/plain": [
       "[-10, -9, -8, -7, -6, -5, -4, -3, -2, -1, 0, 1, 2, 3, 4, 5, 6, 7, 8, 9]"
      ]
     },
     "execution_count": 92,
     "metadata": {},
     "output_type": "execute_result"
    }
   ],
   "source": [
    "sorted(lst)"
   ]
  },
  {
   "cell_type": "code",
   "execution_count": 93,
   "id": "d256fe03-a498-4431-bfe1-8efc2aa6b684",
   "metadata": {},
   "outputs": [
    {
     "data": {
      "text/plain": [
       "[0, -1, 1, -2, 2, -3, 3, -4, 4, -5, 5, -6, 6, -7, 7, -8, 8, -9, 9, -10]"
      ]
     },
     "execution_count": 93,
     "metadata": {},
     "output_type": "execute_result"
    }
   ],
   "source": [
    "sorted(lst, key=abs)"
   ]
  },
  {
   "cell_type": "code",
   "execution_count": 94,
   "id": "a1fed347-f0eb-4397-9da4-08cba398bf05",
   "metadata": {},
   "outputs": [
    {
     "data": {
      "text/plain": [
       "[0, -1, 1, -2, 2, -3, 3, -4, 4, -5, 5, -6, 6, -7, 7, -8, 8, -9, 9, -10]"
      ]
     },
     "execution_count": 94,
     "metadata": {},
     "output_type": "execute_result"
    }
   ],
   "source": [
    "sorted(lst, key=lambda x: x ** 2)"
   ]
  },
  {
   "cell_type": "code",
   "execution_count": 95,
   "id": "8c545438-e6b1-41f9-97e5-f3d07e2a7aee",
   "metadata": {},
   "outputs": [],
   "source": [
    "s1 = sorted(lst, key=lambda x: x ** 2)\n",
    "s2 = sorted(lst[::-1], key=lambda x: x ** 2)"
   ]
  },
  {
   "cell_type": "code",
   "execution_count": 98,
   "id": "f3084eb2-3f0c-473e-aeb2-14308d03d52f",
   "metadata": {},
   "outputs": [],
   "source": [
    "sort_key = lambda x: x ** 2  # Bad!!!\n",
    "\n",
    "s1 = sorted(lst, key=sort_key)\n",
    "s2 = sorted(lst[::-1], key=sort_key)"
   ]
  },
  {
   "cell_type": "code",
   "execution_count": 99,
   "id": "f83a9f3f-bf3d-4c93-b7ce-5c96ba40dd02",
   "metadata": {},
   "outputs": [
    {
     "data": {
      "text/plain": [
       "([0, -1, 1, -2, 2, -3, 3, -4, 4, -5, 5, -6, 6, -7, 7, -8, 8, -9, 9, -10],\n",
       " [0, 1, -1, 2, -2, 3, -3, 4, -4, 5, -5, 6, -6, 7, -7, 8, -8, 9, -9, -10])"
      ]
     },
     "execution_count": 99,
     "metadata": {},
     "output_type": "execute_result"
    }
   ],
   "source": [
    "s1, s2"
   ]
  },
  {
   "cell_type": "code",
   "execution_count": 100,
   "id": "4f049e00-2e4d-4021-97bf-99076ac9e29b",
   "metadata": {},
   "outputs": [],
   "source": [
    "def sort_key(x):\n",
    "    return x ** 2\n",
    "\n",
    "s1 = sorted(lst, key=sort_key)\n",
    "s2 = sorted(lst[::-1], key=sort_key)"
   ]
  },
  {
   "cell_type": "code",
   "execution_count": 101,
   "id": "80e25b95-6843-4acc-9feb-034ea23ed92a",
   "metadata": {},
   "outputs": [
    {
     "data": {
      "text/plain": [
       "([0, -1, 1, -2, 2, -3, 3, -4, 4, -5, 5, -6, 6, -7, 7, -8, 8, -9, 9, -10],\n",
       " [0, 1, -1, 2, -2, 3, -3, 4, -4, 5, -5, 6, -6, 7, -7, 8, -8, 9, -9, -10])"
      ]
     },
     "execution_count": 101,
     "metadata": {},
     "output_type": "execute_result"
    }
   ],
   "source": [
    "s1, s2"
   ]
  },
  {
   "cell_type": "code",
   "execution_count": null,
   "id": "2122e50d-a60a-4f09-8e13-415a9eb6310e",
   "metadata": {},
   "outputs": [],
   "source": []
  },
  {
   "cell_type": "code",
   "execution_count": null,
   "id": "aeea3dfa-c168-4c40-b326-6c8f6e509ac5",
   "metadata": {},
   "outputs": [],
   "source": []
  },
  {
   "cell_type": "code",
   "execution_count": null,
   "id": "7b5433c5-4e90-445b-95ce-9395e7339dfc",
   "metadata": {},
   "outputs": [],
   "source": []
  },
  {
   "cell_type": "code",
   "execution_count": 102,
   "id": "a2c77091-ceb2-4a5c-8a1c-147472f382a8",
   "metadata": {},
   "outputs": [],
   "source": [
    "functions = [lambda x: x + a for a in (10, 20, 30)]"
   ]
  },
  {
   "cell_type": "code",
   "execution_count": 103,
   "id": "2f270801-ce49-44d6-8d31-f732220ef818",
   "metadata": {},
   "outputs": [
    {
     "data": {
      "text/plain": [
       "[<function __main__.<lambda>(x)>,\n",
       " <function __main__.<lambda>(x)>,\n",
       " <function __main__.<lambda>(x)>]"
      ]
     },
     "execution_count": 103,
     "metadata": {},
     "output_type": "execute_result"
    }
   ],
   "source": [
    "functions"
   ]
  },
  {
   "cell_type": "code",
   "execution_count": 104,
   "id": "2391287e-fa37-4ef6-9078-07d14334b950",
   "metadata": {},
   "outputs": [
    {
     "data": {
      "text/plain": [
       "[31, 31, 31]"
      ]
     },
     "execution_count": 104,
     "metadata": {},
     "output_type": "execute_result"
    }
   ],
   "source": [
    "value = 1\n",
    "[fn(value) for fn in functions]"
   ]
  },
  {
   "cell_type": "code",
   "execution_count": 107,
   "id": "a41f8883-a252-4096-8a57-137e3a8e0c20",
   "metadata": {},
   "outputs": [
    {
     "data": {
      "text/plain": [
       "[11, 21, 31]"
      ]
     },
     "execution_count": 107,
     "metadata": {},
     "output_type": "execute_result"
    }
   ],
   "source": [
    "functions = [lambda x, y=a: x + y for a in (10, 20, 30)]\n",
    "\n",
    "value = 1\n",
    "[fn(value) for fn in functions]"
   ]
  },
  {
   "cell_type": "code",
   "execution_count": null,
   "id": "4b5e5301-108e-4004-8338-db5934c79079",
   "metadata": {},
   "outputs": [],
   "source": []
  },
  {
   "cell_type": "code",
   "execution_count": 108,
   "id": "3ad6691a-73bc-4287-8315-e88b13c6d9cc",
   "metadata": {},
   "outputs": [],
   "source": [
    "def fn(x):\n",
    "    return x + b"
   ]
  },
  {
   "cell_type": "code",
   "execution_count": 110,
   "id": "1fedd03c-6c14-42f5-a1f6-9122248be206",
   "metadata": {},
   "outputs": [],
   "source": [
    "b = 10"
   ]
  },
  {
   "cell_type": "code",
   "execution_count": 111,
   "id": "97dc5049-f720-4063-9be2-f7f8ae701936",
   "metadata": {},
   "outputs": [
    {
     "data": {
      "text/plain": [
       "30"
      ]
     },
     "execution_count": 111,
     "metadata": {},
     "output_type": "execute_result"
    }
   ],
   "source": [
    "fn(20)"
   ]
  },
  {
   "cell_type": "code",
   "execution_count": null,
   "id": "75b9753c-026c-4778-8ea0-5bb72654f7a8",
   "metadata": {},
   "outputs": [],
   "source": []
  },
  {
   "cell_type": "markdown",
   "id": "884be857-bea9-4843-bc46-41cfe4451ede",
   "metadata": {},
   "source": [
    "# Декораторы"
   ]
  },
  {
   "cell_type": "code",
   "execution_count": 118,
   "id": "f85ccc93-ec07-4402-becd-30e381027ed7",
   "metadata": {},
   "outputs": [],
   "source": [
    "from time import time\n",
    "\n",
    "def calc_time(fn):\n",
    "    def inner(*args, **kwargs):\n",
    "        t1 = time()\n",
    "        try:\n",
    "            return fn(*args, **kwargs)\n",
    "        finally:\n",
    "            t2 = time()\n",
    "            print(f\"{fn.__name__}: {t2 - t1}\")\n",
    "    return inner\n",
    "\n",
    "\n",
    "@calc_time\n",
    "def add(a, b):\n",
    "    return a + b\n",
    "\n",
    "\n",
    "def sub(a, b):\n",
    "    return a - b\n",
    "\n",
    "sub_deco = calc_time(sub)"
   ]
  },
  {
   "cell_type": "code",
   "execution_count": 113,
   "id": "4fe04e49-5a7a-43a7-be5a-3c0f187b66b6",
   "metadata": {},
   "outputs": [
    {
     "name": "stdout",
     "output_type": "stream",
     "text": [
      "add: 1.1920928955078125e-06\n"
     ]
    },
    {
     "data": {
      "text/plain": [
       "6"
      ]
     },
     "execution_count": 113,
     "metadata": {},
     "output_type": "execute_result"
    }
   ],
   "source": [
    "add(1, 5)"
   ]
  },
  {
   "cell_type": "code",
   "execution_count": 114,
   "id": "29c7f3bd-b6da-4c11-8a8a-e48e8924f4ef",
   "metadata": {},
   "outputs": [],
   "source": [
    "add4 = add"
   ]
  },
  {
   "cell_type": "code",
   "execution_count": 115,
   "id": "01539041-9d33-4252-9607-721c4acf9887",
   "metadata": {},
   "outputs": [
    {
     "name": "stdout",
     "output_type": "stream",
     "text": [
      "add: 9.5367431640625e-07\n"
     ]
    },
    {
     "data": {
      "text/plain": [
       "10"
      ]
     },
     "execution_count": 115,
     "metadata": {},
     "output_type": "execute_result"
    }
   ],
   "source": [
    "add4(4, 6)"
   ]
  },
  {
   "cell_type": "code",
   "execution_count": 119,
   "id": "41778d74-a196-435a-b246-30882eb71593",
   "metadata": {},
   "outputs": [
    {
     "data": {
      "text/plain": [
       "-2"
      ]
     },
     "execution_count": 119,
     "metadata": {},
     "output_type": "execute_result"
    }
   ],
   "source": [
    "sub(4, 6)"
   ]
  },
  {
   "cell_type": "code",
   "execution_count": 120,
   "id": "2d579921-c7eb-452a-9262-73bd75f05352",
   "metadata": {},
   "outputs": [
    {
     "name": "stdout",
     "output_type": "stream",
     "text": [
      "sub: 2.1457672119140625e-06\n"
     ]
    },
    {
     "data": {
      "text/plain": [
       "-2"
      ]
     },
     "execution_count": 120,
     "metadata": {},
     "output_type": "execute_result"
    }
   ],
   "source": [
    "sub_deco(4, 6)"
   ]
  },
  {
   "cell_type": "code",
   "execution_count": 122,
   "id": "ecf06aab-1a6f-486c-b4be-770965e82c7f",
   "metadata": {},
   "outputs": [
    {
     "data": {
      "text/plain": [
       "<function __main__.calc_time.<locals>.inner(*args, **kwargs)>"
      ]
     },
     "execution_count": 122,
     "metadata": {},
     "output_type": "execute_result"
    }
   ],
   "source": [
    "add"
   ]
  },
  {
   "cell_type": "code",
   "execution_count": 128,
   "id": "b1ae0a28-2233-4963-a219-227399f96b80",
   "metadata": {},
   "outputs": [
    {
     "data": {
      "text/plain": [
       "(<function __main__.add(a, b)>, 10)"
      ]
     },
     "execution_count": 128,
     "metadata": {},
     "output_type": "execute_result"
    }
   ],
   "source": [
    "add.__closure__[0].cell_contents, add.__closure__[0].cell_contents(4, 6)"
   ]
  },
  {
   "cell_type": "code",
   "execution_count": 129,
   "id": "3602d6de-fc0e-4562-b02d-ce8f235c6291",
   "metadata": {},
   "outputs": [
    {
     "data": {
      "text/plain": [
       "'inner'"
      ]
     },
     "execution_count": 129,
     "metadata": {},
     "output_type": "execute_result"
    }
   ],
   "source": [
    "add.__name__"
   ]
  },
  {
   "cell_type": "code",
   "execution_count": null,
   "id": "f501bba7-017c-491f-8afa-b24b8f54fb68",
   "metadata": {},
   "outputs": [],
   "source": []
  },
  {
   "cell_type": "code",
   "execution_count": 139,
   "id": "4547b5db-d941-47cf-af7a-b59032ddde95",
   "metadata": {},
   "outputs": [],
   "source": [
    "from time import time\n",
    "from functools import wraps\n",
    "\n",
    "def calc_time(fn):\n",
    "    @wraps(fn)\n",
    "    def inner(*args, **kwargs):\n",
    "        t1 = time()\n",
    "        try:\n",
    "            return fn(*args, **kwargs)\n",
    "        finally:\n",
    "            t2 = time()\n",
    "            print(f\"{fn.__name__}: {t2 - t1}\")\n",
    "    return inner\n",
    "\n",
    "\n",
    "@calc_time\n",
    "def add(a, b):\n",
    "    return a + b\n",
    "\n",
    "\n",
    "def sub(a, b):\n",
    "    return a - b\n",
    "\n",
    "sub_deco = calc_time(sub)"
   ]
  },
  {
   "cell_type": "code",
   "execution_count": 140,
   "id": "d822e182-e0c1-4ac4-8235-daf0d1c25f5d",
   "metadata": {},
   "outputs": [
    {
     "data": {
      "text/plain": [
       "<function __main__.add(a, b)>"
      ]
     },
     "execution_count": 140,
     "metadata": {},
     "output_type": "execute_result"
    }
   ],
   "source": [
    "add"
   ]
  },
  {
   "cell_type": "code",
   "execution_count": 132,
   "id": "e9dc8ffa-77a7-48dd-838c-8345dabd5a58",
   "metadata": {},
   "outputs": [
    {
     "name": "stdout",
     "output_type": "stream",
     "text": [
      "add: 9.5367431640625e-07\n"
     ]
    },
    {
     "data": {
      "text/plain": [
       "11"
      ]
     },
     "execution_count": 132,
     "metadata": {},
     "output_type": "execute_result"
    }
   ],
   "source": [
    "add(5, 6)"
   ]
  },
  {
   "cell_type": "code",
   "execution_count": 138,
   "id": "29aaf20a-914f-4b9d-9aae-1adcd8ee17de",
   "metadata": {},
   "outputs": [
    {
     "data": {
      "text/plain": [
       "'add'"
      ]
     },
     "execution_count": 138,
     "metadata": {},
     "output_type": "execute_result"
    }
   ],
   "source": [
    "add.__name__"
   ]
  },
  {
   "cell_type": "code",
   "execution_count": 135,
   "id": "60790daf-71a6-403b-803d-10755f708181",
   "metadata": {},
   "outputs": [
    {
     "data": {
      "text/plain": [
       "(<function __main__.add(a, b)>, 13)"
      ]
     },
     "execution_count": 135,
     "metadata": {},
     "output_type": "execute_result"
    }
   ],
   "source": [
    "add.__wrapped__, add.__wrapped__(4, 9)"
   ]
  },
  {
   "cell_type": "code",
   "execution_count": null,
   "id": "3ddcc5de-cb7b-4eb2-9126-26d655ac1379",
   "metadata": {},
   "outputs": [],
   "source": []
  },
  {
   "cell_type": "code",
   "execution_count": null,
   "id": "9a659b0a-0704-47e9-a38b-e5da7ee34aec",
   "metadata": {},
   "outputs": [],
   "source": []
  },
  {
   "cell_type": "code",
   "execution_count": 143,
   "id": "89905a5f-66fe-426d-8940-e72172d22792",
   "metadata": {},
   "outputs": [],
   "source": [
    "from time import time\n",
    "from functools import wraps\n",
    "from collections import deque\n",
    "\n",
    "\n",
    "def hold_times(k):\n",
    "    times = deque(maxlen=k)\n",
    "\n",
    "    def calc_time(fn):\n",
    "        @wraps(fn)\n",
    "        def inner(*args, **kwargs):\n",
    "            t1 = time()\n",
    "            try:\n",
    "                return fn(*args, **kwargs)\n",
    "            finally:\n",
    "                t2 = time()\n",
    "                times.append(t2 - t1)\n",
    "                print(f\"{fn.__name__}: {times}\")\n",
    "        return inner\n",
    "    return calc_time\n",
    "\n",
    "\n",
    "@hold_times(5)\n",
    "def add(a, b):\n",
    "    return a + b\n",
    "\n",
    "\n",
    "def sub(a, b):\n",
    "    return a - b\n",
    "\n",
    "sub = hold_times(2)(sub)"
   ]
  },
  {
   "cell_type": "code",
   "execution_count": 146,
   "id": "6109bb35-6599-4888-b1f5-f0e4a8807e4f",
   "metadata": {},
   "outputs": [
    {
     "name": "stdout",
     "output_type": "stream",
     "text": [
      "add: deque([9.5367431640625e-07, 9.5367431640625e-07], maxlen=5)\n",
      "add: deque([9.5367431640625e-07, 9.5367431640625e-07, 9.5367431640625e-07], maxlen=5)\n",
      "add: deque([9.5367431640625e-07, 9.5367431640625e-07, 9.5367431640625e-07, 9.5367431640625e-07], maxlen=5)\n",
      "add: deque([9.5367431640625e-07, 9.5367431640625e-07, 9.5367431640625e-07, 9.5367431640625e-07, 0.0], maxlen=5)\n",
      "add: deque([9.5367431640625e-07, 9.5367431640625e-07, 9.5367431640625e-07, 0.0, 0.0], maxlen=5)\n",
      "add: deque([9.5367431640625e-07, 9.5367431640625e-07, 0.0, 0.0, 9.5367431640625e-07], maxlen=5)\n"
     ]
    },
    {
     "data": {
      "text/plain": [
       "(9, 10, 15, 54, 38, 12)"
      ]
     },
     "execution_count": 146,
     "metadata": {},
     "output_type": "execute_result"
    }
   ],
   "source": [
    "add(4, 5), add(4, 6), add(10, 5), add(4, 50), add(4, 34), add(0, 12)"
   ]
  },
  {
   "cell_type": "code",
   "execution_count": 147,
   "id": "809cc956-1fc5-4f9d-a01d-0c70d1e6d226",
   "metadata": {},
   "outputs": [
    {
     "name": "stdout",
     "output_type": "stream",
     "text": [
      "sub: deque([7.152557373046875e-07], maxlen=2)\n",
      "sub: deque([7.152557373046875e-07, 1.1920928955078125e-06], maxlen=2)\n",
      "sub: deque([1.1920928955078125e-06, 9.5367431640625e-07], maxlen=2)\n",
      "sub: deque([9.5367431640625e-07, 0.0], maxlen=2)\n"
     ]
    },
    {
     "data": {
      "text/plain": [
       "(2, -2, 0, 1)"
      ]
     },
     "execution_count": 147,
     "metadata": {},
     "output_type": "execute_result"
    }
   ],
   "source": [
    "sub(3, 1), sub(4, 6), sub(1, 1), sub(9, 8)"
   ]
  },
  {
   "cell_type": "code",
   "execution_count": null,
   "id": "1e784ab7-5788-4562-af97-3506fdd61966",
   "metadata": {},
   "outputs": [],
   "source": []
  },
  {
   "cell_type": "code",
   "execution_count": null,
   "id": "199fe535-b685-4bed-818b-12ebff9aba59",
   "metadata": {},
   "outputs": [],
   "source": []
  },
  {
   "cell_type": "code",
   "execution_count": 149,
   "id": "3fc1385e-8c86-4967-b017-820d596e250c",
   "metadata": {},
   "outputs": [
    {
     "data": {
      "text/plain": [
       "3"
      ]
     },
     "execution_count": 149,
     "metadata": {},
     "output_type": "execute_result"
    }
   ],
   "source": [
    "counter = 0\n",
    "\n",
    "def add(a, b):\n",
    "    global counter\n",
    "    counter += 1\n",
    "\n",
    "    return a + b\n",
    "\n",
    "add(1, 2)"
   ]
  },
  {
   "cell_type": "code",
   "execution_count": 151,
   "id": "3edfa86d-0c85-4c38-90f5-22f698cd224e",
   "metadata": {},
   "outputs": [
    {
     "data": {
      "text/plain": [
       "7"
      ]
     },
     "execution_count": 151,
     "metadata": {},
     "output_type": "execute_result"
    }
   ],
   "source": [
    "add(5, 2)"
   ]
  },
  {
   "cell_type": "code",
   "execution_count": 152,
   "id": "b83babbd-be2a-4a52-914d-66c023c0269a",
   "metadata": {},
   "outputs": [
    {
     "data": {
      "text/plain": [
       "3"
      ]
     },
     "execution_count": 152,
     "metadata": {},
     "output_type": "execute_result"
    }
   ],
   "source": [
    "counter"
   ]
  },
  {
   "cell_type": "code",
   "execution_count": 153,
   "id": "bdd88fec-8194-4dd7-b393-8fcdb5dffae4",
   "metadata": {},
   "outputs": [
    {
     "ename": "SyntaxError",
     "evalue": "no binding for nonlocal 'counter' found (3637689568.py, line 4)",
     "output_type": "error",
     "traceback": [
      "  \u001b[36mCell\u001b[39m\u001b[36m \u001b[39m\u001b[32mIn[153]\u001b[39m\u001b[32m, line 4\u001b[39m\n\u001b[31m    \u001b[39m\u001b[31mnonlocal counter\u001b[39m\n    ^\n\u001b[31mSyntaxError\u001b[39m\u001b[31m:\u001b[39m no binding for nonlocal 'counter' found\n"
     ]
    }
   ],
   "source": [
    "counter = 0\n",
    "\n",
    "def add(a, b):\n",
    "    nonlocal counter\n",
    "    counter += 1\n",
    "\n",
    "    return a + b\n",
    "\n",
    "add(1, 2)"
   ]
  },
  {
   "cell_type": "code",
   "execution_count": null,
   "id": "39dd6529-428e-43e6-abbd-6f8a0768436a",
   "metadata": {},
   "outputs": [],
   "source": []
  },
  {
   "cell_type": "code",
   "execution_count": null,
   "id": "f94227fe-d308-413b-a6d1-f1faf35d4bd3",
   "metadata": {},
   "outputs": [],
   "source": []
  },
  {
   "cell_type": "code",
   "execution_count": 154,
   "id": "1a189098-8c86-479f-b58c-6f515d9febc0",
   "metadata": {},
   "outputs": [],
   "source": [
    "class ApiError(Exception):\n",
    "    pass"
   ]
  },
  {
   "cell_type": "code",
   "execution_count": 155,
   "id": "9ad545f7-9513-4e6e-92e4-ddb95a4b2286",
   "metadata": {},
   "outputs": [
    {
     "name": "stdout",
     "output_type": "stream",
     "text": [
      "Exception, err=ApiError()\n"
     ]
    }
   ],
   "source": [
    "try:\n",
    "    raise ApiError()\n",
    "except Exception as err:\n",
    "    print(f\"Exception, {err=}\")\n",
    "except ApiError as err:\n",
    "    print(f\"ApiError, {err=}\")"
   ]
  },
  {
   "cell_type": "code",
   "execution_count": 156,
   "id": "a02ebd63-a11a-43e9-a5b6-75c5e240786b",
   "metadata": {},
   "outputs": [
    {
     "data": {
      "text/plain": [
       "True"
      ]
     },
     "execution_count": 156,
     "metadata": {},
     "output_type": "execute_result"
    }
   ],
   "source": [
    "issubclass(ApiError, Exception)"
   ]
  },
  {
   "cell_type": "code",
   "execution_count": 157,
   "id": "cbad458f-1cc5-4180-a271-2751c13b48bd",
   "metadata": {},
   "outputs": [
    {
     "name": "stdout",
     "output_type": "stream",
     "text": [
      "ApiError, err=ApiError()\n"
     ]
    }
   ],
   "source": [
    "try:\n",
    "    raise ApiError()\n",
    "except ApiError as err:\n",
    "    print(f\"ApiError, {err=}\")\n",
    "except Exception as err:\n",
    "    print(f\"Exception, {err=}\")\n"
   ]
  },
  {
   "cell_type": "code",
   "execution_count": 158,
   "id": "bdd12d0c-4e82-49fe-a955-d0ce29fd01a1",
   "metadata": {},
   "outputs": [
    {
     "name": "stdout",
     "output_type": "stream",
     "text": [
      "Exception, err=ValueError()\n"
     ]
    }
   ],
   "source": [
    "try:\n",
    "    raise ValueError()\n",
    "except ApiError as err:\n",
    "    print(f\"ApiError, {err=}\")\n",
    "except Exception as err:\n",
    "    print(f\"Exception, {err=}\")\n"
   ]
  },
  {
   "cell_type": "code",
   "execution_count": 160,
   "id": "7558b9c2-d04e-4e1b-a11c-bdfc1dd7d3dd",
   "metadata": {},
   "outputs": [
    {
     "name": "stdout",
     "output_type": "stream",
     "text": [
      "ApiError, err=ApiError()\n"
     ]
    },
    {
     "ename": "ApiError",
     "evalue": "",
     "output_type": "error",
     "traceback": [
      "\u001b[31m---------------------------------------------------------------------------\u001b[39m",
      "\u001b[31mApiError\u001b[39m                                  Traceback (most recent call last)",
      "\u001b[36mCell\u001b[39m\u001b[36m \u001b[39m\u001b[32mIn[160]\u001b[39m\u001b[32m, line 2\u001b[39m\n\u001b[32m      1\u001b[39m \u001b[38;5;28;01mtry\u001b[39;00m:\n\u001b[32m----> \u001b[39m\u001b[32m2\u001b[39m     \u001b[38;5;28;01mraise\u001b[39;00m ApiError()\n\u001b[32m      3\u001b[39m \u001b[38;5;28;01mexcept\u001b[39;00m ApiError \u001b[38;5;28;01mas\u001b[39;00m err:\n\u001b[32m      4\u001b[39m     \u001b[38;5;28mprint\u001b[39m(\u001b[33mf\u001b[39m\u001b[33m\"\u001b[39m\u001b[33mApiError, \u001b[39m\u001b[38;5;132;01m{\u001b[39;00merr\u001b[38;5;132;01m=}\u001b[39;00m\u001b[33m\"\u001b[39m)\n",
      "\u001b[31mApiError\u001b[39m: "
     ]
    }
   ],
   "source": [
    "try:\n",
    "    raise ApiError()\n",
    "except ApiError as err:\n",
    "    print(f\"ApiError, {err=}\")\n",
    "    raise\n",
    "except Exception as err:\n",
    "    print(f\"Exception, {err=}\")"
   ]
  },
  {
   "cell_type": "code",
   "execution_count": 163,
   "id": "36366a62-a8d1-4ab0-8e6e-5343f9841fc8",
   "metadata": {},
   "outputs": [
    {
     "name": "stdout",
     "output_type": "stream",
     "text": [
      "ApiError, err=ApiError()\n",
      "finally\n"
     ]
    },
    {
     "ename": "ApiError",
     "evalue": "",
     "output_type": "error",
     "traceback": [
      "\u001b[31m---------------------------------------------------------------------------\u001b[39m",
      "\u001b[31mApiError\u001b[39m                                  Traceback (most recent call last)",
      "    \u001b[31m[... skipping hidden 1 frame]\u001b[39m\n",
      "\u001b[36mCell\u001b[39m\u001b[36m \u001b[39m\u001b[32mIn[163]\u001b[39m\u001b[32m, line 5\u001b[39m\n\u001b[32m      4\u001b[39m     \u001b[38;5;28mprint\u001b[39m(\u001b[33mf\u001b[39m\u001b[33m\"\u001b[39m\u001b[33mApiError, \u001b[39m\u001b[38;5;132;01m{\u001b[39;00merr\u001b[38;5;132;01m=}\u001b[39;00m\u001b[33m\"\u001b[39m)\n\u001b[32m----> \u001b[39m\u001b[32m5\u001b[39m     \u001b[38;5;28;01mraise\u001b[39;00m err \u001b[38;5;28;01mfrom\u001b[39;00m\u001b[38;5;250m \u001b[39m\u001b[34;01merr\u001b[39;00m\n\u001b[32m      6\u001b[39m \u001b[38;5;28;01mexcept\u001b[39;00m \u001b[38;5;167;01mException\u001b[39;00m \u001b[38;5;28;01mas\u001b[39;00m err:\n",
      "\u001b[36mCell\u001b[39m\u001b[36m \u001b[39m\u001b[32mIn[163]\u001b[39m\u001b[32m, line 2\u001b[39m\n\u001b[32m      1\u001b[39m \u001b[38;5;28;01mtry\u001b[39;00m:\n\u001b[32m----> \u001b[39m\u001b[32m2\u001b[39m     \u001b[38;5;28;01mraise\u001b[39;00m ApiError()\n\u001b[32m      3\u001b[39m \u001b[38;5;28;01mexcept\u001b[39;00m ApiError \u001b[38;5;28;01mas\u001b[39;00m err:\n",
      "\u001b[31mApiError\u001b[39m: ",
      "\nThe above exception was the direct cause of the following exception:\n",
      "\u001b[31mApiError\u001b[39m                                  Traceback (most recent call last)",
      "    \u001b[31m[... skipping hidden 1 frame]\u001b[39m\n",
      "\u001b[36mCell\u001b[39m\u001b[36m \u001b[39m\u001b[32mIn[163]\u001b[39m\u001b[32m, line 5\u001b[39m\n\u001b[32m      4\u001b[39m     \u001b[38;5;28mprint\u001b[39m(\u001b[33mf\u001b[39m\u001b[33m\"\u001b[39m\u001b[33mApiError, \u001b[39m\u001b[38;5;132;01m{\u001b[39;00merr\u001b[38;5;132;01m=}\u001b[39;00m\u001b[33m\"\u001b[39m)\n\u001b[32m----> \u001b[39m\u001b[32m5\u001b[39m     \u001b[38;5;28;01mraise\u001b[39;00m err \u001b[38;5;28;01mfrom\u001b[39;00m\u001b[38;5;250m \u001b[39m\u001b[34;01merr\u001b[39;00m\n\u001b[32m      6\u001b[39m \u001b[38;5;28;01mexcept\u001b[39;00m \u001b[38;5;167;01mException\u001b[39;00m \u001b[38;5;28;01mas\u001b[39;00m err:\n",
      "\u001b[36mCell\u001b[39m\u001b[36m \u001b[39m\u001b[32mIn[163]\u001b[39m\u001b[32m, line 2\u001b[39m\n\u001b[32m      1\u001b[39m \u001b[38;5;28;01mtry\u001b[39;00m:\n\u001b[32m----> \u001b[39m\u001b[32m2\u001b[39m     \u001b[38;5;28;01mraise\u001b[39;00m ApiError()\n\u001b[32m      3\u001b[39m \u001b[38;5;28;01mexcept\u001b[39;00m ApiError \u001b[38;5;28;01mas\u001b[39;00m err:\n",
      "\u001b[31mApiError\u001b[39m: ",
      "\nThe above exception was the direct cause of the following exception:\n",
      "\u001b[31mApiError\u001b[39m                                  Traceback (most recent call last)",
      "\u001b[36mCell\u001b[39m\u001b[36m \u001b[39m\u001b[32mIn[163]\u001b[39m\u001b[32m, line 5\u001b[39m\n\u001b[32m      3\u001b[39m \u001b[38;5;28;01mexcept\u001b[39;00m ApiError \u001b[38;5;28;01mas\u001b[39;00m err:\n\u001b[32m      4\u001b[39m     \u001b[38;5;28mprint\u001b[39m(\u001b[33mf\u001b[39m\u001b[33m\"\u001b[39m\u001b[33mApiError, \u001b[39m\u001b[38;5;132;01m{\u001b[39;00merr\u001b[38;5;132;01m=}\u001b[39;00m\u001b[33m\"\u001b[39m)\n\u001b[32m----> \u001b[39m\u001b[32m5\u001b[39m     \u001b[38;5;28;01mraise\u001b[39;00m err \u001b[38;5;28;01mfrom\u001b[39;00m\u001b[38;5;250m \u001b[39m\u001b[34;01merr\u001b[39;00m\n\u001b[32m      6\u001b[39m \u001b[38;5;28;01mexcept\u001b[39;00m \u001b[38;5;167;01mException\u001b[39;00m \u001b[38;5;28;01mas\u001b[39;00m err:\n\u001b[32m      7\u001b[39m     \u001b[38;5;28mprint\u001b[39m(\u001b[33mf\u001b[39m\u001b[33m\"\u001b[39m\u001b[33mException, \u001b[39m\u001b[38;5;132;01m{\u001b[39;00merr\u001b[38;5;132;01m=}\u001b[39;00m\u001b[33m\"\u001b[39m)\n",
      "\u001b[36mCell\u001b[39m\u001b[36m \u001b[39m\u001b[32mIn[163]\u001b[39m\u001b[32m, line 2\u001b[39m\n\u001b[32m      1\u001b[39m \u001b[38;5;28;01mtry\u001b[39;00m:\n\u001b[32m----> \u001b[39m\u001b[32m2\u001b[39m     \u001b[38;5;28;01mraise\u001b[39;00m ApiError()\n\u001b[32m      3\u001b[39m \u001b[38;5;28;01mexcept\u001b[39;00m ApiError \u001b[38;5;28;01mas\u001b[39;00m err:\n\u001b[32m      4\u001b[39m     \u001b[38;5;28mprint\u001b[39m(\u001b[33mf\u001b[39m\u001b[33m\"\u001b[39m\u001b[33mApiError, \u001b[39m\u001b[38;5;132;01m{\u001b[39;00merr\u001b[38;5;132;01m=}\u001b[39;00m\u001b[33m\"\u001b[39m)\n",
      "\u001b[31mApiError\u001b[39m: "
     ]
    }
   ],
   "source": [
    "try:\n",
    "    raise ApiError()\n",
    "except ApiError as err:\n",
    "    print(f\"ApiError, {err=}\")\n",
    "    raise err from err\n",
    "except Exception as err:\n",
    "    print(f\"Exception, {err=}\")\n",
    "finally:\n",
    "    print(\"finally\")"
   ]
  },
  {
   "cell_type": "code",
   "execution_count": 164,
   "id": "8436d3a4-9b02-4ee0-86f2-1b0bcd861dd3",
   "metadata": {},
   "outputs": [
    {
     "name": "stdout",
     "output_type": "stream",
     "text": [
      "ApiError, err=ApiError()\n",
      "finally\n"
     ]
    }
   ],
   "source": [
    "try:\n",
    "    raise ApiError()\n",
    "except ApiError as err:\n",
    "    print(f\"ApiError, {err=}\")\n",
    "except Exception as err:\n",
    "    print(f\"Exception, {err=}\")\n",
    "else:\n",
    "    print(\"else\")\n",
    "finally:\n",
    "    print(\"finally\")"
   ]
  },
  {
   "cell_type": "code",
   "execution_count": 165,
   "id": "627c58fd-ac72-4d69-860f-c7b6c684cac5",
   "metadata": {},
   "outputs": [
    {
     "name": "stdout",
     "output_type": "stream",
     "text": [
      "else\n",
      "finally\n"
     ]
    }
   ],
   "source": [
    "try:\n",
    "    x = 12\n",
    "except ApiError as err:\n",
    "    print(f\"ApiError, {err=}\")\n",
    "except Exception as err:\n",
    "    print(f\"Exception, {err=}\")\n",
    "else:\n",
    "    print(\"else\")\n",
    "finally:\n",
    "    print(\"finally\")"
   ]
  },
  {
   "cell_type": "code",
   "execution_count": 166,
   "id": "b1ea1bfa-3da1-4bae-ab8e-89c4414eb280",
   "metadata": {},
   "outputs": [
    {
     "name": "stdout",
     "output_type": "stream",
     "text": [
      "finally\n"
     ]
    },
    {
     "ename": "ValueError",
     "evalue": "",
     "output_type": "error",
     "traceback": [
      "\u001b[31m---------------------------------------------------------------------------\u001b[39m",
      "\u001b[31mValueError\u001b[39m                                Traceback (most recent call last)",
      "\u001b[36mCell\u001b[39m\u001b[36m \u001b[39m\u001b[32mIn[166]\u001b[39m\u001b[32m, line 2\u001b[39m\n\u001b[32m      1\u001b[39m \u001b[38;5;28;01mtry\u001b[39;00m:\n\u001b[32m----> \u001b[39m\u001b[32m2\u001b[39m     \u001b[38;5;28;01mraise\u001b[39;00m \u001b[38;5;167;01mValueError\u001b[39;00m()\n\u001b[32m      3\u001b[39m \u001b[38;5;28;01mexcept\u001b[39;00m ApiError \u001b[38;5;28;01mas\u001b[39;00m err:\n\u001b[32m      4\u001b[39m     \u001b[38;5;28mprint\u001b[39m(\u001b[33mf\u001b[39m\u001b[33m\"\u001b[39m\u001b[33mApiError, \u001b[39m\u001b[38;5;132;01m{\u001b[39;00merr\u001b[38;5;132;01m=}\u001b[39;00m\u001b[33m\"\u001b[39m)\n",
      "\u001b[31mValueError\u001b[39m: "
     ]
    }
   ],
   "source": [
    "try:\n",
    "    raise ValueError()\n",
    "except ApiError as err:\n",
    "    print(f\"ApiError, {err=}\")\n",
    "else:\n",
    "    print(\"else\")\n",
    "finally:\n",
    "    print(\"finally\")"
   ]
  },
  {
   "cell_type": "code",
   "execution_count": 167,
   "id": "10e34fe3-72a8-4622-8392-4f6258a77f32",
   "metadata": {},
   "outputs": [],
   "source": [
    "dct = {\"name\": \"steve\"}"
   ]
  },
  {
   "cell_type": "code",
   "execution_count": 169,
   "id": "bcec3854-b491-493a-bd9e-d29197a0149f",
   "metadata": {},
   "outputs": [
    {
     "name": "stdout",
     "output_type": "stream",
     "text": [
      "keyerror\n"
     ]
    }
   ],
   "source": [
    "try:\n",
    "    age = dct[\"age\"]\n",
    "except KeyError:\n",
    "    print(\"keyerror\")\n",
    "    age = 0"
   ]
  },
  {
   "cell_type": "code",
   "execution_count": 170,
   "id": "8201155b-0843-4575-862b-56a048ebc384",
   "metadata": {},
   "outputs": [
    {
     "data": {
      "text/plain": [
       "0"
      ]
     },
     "execution_count": 170,
     "metadata": {},
     "output_type": "execute_result"
    }
   ],
   "source": [
    "age"
   ]
  },
  {
   "cell_type": "code",
   "execution_count": 171,
   "id": "eaca5a68-b3f0-43fc-adc1-40f9da4351f4",
   "metadata": {},
   "outputs": [],
   "source": [
    "if (age := dct.get(\"age\")) is None:\n",
    "    age = 0"
   ]
  },
  {
   "cell_type": "code",
   "execution_count": 172,
   "id": "6f0f4de9-47da-4ef6-bc06-47e14a1e8792",
   "metadata": {},
   "outputs": [
    {
     "data": {
      "text/plain": [
       "0"
      ]
     },
     "execution_count": 172,
     "metadata": {},
     "output_type": "execute_result"
    }
   ],
   "source": [
    "age"
   ]
  },
  {
   "cell_type": "code",
   "execution_count": 173,
   "id": "c08da7eb-410a-46d4-9b40-dc4fa101d76c",
   "metadata": {},
   "outputs": [],
   "source": [
    "dct[\"age\"] = 99"
   ]
  },
  {
   "cell_type": "code",
   "execution_count": 174,
   "id": "74ba4eff-da24-4271-a2f9-598ff76299b7",
   "metadata": {},
   "outputs": [],
   "source": [
    "if (age := dct.get(\"age\")) is None:\n",
    "    age = 0"
   ]
  },
  {
   "cell_type": "code",
   "execution_count": 175,
   "id": "7541fc4a-af82-4514-b638-cfd40c685ae5",
   "metadata": {},
   "outputs": [
    {
     "data": {
      "text/plain": [
       "99"
      ]
     },
     "execution_count": 175,
     "metadata": {},
     "output_type": "execute_result"
    }
   ],
   "source": [
    "age"
   ]
  },
  {
   "cell_type": "code",
   "execution_count": 182,
   "id": "229dbaa7-b5de-4663-b0e7-cd700194a081",
   "metadata": {},
   "outputs": [
    {
     "data": {
      "text/plain": [
       "[100, 81, 64, 49, 36, 25, 25, 36, 49, 64, 81]"
      ]
     },
     "execution_count": 182,
     "metadata": {},
     "output_type": "execute_result"
    }
   ],
   "source": [
    "lst = list(range(-10, 10))\n",
    "\n",
    "[elem * elem for elem in lst if elem * elem > 20]"
   ]
  },
  {
   "cell_type": "code",
   "execution_count": 183,
   "id": "bf0511a5-5c90-4e92-8f16-3d39163d859f",
   "metadata": {},
   "outputs": [
    {
     "data": {
      "text/plain": [
       "[100, 81, 64, 49, 36, 25, 25, 36, 49, 64, 81]"
      ]
     },
     "execution_count": 183,
     "metadata": {},
     "output_type": "execute_result"
    }
   ],
   "source": [
    "lst = list(range(-10, 10))\n",
    "\n",
    "[prod for elem in lst if (prod := elem * elem) > 20]"
   ]
  },
  {
   "cell_type": "code",
   "execution_count": null,
   "id": "d14fb98d-3af9-4cea-9231-c28259ba5dc8",
   "metadata": {},
   "outputs": [],
   "source": []
  }
 ],
 "metadata": {
  "kernelspec": {
   "display_name": "Python 3 (ipykernel)",
   "language": "python",
   "name": "python3"
  },
  "language_info": {
   "codemirror_mode": {
    "name": "ipython",
    "version": 3
   },
   "file_extension": ".py",
   "mimetype": "text/x-python",
   "name": "python",
   "nbconvert_exporter": "python",
   "pygments_lexer": "ipython3",
   "version": "3.13.2"
  }
 },
 "nbformat": 4,
 "nbformat_minor": 5
}
