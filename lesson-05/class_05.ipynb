{
 "cells": [
  {
   "cell_type": "code",
   "execution_count": 1,
   "id": "e3ffde24-d492-4018-b2c2-d66b1a982253",
   "metadata": {},
   "outputs": [],
   "source": [
    "class Person:\n",
    "    def eat(self):\n",
    "        return 42\n",
    "\n",
    "\n",
    "def fn():\n",
    "    return 42"
   ]
  },
  {
   "cell_type": "code",
   "execution_count": 2,
   "id": "f36fcf27-9be8-4098-8846-85f62cef81ff",
   "metadata": {},
   "outputs": [
    {
     "data": {
      "text/plain": [
       "list"
      ]
     },
     "execution_count": 2,
     "metadata": {},
     "output_type": "execute_result"
    }
   ],
   "source": [
    "type([1, 2, 3])"
   ]
  },
  {
   "cell_type": "code",
   "execution_count": 3,
   "id": "bd47a399-c2ee-48ee-9369-dde4f4c4f550",
   "metadata": {},
   "outputs": [
    {
     "data": {
      "text/plain": [
       "__main__.Person"
      ]
     },
     "execution_count": 3,
     "metadata": {},
     "output_type": "execute_result"
    }
   ],
   "source": [
    "type(Person())"
   ]
  },
  {
   "cell_type": "code",
   "execution_count": 4,
   "id": "82d45b02-105a-46ed-b340-b70c8391e5dc",
   "metadata": {},
   "outputs": [
    {
     "data": {
      "text/plain": [
       "function"
      ]
     },
     "execution_count": 4,
     "metadata": {},
     "output_type": "execute_result"
    }
   ],
   "source": [
    "type(fn)"
   ]
  },
  {
   "cell_type": "code",
   "execution_count": 5,
   "id": "47e98043-47cc-41ea-bb9e-bc68fc204762",
   "metadata": {},
   "outputs": [
    {
     "data": {
      "text/plain": [
       "method"
      ]
     },
     "execution_count": 5,
     "metadata": {},
     "output_type": "execute_result"
    }
   ],
   "source": [
    "type(Person().eat)"
   ]
  },
  {
   "cell_type": "code",
   "execution_count": 6,
   "id": "c94e8f04-a986-4efd-9184-144109b2dafe",
   "metadata": {},
   "outputs": [
    {
     "data": {
      "text/plain": [
       "str"
      ]
     },
     "execution_count": 6,
     "metadata": {},
     "output_type": "execute_result"
    }
   ],
   "source": [
    "type(\"dwhd\")"
   ]
  },
  {
   "cell_type": "code",
   "execution_count": 7,
   "id": "8ecd2a87-6d6d-4548-b3e3-f93c75ce8b96",
   "metadata": {},
   "outputs": [
    {
     "data": {
      "text/plain": [
       "type"
      ]
     },
     "execution_count": 7,
     "metadata": {},
     "output_type": "execute_result"
    }
   ],
   "source": [
    "type(Person)"
   ]
  },
  {
   "cell_type": "code",
   "execution_count": 8,
   "id": "c2dd6f8a-54ab-4340-b3ef-02621f32f22e",
   "metadata": {},
   "outputs": [],
   "source": [
    "pers = Person()"
   ]
  },
  {
   "cell_type": "code",
   "execution_count": 9,
   "id": "fd0a308c-3cb6-4a21-9426-8ef8cf3f2346",
   "metadata": {},
   "outputs": [
    {
     "data": {
      "text/plain": [
       "True"
      ]
     },
     "execution_count": 9,
     "metadata": {},
     "output_type": "execute_result"
    }
   ],
   "source": [
    "isinstance(Person, type), isinstance(Person, type)"
   ]
  },
  {
   "cell_type": "code",
   "execution_count": 10,
   "id": "be820dc2-3793-4a40-98c9-e744f2684e29",
   "metadata": {},
   "outputs": [
    {
     "data": {
      "text/plain": [
       "type"
      ]
     },
     "execution_count": 10,
     "metadata": {},
     "output_type": "execute_result"
    }
   ],
   "source": [
    "type(type)"
   ]
  },
  {
   "cell_type": "code",
   "execution_count": 11,
   "id": "893b7c40-2c66-4428-bc10-ee0b623b2413",
   "metadata": {},
   "outputs": [
    {
     "data": {
      "text/plain": [
       "True"
      ]
     },
     "execution_count": 11,
     "metadata": {},
     "output_type": "execute_result"
    }
   ],
   "source": [
    "issubclass(type, object)"
   ]
  },
  {
   "cell_type": "code",
   "execution_count": 12,
   "id": "5193aebb-a783-460f-b669-948d3dd0e7fc",
   "metadata": {},
   "outputs": [
    {
     "data": {
      "text/plain": [
       "True"
      ]
     },
     "execution_count": 12,
     "metadata": {},
     "output_type": "execute_result"
    }
   ],
   "source": [
    "isinstance(object, type)"
   ]
  },
  {
   "cell_type": "code",
   "execution_count": 13,
   "id": "4be0557a-78f2-4a66-9f51-aa35fd5b95fe",
   "metadata": {},
   "outputs": [
    {
     "data": {
      "text/plain": [
       "False"
      ]
     },
     "execution_count": 13,
     "metadata": {},
     "output_type": "execute_result"
    }
   ],
   "source": [
    "issubclass(object, type)"
   ]
  },
  {
   "cell_type": "code",
   "execution_count": 15,
   "id": "c422dcdf-915b-44c1-8b6b-8290d322d49f",
   "metadata": {},
   "outputs": [
    {
     "data": {
      "text/plain": [
       "(True, True, True)"
      ]
     },
     "execution_count": 15,
     "metadata": {},
     "output_type": "execute_result"
    }
   ],
   "source": [
    "isinstance(dict, type), isinstance(Person, type), isinstance(object, type)"
   ]
  },
  {
   "cell_type": "code",
   "execution_count": 16,
   "id": "db8f4a12-ff00-4a64-bb55-a7bba52aa944",
   "metadata": {},
   "outputs": [
    {
     "data": {
      "text/plain": [
       "(False, False, False)"
      ]
     },
     "execution_count": 16,
     "metadata": {},
     "output_type": "execute_result"
    }
   ],
   "source": [
    "issubclass(dict, type), issubclass(Person, type), issubclass(object, type)"
   ]
  },
  {
   "cell_type": "code",
   "execution_count": 17,
   "id": "37eaccca-d25b-41b9-9371-4f82bf6847f2",
   "metadata": {},
   "outputs": [
    {
     "data": {
      "text/plain": [
       "(True, True, True)"
      ]
     },
     "execution_count": 17,
     "metadata": {},
     "output_type": "execute_result"
    }
   ],
   "source": [
    "issubclass(dict, object), issubclass(Person, object), issubclass(type, object)"
   ]
  },
  {
   "cell_type": "code",
   "execution_count": 18,
   "id": "c4e0777d-25a0-4e56-aaac-5b2ec25ed7d2",
   "metadata": {},
   "outputs": [
    {
     "data": {
      "text/plain": [
       "(False, False)"
      ]
     },
     "execution_count": 18,
     "metadata": {},
     "output_type": "execute_result"
    }
   ],
   "source": [
    "issubclass(Person, dict), issubclass(dict, Person)"
   ]
  },
  {
   "cell_type": "code",
   "execution_count": 20,
   "id": "3556cfaa-7b7d-4bdd-b066-96bae417f658",
   "metadata": {},
   "outputs": [
    {
     "data": {
      "text/plain": [
       "(True, False, True)"
      ]
     },
     "execution_count": 20,
     "metadata": {},
     "output_type": "execute_result"
    }
   ],
   "source": [
    "isinstance(Person(), Person), isinstance(Person, Person), issubclass(Person, Person)"
   ]
  },
  {
   "cell_type": "code",
   "execution_count": 19,
   "id": "4569de33-adbf-4ba8-a6be-e0198d1a56be",
   "metadata": {},
   "outputs": [
    {
     "data": {
      "text/plain": [
       "[__main__.Person, object]"
      ]
     },
     "execution_count": 19,
     "metadata": {},
     "output_type": "execute_result"
    }
   ],
   "source": [
    "Person.mro()"
   ]
  },
  {
   "cell_type": "code",
   "execution_count": 21,
   "id": "cff2f3cc-036d-4a49-93b0-1591846d59c2",
   "metadata": {},
   "outputs": [
    {
     "data": {
      "text/plain": [
       "(True, True, True)"
      ]
     },
     "execution_count": 21,
     "metadata": {},
     "output_type": "execute_result"
    }
   ],
   "source": [
    "isinstance(object(), object), isinstance(object, object), issubclass(object, object)"
   ]
  },
  {
   "cell_type": "code",
   "execution_count": 24,
   "id": "e44c4a39-78ab-418e-aa9c-d005317b314f",
   "metadata": {},
   "outputs": [
    {
     "data": {
      "text/plain": [
       "True"
      ]
     },
     "execution_count": 24,
     "metadata": {},
     "output_type": "execute_result"
    }
   ],
   "source": [
    "isinstance(Person, object)"
   ]
  },
  {
   "cell_type": "code",
   "execution_count": 25,
   "id": "10c34dcc-c323-4d08-b4d7-43e7ff572f2c",
   "metadata": {},
   "outputs": [],
   "source": [
    "class A:\n",
    "    pass\n",
    "\n",
    "\n",
    "class B(A):\n",
    "    def __call__(self):\n",
    "        return 42\n",
    "\n",
    "b = B()"
   ]
  },
  {
   "cell_type": "code",
   "execution_count": 26,
   "id": "da5a1ee1-1771-4be1-b167-751352e014b9",
   "metadata": {},
   "outputs": [
    {
     "data": {
      "text/plain": [
       "42"
      ]
     },
     "execution_count": 26,
     "metadata": {},
     "output_type": "execute_result"
    }
   ],
   "source": [
    "b()"
   ]
  },
  {
   "cell_type": "code",
   "execution_count": 23,
   "id": "b0be63fd-2500-4240-bd81-41e1c1dbda84",
   "metadata": {},
   "outputs": [
    {
     "data": {
      "text/plain": [
       "(True, True)"
      ]
     },
     "execution_count": 23,
     "metadata": {},
     "output_type": "execute_result"
    }
   ],
   "source": [
    "isinstance(b, B), isinstance(b, A)"
   ]
  },
  {
   "cell_type": "code",
   "execution_count": 27,
   "id": "3a520e3c-03ca-4aa0-9421-b3d7b5bb9896",
   "metadata": {},
   "outputs": [
    {
     "data": {
      "text/plain": [
       "True"
      ]
     },
     "execution_count": 27,
     "metadata": {},
     "output_type": "execute_result"
    }
   ],
   "source": [
    "isinstance(type, type)"
   ]
  },
  {
   "cell_type": "code",
   "execution_count": null,
   "id": "56b42e84-c828-44a3-a6d3-d1c3ee2880f1",
   "metadata": {},
   "outputs": [],
   "source": []
  },
  {
   "cell_type": "code",
   "execution_count": 31,
   "id": "9acce865-e961-41f3-bb9e-6e595baf8bcc",
   "metadata": {},
   "outputs": [],
   "source": [
    "class Foo:\n",
    "    name = \"foo_name\"\n",
    "\n",
    "    def __init__(self, val):\n",
    "        self.val = val\n",
    "\n",
    "Boo = type(\"Boo\", (Foo,), {\"age\": 99})"
   ]
  },
  {
   "cell_type": "code",
   "execution_count": 33,
   "id": "a847df3d-bed0-477c-abf2-1cb908247743",
   "metadata": {},
   "outputs": [],
   "source": [
    "yy = Foo"
   ]
  },
  {
   "cell_type": "code",
   "execution_count": 35,
   "id": "02970918-06f1-4fa4-a154-c1ef8c82f194",
   "metadata": {},
   "outputs": [
    {
     "data": {
      "text/plain": [
       "(__main__.Foo, __main__.Foo, True)"
      ]
     },
     "execution_count": 35,
     "metadata": {},
     "output_type": "execute_result"
    }
   ],
   "source": [
    "yy, Foo, yy is Foo"
   ]
  },
  {
   "cell_type": "code",
   "execution_count": 41,
   "id": "e444dc5b-63ea-48da-8a80-cfc953a63361",
   "metadata": {},
   "outputs": [
    {
     "data": {
      "text/plain": [
       "'Foo'"
      ]
     },
     "execution_count": 41,
     "metadata": {},
     "output_type": "execute_result"
    }
   ],
   "source": [
    "yy.__name__"
   ]
  },
  {
   "cell_type": "code",
   "execution_count": 39,
   "id": "c4ae4974-1e72-45ba-862a-4b23209cd28b",
   "metadata": {},
   "outputs": [
    {
     "data": {
      "text/plain": [
       "mappingproxy({'age': 99, '__module__': '__main__', '__doc__': None})"
      ]
     },
     "execution_count": 39,
     "metadata": {},
     "output_type": "execute_result"
    }
   ],
   "source": [
    "Boo.__dict__"
   ]
  },
  {
   "cell_type": "code",
   "execution_count": 40,
   "id": "144e3475-2da2-47b6-9239-4c2962a73f05",
   "metadata": {},
   "outputs": [
    {
     "data": {
      "text/plain": [
       "'Boo'"
      ]
     },
     "execution_count": 40,
     "metadata": {},
     "output_type": "execute_result"
    }
   ],
   "source": [
    "Boo.__name__"
   ]
  },
  {
   "cell_type": "code",
   "execution_count": 43,
   "id": "eb8ca9df-1a85-4575-8abc-398b6f2d346f",
   "metadata": {},
   "outputs": [],
   "source": [
    "b = Boo(42)"
   ]
  },
  {
   "cell_type": "code",
   "execution_count": 44,
   "id": "da772f9a-0600-473c-8c48-039bad8f1140",
   "metadata": {},
   "outputs": [
    {
     "data": {
      "text/plain": [
       "{'val': 42}"
      ]
     },
     "execution_count": 44,
     "metadata": {},
     "output_type": "execute_result"
    }
   ],
   "source": [
    "b.__dict__"
   ]
  },
  {
   "cell_type": "code",
   "execution_count": 46,
   "id": "94d3721e-9d7c-4acb-bac8-7922e1542c18",
   "metadata": {},
   "outputs": [
    {
     "data": {
      "text/plain": [
       "(99, 'foo_name')"
      ]
     },
     "execution_count": 46,
     "metadata": {},
     "output_type": "execute_result"
    }
   ],
   "source": [
    "b.age, b.name"
   ]
  },
  {
   "cell_type": "code",
   "execution_count": null,
   "id": "aad502ff-fbe6-4dfa-a7e1-f863e8587484",
   "metadata": {},
   "outputs": [],
   "source": []
  },
  {
   "cell_type": "code",
   "execution_count": 37,
   "id": "9dbe4f71-1fad-4594-9a4d-8eb27389eadb",
   "metadata": {},
   "outputs": [
    {
     "data": {
      "text/plain": [
       "__main__.Zoo"
      ]
     },
     "execution_count": 37,
     "metadata": {},
     "output_type": "execute_result"
    }
   ],
   "source": [
    "type(\"Zoo\", (Foo,), {\"age\": 99})"
   ]
  },
  {
   "cell_type": "code",
   "execution_count": 38,
   "id": "073d83e0-691f-4086-b5f0-d20d5dfea0c8",
   "metadata": {},
   "outputs": [
    {
     "ename": "NameError",
     "evalue": "name 'Zoo' is not defined",
     "output_type": "error",
     "traceback": [
      "\u001b[31m---------------------------------------------------------------------------\u001b[39m",
      "\u001b[31mNameError\u001b[39m                                 Traceback (most recent call last)",
      "\u001b[36mCell\u001b[39m\u001b[36m \u001b[39m\u001b[32mIn[38]\u001b[39m\u001b[32m, line 1\u001b[39m\n\u001b[32m----> \u001b[39m\u001b[32m1\u001b[39m \u001b[43mZoo\u001b[49m\n",
      "\u001b[31mNameError\u001b[39m: name 'Zoo' is not defined"
     ]
    }
   ],
   "source": [
    "Zoo"
   ]
  },
  {
   "cell_type": "code",
   "execution_count": null,
   "id": "c0acaec1-c59a-492e-9829-23921875c51f",
   "metadata": {},
   "outputs": [],
   "source": []
  },
  {
   "cell_type": "code",
   "execution_count": null,
   "id": "1a0434e8-df36-4530-9bd8-ea27db5cf021",
   "metadata": {},
   "outputs": [],
   "source": []
  },
  {
   "cell_type": "code",
   "execution_count": 51,
   "id": "8565d78a-4fff-4e9b-8e94-95adfd38a738",
   "metadata": {},
   "outputs": [],
   "source": [
    "class Foo:\n",
    "    name = \"foo_name\"\n",
    "\n",
    "    def __init__(self, val):\n",
    "        self.val = val\n",
    "\n",
    "Boo = type(\"Boo\", (Foo,), {\"age\": 99, \"print\": lambda self: print(\"Boo\", self.val)})\n",
    "\n",
    "#class Boo(Foo)"
   ]
  },
  {
   "cell_type": "code",
   "execution_count": 48,
   "id": "1ec01c91-abdd-432d-8663-f3e3d1998acd",
   "metadata": {},
   "outputs": [],
   "source": [
    "b = Boo(42)"
   ]
  },
  {
   "cell_type": "code",
   "execution_count": 49,
   "id": "f1666457-f2f5-42ab-a75e-8b15e5bb393b",
   "metadata": {},
   "outputs": [
    {
     "name": "stdout",
     "output_type": "stream",
     "text": [
      "Boo 42\n"
     ]
    }
   ],
   "source": [
    "b.print()"
   ]
  },
  {
   "cell_type": "code",
   "execution_count": 50,
   "id": "0b5e09d7-6e45-464b-a893-a4284c3a5e66",
   "metadata": {},
   "outputs": [
    {
     "data": {
      "text/plain": [
       "<bound method <lambda> of <__main__.Boo object at 0x10d83a270>>"
      ]
     },
     "execution_count": 50,
     "metadata": {},
     "output_type": "execute_result"
    }
   ],
   "source": [
    "b.print"
   ]
  },
  {
   "cell_type": "code",
   "execution_count": 52,
   "id": "29f5dd67-92b1-49da-bb1f-4e32ef4e6585",
   "metadata": {},
   "outputs": [
    {
     "data": {
      "text/plain": [
       "[__main__.Boo, __main__.Foo, object]"
      ]
     },
     "execution_count": 52,
     "metadata": {},
     "output_type": "execute_result"
    }
   ],
   "source": [
    "Boo.mro()"
   ]
  },
  {
   "cell_type": "code",
   "execution_count": null,
   "id": "23b2b01d-2047-4e6b-98a6-6984e2147d7c",
   "metadata": {},
   "outputs": [],
   "source": []
  },
  {
   "cell_type": "code",
   "execution_count": null,
   "id": "31976184-744d-4db4-bd04-6a57428726b4",
   "metadata": {},
   "outputs": [],
   "source": []
  },
  {
   "cell_type": "code",
   "execution_count": 70,
   "id": "aa69a953-b00d-4bea-9c27-3a186932a350",
   "metadata": {},
   "outputs": [],
   "source": [
    "class AMeta(type):\n",
    "    def __new__(mcs, name, bases, classdict, **kwargs):\n",
    "        classdict[\"_Person__private\"] = \"private_value\"\n",
    "        classdict[\"__str__\"] = lambda self: f\"Person str {self.age=}\"\n",
    "\n",
    "        print(f\"AMeta.__new__ {name=}, {bases=}, {classdict=}, {kwargs=}\")\n",
    "        \n",
    "        cls = super().__new__(mcs, name, bases, classdict)\n",
    "        print('Meta __new__', cls)\n",
    "\n",
    "        return cls\n",
    "\n",
    "    def __init__(cls, name, bases, classdict, **kwargs):\n",
    "        print('Meta __init__', cls, name, bases, classdict)\n",
    "        super().__init__(name, bases, classdict, **kwargs)\n",
    "\n",
    "    def __call__(cls, *args, **kwargs):\n",
    "        print('Meta __call__', cls, args, kwargs)\n",
    "        return super().__call__(*args, **kwargs)\n",
    "\n",
    "    @classmethod\n",
    "    def __prepare__(mcs, name, bases, **kwargs):\n",
    "        print('Meta __prepare__', mcs, name, bases, kwargs)\n",
    "        \n",
    "        return {'added_attr_a': 2, 'added_attr_b': 99}"
   ]
  },
  {
   "cell_type": "code",
   "execution_count": 71,
   "id": "3fe22af2-eefd-4e9f-a158-0e31295336ba",
   "metadata": {},
   "outputs": [
    {
     "name": "stdout",
     "output_type": "stream",
     "text": [
      "Meta __prepare__ <class '__main__.AMeta'> Person () {}\n",
      "AMeta.__new__ name='Person', bases=(), classdict={'added_attr_a': 2, 'added_attr_b': 99, '__module__': '__main__', '__qualname__': 'Person', '__firstlineno__': 1, 'name': 'steve', '_Person__priv_2': 'other private', '__new__': <function Person.__new__ at 0x10d951f80>, '__init__': <function Person.__init__ at 0x10e963f60>, '__static_attributes__': ('age',), '__classcell__': <cell at 0x10e6134c0: empty>, '_Person__private': 'private_value', '__str__': <function AMeta.__new__.<locals>.<lambda> at 0x10e978c20>}, kwargs={}\n",
      "Meta __new__ <class '__main__.Person'>\n",
      "Meta __init__ <class '__main__.Person'> Person () {'added_attr_a': 2, 'added_attr_b': 99, '__module__': '__main__', '__qualname__': 'Person', '__firstlineno__': 1, 'name': 'steve', '_Person__priv_2': 'other private', '__new__': <function Person.__new__ at 0x10d951f80>, '__init__': <function Person.__init__ at 0x10e963f60>, '__static_attributes__': ('age',), '__classcell__': <cell at 0x10e6134c0: AMeta object at 0x7fb1ad4d6f50>, '_Person__private': 'private_value', '__str__': <function AMeta.__new__.<locals>.<lambda> at 0x10e978c20>}\n"
     ]
    }
   ],
   "source": [
    "class Person(metaclass=AMeta):\n",
    "    name = \"steve\"\n",
    "    __priv_2 = \"other private\"\n",
    "\n",
    "    def __new__(cls, *args, **kwargs):\n",
    "        inst = super().__new__(cls)\n",
    "        print(f\"Person.__new__ {inst=}, {args=}, {kwargs=}\")\n",
    "\n",
    "        return inst\n",
    "\n",
    "    def __init__(self, age):\n",
    "        self.age = age\n",
    "        print(f\"Person.__init__ {age=}, {self=}\")"
   ]
  },
  {
   "cell_type": "code",
   "execution_count": 72,
   "id": "f9ffa5c7-f313-462c-bf08-37e5a4c317bf",
   "metadata": {},
   "outputs": [
    {
     "data": {
      "text/plain": [
       "mappingproxy({'added_attr_a': 2,\n",
       "              'added_attr_b': 99,\n",
       "              '__module__': '__main__',\n",
       "              '__firstlineno__': 1,\n",
       "              'name': 'steve',\n",
       "              '_Person__priv_2': 'other private',\n",
       "              '__new__': <staticmethod(<function Person.__new__ at 0x10d951f80>)>,\n",
       "              '__init__': <function __main__.Person.__init__(self, age)>,\n",
       "              '__static_attributes__': ('age',),\n",
       "              '_Person__private': 'private_value',\n",
       "              '__str__': <function __main__.AMeta.__new__.<locals>.<lambda>(self)>,\n",
       "              '__dict__': <attribute '__dict__' of 'Person' objects>,\n",
       "              '__weakref__': <attribute '__weakref__' of 'Person' objects>,\n",
       "              '__doc__': None})"
      ]
     },
     "execution_count": 72,
     "metadata": {},
     "output_type": "execute_result"
    }
   ],
   "source": [
    "Person.__dict__"
   ]
  },
  {
   "cell_type": "code",
   "execution_count": null,
   "id": "053036fc-e4cf-4267-bb68-f04c763165b0",
   "metadata": {},
   "outputs": [],
   "source": []
  },
  {
   "cell_type": "code",
   "execution_count": 66,
   "id": "eda5076e-c97e-4434-b5ac-0209b44ab0dd",
   "metadata": {},
   "outputs": [
    {
     "name": "stdout",
     "output_type": "stream",
     "text": [
      "Meta __call__ <class '__main__.Person'> (42,) {}\n",
      "Person.__new__ inst=<__main__.Person object at 0x10d83b620>, args=(42,), kwargs={}\n",
      "Person.__init__ age=42, self=<__main__.Person object at 0x10d83b620>\n"
     ]
    }
   ],
   "source": [
    "steve = Person(42)"
   ]
  },
  {
   "cell_type": "code",
   "execution_count": 67,
   "id": "6b0968fa-df5d-4b25-b507-e18e11a46201",
   "metadata": {},
   "outputs": [
    {
     "data": {
      "text/plain": [
       "{'age': 42}"
      ]
     },
     "execution_count": 67,
     "metadata": {},
     "output_type": "execute_result"
    }
   ],
   "source": [
    "steve.__dict__"
   ]
  },
  {
   "cell_type": "code",
   "execution_count": null,
   "id": "bdcc341e-8ca5-4b42-9638-acc183e68aa2",
   "metadata": {},
   "outputs": [],
   "source": []
  },
  {
   "cell_type": "code",
   "execution_count": 73,
   "id": "de297bca-d5eb-4e6d-a074-59e41e661439",
   "metadata": {},
   "outputs": [
    {
     "name": "stdout",
     "output_type": "stream",
     "text": [
      "AMeta.__new__ name='Studet', bases=(<class '__main__.Person'>,), classdict={'state': 'ru', '_Person__private': 'private_value', '__str__': <function AMeta.__new__.<locals>.<lambda> at 0x10d9531a0>}, kwargs={}\n",
      "Meta __new__ <class '__main__.Studet'>\n",
      "Meta __init__ <class '__main__.Studet'> Studet (<class '__main__.Person'>,) {'state': 'ru', '_Person__private': 'private_value', '__str__': <function AMeta.__new__.<locals>.<lambda> at 0x10d9531a0>}\n"
     ]
    }
   ],
   "source": [
    "Student = AMeta(\"Studet\", (Person,), {\"state\": \"ru\"})"
   ]
  },
  {
   "cell_type": "code",
   "execution_count": 75,
   "id": "76d3db46-9612-40de-863e-659fd9d63681",
   "metadata": {},
   "outputs": [
    {
     "data": {
      "text/plain": [
       "(__main__.Studet, [__main__.Studet, __main__.Person, object])"
      ]
     },
     "execution_count": 75,
     "metadata": {},
     "output_type": "execute_result"
    }
   ],
   "source": [
    "Student, Student.mro()"
   ]
  },
  {
   "cell_type": "code",
   "execution_count": 76,
   "id": "f896ff6e-d126-4dcf-be75-db47f5f963ab",
   "metadata": {},
   "outputs": [
    {
     "data": {
      "text/plain": [
       "mappingproxy({'state': 'ru',\n",
       "              '_Person__private': 'private_value',\n",
       "              '__str__': <function __main__.AMeta.__new__.<locals>.<lambda>(self)>,\n",
       "              '__module__': '__main__',\n",
       "              '__doc__': None})"
      ]
     },
     "execution_count": 76,
     "metadata": {},
     "output_type": "execute_result"
    }
   ],
   "source": [
    "Student.__dict__"
   ]
  },
  {
   "cell_type": "code",
   "execution_count": null,
   "id": "3118fb7f-e8cc-4f62-84f7-7474e8ea3145",
   "metadata": {},
   "outputs": [],
   "source": []
  },
  {
   "cell_type": "code",
   "execution_count": 77,
   "id": "701412db-b302-472d-bc44-2ecaf9072f49",
   "metadata": {},
   "outputs": [],
   "source": [
    "class Singleton:\n",
    "    _instance = None\n",
    "    \n",
    "    def __new__(cls, *args, **kwargs):\n",
    "        if cls._instance is None:\n",
    "            cls._instance = super().__new__(cls)\n",
    "        return cls._instance\n",
    "\n",
    "\n",
    "class Animal(Singleton):\n",
    "    def __init__(self, name):\n",
    "        print(\"Animal\", name)\n",
    "        self.name = name"
   ]
  },
  {
   "cell_type": "code",
   "execution_count": 78,
   "id": "b7ca01ef-a730-455c-9780-a35885004d8e",
   "metadata": {},
   "outputs": [
    {
     "name": "stdout",
     "output_type": "stream",
     "text": [
      "Animal tiger\n"
     ]
    }
   ],
   "source": [
    "tiger = Animal(\"tiger\")"
   ]
  },
  {
   "cell_type": "code",
   "execution_count": 79,
   "id": "5be223a0-90c8-477f-9513-310742fddd96",
   "metadata": {},
   "outputs": [
    {
     "data": {
      "text/plain": [
       "<__main__.Animal at 0x10d83b230>"
      ]
     },
     "execution_count": 79,
     "metadata": {},
     "output_type": "execute_result"
    }
   ],
   "source": [
    "tiger"
   ]
  },
  {
   "cell_type": "code",
   "execution_count": 80,
   "id": "e899da1c-315e-472d-8664-bf7cde2e9fec",
   "metadata": {},
   "outputs": [
    {
     "name": "stdout",
     "output_type": "stream",
     "text": [
      "Animal zebra\n"
     ]
    }
   ],
   "source": [
    "zebra = Animal(\"zebra\")"
   ]
  },
  {
   "cell_type": "code",
   "execution_count": 81,
   "id": "dc1bfdb1-8a34-48d9-8220-25f62a2e0d44",
   "metadata": {},
   "outputs": [
    {
     "data": {
      "text/plain": [
       "True"
      ]
     },
     "execution_count": 81,
     "metadata": {},
     "output_type": "execute_result"
    }
   ],
   "source": [
    "tiger is zebra"
   ]
  },
  {
   "cell_type": "code",
   "execution_count": 82,
   "id": "529f8219-64ab-4aec-8069-bafa51743515",
   "metadata": {},
   "outputs": [
    {
     "data": {
      "text/plain": [
       "('zebra', 'zebra')"
      ]
     },
     "execution_count": 82,
     "metadata": {},
     "output_type": "execute_result"
    }
   ],
   "source": [
    "tiger.name, zebra.name"
   ]
  },
  {
   "cell_type": "code",
   "execution_count": null,
   "id": "00b5e5f0-94bf-479c-8ac9-8348b04d3108",
   "metadata": {},
   "outputs": [],
   "source": []
  },
  {
   "cell_type": "code",
   "execution_count": 94,
   "id": "6465a3bd-c8c5-41e7-a403-7daeb33f19ae",
   "metadata": {},
   "outputs": [],
   "source": [
    "class SingletonMeta(type):\n",
    "    _instances = {}\n",
    "\n",
    "    def __call__(cls, *args, **kwargs):\n",
    "        print(f\"SingletonMeta {cls=}, {args=}, {kwargs=}\")\n",
    "\n",
    "        if cls not in cls._instances:\n",
    "            cls._instances[cls] = super().__call__(*args, **kwargs)\n",
    "\n",
    "        return cls._instances[cls]\n",
    "\n",
    "\n",
    "class DbConnector(metaclass=SingletonMeta):\n",
    "\n",
    "    def __init__(self, creds):\n",
    "        print(\"DbConnector\", creds)\n",
    "        self.creds = creds"
   ]
  },
  {
   "cell_type": "code",
   "execution_count": 96,
   "id": "fe540647-0faf-4d41-ab84-5934d58388f8",
   "metadata": {},
   "outputs": [
    {
     "name": "stdout",
     "output_type": "stream",
     "text": [
      "SingletonMeta cls=<class '__main__.DbConnector'>, args=('creds',), kwargs={}\n",
      "DbConnector creds\n"
     ]
    }
   ],
   "source": [
    "conn1 = DbConnector(\"creds\")"
   ]
  },
  {
   "cell_type": "code",
   "execution_count": 97,
   "id": "bdb663b6-891e-4b53-8198-546041ee02b1",
   "metadata": {},
   "outputs": [
    {
     "data": {
      "text/plain": [
       "{'creds': 'creds'}"
      ]
     },
     "execution_count": 97,
     "metadata": {},
     "output_type": "execute_result"
    }
   ],
   "source": [
    "conn1.__dict__"
   ]
  },
  {
   "cell_type": "code",
   "execution_count": 98,
   "id": "b34f7e96-b27e-4ab3-8796-2a9cfa7ac82f",
   "metadata": {},
   "outputs": [
    {
     "data": {
      "text/plain": [
       "mappingproxy({'__module__': '__main__',\n",
       "              '__firstlineno__': 13,\n",
       "              '__init__': <function __main__.DbConnector.__init__(self, creds)>,\n",
       "              '__static_attributes__': ('creds',),\n",
       "              '__dict__': <attribute '__dict__' of 'DbConnector' objects>,\n",
       "              '__weakref__': <attribute '__weakref__' of 'DbConnector' objects>,\n",
       "              '__doc__': None})"
      ]
     },
     "execution_count": 98,
     "metadata": {},
     "output_type": "execute_result"
    }
   ],
   "source": [
    "DbConnector.__dict__"
   ]
  },
  {
   "cell_type": "code",
   "execution_count": 99,
   "id": "449da4e3-feb8-49b3-b311-35d7723aa8b6",
   "metadata": {},
   "outputs": [
    {
     "name": "stdout",
     "output_type": "stream",
     "text": [
      "SingletonMeta cls=<class '__main__.DbConnector'>, args=('mysql',), kwargs={}\n"
     ]
    }
   ],
   "source": [
    "conn2 = DbConnector(\"mysql\")"
   ]
  },
  {
   "cell_type": "code",
   "execution_count": 100,
   "id": "a2aad986-723a-4a62-826e-34e0d2a755ad",
   "metadata": {},
   "outputs": [
    {
     "data": {
      "text/plain": [
       "True"
      ]
     },
     "execution_count": 100,
     "metadata": {},
     "output_type": "execute_result"
    }
   ],
   "source": [
    "conn1 is conn2"
   ]
  },
  {
   "cell_type": "code",
   "execution_count": 101,
   "id": "eb2d1373-66e5-4f1c-b9b6-364d94a0148c",
   "metadata": {},
   "outputs": [
    {
     "data": {
      "text/plain": [
       "('creds', 'creds')"
      ]
     },
     "execution_count": 101,
     "metadata": {},
     "output_type": "execute_result"
    }
   ],
   "source": [
    "conn1.creds, conn2.creds"
   ]
  },
  {
   "cell_type": "code",
   "execution_count": 102,
   "id": "fca4b488-16da-4e08-8054-9c63b79837f3",
   "metadata": {},
   "outputs": [
    {
     "data": {
      "text/plain": [
       "mappingproxy({'__module__': '__main__',\n",
       "              '__firstlineno__': 1,\n",
       "              '_instances': {__main__.DbConnector: <__main__.DbConnector at 0x10d83ba10>},\n",
       "              '__call__': <function __main__.SingletonMeta.__call__(cls, *args, **kwargs)>,\n",
       "              '__static_attributes__': (),\n",
       "              '__doc__': None})"
      ]
     },
     "execution_count": 102,
     "metadata": {},
     "output_type": "execute_result"
    }
   ],
   "source": [
    "SingletonMeta.__dict__"
   ]
  },
  {
   "cell_type": "code",
   "execution_count": 103,
   "id": "da1f5251-9068-44af-87e0-737be5694427",
   "metadata": {},
   "outputs": [
    {
     "data": {
      "text/plain": [
       "{__main__.DbConnector: <__main__.DbConnector at 0x10d83ba10>}"
      ]
     },
     "execution_count": 103,
     "metadata": {},
     "output_type": "execute_result"
    }
   ],
   "source": [
    "DbConnector._instances"
   ]
  },
  {
   "cell_type": "code",
   "execution_count": 104,
   "id": "f1f669b9-626e-45de-ac08-ea9f8dda5596",
   "metadata": {},
   "outputs": [
    {
     "data": {
      "text/plain": [
       "{__main__.DbConnector: <__main__.DbConnector at 0x10d83ba10>}"
      ]
     },
     "execution_count": 104,
     "metadata": {},
     "output_type": "execute_result"
    }
   ],
   "source": [
    "SingletonMeta._instances"
   ]
  },
  {
   "cell_type": "code",
   "execution_count": null,
   "id": "6364a0d3-450b-46d2-a652-d9bec83574e0",
   "metadata": {},
   "outputs": [],
   "source": []
  },
  {
   "cell_type": "code",
   "execution_count": 107,
   "id": "0e3931e3-8034-453f-a6f6-fbe865ae5da2",
   "metadata": {},
   "outputs": [
    {
     "name": "stdout",
     "output_type": "stream",
     "text": [
      "SingletonMeta cls=<class '__main__.NetConnector'>, args=('tcp',), kwargs={}\n",
      "NetConnector tcp\n",
      "SingletonMeta cls=<class '__main__.NetConnector'>, args=('upd',), kwargs={}\n"
     ]
    }
   ],
   "source": [
    "class NetConnector(metaclass=SingletonMeta):\n",
    "\n",
    "    def __init__(self, creds):\n",
    "        print(\"NetConnector\", creds)\n",
    "        self.creds = creds\n",
    "\n",
    "tcp = NetConnector(\"tcp\")\n",
    "udp = NetConnector(\"upd\")"
   ]
  },
  {
   "cell_type": "code",
   "execution_count": 108,
   "id": "b4806eae-0f45-425d-9461-46afd277db7d",
   "metadata": {},
   "outputs": [
    {
     "data": {
      "text/plain": [
       "True"
      ]
     },
     "execution_count": 108,
     "metadata": {},
     "output_type": "execute_result"
    }
   ],
   "source": [
    "tcp is udp"
   ]
  },
  {
   "cell_type": "code",
   "execution_count": 110,
   "id": "17f6b2d2-f113-41f3-a1e5-ce386b674579",
   "metadata": {},
   "outputs": [
    {
     "data": {
      "text/plain": [
       "('tcp', 'creds')"
      ]
     },
     "execution_count": 110,
     "metadata": {},
     "output_type": "execute_result"
    }
   ],
   "source": [
    "tcp.creds, conn1.creds"
   ]
  },
  {
   "cell_type": "code",
   "execution_count": 111,
   "id": "a0774cb2-4081-446b-a03c-1ade361d4259",
   "metadata": {},
   "outputs": [
    {
     "data": {
      "text/plain": [
       "{__main__.DbConnector: <__main__.DbConnector at 0x10d83ba10>,\n",
       " __main__.NetConnector: <__main__.NetConnector at 0x10d83bcb0>,\n",
       " __main__.NetConnector: <__main__.NetConnector at 0x10d839a90>}"
      ]
     },
     "execution_count": 111,
     "metadata": {},
     "output_type": "execute_result"
    }
   ],
   "source": [
    "NetConnector._instances"
   ]
  },
  {
   "cell_type": "code",
   "execution_count": 113,
   "id": "cf7262f3-9d77-4a14-8845-3546b308cbaf",
   "metadata": {},
   "outputs": [
    {
     "ename": "AttributeError",
     "evalue": "'NetConnector' object has no attribute '_instances'",
     "output_type": "error",
     "traceback": [
      "\u001b[31m---------------------------------------------------------------------------\u001b[39m",
      "\u001b[31mAttributeError\u001b[39m                            Traceback (most recent call last)",
      "\u001b[36mCell\u001b[39m\u001b[36m \u001b[39m\u001b[32mIn[113]\u001b[39m\u001b[32m, line 1\u001b[39m\n\u001b[32m----> \u001b[39m\u001b[32m1\u001b[39m \u001b[43mtcp\u001b[49m\u001b[43m.\u001b[49m\u001b[43m_instances\u001b[49m\n",
      "\u001b[31mAttributeError\u001b[39m: 'NetConnector' object has no attribute '_instances'"
     ]
    }
   ],
   "source": [
    "tcp._instances"
   ]
  },
  {
   "cell_type": "code",
   "execution_count": null,
   "id": "d9bc1f88-93e4-4ea6-a1d9-955c971ece40",
   "metadata": {},
   "outputs": [],
   "source": []
  },
  {
   "cell_type": "code",
   "execution_count": null,
   "id": "87d6a232-9e90-4e8f-a4c1-544b7c6797b8",
   "metadata": {},
   "outputs": [],
   "source": []
  },
  {
   "cell_type": "code",
   "execution_count": null,
   "id": "73001401-6872-4145-95a7-5066bcb07a41",
   "metadata": {},
   "outputs": [],
   "source": []
  },
  {
   "cell_type": "code",
   "execution_count": null,
   "id": "968c409a-9167-4a04-ae71-6aa5c55c935e",
   "metadata": {},
   "outputs": [],
   "source": []
  },
  {
   "cell_type": "code",
   "execution_count": null,
   "id": "e01e1690-7ce5-4361-8152-4fc0b94eb3b9",
   "metadata": {},
   "outputs": [],
   "source": []
  },
  {
   "cell_type": "code",
   "execution_count": null,
   "id": "8db3a681-1ca4-46c6-947a-1756fcf8789b",
   "metadata": {},
   "outputs": [],
   "source": []
  },
  {
   "cell_type": "code",
   "execution_count": 114,
   "id": "6c718283-9faf-4482-8989-3de045d8e5e5",
   "metadata": {},
   "outputs": [],
   "source": [
    "from abc import ABC, ABCMeta, abstractmethod"
   ]
  },
  {
   "cell_type": "code",
   "execution_count": 118,
   "id": "1bc594a3-62f8-4dfd-8da7-95817a9b9c3a",
   "metadata": {},
   "outputs": [],
   "source": [
    "class Person(ABC):\n",
    "    @abstractmethod\n",
    "    def eat(self, food):\n",
    "        print(\"Person.eat\", food)\n",
    "        return \"tasty\"\n",
    "\n",
    "    @abstractmethod\n",
    "    def sleep(self):\n",
    "        return NotImplemented\n",
    "\n",
    "    def study(self, food):\n",
    "        print(\"Person.study\")\n",
    "        self.eat(food)\n",
    "        self.sleep()"
   ]
  },
  {
   "cell_type": "code",
   "execution_count": 119,
   "id": "c96b038d-619a-4808-afb2-54f219861fcf",
   "metadata": {},
   "outputs": [
    {
     "ename": "TypeError",
     "evalue": "Can't instantiate abstract class Person without an implementation for abstract methods 'eat', 'sleep'",
     "output_type": "error",
     "traceback": [
      "\u001b[31m---------------------------------------------------------------------------\u001b[39m",
      "\u001b[31mTypeError\u001b[39m                                 Traceback (most recent call last)",
      "\u001b[36mCell\u001b[39m\u001b[36m \u001b[39m\u001b[32mIn[119]\u001b[39m\u001b[32m, line 1\u001b[39m\n\u001b[32m----> \u001b[39m\u001b[32m1\u001b[39m steve = \u001b[43mPerson\u001b[49m\u001b[43m(\u001b[49m\u001b[43m)\u001b[49m\n",
      "\u001b[31mTypeError\u001b[39m: Can't instantiate abstract class Person without an implementation for abstract methods 'eat', 'sleep'"
     ]
    }
   ],
   "source": [
    "steve = Person()"
   ]
  },
  {
   "cell_type": "code",
   "execution_count": 120,
   "id": "b7532825-85c5-4c1e-88d9-7b5580b73085",
   "metadata": {},
   "outputs": [],
   "source": [
    "class Student(Person):\n",
    "    def sleep(self):\n",
    "        return \"no sleep\"\n",
    "\n",
    "\n",
    "class HungryStudent(Student):\n",
    "    def eat(self, food):\n",
    "        print(\"HungryStudent\", food)\n",
    "        return super().eat(food)"
   ]
  },
  {
   "cell_type": "code",
   "execution_count": 121,
   "id": "756da090-e56b-4ed2-a35f-c18f1e972c85",
   "metadata": {},
   "outputs": [
    {
     "ename": "TypeError",
     "evalue": "Can't instantiate abstract class Student without an implementation for abstract method 'eat'",
     "output_type": "error",
     "traceback": [
      "\u001b[31m---------------------------------------------------------------------------\u001b[39m",
      "\u001b[31mTypeError\u001b[39m                                 Traceback (most recent call last)",
      "\u001b[36mCell\u001b[39m\u001b[36m \u001b[39m\u001b[32mIn[121]\u001b[39m\u001b[32m, line 1\u001b[39m\n\u001b[32m----> \u001b[39m\u001b[32m1\u001b[39m stud = \u001b[43mStudent\u001b[49m\u001b[43m(\u001b[49m\u001b[43m)\u001b[49m\n",
      "\u001b[31mTypeError\u001b[39m: Can't instantiate abstract class Student without an implementation for abstract method 'eat'"
     ]
    }
   ],
   "source": [
    "stud = Student()"
   ]
  },
  {
   "cell_type": "code",
   "execution_count": 122,
   "id": "32761e9d-7fbe-40f0-9893-2a0b01946320",
   "metadata": {},
   "outputs": [],
   "source": [
    "steve = HungryStudent()"
   ]
  },
  {
   "cell_type": "code",
   "execution_count": 123,
   "id": "1683f165-a381-4265-aae1-507723d31dc7",
   "metadata": {},
   "outputs": [
    {
     "data": {
      "text/plain": [
       "{}"
      ]
     },
     "execution_count": 123,
     "metadata": {},
     "output_type": "execute_result"
    }
   ],
   "source": [
    "steve.__dict__"
   ]
  },
  {
   "cell_type": "code",
   "execution_count": 124,
   "id": "97124bde-a5f1-4461-b3c9-eb426064fad9",
   "metadata": {},
   "outputs": [
    {
     "data": {
      "text/plain": [
       "mappingproxy({'__module__': '__main__',\n",
       "              '__firstlineno__': 6,\n",
       "              'eat': <function __main__.HungryStudent.eat(self, food)>,\n",
       "              '__static_attributes__': (),\n",
       "              '__doc__': None,\n",
       "              '__abstractmethods__': frozenset(),\n",
       "              '_abc_impl': <_abc._abc_data at 0x10e9cbf00>})"
      ]
     },
     "execution_count": 124,
     "metadata": {},
     "output_type": "execute_result"
    }
   ],
   "source": [
    "HungryStudent.__dict__"
   ]
  },
  {
   "cell_type": "code",
   "execution_count": 125,
   "id": "1279bf97-7694-4f1f-8303-1192dab61e5a",
   "metadata": {},
   "outputs": [
    {
     "data": {
      "text/plain": [
       "'no sleep'"
      ]
     },
     "execution_count": 125,
     "metadata": {},
     "output_type": "execute_result"
    }
   ],
   "source": [
    "steve.sleep()"
   ]
  },
  {
   "cell_type": "code",
   "execution_count": 126,
   "id": "79625142-baec-4d45-8512-c72c505ba769",
   "metadata": {},
   "outputs": [
    {
     "name": "stdout",
     "output_type": "stream",
     "text": [
      "HungryStudent apple\n",
      "Person.eat apple\n"
     ]
    },
    {
     "data": {
      "text/plain": [
       "'tasty'"
      ]
     },
     "execution_count": 126,
     "metadata": {},
     "output_type": "execute_result"
    }
   ],
   "source": [
    "steve.eat(\"apple\")"
   ]
  },
  {
   "cell_type": "code",
   "execution_count": 127,
   "id": "db079550-1363-489c-af94-24163addf9dd",
   "metadata": {},
   "outputs": [
    {
     "name": "stdout",
     "output_type": "stream",
     "text": [
      "Person.study\n",
      "HungryStudent pear\n",
      "Person.eat pear\n"
     ]
    }
   ],
   "source": [
    "steve.study(\"pear\")"
   ]
  },
  {
   "cell_type": "code",
   "execution_count": null,
   "id": "a7fd2036-3fc4-4272-8668-ba68b1cbea7f",
   "metadata": {},
   "outputs": [],
   "source": []
  },
  {
   "cell_type": "code",
   "execution_count": null,
   "id": "a815a67b-f089-469d-8b76-5fa5b15cc5fb",
   "metadata": {},
   "outputs": [],
   "source": []
  },
  {
   "cell_type": "code",
   "execution_count": 128,
   "id": "6ab0bc19-18f1-42fe-ae6a-fdfe527aa32c",
   "metadata": {},
   "outputs": [
    {
     "data": {
      "text/plain": [
       "(True, False)"
      ]
     },
     "execution_count": 128,
     "metadata": {},
     "output_type": "execute_result"
    }
   ],
   "source": [
    "isinstance(steve, Person), isinstance({1: 22}, Person)"
   ]
  },
  {
   "cell_type": "code",
   "execution_count": 129,
   "id": "253abb61-9990-4333-9e78-cee80aa21050",
   "metadata": {},
   "outputs": [
    {
     "data": {
      "text/plain": [
       "dict"
      ]
     },
     "execution_count": 129,
     "metadata": {},
     "output_type": "execute_result"
    }
   ],
   "source": [
    "Person.register(dict)"
   ]
  },
  {
   "cell_type": "code",
   "execution_count": 130,
   "id": "bf8e38a8-30eb-4048-976a-1bb483d7349a",
   "metadata": {},
   "outputs": [
    {
     "data": {
      "text/plain": [
       "(True, True)"
      ]
     },
     "execution_count": 130,
     "metadata": {},
     "output_type": "execute_result"
    }
   ],
   "source": [
    "isinstance(steve, Person), isinstance({1: 22}, Person)"
   ]
  },
  {
   "cell_type": "code",
   "execution_count": 131,
   "id": "2caca77f-ba8f-4ae2-91b3-03072ed7c2d2",
   "metadata": {},
   "outputs": [
    {
     "data": {
      "text/plain": [
       "True"
      ]
     },
     "execution_count": 131,
     "metadata": {},
     "output_type": "execute_result"
    }
   ],
   "source": [
    "issubclass(dict, Person)"
   ]
  },
  {
   "cell_type": "code",
   "execution_count": 133,
   "id": "0578ebb7-b524-422d-8b06-8b7a2c3cd3a8",
   "metadata": {},
   "outputs": [
    {
     "ename": "AttributeError",
     "evalue": "'dict' object has no attribute 'study'",
     "output_type": "error",
     "traceback": [
      "\u001b[31m---------------------------------------------------------------------------\u001b[39m",
      "\u001b[31mAttributeError\u001b[39m                            Traceback (most recent call last)",
      "\u001b[36mCell\u001b[39m\u001b[36m \u001b[39m\u001b[32mIn[133]\u001b[39m\u001b[32m, line 2\u001b[39m\n\u001b[32m      1\u001b[39m d = {\u001b[32m1\u001b[39m: \u001b[32m22\u001b[39m}\n\u001b[32m----> \u001b[39m\u001b[32m2\u001b[39m \u001b[43md\u001b[49m\u001b[43m.\u001b[49m\u001b[43mstudy\u001b[49m()\n",
      "\u001b[31mAttributeError\u001b[39m: 'dict' object has no attribute 'study'"
     ]
    }
   ],
   "source": [
    "d = {1: 22}\n",
    "d.study()"
   ]
  },
  {
   "cell_type": "code",
   "execution_count": null,
   "id": "116e3fc1-5cd5-4dca-b7e6-529632ec13f0",
   "metadata": {},
   "outputs": [],
   "source": []
  },
  {
   "cell_type": "code",
   "execution_count": null,
   "id": "e677dbd9-5f60-437f-a037-1ed38fbf2980",
   "metadata": {},
   "outputs": [],
   "source": []
  },
  {
   "cell_type": "code",
   "execution_count": 134,
   "id": "01280a0f-155a-4988-88d8-45deefc5b4a1",
   "metadata": {},
   "outputs": [
    {
     "data": {
      "text/plain": [
       "(False, False)"
      ]
     },
     "execution_count": 134,
     "metadata": {},
     "output_type": "execute_result"
    }
   ],
   "source": [
    "isinstance([1, 2, 3], Person), isinstance([1, 2, 3], HungryStudent)"
   ]
  },
  {
   "cell_type": "code",
   "execution_count": 135,
   "id": "271f0379-14ac-4032-986e-8f64d4df11e3",
   "metadata": {},
   "outputs": [
    {
     "data": {
      "text/plain": [
       "list"
      ]
     },
     "execution_count": 135,
     "metadata": {},
     "output_type": "execute_result"
    }
   ],
   "source": [
    "HungryStudent.register(list)"
   ]
  },
  {
   "cell_type": "code",
   "execution_count": 136,
   "id": "354330fc-284c-4285-b647-89b74c544e2f",
   "metadata": {},
   "outputs": [
    {
     "data": {
      "text/plain": [
       "(True, True)"
      ]
     },
     "execution_count": 136,
     "metadata": {},
     "output_type": "execute_result"
    }
   ],
   "source": [
    "isinstance([1, 2, 3], Person), isinstance([1, 2, 3], HungryStudent)"
   ]
  },
  {
   "cell_type": "code",
   "execution_count": 137,
   "id": "1d2a82c7-524d-4873-b5cd-4761bda14a87",
   "metadata": {},
   "outputs": [],
   "source": [
    "class SubList(list):\n",
    "    pass"
   ]
  },
  {
   "cell_type": "code",
   "execution_count": 138,
   "id": "b81f55b2-c347-4b5d-b1e8-b5f97ebf07e9",
   "metadata": {},
   "outputs": [
    {
     "data": {
      "text/plain": [
       "(True, True)"
      ]
     },
     "execution_count": 138,
     "metadata": {},
     "output_type": "execute_result"
    }
   ],
   "source": [
    "isinstance(SubList(), Person), isinstance(SubList(), HungryStudent)"
   ]
  },
  {
   "cell_type": "code",
   "execution_count": null,
   "id": "85a6a44e-9c33-438d-a1ee-a7f25acc8e48",
   "metadata": {},
   "outputs": [],
   "source": []
  },
  {
   "cell_type": "code",
   "execution_count": null,
   "id": "7f23788d-3e66-41e9-8334-7eef6728ab3e",
   "metadata": {},
   "outputs": [],
   "source": []
  },
  {
   "cell_type": "code",
   "execution_count": 139,
   "id": "5a1dcee4-c429-4078-b2c2-8c19e8655a5e",
   "metadata": {},
   "outputs": [],
   "source": [
    "from collections import abc "
   ]
  },
  {
   "cell_type": "code",
   "execution_count": 140,
   "id": "7031d04c-f687-4cfe-b6a0-270b01b4fc28",
   "metadata": {},
   "outputs": [],
   "source": [
    "class Predictable(metaclass=ABCMeta):\n",
    "    @abstractmethod\n",
    "    def predict(self):\n",
    "        pass\n",
    "\n",
    "    @classmethod\n",
    "    def __subclasshook__(cls, C):\n",
    "        print(f\"Predictable.__subclasshook__ {cls=}, {C=}\")\n",
    "\n",
    "        name = \"predict\"\n",
    "        for class_ in C.__mro__:\n",
    "            if name in class_.__dict__ and callable(class_.__dict__[name]):\n",
    "                return True\n",
    "\n",
    "        return NotImplemented\n",
    "\n",
    "\n",
    "class TreeModel:\n",
    "    def predict(self):\n",
    "        pass\n",
    "\n",
    "\n",
    "class TrafficLight:\n",
    "    predict = \"green\""
   ]
  },
  {
   "cell_type": "code",
   "execution_count": 141,
   "id": "a42323fe-6098-4443-aa89-f57514a0d6b5",
   "metadata": {},
   "outputs": [
    {
     "name": "stdout",
     "output_type": "stream",
     "text": [
      "Predictable.__subclasshook__ cls=<class '__main__.Predictable'>, C=<class '__main__.TreeModel'>\n",
      "Predictable.__subclasshook__ cls=<class '__main__.Predictable'>, C=<class '__main__.TrafficLight'>\n",
      "True True False False\n"
     ]
    }
   ],
   "source": [
    "tree = TreeModel()\n",
    "traffic = TrafficLight()\n",
    "\n",
    "print(\n",
    "    isinstance(tree, Predictable),\n",
    "    issubclass(TreeModel, Predictable),\n",
    "    isinstance(traffic, Predictable),\n",
    "    issubclass(TrafficLight, Predictable),\n",
    ")"
   ]
  },
  {
   "cell_type": "code",
   "execution_count": 142,
   "id": "4286112e-e658-4e80-99cc-e843d3bfa972",
   "metadata": {},
   "outputs": [
    {
     "data": {
      "text/plain": [
       "True"
      ]
     },
     "execution_count": 142,
     "metadata": {},
     "output_type": "execute_result"
    }
   ],
   "source": [
    "isinstance(tree, Predictable)"
   ]
  },
  {
   "cell_type": "code",
   "execution_count": 147,
   "id": "ae942596-fecb-4b49-bd02-4dc969f0e132",
   "metadata": {},
   "outputs": [
    {
     "name": "stdout",
     "output_type": "stream",
     "text": [
      "Predictable.__subclasshook__ cls=<class '__main__.Predictable'>, C=<class '__main__.TreeModel'>\n",
      "Predictable.__subclasshook__ cls=<class '__main__.Predictable'>, C=<class '__main__.TrafficLight'>\n",
      "TrainPredictable.__subclasshook__ cls=<class '__main__.TrainPredictable'>, C=<class '__main__.TrafficLight'>\n",
      "Predictable.__subclasshook__ cls=<class '__main__.Predictable'>, C=<class '__main__.LinearModel'>\n",
      "True False True\n",
      "TrainPredictable.__subclasshook__ cls=<class '__main__.TrainPredictable'>, C=<class '__main__.TreeModel'>\n",
      "TrainPredictable.__subclasshook__ cls=<class '__main__.TrainPredictable'>, C=<class '__main__.LinearModel'>\n",
      "False False True\n"
     ]
    }
   ],
   "source": [
    "class Predictable(metaclass=ABCMeta):\n",
    "    @abstractmethod\n",
    "    def predict(self):\n",
    "        pass\n",
    "\n",
    "    @classmethod\n",
    "    def __subclasshook__(cls, C):\n",
    "        print(f\"Predictable.__subclasshook__ {cls=}, {C=}\")\n",
    "\n",
    "        if cls is not Predictable:\n",
    "            return NotImplemented\n",
    "\n",
    "        name = \"predict\"\n",
    "        for class_ in C.__mro__:\n",
    "            if name in class_.__dict__ and callable(class_.__dict__[name]):\n",
    "                return True\n",
    "\n",
    "        return NotImplemented\n",
    "\n",
    "\n",
    "class TrainPredictable(Predictable):\n",
    "    @abstractmethod\n",
    "    def train(self):\n",
    "        pass\n",
    "\n",
    "    @classmethod\n",
    "    def __subclasshook__(cls, C):\n",
    "        print(f\"TrainPredictable.__subclasshook__ {cls=}, {C=}\")\n",
    "\n",
    "        if cls is not TrainPredictable:\n",
    "            return NotImplemented\n",
    "\n",
    "        for name in (\"predict\", \"train\"):\n",
    "            for class_ in C.__mro__:\n",
    "                if name in class_.__dict__ and callable(class_.__dict__[name]):\n",
    "                    break\n",
    "            else:\n",
    "                return NotImplemented\n",
    "\n",
    "        return True\n",
    "\n",
    "\n",
    "class TreeModel:\n",
    "    def predict(self):\n",
    "        pass\n",
    "\n",
    "\n",
    "class TrafficLight:\n",
    "    predict = \"green\"\n",
    "\n",
    "\n",
    "class LinearModel:\n",
    "    def predict(self):\n",
    "        pass\n",
    "\n",
    "    def train(self):\n",
    "        pass\n",
    "\n",
    "\n",
    "tree = TreeModel()\n",
    "traffic = TrafficLight()\n",
    "linear = LinearModel()\n",
    "\n",
    "print(\n",
    "    isinstance(tree, Predictable),\n",
    "    isinstance(traffic, Predictable),\n",
    "    isinstance(linear, Predictable),\n",
    ")\n",
    "print(\n",
    "    isinstance(tree, TrainPredictable),\n",
    "    isinstance(traffic, TrainPredictable),\n",
    "    isinstance(linear, TrainPredictable),\n",
    ")"
   ]
  },
  {
   "cell_type": "code",
   "execution_count": null,
   "id": "9c354396-6236-4e00-885d-b3dc9c3f53b8",
   "metadata": {},
   "outputs": [],
   "source": []
  }
 ],
 "metadata": {
  "kernelspec": {
   "display_name": "Python 3 (ipykernel)",
   "language": "python",
   "name": "python3"
  },
  "language_info": {
   "codemirror_mode": {
    "name": "ipython",
    "version": 3
   },
   "file_extension": ".py",
   "mimetype": "text/x-python",
   "name": "python",
   "nbconvert_exporter": "python",
   "pygments_lexer": "ipython3",
   "version": "3.13.2"
  }
 },
 "nbformat": 4,
 "nbformat_minor": 5
}
