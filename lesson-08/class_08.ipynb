{
 "cells": [
  {
   "cell_type": "code",
   "execution_count": 1,
   "id": "4d2d7f00-1570-44a7-be1e-b4bb5f6c7136",
   "metadata": {},
   "outputs": [],
   "source": [
    "import sys"
   ]
  },
  {
   "cell_type": "code",
   "execution_count": 3,
   "id": "bda787f1-7400-432f-8e11-71d162411e96",
   "metadata": {},
   "outputs": [
    {
     "data": {
      "text/plain": [
       "(4294967295, 3)"
      ]
     },
     "execution_count": 3,
     "metadata": {},
     "output_type": "execute_result"
    }
   ],
   "source": [
    "sys.getrefcount(1), sys.getrefcount(257)"
   ]
  },
  {
   "cell_type": "code",
   "execution_count": 4,
   "id": "ee03803e-6f8c-4627-9669-a1a2dee35f17",
   "metadata": {},
   "outputs": [
    {
     "data": {
      "text/plain": [
       "2"
      ]
     },
     "execution_count": 4,
     "metadata": {},
     "output_type": "execute_result"
    }
   ],
   "source": [
    "lst = [1, 2, 3]\n",
    "sys.getrefcount(lst)  # obj = lst"
   ]
  },
  {
   "cell_type": "code",
   "execution_count": 5,
   "id": "fffe897d-163c-420f-b7b9-57321de6f811",
   "metadata": {},
   "outputs": [],
   "source": [
    "lst2 = lst"
   ]
  },
  {
   "cell_type": "code",
   "execution_count": 6,
   "id": "099164b5-ef76-4601-a151-a79096c833f3",
   "metadata": {},
   "outputs": [
    {
     "data": {
      "text/plain": [
       "3"
      ]
     },
     "execution_count": 6,
     "metadata": {},
     "output_type": "execute_result"
    }
   ],
   "source": [
    "sys.getrefcount(lst)"
   ]
  },
  {
   "cell_type": "code",
   "execution_count": 7,
   "id": "782b344e-fdab-4b75-970d-832d0924a44e",
   "metadata": {},
   "outputs": [],
   "source": [
    "del lst2"
   ]
  },
  {
   "cell_type": "code",
   "execution_count": 8,
   "id": "f72db34d-a1c0-4168-ae0c-820e021ea2ba",
   "metadata": {},
   "outputs": [
    {
     "data": {
      "text/plain": [
       "2"
      ]
     },
     "execution_count": 8,
     "metadata": {},
     "output_type": "execute_result"
    }
   ],
   "source": [
    "sys.getrefcount(lst)"
   ]
  },
  {
   "cell_type": "code",
   "execution_count": 19,
   "id": "0378df1b-e5f5-427d-abd1-b0bd0293b96e",
   "metadata": {},
   "outputs": [],
   "source": [
    "s1 = \"qwerty123\""
   ]
  },
  {
   "cell_type": "code",
   "execution_count": 20,
   "id": "63b66923-2608-48b2-abdf-7536b0f478bf",
   "metadata": {},
   "outputs": [],
   "source": [
    "s2 = \"qwerty123\""
   ]
  },
  {
   "cell_type": "code",
   "execution_count": 21,
   "id": "0495c3f2-9a8b-400c-af53-386dc969e458",
   "metadata": {},
   "outputs": [
    {
     "data": {
      "text/plain": [
       "True"
      ]
     },
     "execution_count": 21,
     "metadata": {},
     "output_type": "execute_result"
    }
   ],
   "source": [
    "s1 is s2"
   ]
  },
  {
   "cell_type": "code",
   "execution_count": 24,
   "id": "297fa2f1-1b1e-488c-9521-5bfd09f713c8",
   "metadata": {},
   "outputs": [
    {
     "data": {
      "text/plain": [
       "(3, 3, 4294967295)"
      ]
     },
     "execution_count": 24,
     "metadata": {},
     "output_type": "execute_result"
    }
   ],
   "source": [
    "sys.getrefcount(s1), sys.getrefcount(s2), sys.getrefcount(\"sys\")"
   ]
  },
  {
   "cell_type": "code",
   "execution_count": null,
   "id": "4d0f9ff7-f678-410c-9e1a-969abd80288b",
   "metadata": {},
   "outputs": [],
   "source": []
  },
  {
   "cell_type": "code",
   "execution_count": 12,
   "id": "70aeff39-9800-405f-b696-7a2530b5d8f0",
   "metadata": {},
   "outputs": [],
   "source": [
    "s1 = \"qwerty123!\""
   ]
  },
  {
   "cell_type": "code",
   "execution_count": 13,
   "id": "b77e395e-89ac-460b-ab80-ecaca91341c6",
   "metadata": {},
   "outputs": [],
   "source": [
    "s2 = \"qwerty123!\""
   ]
  },
  {
   "cell_type": "code",
   "execution_count": 14,
   "id": "795f6b4e-fde2-4f45-9810-6b1ed74e2b51",
   "metadata": {},
   "outputs": [
    {
     "data": {
      "text/plain": [
       "False"
      ]
     },
     "execution_count": 14,
     "metadata": {},
     "output_type": "execute_result"
    }
   ],
   "source": [
    "s1 is s2"
   ]
  },
  {
   "cell_type": "code",
   "execution_count": 18,
   "id": "43e67065-253f-4c70-9ca3-24e281c496e6",
   "metadata": {},
   "outputs": [
    {
     "data": {
      "text/plain": [
       "7"
      ]
     },
     "execution_count": 18,
     "metadata": {},
     "output_type": "execute_result"
    }
   ],
   "source": [
    "sys.getrefcount(s1)"
   ]
  },
  {
   "cell_type": "code",
   "execution_count": null,
   "id": "f0e78838-5906-476f-a448-42451eed15d7",
   "metadata": {},
   "outputs": [],
   "source": []
  },
  {
   "cell_type": "code",
   "execution_count": null,
   "id": "65862096-cb0f-4d86-88e8-18fe3d2841dd",
   "metadata": {},
   "outputs": [],
   "source": []
  },
  {
   "cell_type": "code",
   "execution_count": 25,
   "id": "96722924-dfad-4ce7-9a20-6c4d605d5156",
   "metadata": {},
   "outputs": [
    {
     "name": "stdout",
     "output_type": "stream",
     "text": [
      "before 2\n",
      "sys.getrefcount(obj)=3\n",
      "after 2\n"
     ]
    }
   ],
   "source": [
    "lst = [1, 2, 3]\n",
    "\n",
    "def count_refs(obj):\n",
    "    print(f\"{sys.getrefcount(obj)=}\")\n",
    "\n",
    "print(\"before\", sys.getrefcount(lst))\n",
    "\n",
    "count_refs(lst)\n",
    "\n",
    "print(\"after\", sys.getrefcount(lst))"
   ]
  },
  {
   "cell_type": "code",
   "execution_count": null,
   "id": "8c84b785-4e76-4756-a5a6-99917f899a2b",
   "metadata": {},
   "outputs": [],
   "source": []
  },
  {
   "cell_type": "code",
   "execution_count": 26,
   "id": "fd3ce9af-f825-4af0-a1c5-5f864fde9e28",
   "metadata": {},
   "outputs": [],
   "source": [
    "class Animal:\n",
    "    def __init__(self, name, food):\n",
    "        self.name = name\n",
    "        self.food = food\n",
    "\n",
    "    def __str__(self):\n",
    "        return f\"Animal({self.name}, {id(self)})\"\n",
    "\n",
    "    def __del__(self):\n",
    "        print(f\"del {str(self)=}\")"
   ]
  },
  {
   "cell_type": "code",
   "execution_count": 33,
   "id": "e5124769-4f9f-491c-aac3-f78b5d4fdecd",
   "metadata": {},
   "outputs": [
    {
     "name": "stdout",
     "output_type": "stream",
     "text": [
      "del str(self)='Animal(tiger, 4552684992)'\n",
      "created Animal(tiger, 4552685904)\n",
      "del str(self)='Animal(tiger, 4552685904)'\n"
     ]
    }
   ],
   "source": [
    "tiger = Animal(\"tiger\", \"meat\")\n",
    "print(\"created\", tiger)\n",
    "\n",
    "sys.getrefcount(tiger)\n",
    "\n",
    "del tiger"
   ]
  },
  {
   "cell_type": "code",
   "execution_count": null,
   "id": "851bccd7-e8d7-49a4-9dc1-8ef3ad565ac4",
   "metadata": {},
   "outputs": [],
   "source": []
  },
  {
   "cell_type": "code",
   "execution_count": null,
   "id": "b7efb2dc-582c-42bb-a3e4-e326163a6b84",
   "metadata": {},
   "outputs": [],
   "source": []
  },
  {
   "cell_type": "code",
   "execution_count": 35,
   "id": "731399aa-d700-4c4c-a102-238c67993557",
   "metadata": {},
   "outputs": [
    {
     "name": "stdout",
     "output_type": "stream",
     "text": [
      "created Animal(tiger, 4552725088)\n",
      "created Animal(hog, 4551315536)\n",
      "3 3\n"
     ]
    }
   ],
   "source": [
    "tiger = Animal(\"tiger\", \"meat\")\n",
    "hog = Animal(\"hog\", tiger)\n",
    "tiger.food = hog\n",
    "\n",
    "print(\"created\", tiger)\n",
    "print(\"created\", hog)\n",
    "\n",
    "print(sys.getrefcount(tiger), sys.getrefcount(tiger))"
   ]
  },
  {
   "cell_type": "code",
   "execution_count": 49,
   "id": "dee74826-4bdd-4fd6-85bd-6a763ce6913a",
   "metadata": {},
   "outputs": [
    {
     "name": "stdout",
     "output_type": "stream",
     "text": [
      "created Animal(tiger, 4559270896) {'name': 'tiger', 'food': <__main__.Animal object at 0x110136630>}\n",
      "created Animal(hog, 4564674096) {'name': 'hog', 'food': <__main__.Animal object at 0x10fc0f3f0>}\n",
      "3 3\n"
     ]
    }
   ],
   "source": [
    "tiger = Animal(\"tiger\", \"meat\")\n",
    "hog = Animal(\"hog\", tiger)\n",
    "tiger.food = hog\n",
    "\n",
    "print(\"created\", tiger, tiger.__dict__)\n",
    "print(\"created\", hog, hog.__dict__)\n",
    "\n",
    "print(sys.getrefcount(tiger), sys.getrefcount(tiger))\n",
    "\n",
    "del tiger\n",
    "del hog"
   ]
  },
  {
   "cell_type": "code",
   "execution_count": 37,
   "id": "cbd20273-44de-4084-becc-ffd8b4488ab7",
   "metadata": {},
   "outputs": [],
   "source": [
    "import gc"
   ]
  },
  {
   "cell_type": "code",
   "execution_count": 42,
   "id": "57e1a8e6-2dc5-4839-b1dc-74d0fa0e7efe",
   "metadata": {},
   "outputs": [
    {
     "name": "stdout",
     "output_type": "stream",
     "text": [
      "del str(self)='Animal(tiger, 4554609424)'\n",
      "del str(self)='Animal(hog, 4555459952)'\n"
     ]
    },
    {
     "data": {
      "text/plain": [
       "4455"
      ]
     },
     "execution_count": 42,
     "metadata": {},
     "output_type": "execute_result"
    }
   ],
   "source": [
    "gc.collect()"
   ]
  },
  {
   "cell_type": "code",
   "execution_count": null,
   "id": "afe88463-b681-48dd-8815-27a764e3c6fd",
   "metadata": {},
   "outputs": [],
   "source": []
  },
  {
   "cell_type": "code",
   "execution_count": null,
   "id": "2349569a-9954-4379-96a9-e8f667ffaddd",
   "metadata": {},
   "outputs": [],
   "source": []
  },
  {
   "cell_type": "code",
   "execution_count": null,
   "id": "a329a881-fe65-430f-9a1b-7d634d641c78",
   "metadata": {},
   "outputs": [],
   "source": []
  },
  {
   "cell_type": "code",
   "execution_count": 39,
   "id": "c61fc358-c54e-462c-90c6-2e99d4deb774",
   "metadata": {},
   "outputs": [],
   "source": [
    "import ctypes"
   ]
  },
  {
   "cell_type": "code",
   "execution_count": 40,
   "id": "c31f1bac-4d77-414d-85cd-27c112ac99ff",
   "metadata": {},
   "outputs": [],
   "source": [
    "class PyObject(ctypes.Structure):\n",
    "    _fields_ = [(\"refcnt\", ctypes.c_long)]"
   ]
  },
  {
   "cell_type": "code",
   "execution_count": null,
   "id": "b59595dd-0746-40cf-abf5-dd6c2123d3db",
   "metadata": {},
   "outputs": [],
   "source": []
  },
  {
   "cell_type": "code",
   "execution_count": null,
   "id": "b04e0cbb-8db5-4d4e-a85b-7703b6c61efa",
   "metadata": {},
   "outputs": [],
   "source": []
  },
  {
   "cell_type": "code",
   "execution_count": 47,
   "id": "5c51d83d-8b8e-400e-885c-fd7f28d9efea",
   "metadata": {},
   "outputs": [
    {
     "name": "stdout",
     "output_type": "stream",
     "text": [
      "created Animal(tiger, 4554238016) 4554238016\n",
      "created Animal(hog, 4564596048) 4564596048\n",
      "3 3\n",
      "tiger: PyObject.from_address(addr).refcnt=2\n",
      "hog: PyObject.from_address(addr).refcnt=2\n",
      "tiger: PyObject.from_address(addr).refcnt=1\n",
      "hog: PyObject.from_address(addr).refcnt=1\n",
      "del str(self)='Animal(tiger, 4554238016)'\n",
      "del str(self)='Animal(hog, 4564596048)'\n",
      "tiger: PyObject.from_address(addr).refcnt=4515801808\n",
      "hog: PyObject.from_address(addr).refcnt=0\n"
     ]
    }
   ],
   "source": [
    "tiger = Animal(\"tiger\", \"meat\")\n",
    "hog = Animal(\"hog\", tiger)\n",
    "tiger.food = hog\n",
    "\n",
    "id_tiger = id(tiger)\n",
    "id_hog = id(hog)\n",
    "\n",
    "print(\"created\", tiger, id_tiger)\n",
    "print(\"created\", hog, id_hog)\n",
    "\n",
    "print(sys.getrefcount(tiger), sys.getrefcount(tiger))\n",
    "\n",
    "for name, addr in ((\"tiger\", id_tiger), (\"hog\", id_hog)):\n",
    "    print(f\"{name}: {PyObject.from_address(addr).refcnt=}\")\n",
    "\n",
    "del tiger\n",
    "del hog\n",
    "\n",
    "for name, addr in ((\"tiger\", id_tiger), (\"hog\", id_hog)):\n",
    "    print(f\"{name}: {PyObject.from_address(addr).refcnt=}\")\n",
    "\n",
    "gc.collect()\n",
    "\n",
    "for name, addr in ((\"tiger\", id_tiger), (\"hog\", id_hog)):\n",
    "    print(f\"{name}: {PyObject.from_address(addr).refcnt=}\")"
   ]
  },
  {
   "cell_type": "code",
   "execution_count": null,
   "id": "fcc5db63-be34-4991-a05a-4261b76ad798",
   "metadata": {},
   "outputs": [],
   "source": []
  },
  {
   "cell_type": "code",
   "execution_count": 46,
   "id": "121d7500-d2f3-41a9-843b-76ef92dd732e",
   "metadata": {},
   "outputs": [
    {
     "name": "stdout",
     "output_type": "stream",
     "text": [
      "created Animal(tiger, 4554158192) 4554158192\n",
      "created Animal(hog, 4554156432) 4554156432\n",
      "3 3\n",
      "tiger: PyObject.from_address(addr).refcnt=2\n",
      "hog: PyObject.from_address(addr).refcnt=2\n",
      "tiger: PyObject.from_address(addr).refcnt=1\n",
      "hog: PyObject.from_address(addr).refcnt=1\n",
      "del str(self)='Animal(tiger, 4554158192)'\n",
      "del str(self)='Animal(hog, 4554156432)'\n",
      "tiger: PyObject.from_address(addr).refcnt=-1082298007296\n",
      "hog: PyObject.from_address(addr).refcnt=-16645888\n"
     ]
    }
   ],
   "source": [
    "tiger = Animal(\"tiger\", \"meat\")\n",
    "hog = Animal(\"hog\", tiger)\n",
    "tiger.food = hog\n",
    "\n",
    "id_tiger = id(tiger)\n",
    "id_hog = id(hog)\n",
    "\n",
    "print(\"created\", tiger, id_tiger)\n",
    "print(\"created\", hog, id_hog)\n",
    "\n",
    "print(sys.getrefcount(tiger), sys.getrefcount(tiger))\n",
    "\n",
    "for name, addr in ((\"tiger\", id_tiger), (\"hog\", id_hog)):\n",
    "    print(f\"{name}: {PyObject.from_address(addr).refcnt=}\")\n",
    "\n",
    "del tiger\n",
    "del hog\n",
    "\n",
    "for name, addr in ((\"tiger\", id_tiger), (\"hog\", id_hog)):\n",
    "    print(f\"{name}: {PyObject.from_address(addr).refcnt=}\")\n",
    "\n",
    "gc.collect()\n",
    "\n",
    "for i in range(1000000):\n",
    "    x = 1000\n",
    "\n",
    "for name, addr in ((\"tiger\", id_tiger), (\"hog\", id_hog)):\n",
    "    print(f\"{name}: {PyObject.from_address(addr).refcnt=}\")"
   ]
  },
  {
   "cell_type": "code",
   "execution_count": null,
   "id": "5c451e38-4db1-4fd6-814c-423f5e053c4d",
   "metadata": {},
   "outputs": [],
   "source": []
  },
  {
   "cell_type": "code",
   "execution_count": null,
   "id": "7b303a18-0303-4155-a413-d085adb1cfea",
   "metadata": {},
   "outputs": [],
   "source": []
  },
  {
   "cell_type": "code",
   "execution_count": 50,
   "id": "d3cbb578-a7e3-4c3b-a8c2-75297d025bf7",
   "metadata": {},
   "outputs": [],
   "source": [
    "import weakref"
   ]
  },
  {
   "cell_type": "code",
   "execution_count": 51,
   "id": "241a6ae0-d8ec-442d-81f3-a125326b95ca",
   "metadata": {},
   "outputs": [
    {
     "name": "stdout",
     "output_type": "stream",
     "text": [
      "1 2\n",
      "2 2\n",
      "<weakref at 0x10faa36a0; to 'Animal' at 0x10fc50350>\n",
      "3 3\n",
      "del str(self)='Animal(tiger, 4559536976)'\n",
      "tiger deleted\n",
      "4 del\n",
      "5 None\n"
     ]
    }
   ],
   "source": [
    "tiger = Animal(\"tiger\", \"meat\")\n",
    "print(1, sys.getrefcount(tiger))\n",
    "\n",
    "weakref.finalize(tiger, lambda: print(\"tiger deleted\"))\n",
    "\n",
    "weak = weakref.ref(tiger)\n",
    "print(2, sys.getrefcount(tiger))\n",
    "\n",
    "print(weak)\n",
    "\n",
    "tiger_new = weak()\n",
    "print(3, sys.getrefcount(tiger))\n",
    "\n",
    "del tiger_new, tiger\n",
    "print(4, \"del\")\n",
    "\n",
    "tiger_new = weak()\n",
    "print(5, tiger_new)"
   ]
  },
  {
   "cell_type": "code",
   "execution_count": null,
   "id": "bce1276c-4a22-4889-aee7-05c8dbc06421",
   "metadata": {},
   "outputs": [],
   "source": []
  },
  {
   "cell_type": "code",
   "execution_count": null,
   "id": "97f6a2fd-50b2-44fb-9a19-1f53df5a3b45",
   "metadata": {},
   "outputs": [],
   "source": []
  },
  {
   "cell_type": "code",
   "execution_count": null,
   "id": "ac41f7ad-2af4-4b64-b8d8-f30a550c151a",
   "metadata": {},
   "outputs": [],
   "source": []
  },
  {
   "cell_type": "code",
   "execution_count": 67,
   "id": "fc9f0cba-9fbe-49fb-960b-eca1f44f31af",
   "metadata": {},
   "outputs": [],
   "source": [
    "class Point:\n",
    "\n",
    "    def __init__(self, x, y):\n",
    "        self.x = x\n",
    "        self.y = y\n",
    "        self.z = 33\n",
    "\n",
    "\n",
    "class Point2D(Point):\n",
    "    __slots__ = (\"x\", \"y\")\n",
    "\n",
    "    def __init__(self, x, y):\n",
    "        #super().__init__(x, y)\n",
    "        self.x = x\n",
    "        self.y = y\n",
    "        self.z = 33"
   ]
  },
  {
   "cell_type": "code",
   "execution_count": 68,
   "id": "6d87c554-7632-488a-8301-9f5a07e814fe",
   "metadata": {},
   "outputs": [],
   "source": [
    "p = Point(10, 20)\n",
    "ps = Point2D(30, 40)"
   ]
  },
  {
   "cell_type": "code",
   "execution_count": 65,
   "id": "dbf6f699-dc75-44d8-be56-7cc4685f7b1a",
   "metadata": {},
   "outputs": [
    {
     "data": {
      "text/plain": [
       "{'x': 10, 'y': 20, 'z': 33}"
      ]
     },
     "execution_count": 65,
     "metadata": {},
     "output_type": "execute_result"
    }
   ],
   "source": [
    "p.__dict__"
   ]
  },
  {
   "cell_type": "code",
   "execution_count": 70,
   "id": "0cea3fc6-c613-47c2-8e88-4efc7d97b2e5",
   "metadata": {},
   "outputs": [
    {
     "data": {
      "text/plain": [
       "{'z': 33, 'xxx': 34}"
      ]
     },
     "execution_count": 70,
     "metadata": {},
     "output_type": "execute_result"
    }
   ],
   "source": [
    "ps.__dict__"
   ]
  },
  {
   "cell_type": "code",
   "execution_count": null,
   "id": "508e0513-ad5a-4c61-9619-cf0ffa220b4b",
   "metadata": {},
   "outputs": [],
   "source": []
  },
  {
   "cell_type": "code",
   "execution_count": null,
   "id": "6c82f479-e219-4e83-a1de-ab7f64f29f52",
   "metadata": {},
   "outputs": [],
   "source": []
  },
  {
   "cell_type": "code",
   "execution_count": null,
   "id": "e4aebf4c-0b60-443a-8037-f5f513caf92d",
   "metadata": {},
   "outputs": [],
   "source": []
  },
  {
   "cell_type": "code",
   "execution_count": 77,
   "id": "9be2537f-fb3d-4e95-a2b8-e520a72f4943",
   "metadata": {},
   "outputs": [],
   "source": [
    "class Point:\n",
    "\n",
    "    def __init__(self, x, y):\n",
    "        self.x = x\n",
    "        self.y = y\n",
    "\n",
    "\n",
    "class Point2D:\n",
    "    __slots__ = (\"x\", \"y\")\n",
    "\n",
    "    def __init__(self, x, y):\n",
    "        self.x = x\n",
    "        self.y = y"
   ]
  },
  {
   "cell_type": "code",
   "execution_count": 78,
   "id": "8cf0c1eb-6b38-44e1-b451-f6b03ca89afd",
   "metadata": {},
   "outputs": [],
   "source": [
    "p = Point(10, 20)\n",
    "ps = Point2D(30, 40)"
   ]
  },
  {
   "cell_type": "code",
   "execution_count": 79,
   "id": "95a0139a-1eee-47de-bd0a-c7825819bb8b",
   "metadata": {},
   "outputs": [
    {
     "name": "stdout",
     "output_type": "stream",
     "text": [
      "10 20 30 40\n"
     ]
    }
   ],
   "source": [
    "print(p.x, p.y, ps.x, ps.y)"
   ]
  },
  {
   "cell_type": "code",
   "execution_count": 80,
   "id": "9f6f18c0-671a-4720-b310-39b31223e68d",
   "metadata": {},
   "outputs": [],
   "source": [
    "p.x = 99\n",
    "ps.x = 42"
   ]
  },
  {
   "cell_type": "code",
   "execution_count": 81,
   "id": "401720c9-3f7b-49d9-bade-9329f7e6b48f",
   "metadata": {},
   "outputs": [
    {
     "name": "stdout",
     "output_type": "stream",
     "text": [
      "99 20 42 40\n"
     ]
    }
   ],
   "source": [
    "print(p.x, p.y, ps.x, ps.y)"
   ]
  },
  {
   "cell_type": "code",
   "execution_count": 82,
   "id": "4ab60dd3-a420-4288-a35c-7aeaa93b3561",
   "metadata": {},
   "outputs": [],
   "source": [
    "p.z = 25"
   ]
  },
  {
   "cell_type": "code",
   "execution_count": 83,
   "id": "6f398a8b-fa39-43e2-9883-f6d29cbe4112",
   "metadata": {},
   "outputs": [
    {
     "ename": "AttributeError",
     "evalue": "'Point2D' object has no attribute 'z' and no __dict__ for setting new attributes",
     "output_type": "error",
     "traceback": [
      "\u001b[31m---------------------------------------------------------------------------\u001b[39m",
      "\u001b[31mAttributeError\u001b[39m                            Traceback (most recent call last)",
      "\u001b[36mCell\u001b[39m\u001b[36m \u001b[39m\u001b[32mIn[83]\u001b[39m\u001b[32m, line 1\u001b[39m\n\u001b[32m----> \u001b[39m\u001b[32m1\u001b[39m \u001b[43mps\u001b[49m\u001b[43m.\u001b[49m\u001b[43mz\u001b[49m = \u001b[32m25\u001b[39m\n",
      "\u001b[31mAttributeError\u001b[39m: 'Point2D' object has no attribute 'z' and no __dict__ for setting new attributes"
     ]
    }
   ],
   "source": [
    "ps.z = 25"
   ]
  },
  {
   "cell_type": "code",
   "execution_count": 85,
   "id": "792b8a54-213c-4d1f-a82a-983efcd90d64",
   "metadata": {},
   "outputs": [
    {
     "data": {
      "text/plain": [
       "mappingproxy({'__module__': '__main__',\n",
       "              '__firstlineno__': 1,\n",
       "              '__init__': <function __main__.Point.__init__(self, x, y)>,\n",
       "              '__static_attributes__': ('x', 'y'),\n",
       "              '__dict__': <attribute '__dict__' of 'Point' objects>,\n",
       "              '__weakref__': <attribute '__weakref__' of 'Point' objects>,\n",
       "              '__doc__': None})"
      ]
     },
     "execution_count": 85,
     "metadata": {},
     "output_type": "execute_result"
    }
   ],
   "source": [
    "Point.__dict__"
   ]
  },
  {
   "cell_type": "code",
   "execution_count": 86,
   "id": "4c9a888e-4673-4523-90c3-e03581b1ff8c",
   "metadata": {},
   "outputs": [
    {
     "data": {
      "text/plain": [
       "mappingproxy({'__module__': '__main__',\n",
       "              '__firstlineno__': 8,\n",
       "              '__slots__': ('x', 'y'),\n",
       "              '__init__': <function __main__.Point2D.__init__(self, x, y)>,\n",
       "              '__static_attributes__': ('x', 'y'),\n",
       "              'x': <member 'x' of 'Point2D' objects>,\n",
       "              'y': <member 'y' of 'Point2D' objects>,\n",
       "              '__doc__': None})"
      ]
     },
     "execution_count": 86,
     "metadata": {},
     "output_type": "execute_result"
    }
   ],
   "source": [
    "Point2D.__dict__"
   ]
  },
  {
   "cell_type": "code",
   "execution_count": 88,
   "id": "4ed3d357-4af5-4e3f-be6e-6b80b71cb146",
   "metadata": {},
   "outputs": [],
   "source": [
    "def create_objs(cls, n):\n",
    "    objs = [cls(2 ** 20, 2 ** 21) for _ in range(n)]\n",
    "    for obj in objs:\n",
    "        obj.x = obj.x + obj.y\n",
    "        obj.y = obj.x - obj.y\n",
    "        obj.x = obj.x + obj.x + obj.x - obj.y"
   ]
  },
  {
   "cell_type": "code",
   "execution_count": 90,
   "id": "2630d7dd-2a6f-4d90-a459-e9414ce397b3",
   "metadata": {},
   "outputs": [
    {
     "name": "stdout",
     "output_type": "stream",
     "text": [
      "CPU times: user 5.39 s, sys: 534 ms, total: 5.93 s\n",
      "Wall time: 7.06 s\n"
     ]
    }
   ],
   "source": [
    "%%time\n",
    "\n",
    "create_objs(Point, 5_000_000)"
   ]
  },
  {
   "cell_type": "code",
   "execution_count": 91,
   "id": "1ef907e4-7c11-4180-bdd9-da4ec55a4ad1",
   "metadata": {},
   "outputs": [
    {
     "name": "stdout",
     "output_type": "stream",
     "text": [
      "CPU times: user 4.83 s, sys: 440 ms, total: 5.27 s\n",
      "Wall time: 6.49 s\n"
     ]
    }
   ],
   "source": [
    "%%time\n",
    "\n",
    "create_objs(Point2D, 5_000_000)"
   ]
  },
  {
   "cell_type": "code",
   "execution_count": null,
   "id": "7f64eef8-b0b5-4099-9e61-87b9405e6452",
   "metadata": {},
   "outputs": [],
   "source": []
  },
  {
   "cell_type": "code",
   "execution_count": null,
   "id": "1e07c3e0-10b6-490e-a166-574fe17e5a2a",
   "metadata": {},
   "outputs": [],
   "source": []
  },
  {
   "cell_type": "code",
   "execution_count": null,
   "id": "1510ca19-56c7-42c1-92a8-26c422ad81c8",
   "metadata": {},
   "outputs": [],
   "source": []
  },
  {
   "cell_type": "code",
   "execution_count": 1,
   "id": "2ec9764d-e9a2-4378-b968-3f88032dae10",
   "metadata": {},
   "outputs": [],
   "source": [
    "class Point:\n",
    "\n",
    "    def __init__(self, x, y):\n",
    "        self.x = x\n",
    "        self.y = y\n",
    "\n",
    "\n",
    "class Point2D(Point):\n",
    "    __slots__ = (\"x\", \"y\")\n",
    "\n",
    "    def __init__(self, x, y):\n",
    "        self.x = x\n",
    "        self.y = y"
   ]
  },
  {
   "cell_type": "code",
   "execution_count": 2,
   "id": "c5908ef1-3d34-4356-901d-5492c9251c33",
   "metadata": {},
   "outputs": [],
   "source": [
    "p = Point2D(10, 20)"
   ]
  },
  {
   "cell_type": "code",
   "execution_count": 3,
   "id": "5859e158-ab10-4fb4-a9b9-57a16ac1a855",
   "metadata": {},
   "outputs": [
    {
     "data": {
      "text/plain": [
       "{}"
      ]
     },
     "execution_count": 3,
     "metadata": {},
     "output_type": "execute_result"
    }
   ],
   "source": [
    "p.__dict__"
   ]
  },
  {
   "cell_type": "code",
   "execution_count": 4,
   "id": "0fa0a258-b7fb-4213-acd1-732e87ecbdec",
   "metadata": {},
   "outputs": [],
   "source": [
    "import sys"
   ]
  },
  {
   "cell_type": "code",
   "execution_count": 5,
   "id": "b7ae2640-101d-40e7-b948-5a32e92e9bce",
   "metadata": {},
   "outputs": [
    {
     "data": {
      "text/plain": [
       "64"
      ]
     },
     "execution_count": 5,
     "metadata": {},
     "output_type": "execute_result"
    }
   ],
   "source": [
    "sys.getsizeof(p)"
   ]
  },
  {
   "cell_type": "code",
   "execution_count": 6,
   "id": "b781fd82-8cb4-4a94-b05b-6b9b4c3605aa",
   "metadata": {},
   "outputs": [
    {
     "data": {
      "text/plain": [
       "304"
      ]
     },
     "execution_count": 6,
     "metadata": {},
     "output_type": "execute_result"
    }
   ],
   "source": [
    "sys.getsizeof(p.__dict__)"
   ]
  },
  {
   "cell_type": "code",
   "execution_count": 7,
   "id": "4b4c78ea-22bf-4ffc-873f-313c881fafbf",
   "metadata": {},
   "outputs": [
    {
     "data": {
      "text/plain": [
       "64"
      ]
     },
     "execution_count": 7,
     "metadata": {},
     "output_type": "execute_result"
    }
   ],
   "source": [
    "sys.getsizeof({})"
   ]
  },
  {
   "cell_type": "code",
   "execution_count": 8,
   "id": "af7181af-a875-4a70-9ea9-e9e8648d446d",
   "metadata": {},
   "outputs": [
    {
     "data": {
      "text/plain": [
       "224"
      ]
     },
     "execution_count": 8,
     "metadata": {},
     "output_type": "execute_result"
    }
   ],
   "source": [
    "sys.getsizeof({1: 11})"
   ]
  },
  {
   "cell_type": "code",
   "execution_count": 9,
   "id": "a0f53409-1030-4c9f-bc6b-fcc7b39853f5",
   "metadata": {},
   "outputs": [
    {
     "name": "stdout",
     "output_type": "stream",
     "text": [
      "0 224 1\n",
      "1 224 2\n",
      "2 224 3\n",
      "3 224 4\n",
      "4 224 5\n",
      "5 352 6\n",
      "6 352 7\n",
      "7 352 8\n"
     ]
    }
   ],
   "source": [
    "dct = {}\n",
    "\n",
    "for i in range(8):\n",
    "    dct[i] = i\n",
    "    print(i, sys.getsizeof(dct), len(dct))"
   ]
  },
  {
   "cell_type": "code",
   "execution_count": null,
   "id": "ff27c69c-2676-434f-9e3e-e5b24f85c218",
   "metadata": {},
   "outputs": [],
   "source": []
  },
  {
   "cell_type": "code",
   "execution_count": null,
   "id": "cdbf8a5e-c45a-4b1e-90b3-3ab2210258a7",
   "metadata": {},
   "outputs": [],
   "source": []
  }
 ],
 "metadata": {
  "kernelspec": {
   "display_name": "Python 3 (ipykernel)",
   "language": "python",
   "name": "python3"
  },
  "language_info": {
   "codemirror_mode": {
    "name": "ipython",
    "version": 3
   },
   "file_extension": ".py",
   "mimetype": "text/x-python",
   "name": "python",
   "nbconvert_exporter": "python",
   "pygments_lexer": "ipython3",
   "version": "3.13.2"
  }
 },
 "nbformat": 4,
 "nbformat_minor": 5
}
