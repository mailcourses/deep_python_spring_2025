{
 "cells": [
  {
   "cell_type": "code",
   "execution_count": 17,
   "id": "a947fd7e-b6cc-4bc2-98eb-29c75485c5b8",
   "metadata": {},
   "outputs": [],
   "source": [
    "import multiprocessing as mp\n",
    "import socket\n",
    "import time"
   ]
  },
  {
   "cell_type": "code",
   "execution_count": 2,
   "id": "f904e195-36aa-4434-9437-64c5857594ea",
   "metadata": {},
   "outputs": [
    {
     "data": {
      "text/plain": [
       "(['spawn', 'fork', 'forkserver'], 'spawn')"
      ]
     },
     "execution_count": 2,
     "metadata": {},
     "output_type": "execute_result"
    }
   ],
   "source": [
    "mp.get_all_start_methods(), mp.get_start_method()"
   ]
  },
  {
   "cell_type": "code",
   "execution_count": 3,
   "id": "8a79ca63-cbbb-4724-b5bb-06367e337921",
   "metadata": {},
   "outputs": [
    {
     "name": "stderr",
     "output_type": "stream",
     "text": [
      "Traceback (most recent call last):\n",
      "  File \u001b[35m\"<string>\"\u001b[0m, line \u001b[35m1\u001b[0m, in \u001b[35m<module>\u001b[0m\n",
      "    from multiprocessing.spawn import spawn_main; \u001b[31mspawn_main\u001b[0m\u001b[1;31m(tracker_fd=66, pipe_handle=82)\u001b[0m\n",
      "                                                  \u001b[31m~~~~~~~~~~\u001b[0m\u001b[1;31m^^^^^^^^^^^^^^^^^^^^^^^^^^^^^^^\u001b[0m\n",
      "  File \u001b[35m\"/Library/Frameworks/Python.framework/Versions/3.13/lib/python3.13/multiprocessing/spawn.py\"\u001b[0m, line \u001b[35m122\u001b[0m, in \u001b[35mspawn_main\u001b[0m\n",
      "    exitcode = _main(fd, parent_sentinel)\n",
      "  File \u001b[35m\"/Library/Frameworks/Python.framework/Versions/3.13/lib/python3.13/multiprocessing/spawn.py\"\u001b[0m, line \u001b[35m132\u001b[0m, in \u001b[35m_main\u001b[0m\n",
      "    self = reduction.pickle.load(from_parent)\n",
      "\u001b[1;35mAttributeError\u001b[0m: \u001b[35mCan't get attribute 'print_data' on <module '__main__' (<class '_frozen_importlib.BuiltinImporter'>)>\u001b[0m\n"
     ]
    }
   ],
   "source": [
    "def print_data():\n",
    "    print(\"42\")\n",
    "\n",
    "proc = mp.Process(target=print_data)\n",
    "proc.start()\n",
    "proc.join()"
   ]
  },
  {
   "cell_type": "code",
   "execution_count": 18,
   "id": "f53726f0-f669-45ef-ac26-5774ada90871",
   "metadata": {},
   "outputs": [
    {
     "name": "stdout",
     "output_type": "stream",
     "text": [
      "42\n"
     ]
    }
   ],
   "source": [
    "def print_data():\n",
    "    print(\"42\")\n",
    "\n",
    "\n",
    "proc_ctx = mp.get_context(\"fork\")\n",
    "\n",
    "proc = proc_ctx.Process(target=print_data)\n",
    "proc.start()\n",
    "proc.join()"
   ]
  },
  {
   "cell_type": "code",
   "execution_count": 10,
   "id": "de94eaee-11eb-4af5-bdb0-a00da1e58376",
   "metadata": {},
   "outputs": [
    {
     "data": {
      "text/plain": [
       "'spawn'"
      ]
     },
     "execution_count": 10,
     "metadata": {},
     "output_type": "execute_result"
    }
   ],
   "source": [
    "mp.get_start_method()"
   ]
  },
  {
   "cell_type": "code",
   "execution_count": 11,
   "id": "3598c9c5-12cb-415a-ba1c-94ebdd2f025e",
   "metadata": {},
   "outputs": [],
   "source": [
    "class Person:\n",
    "    def __init__(self, name):\n",
    "        self.name = name\n",
    "\n",
    "\n",
    "def update_data(data):\n",
    "    print(\"update_data\", data)\n",
    "\n",
    "    data[1] = \"one\"\n",
    "    data[(\"str\", 42)] = \"str42\"\n",
    "    data[\"pers\"] = Person(\"steve\")\n",
    "    \n",
    "    print(\"finished update_data\", data)"
   ]
  },
  {
   "cell_type": "code",
   "execution_count": 14,
   "id": "113594a1-2840-4d74-b20c-30f1abca3ed4",
   "metadata": {},
   "outputs": [
    {
     "name": "stdout",
     "output_type": "stream",
     "text": [
      "update_data {}\n",
      "finished update_data {1: 'one', ('str', 42): 'str42', 'pers': <__main__.Person object at 0x112cffed0>}\n"
     ]
    }
   ],
   "source": [
    "update_data({})"
   ]
  },
  {
   "cell_type": "code",
   "execution_count": 15,
   "id": "3e3e8f0c-9118-497c-b80d-ca2deff3a741",
   "metadata": {},
   "outputs": [
    {
     "name": "stdout",
     "output_type": "stream",
     "text": [
      "data before update {1: 'initial_one'}\n",
      "update_data {1: 'initial_one'}\n",
      "finished update_data {1: 'one', ('str', 42): 'str42', 'pers': <__main__.Person object at 0x1131163f0>}\n",
      "data after update {1: 'initial_one'}\n"
     ]
    }
   ],
   "source": [
    "data = {1: \"initial_one\"}\n",
    "\n",
    "print(\"data before update\", data)\n",
    "\n",
    "proc = proc_ctx.Process(target=update_data, args=(data,))\n",
    "proc.start()\n",
    "proc.join()\n",
    "\n",
    "print(\"data after update\", data)"
   ]
  },
  {
   "cell_type": "code",
   "execution_count": null,
   "id": "fb5b14ee-cef1-4a91-8299-05d1945905f4",
   "metadata": {},
   "outputs": [],
   "source": []
  },
  {
   "cell_type": "code",
   "execution_count": null,
   "id": "da1055d2-c35f-4677-9870-45b921a515b0",
   "metadata": {},
   "outputs": [],
   "source": []
  },
  {
   "cell_type": "code",
   "execution_count": 23,
   "id": "eefd3467-945e-4860-931c-884691d7158f",
   "metadata": {},
   "outputs": [
    {
     "name": "stdout",
     "output_type": "stream",
     "text": [
      "data before update {1: 'initial_one'}\n",
      "update_data {1: 'initial_one'}\n",
      "finished update_data {1: 'one', ('str', 42): 'str42', 'pers': <__main__.Person object at 0x1123d6cf0>}\n",
      "data after update {1: 'one', ('str', 42): 'str42', 'pers': <__main__.Person object at 0x1123d6cf0>}\n"
     ]
    }
   ],
   "source": [
    "class Person:\n",
    "    def __init__(self, name):\n",
    "        self.name = name\n",
    "\n",
    "\n",
    "def update_data(data):\n",
    "    print(\"update_data\", data)\n",
    "\n",
    "    data[1] = \"one\"\n",
    "    data[(\"str\", 42)] = \"str42\"\n",
    "    data[\"pers\"] = Person(\"steve\")\n",
    "\n",
    "    print(\"finished update_data\", data)\n",
    "\n",
    "\n",
    "with proc_ctx.Manager() as manager:\n",
    "    data = manager.dict()\n",
    "    data[1] = \"initial_one\"\n",
    "    print(\"data before update\", data)\n",
    "    \n",
    "    proc = proc_ctx.Process(target=update_data, args=(data,))\n",
    "    proc.start()\n",
    "    proc.join()\n",
    "\n",
    "    print(\"data after update\", data)\n",
    "    backup = dict(data)"
   ]
  },
  {
   "cell_type": "code",
   "execution_count": 24,
   "id": "758b7fcf-1502-4e8a-99d7-0033efe6b8fa",
   "metadata": {},
   "outputs": [
    {
     "data": {
      "text/plain": [
       "<__main__.Person at 0x1123d4ec0>"
      ]
     },
     "execution_count": 24,
     "metadata": {},
     "output_type": "execute_result"
    }
   ],
   "source": [
    "backup[\"pers\"]"
   ]
  },
  {
   "cell_type": "code",
   "execution_count": 25,
   "id": "ae8ffa9d-5ba4-46f4-a14d-adbbc0627962",
   "metadata": {},
   "outputs": [
    {
     "data": {
      "text/plain": [
       "{1: 'one', ('str', 42): 'str42', 'pers': <__main__.Person at 0x1123d4ec0>}"
      ]
     },
     "execution_count": 25,
     "metadata": {},
     "output_type": "execute_result"
    }
   ],
   "source": [
    "backup"
   ]
  },
  {
   "cell_type": "code",
   "execution_count": null,
   "id": "f6fd84e8-cb3e-409b-9568-0835464d42e6",
   "metadata": {},
   "outputs": [],
   "source": []
  },
  {
   "cell_type": "code",
   "execution_count": 24,
   "id": "378da8bc-f1ac-4719-a3c0-a34cfbe9ebed",
   "metadata": {},
   "outputs": [
    {
     "name": "stdout",
     "output_type": "stream",
     "text": [
      "start server\n",
      "start client\n",
      "server accepted client ('127.0.0.1', 50275)\n",
      "server finished to clientclient recv from server  ('127.0.0.1', 50275)КРУЖКА\n",
      "\n",
      "client finished\n",
      "total finish\n",
      "server accepted client ('127.0.0.1', 50316)\n",
      "server finished to client ('127.0.0.1', 50316)\n",
      "server accepted client ('127.0.0.1', 50350)\n",
      "server finished to client ('127.0.0.1', 50350)\n",
      "server accepted client ('127.0.0.1', 50374)\n",
      "server finished to client ('127.0.0.1', 50374)\n",
      "server accepted client ('127.0.0.1', 50412)\n",
      "server finished to client ('127.0.0.1', 50412)\n",
      "server finished\n"
     ]
    }
   ],
   "source": [
    "def server():\n",
    "    print(\"start server\")\n",
    "    with socket.socket(socket.AF_INET, socket.SOCK_STREAM) as sock:\n",
    "        sock.setsockopt(socket.SOL_SOCKET, socket.SO_REUSEADDR, 1)\n",
    "\n",
    "        sock.bind((\"localhost\", 20_000))\n",
    "        sock.listen(5)\n",
    "\n",
    "        i = 5\n",
    "        while i > 0:\n",
    "            i -= 1\n",
    "            \n",
    "            client_sock, address = sock.accept()\n",
    "            print(\"server accepted client\", address)\n",
    "\n",
    "            data = client_sock.recv(1048)\n",
    "            data = data.decode().upper()\n",
    "            client_sock.sendall(data.encode())\n",
    "            print(\"server finished to client\", address)\n",
    "\n",
    "    print(\"server finished\")\n",
    "\n",
    "\n",
    "def client(data):\n",
    "    print(\"start client\")\n",
    "    with socket.socket(socket.AF_INET, socket.SOCK_STREAM) as sock:\n",
    "        sock.connect((\"localhost\", 20_000))\n",
    "\n",
    "        sock.sendall(data.encode())\n",
    "\n",
    "        data = sock.recv(1048).decode()\n",
    "        print(\"client recv from server\", data)\n",
    "\n",
    "    print(\"client finished\")\n",
    "\n",
    "\n",
    "proc_server = proc_ctx.Process(target=server)\n",
    "proc_client = proc_ctx.Process(target=client, args=(\"кружка\",))\n",
    "\n",
    "proc_server.start()\n",
    "time.sleep(1)\n",
    "proc_client.start()\n",
    "\n",
    "# proc_server.join()\n",
    "proc_client.join()\n",
    "\n",
    "print(\"total finish\")"
   ]
  },
  {
   "cell_type": "code",
   "execution_count": 25,
   "id": "c708863e-75d3-4ba0-853b-e84a51ada687",
   "metadata": {},
   "outputs": [
    {
     "data": {
      "text/plain": [
       "True"
      ]
     },
     "execution_count": 25,
     "metadata": {},
     "output_type": "execute_result"
    }
   ],
   "source": [
    "proc_server.is_alive()"
   ]
  },
  {
   "cell_type": "code",
   "execution_count": 26,
   "id": "2d1d467b-d28c-44ad-867f-400f08aef378",
   "metadata": {},
   "outputs": [
    {
     "name": "stdout",
     "output_type": "stream",
     "text": [
      "start client\n",
      "client recv from server НОУТ\n",
      "client finished\n"
     ]
    }
   ],
   "source": [
    "proc_client = proc_ctx.Process(target=client, args=(\"ноут\",))\n",
    "proc_client.start()\n",
    "proc_client.join()"
   ]
  },
  {
   "cell_type": "code",
   "execution_count": 27,
   "id": "8ef70df8-90ec-4980-9723-5f8b9e66a3aa",
   "metadata": {},
   "outputs": [
    {
     "name": "stdout",
     "output_type": "stream",
     "text": [
      "start client\n",
      "client recv from server НОУТ\n",
      "client finished\n"
     ]
    }
   ],
   "source": [
    "proc_client = proc_ctx.Process(target=client, args=(\"ноут\",))\n",
    "proc_client.start()\n",
    "proc_client.join()"
   ]
  },
  {
   "cell_type": "code",
   "execution_count": 28,
   "id": "71884bf1-3fe8-4ae9-ad5c-77140f252112",
   "metadata": {},
   "outputs": [
    {
     "name": "stdout",
     "output_type": "stream",
     "text": [
      "start client\n",
      "client recv from server НОУТ\n",
      "client finished\n"
     ]
    }
   ],
   "source": [
    "proc_client = proc_ctx.Process(target=client, args=(\"ноут\",))\n",
    "proc_client.start()\n",
    "proc_client.join()"
   ]
  },
  {
   "cell_type": "code",
   "execution_count": 29,
   "id": "c7d3c515-d72e-4771-9a9d-2879919c67a7",
   "metadata": {},
   "outputs": [
    {
     "name": "stdout",
     "output_type": "stream",
     "text": [
      "start client\n",
      "client recv from server ТЕТРАДЬ\n",
      "client finished\n"
     ]
    }
   ],
   "source": [
    "proc_client = proc_ctx.Process(target=client, args=(\"тетрадь\",))\n",
    "proc_client.start()\n",
    "proc_client.join()"
   ]
  },
  {
   "cell_type": "code",
   "execution_count": 30,
   "id": "a576e39a-53d1-4358-b92c-14ee83352211",
   "metadata": {},
   "outputs": [
    {
     "name": "stdout",
     "output_type": "stream",
     "text": [
      "False\n",
      "start client\n"
     ]
    },
    {
     "name": "stderr",
     "output_type": "stream",
     "text": [
      "Process ForkProcess-31:\n",
      "Traceback (most recent call last):\n",
      "  File \"/Library/Frameworks/Python.framework/Versions/3.13/lib/python3.13/multiprocessing/process.py\", line 313, in _bootstrap\n",
      "    self.run()\n",
      "    ~~~~~~~~^^\n",
      "  File \"/Library/Frameworks/Python.framework/Versions/3.13/lib/python3.13/multiprocessing/process.py\", line 108, in run\n",
      "    self._target(*self._args, **self._kwargs)\n",
      "    ~~~~~~~~~~~~^^^^^^^^^^^^^^^^^^^^^^^^^^^^^\n",
      "  File \"/var/folders/c1/9wdb7dps2x332c6l1y2hrqkh0000gp/T/ipykernel_76265/2931819710.py\", line 27, in client\n",
      "    sock.connect((\"localhost\", 20_000))\n",
      "    ~~~~~~~~~~~~^^^^^^^^^^^^^^^^^^^^^^^\n",
      "ConnectionRefusedError: [Errno 61] Connection refused\n"
     ]
    }
   ],
   "source": [
    "print(proc_server.is_alive())\n",
    "\n",
    "proc_client = proc_ctx.Process(target=client, args=(\"ноут\",))\n",
    "proc_client.start()\n",
    "proc_client.join()"
   ]
  },
  {
   "cell_type": "code",
   "execution_count": null,
   "id": "4dba9c52-6939-41ab-a86c-1ec1f88e0a66",
   "metadata": {},
   "outputs": [],
   "source": []
  },
  {
   "cell_type": "code",
   "execution_count": null,
   "id": "be33dc53-d95e-40e7-8a91-6326ace16876",
   "metadata": {},
   "outputs": [],
   "source": []
  },
  {
   "cell_type": "code",
   "execution_count": null,
   "id": "91cd570f-6953-4706-8cb8-51eeb90946b4",
   "metadata": {},
   "outputs": [],
   "source": []
  },
  {
   "cell_type": "code",
   "execution_count": 33,
   "id": "9274e9ca-e253-4ebb-86d1-be384945f866",
   "metadata": {},
   "outputs": [],
   "source": [
    "import asyncio"
   ]
  },
  {
   "cell_type": "code",
   "execution_count": 35,
   "id": "0cf56d22-4206-40e7-819d-506c29fb52d7",
   "metadata": {},
   "outputs": [
    {
     "name": "stdout",
     "output_type": "stream",
     "text": [
      "started at 21:04:06\n",
      "hello\n",
      "world\n",
      "finished at 21:04:09\n",
      "total_time 3.0034570693969727\n"
     ]
    }
   ],
   "source": [
    "async def say_after(delay, what):\n",
    "    await asyncio.sleep(delay)\n",
    "    print(what)\n",
    "\n",
    "\n",
    "async def main():\n",
    "    print(f\"started at {time.strftime('%X')}\")\n",
    "    await say_after(1, 'hello')\n",
    "    await say_after(2, 'world')\n",
    "    print(f\"finished at {time.strftime('%X')}\")\n",
    "\n",
    "\n",
    "t1 = time.time()\n",
    "\n",
    "await main()\n",
    "\n",
    "t2 = time.time()\n",
    "print(\"total_time\", t2 - t1)"
   ]
  },
  {
   "cell_type": "code",
   "execution_count": null,
   "id": "9e6d1aa4-b7da-445f-9fc6-1651436e8225",
   "metadata": {},
   "outputs": [],
   "source": []
  },
  {
   "cell_type": "code",
   "execution_count": 36,
   "id": "59ccde23-a62f-4712-bafd-73f059340a1c",
   "metadata": {},
   "outputs": [
    {
     "name": "stdout",
     "output_type": "stream",
     "text": [
      "started at 21:04:47\n",
      "world\n",
      "hello\n",
      "finished at 21:04:50\n",
      "total_time 3.002131938934326\n"
     ]
    }
   ],
   "source": [
    "async def say_after(delay, what):\n",
    "    await asyncio.sleep(delay)\n",
    "    print(what)\n",
    "\n",
    "\n",
    "async def main():\n",
    "    print(f\"started at {time.strftime('%X')}\")\n",
    "    say1 = say_after(1, 'hello')\n",
    "    await say_after(2, 'world')\n",
    "    await say1\n",
    "    print(f\"finished at {time.strftime('%X')}\")\n",
    "\n",
    "\n",
    "t1 = time.time()\n",
    "\n",
    "await main()\n",
    "\n",
    "t2 = time.time()\n",
    "print(\"total_time\", t2 - t1)"
   ]
  },
  {
   "cell_type": "code",
   "execution_count": null,
   "id": "4d83490b-d840-4953-87eb-eb0753ed0ecb",
   "metadata": {},
   "outputs": [],
   "source": []
  },
  {
   "cell_type": "code",
   "execution_count": null,
   "id": "21f3ca96-2317-45f1-8653-4a1a3ed1e69f",
   "metadata": {},
   "outputs": [],
   "source": []
  },
  {
   "cell_type": "code",
   "execution_count": 37,
   "id": "2b8d5845-a6bc-4aa4-aa21-41567b8a08cd",
   "metadata": {},
   "outputs": [
    {
     "name": "stdout",
     "output_type": "stream",
     "text": [
      "started at 21:05:42\n",
      "hello\n",
      "world\n",
      "finished at 21:05:44\n",
      "total_time 2.001389980316162\n"
     ]
    }
   ],
   "source": [
    "async def say_after(delay, what):\n",
    "    await asyncio.sleep(delay)\n",
    "    print(what)\n",
    "\n",
    "\n",
    "async def main():\n",
    "    print(f\"started at {time.strftime('%X')}\")\n",
    "    say1 = asyncio.create_task(say_after(1, 'hello'))\n",
    "    await say_after(2, 'world')\n",
    "    await say1\n",
    "    print(f\"finished at {time.strftime('%X')}\")\n",
    "\n",
    "\n",
    "t1 = time.time()\n",
    "\n",
    "await main()\n",
    "\n",
    "t2 = time.time()\n",
    "print(\"total_time\", t2 - t1)"
   ]
  },
  {
   "cell_type": "code",
   "execution_count": null,
   "id": "0ccce981-9a67-4c5d-8a3e-13903927d923",
   "metadata": {},
   "outputs": [],
   "source": []
  },
  {
   "cell_type": "code",
   "execution_count": null,
   "id": "2d8051c2-3621-4e26-8018-50f6d20032d1",
   "metadata": {},
   "outputs": [],
   "source": [
    "async def say_after(delay, what):\n",
    "    await asyncio.sleep(delay)\n",
    "    print(what)\n",
    "\n",
    "\n",
    "async def main():\n",
    "    print(f\"started at {time.strftime('%X')}\")\n",
    "    say1 = asyncio.create_task(say_after(1, 'hello'))\n",
    "    await say_after(2, 'world')\n",
    "    await say1\n",
    "    print(f\"finished at {time.strftime('%X')}\")\n",
    "\n",
    "\n",
    "t1 = time.time()\n",
    "\n",
    "await main()\n",
    "\n",
    "t2 = time.time()\n",
    "print(\"total_time\", t2 - t1)"
   ]
  },
  {
   "cell_type": "code",
   "execution_count": null,
   "id": "af8f41c2-34e2-4902-8044-64e0374b93a4",
   "metadata": {},
   "outputs": [],
   "source": []
  },
  {
   "cell_type": "code",
   "execution_count": 38,
   "id": "a8099f49-3a91-40e4-a550-69c8002e8e0c",
   "metadata": {},
   "outputs": [
    {
     "name": "stdout",
     "output_type": "stream",
     "text": [
      "started at 21:08:00\n",
      "world\n",
      "hello\n",
      "finished at 21:08:03\n",
      "total_time 3.0099399089813232\n"
     ]
    }
   ],
   "source": [
    "async def say_after(delay, what):\n",
    "    time.sleep(delay)\n",
    "    print(what)\n",
    "\n",
    "\n",
    "async def main():\n",
    "    print(f\"started at {time.strftime('%X')}\")\n",
    "    say1 = asyncio.create_task(say_after(1, 'hello'))\n",
    "    await say_after(2, 'world')\n",
    "    await say1\n",
    "    print(f\"finished at {time.strftime('%X')}\")\n",
    "\n",
    "\n",
    "t1 = time.time()\n",
    "\n",
    "await main()\n",
    "\n",
    "t2 = time.time()\n",
    "print(\"total_time\", t2 - t1)"
   ]
  },
  {
   "cell_type": "code",
   "execution_count": null,
   "id": "ca238c17-9b4c-4956-b4f0-146b4be4f2d4",
   "metadata": {},
   "outputs": [],
   "source": []
  },
  {
   "cell_type": "code",
   "execution_count": 45,
   "id": "939abd5e-0028-4f2c-be01-5133ae31abab",
   "metadata": {},
   "outputs": [
    {
     "name": "stdout",
     "output_type": "stream",
     "text": [
      "started at 21:17:17\n",
      "after sleep in main\n",
      "hello 1 1.000389814376831\n",
      "world 2 2.0008420944213867\n",
      "finished at 21:17:21\n",
      "total_time 4.033520936965942\n"
     ]
    }
   ],
   "source": [
    "async def say_after(delay, what):\n",
    "    t1 = time.time()\n",
    "    await asyncio.sleep(delay)\n",
    "    t2 = time.time()\n",
    "    print(what, delay, t2 - t1)\n",
    "\n",
    "\n",
    "async def main():\n",
    "    print(f\"started at {time.strftime('%X')}\")\n",
    "    \n",
    "    say1 = asyncio.create_task(say_after(1, 'hello'))\n",
    "    time.sleep(2)\n",
    "    print(\"after sleep in main\")\n",
    "    say2 = asyncio.create_task(say_after(2, 'world'))\n",
    "    \n",
    "    await asyncio.gather(say1, say2)\n",
    "    print(f\"finished at {time.strftime('%X')}\")\n",
    "\n",
    "\n",
    "t1 = time.time()\n",
    "\n",
    "await main()\n",
    "\n",
    "t2 = time.time()\n",
    "print(\"total_time\", t2 - t1)"
   ]
  },
  {
   "cell_type": "code",
   "execution_count": null,
   "id": "f97d326a-1672-4b12-b044-0ca936030410",
   "metadata": {},
   "outputs": [],
   "source": []
  },
  {
   "cell_type": "code",
   "execution_count": 49,
   "id": "9a8c3876-ea81-43bf-94eb-a88a2d9efe7b",
   "metadata": {},
   "outputs": [],
   "source": [
    "import aiohttp"
   ]
  },
  {
   "cell_type": "code",
   "execution_count": 66,
   "id": "c4136487-2f2c-4bab-ac21-0b38e974d0a0",
   "metadata": {},
   "outputs": [
    {
     "name": "stdout",
     "output_type": "stream",
     "text": [
      "batch time 10.082428216934204\n"
     ]
    }
   ],
   "source": [
    "URL = \"https://docs.python.org/3/whatsnew/3.13.html\"\n",
    "URLS = [URL] * 10\n",
    "\n",
    "\n",
    "async def fetch_url(session, url):\n",
    "    await asyncio.sleep(1)\n",
    "    # async with session.get(url) as resp:\n",
    "    #     return await resp.text()\n",
    "\n",
    "\n",
    "async def fetch_batch_urls(urls):\n",
    "    async with aiohttp.ClientSession() as session:\n",
    "        tasks = [fetch_url(session, url) for url in urls]\n",
    "\n",
    "        for task in tasks:\n",
    "            await task\n",
    "\n",
    "\n",
    "async def run():\n",
    "    t1 = time.time()\n",
    "    await fetch_batch_urls(URLS)\n",
    "    t2 = time.time()\n",
    "    print(\"batch time\", t2 - t1)\n",
    "\n",
    "\n",
    "await run()"
   ]
  },
  {
   "cell_type": "code",
   "execution_count": null,
   "id": "f9f4ad37-ec8e-490d-ad76-2f77a2e1c3a8",
   "metadata": {},
   "outputs": [],
   "source": []
  },
  {
   "cell_type": "code",
   "execution_count": 67,
   "id": "2e4e6899-687b-4baa-9b09-5551ad8beb1e",
   "metadata": {},
   "outputs": [
    {
     "name": "stdout",
     "output_type": "stream",
     "text": [
      "10\n",
      "batch time 1.1302556991577148\n"
     ]
    }
   ],
   "source": [
    "URL = \"https://docs.python.org/3/whatsnew/3.13.html\"\n",
    "URLS = [URL] * 10\n",
    "\n",
    "\n",
    "async def fetch_url(session, url):\n",
    "    await asyncio.sleep(1)\n",
    "    # async with session.get(url) as resp:\n",
    "    #     return await resp.text()\n",
    "\n",
    "\n",
    "async def fetch_batch_urls(urls):\n",
    "    async with aiohttp.ClientSession() as session:\n",
    "        tasks = [fetch_url(session, url) for url in urls]\n",
    "\n",
    "        res = await asyncio.gather(*tasks)\n",
    "        print(len(res))\n",
    "\n",
    "\n",
    "async def run():\n",
    "    t1 = time.time()\n",
    "    await fetch_batch_urls(URLS)\n",
    "    t2 = time.time()\n",
    "    print(\"batch time\", t2 - t1)\n",
    "\n",
    "\n",
    "await run()"
   ]
  },
  {
   "cell_type": "code",
   "execution_count": null,
   "id": "62f40730-46c0-45d1-bf88-cd1305a06922",
   "metadata": {},
   "outputs": [],
   "source": []
  },
  {
   "cell_type": "code",
   "execution_count": null,
   "id": "7962d5bf-b17a-4f33-b441-482267f887eb",
   "metadata": {},
   "outputs": [],
   "source": []
  },
  {
   "cell_type": "code",
   "execution_count": null,
   "id": "110bee4a-b40c-4e95-8e35-131548caced3",
   "metadata": {},
   "outputs": [],
   "source": []
  },
  {
   "cell_type": "code",
   "execution_count": null,
   "id": "8d5cd4ad-d74b-4830-91ce-bce8101167a8",
   "metadata": {},
   "outputs": [],
   "source": []
  },
  {
   "cell_type": "code",
   "execution_count": 70,
   "id": "5d2b8d03-f629-4c6b-b5de-921586799907",
   "metadata": {},
   "outputs": [
    {
     "name": "stdout",
     "output_type": "stream",
     "text": [
      "fetch_worker started worker_0\n",
      "fetch_worker started worker_1\n",
      "fetch_worker finished worker_0\n",
      "fetch_worker finished worker_1\n",
      "batch time 5.003886938095093\n"
     ]
    }
   ],
   "source": [
    "URL = \"https://docs.python.org/3/whatsnew/3.13.html\"\n",
    "URLS = [URL] * 10\n",
    "WORKERS = 2\n",
    "\n",
    "\n",
    "async def fetch_url(session, url):\n",
    "    await asyncio.sleep(1)\n",
    "    # async with session.get(url) as resp:\n",
    "    #     return await resp.text()\n",
    "\n",
    "\n",
    "async def fetch_worker(session, que, name):\n",
    "    print(\"fetch_worker started\", name)\n",
    "    while True:\n",
    "        url = await que.get()\n",
    "\n",
    "        if url is None:\n",
    "            await que.put(url)\n",
    "            break\n",
    "\n",
    "        try:\n",
    "            result = await fetch_url(session, url)\n",
    "        except Exception as err:\n",
    "            print(\"error\", err)\n",
    "\n",
    "    print(\"fetch_worker finished\", name)\n",
    "\n",
    "\n",
    "async def run():\n",
    "    t1 = time.time()\n",
    "\n",
    "    que = asyncio.Queue()\n",
    "    for url in URLS:\n",
    "        await que.put(url)\n",
    "    await que.put(None)\n",
    "\n",
    "    async with aiohttp.ClientSession() as session:\n",
    "        workers = [\n",
    "            fetch_worker(session, que, f\"worker_{i}\")\n",
    "            for i in range(WORKERS)\n",
    "        ]\n",
    "        await asyncio.gather(*workers)\n",
    "\n",
    "    t2 = time.time()\n",
    "    print(\"batch time\", t2 - t1)\n",
    "\n",
    "\n",
    "await run()"
   ]
  },
  {
   "cell_type": "code",
   "execution_count": 1,
   "id": "cb1ea6f8-29bc-408d-bfe6-9593d712d410",
   "metadata": {},
   "outputs": [],
   "source": [
    "import asyncio\n",
    "import aiohttp\n",
    "import time"
   ]
  },
  {
   "cell_type": "code",
   "execution_count": 3,
   "id": "ed0527d7-e104-4771-9139-b0e19710472e",
   "metadata": {},
   "outputs": [
    {
     "name": "stdout",
     "output_type": "stream",
     "text": [
      "queue\n",
      "workers\n",
      "fetch_worker started worker_0\n",
      "fetch_worker started worker_1\n",
      "batch time 5.025568008422852\n"
     ]
    }
   ],
   "source": [
    "URL = \"https://docs.python.org/3/whatsnew/3.13.html\"\n",
    "URLS = [URL] * 10\n",
    "WORKERS = 2\n",
    "\n",
    "\n",
    "async def fetch_url(session, url):\n",
    "    await asyncio.sleep(1)\n",
    "    # async with session.get(url) as resp:\n",
    "    #     return await resp.text()\n",
    "\n",
    "\n",
    "async def fetch_worker(session, que, name):\n",
    "    print(\"fetch_worker started\", name)\n",
    "    while True:\n",
    "        url = await que.get()\n",
    "\n",
    "        try:\n",
    "            result = await fetch_url(session, url)\n",
    "        except Exception as err:\n",
    "            print(\"error\", err)\n",
    "        finally:\n",
    "            que.task_done()\n",
    "\n",
    "    print(\"fetch_worker finished\", name)\n",
    "\n",
    "\n",
    "async def run():\n",
    "    t1 = time.time()\n",
    "\n",
    "    que = asyncio.Queue()\n",
    "    for url in URLS:\n",
    "        await que.put(url)\n",
    "\n",
    "    print(\"queue\")\n",
    "\n",
    "    async with aiohttp.ClientSession() as session:\n",
    "        workers = [\n",
    "            asyncio.create_task(\n",
    "                fetch_worker(session, que, f\"worker_{i}\")\n",
    "            )\n",
    "            for i in range(WORKERS)\n",
    "        ]\n",
    "        print(\"workers\")\n",
    "\n",
    "        await que.join()\n",
    "\n",
    "        for worker in workers:\n",
    "            worker.cancel()\n",
    "\n",
    "    t2 = time.time()\n",
    "    print(\"batch time\", t2 - t1)\n",
    "\n",
    "\n",
    "await run()"
   ]
  },
  {
   "cell_type": "code",
   "execution_count": null,
   "id": "9500b0f0-5866-4d5a-b744-ab96ed9a5d3e",
   "metadata": {},
   "outputs": [],
   "source": []
  },
  {
   "cell_type": "code",
   "execution_count": null,
   "id": "a634d368-6fd1-4d8c-af27-252018cfb7bd",
   "metadata": {},
   "outputs": [],
   "source": []
  },
  {
   "cell_type": "code",
   "execution_count": null,
   "id": "d810e1a7-84bf-47f5-a771-7ab582c61db0",
   "metadata": {},
   "outputs": [],
   "source": []
  },
  {
   "cell_type": "code",
   "execution_count": 33,
   "id": "d83c1b23-1827-4543-8781-8b45e579b8d7",
   "metadata": {},
   "outputs": [],
   "source": [
    "import time\n",
    "import asyncio\n",
    "import aiohttp"
   ]
  },
  {
   "cell_type": "code",
   "execution_count": 34,
   "id": "6f78dfd2-f741-4cf6-8408-1e76f6913268",
   "metadata": {},
   "outputs": [],
   "source": [
    "def do_timeit(coro):\n",
    "    async def inner(*args, **kwargs):\n",
    "        t1 = time.time()\n",
    "        try:\n",
    "            res = await coro(*args, **kwargs)\n",
    "        finally:\n",
    "            t2 = time.time()\n",
    "            print(f\"total time: {t2 - t1}\")\n",
    "\n",
    "        return res\n",
    "\n",
    "    return inner"
   ]
  },
  {
   "cell_type": "code",
   "execution_count": 37,
   "id": "78006712-7485-47e0-bdb6-1dbf79205bb6",
   "metadata": {},
   "outputs": [
    {
     "name": "stdout",
     "output_type": "stream",
     "text": [
      "queue\n",
      "workers\n",
      "fetch_worker started worker_0\n",
      "fetch_worker started worker_1\n",
      "fetch_worker started worker_2\n",
      "fetch_worker started worker_3\n",
      "fetch_worker started worker_4\n",
      "fetch_worker started worker_5\n",
      "fetch_worker started worker_6\n",
      "fetch_worker started worker_7\n",
      "fetch_worker started worker_8\n",
      "fetch_worker started worker_9\n",
      "total time: 7.023946046829224\n"
     ]
    }
   ],
   "source": [
    "URL = \"https://docs.python.org/3/whatsnew/3.13.html\"\n",
    "URLS = [URL] * 20\n",
    "WORKERS = 10\n",
    "\n",
    "\n",
    "async def fetch_url(session, sem, url):\n",
    "    async with sem:\n",
    "        await asyncio.sleep(1)\n",
    "        # async with session.get(url) as resp:\n",
    "        #     return await resp.text()\n",
    "\n",
    "\n",
    "async def fetch_worker(session, que, sem, name):\n",
    "    print(\"fetch_worker started\", name)\n",
    "    while True:\n",
    "        url = await que.get()\n",
    "\n",
    "        try:\n",
    "            result = await fetch_url(session, sem, url)\n",
    "        except Exception as err:\n",
    "            print(\"error\", err)\n",
    "        finally:\n",
    "            que.task_done()\n",
    "\n",
    "    print(\"fetch_worker finished\", name)\n",
    "\n",
    "\n",
    "@do_timeit\n",
    "async def run():\n",
    "    que = asyncio.Queue()\n",
    "    for url in URLS:\n",
    "        await que.put(url)\n",
    "\n",
    "    print(\"queue\")\n",
    "\n",
    "    sem = asyncio.Semaphore(3)\n",
    "\n",
    "    async with aiohttp.ClientSession() as session:\n",
    "        workers = [\n",
    "            asyncio.create_task(\n",
    "                fetch_worker(session, que, sem, f\"worker_{i}\")\n",
    "            )\n",
    "            for i in range(WORKERS)\n",
    "        ]\n",
    "        print(\"workers\")\n",
    "\n",
    "        await que.join()\n",
    "\n",
    "        for worker in workers:\n",
    "            worker.cancel()\n",
    "\n",
    "\n",
    "await run()"
   ]
  },
  {
   "cell_type": "code",
   "execution_count": null,
   "id": "17a856b5-9106-4f41-8ede-c098514b2850",
   "metadata": {},
   "outputs": [],
   "source": []
  },
  {
   "cell_type": "code",
   "execution_count": null,
   "id": "3406ded1-9caf-433c-bfa8-7a56da5b03ee",
   "metadata": {},
   "outputs": [],
   "source": []
  },
  {
   "cell_type": "code",
   "execution_count": 39,
   "id": "66cdb38f-5a5d-481c-a0c0-c3ccacb10dec",
   "metadata": {},
   "outputs": [
    {
     "name": "stdout",
     "output_type": "stream",
     "text": [
      "start blocking api n=5\n",
      "finish blocking api n=5\n",
      "start non-blocking api n=5\n",
      "finish non-blocking api n=5\n",
      "total time: 10.006846189498901\n"
     ]
    }
   ],
   "source": [
    "async def bloking_api(n):\n",
    "    print(f\"start blocking api {n=}\")\n",
    "\n",
    "    time.sleep(n)\n",
    "\n",
    "    print(f\"finish blocking api {n=}\")\n",
    "\n",
    "\n",
    "async def non_blocking_api(n):\n",
    "    print(f\"start non-blocking api {n=}\")\n",
    "\n",
    "    await asyncio.sleep(n)\n",
    "    print(f\"finish non-blocking api {n=}\")\n",
    "\n",
    "\n",
    "@do_timeit\n",
    "async def run(n):\n",
    "    await asyncio.gather(bloking_api(n), non_blocking_api(n))\n",
    "\n",
    "\n",
    "await run(5)"
   ]
  },
  {
   "cell_type": "code",
   "execution_count": 40,
   "id": "db3e1414-e922-4191-9565-3ff0a49e565c",
   "metadata": {},
   "outputs": [
    {
     "name": "stdout",
     "output_type": "stream",
     "text": [
      "start blocking api n=5\n",
      "start non-blocking api n=5\n",
      "finish non-blocking api n=5\n",
      "finish blocking api n=5\n",
      "total time: 5.005144119262695\n"
     ]
    }
   ],
   "source": [
    "async def bloking_api(n):\n",
    "    print(f\"start blocking api {n=}\")\n",
    "\n",
    "    await asyncio.to_thread(time.sleep, n)\n",
    "\n",
    "    print(f\"finish blocking api {n=}\")\n",
    "\n",
    "\n",
    "async def non_blocking_api(n):\n",
    "    print(f\"start non-blocking api {n=}\")\n",
    "\n",
    "    await asyncio.sleep(n)\n",
    "    print(f\"finish non-blocking api {n=}\")\n",
    "\n",
    "\n",
    "@do_timeit\n",
    "async def run(n):\n",
    "    await asyncio.gather(bloking_api(n), non_blocking_api(n))\n",
    "\n",
    "\n",
    "await run(5)"
   ]
  },
  {
   "cell_type": "code",
   "execution_count": 41,
   "id": "1bea60a1-5e40-46bb-b09f-aa0206b38dcb",
   "metadata": {},
   "outputs": [],
   "source": [
    "import concurrent.futures"
   ]
  },
  {
   "cell_type": "code",
   "execution_count": 42,
   "id": "c9081761-0d54-454a-b6ca-863e331fa980",
   "metadata": {},
   "outputs": [
    {
     "data": {
      "text/plain": [
       "concurrent.futures._base.Future"
      ]
     },
     "execution_count": 42,
     "metadata": {},
     "output_type": "execute_result"
    }
   ],
   "source": [
    "concurrent.futures.Future"
   ]
  },
  {
   "cell_type": "code",
   "execution_count": 43,
   "id": "cdc0fce4-011e-4d62-8943-25ec36b41ad9",
   "metadata": {},
   "outputs": [],
   "source": [
    "import asyncio.futures"
   ]
  },
  {
   "cell_type": "code",
   "execution_count": 44,
   "id": "303a2bc6-56e3-4062-aade-c70a61f6664f",
   "metadata": {},
   "outputs": [
    {
     "data": {
      "text/plain": [
       "False"
      ]
     },
     "execution_count": 44,
     "metadata": {},
     "output_type": "execute_result"
    }
   ],
   "source": [
    "concurrent.futures.Future is asyncio.futures.Future"
   ]
  },
  {
   "cell_type": "code",
   "execution_count": null,
   "id": "9c793921-bd56-4378-8df6-00931f4e4824",
   "metadata": {},
   "outputs": [],
   "source": []
  },
  {
   "cell_type": "code",
   "execution_count": null,
   "id": "00eeb733-bc9a-4eb8-926c-b73d8fc3f2ef",
   "metadata": {},
   "outputs": [],
   "source": []
  },
  {
   "cell_type": "code",
   "execution_count": 79,
   "id": "e449f421-9c38-4812-92fe-8dc0f8a0b98f",
   "metadata": {},
   "outputs": [
    {
     "name": "stdout",
     "output_type": "stream",
     "text": [
      "start blocking api n=2\n",
      "finish blocking api n=2\n",
      "start non-blocking api n=2\n",
      "finish non-blocking api n=2\n",
      "total time: 3.9637069702148438\n"
     ]
    }
   ],
   "source": [
    "async def bloking_api(n):\n",
    "    print(f\"start blocking api {n=}\")\n",
    "\n",
    "    res = factorial(350_000)\n",
    "\n",
    "    print(f\"finish blocking api {n=}\")\n",
    "\n",
    "\n",
    "async def non_blocking_api(n):\n",
    "    print(f\"start non-blocking api {n=}\")\n",
    "\n",
    "    await asyncio.sleep(n)\n",
    "    print(f\"finish non-blocking api {n=}\")\n",
    "\n",
    "\n",
    "@do_timeit\n",
    "async def run(n):\n",
    "    await asyncio.gather(bloking_api(n), non_blocking_api(n))\n",
    "\n",
    "\n",
    "await run(2)"
   ]
  },
  {
   "cell_type": "code",
   "execution_count": 80,
   "id": "b67f6dec-d250-4433-bda5-e87a13f9c2b2",
   "metadata": {},
   "outputs": [
    {
     "name": "stdout",
     "output_type": "stream",
     "text": [
      "start blocking api n=2\n",
      "start non-blocking api n=2\n",
      "finish blocking api n=2\n",
      "finish non-blocking api n=2\n",
      "total time: 2.316499948501587\n"
     ]
    }
   ],
   "source": [
    "async def bloking_api(n):\n",
    "    print(f\"start blocking api {n=}\")\n",
    "\n",
    "    await asyncio.to_thread(factorial, 350_000)\n",
    "\n",
    "    print(f\"finish blocking api {n=}\")\n",
    "\n",
    "\n",
    "async def non_blocking_api(n):\n",
    "    print(f\"start non-blocking api {n=}\")\n",
    "\n",
    "    await asyncio.sleep(n)\n",
    "    print(f\"finish non-blocking api {n=}\")\n",
    "\n",
    "\n",
    "@do_timeit\n",
    "async def run(n):\n",
    "    await asyncio.gather(bloking_api(n), non_blocking_api(n))\n",
    "\n",
    "\n",
    "await run(2)"
   ]
  },
  {
   "cell_type": "code",
   "execution_count": null,
   "id": "f99235ce-c543-46ce-b20b-1894461097b5",
   "metadata": {},
   "outputs": [],
   "source": []
  }
 ],
 "metadata": {
  "kernelspec": {
   "display_name": "Python 3 (ipykernel)",
   "language": "python",
   "name": "python3"
  },
  "language_info": {
   "codemirror_mode": {
    "name": "ipython",
    "version": 3
   },
   "file_extension": ".py",
   "mimetype": "text/x-python",
   "name": "python",
   "nbconvert_exporter": "python",
   "pygments_lexer": "ipython3",
   "version": "3.13.2"
  }
 },
 "nbformat": 4,
 "nbformat_minor": 5
}
