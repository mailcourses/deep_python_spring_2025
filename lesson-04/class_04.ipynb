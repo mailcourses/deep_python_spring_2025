{
 "cells": [
  {
   "cell_type": "markdown",
   "id": "f735a341-55da-4979-a5bd-4afceb909f04",
   "metadata": {},
   "source": [
    "# Property"
   ]
  },
  {
   "cell_type": "code",
   "execution_count": 9,
   "id": "eb5da01a-4d16-465e-93ee-019f630e97d3",
   "metadata": {},
   "outputs": [
    {
     "name": "stdout",
     "output_type": "stream",
     "text": [
      "Person set age self._age=None\n"
     ]
    }
   ],
   "source": [
    "class Person:\n",
    "    def __init__(self, name, age):\n",
    "        self._name = name\n",
    "        self._age = None\n",
    "        self.age = age\n",
    "\n",
    "    @property\n",
    "    def age(self):\n",
    "        print(f\"Person {self._age=}\")\n",
    "        return self._age\n",
    "\n",
    "    @age.setter\n",
    "    def age(self, val):\n",
    "        print(f\"Person set age {self._age=}\")\n",
    "        if not (isinstance(val, int) and val >= 0):\n",
    "            raise ValueError(\"wrong age\")\n",
    "\n",
    "        self._age = val\n",
    "\n",
    "    @property\n",
    "    def name(self):\n",
    "        print(f\"Person {self._name=}\")\n",
    "        return self._name\n",
    "\n",
    "\n",
    "pers = Person(\"walter\", 99)"
   ]
  },
  {
   "cell_type": "code",
   "execution_count": 10,
   "id": "5ebb1b2f-cf16-4937-9d92-193da3d0c3ba",
   "metadata": {},
   "outputs": [
    {
     "data": {
      "text/plain": [
       "{'_name': 'walter', '_age': 99}"
      ]
     },
     "execution_count": 10,
     "metadata": {},
     "output_type": "execute_result"
    }
   ],
   "source": [
    "pers.__dict__"
   ]
  },
  {
   "cell_type": "code",
   "execution_count": 11,
   "id": "455ad0ad-bcfe-4445-8091-fcd6a4c7df7d",
   "metadata": {},
   "outputs": [
    {
     "name": "stdout",
     "output_type": "stream",
     "text": [
      "Person self._age=99\n"
     ]
    },
    {
     "data": {
      "text/plain": [
       "99"
      ]
     },
     "execution_count": 11,
     "metadata": {},
     "output_type": "execute_result"
    }
   ],
   "source": [
    "pers.age"
   ]
  },
  {
   "cell_type": "code",
   "execution_count": 12,
   "id": "ad4db865-e357-4a8b-9528-b30e3cac07b8",
   "metadata": {},
   "outputs": [
    {
     "name": "stdout",
     "output_type": "stream",
     "text": [
      "Person self._name='walter'\n"
     ]
    },
    {
     "data": {
      "text/plain": [
       "'walter'"
      ]
     },
     "execution_count": 12,
     "metadata": {},
     "output_type": "execute_result"
    }
   ],
   "source": [
    "pers.name"
   ]
  },
  {
   "cell_type": "code",
   "execution_count": 13,
   "id": "75ba3a44-7ecc-467f-862c-f5742a7e7ad4",
   "metadata": {},
   "outputs": [
    {
     "data": {
      "text/plain": [
       "mappingproxy({'__module__': '__main__',\n",
       "              '__firstlineno__': 1,\n",
       "              '__init__': <function __main__.Person.__init__(self, name, age)>,\n",
       "              'age': <property at 0x1099b7600>,\n",
       "              'name': <property at 0x1099b7e20>,\n",
       "              '__static_attributes__': ('_age', '_name', 'age'),\n",
       "              '__dict__': <attribute '__dict__' of 'Person' objects>,\n",
       "              '__weakref__': <attribute '__weakref__' of 'Person' objects>,\n",
       "              '__doc__': None})"
      ]
     },
     "execution_count": 13,
     "metadata": {},
     "output_type": "execute_result"
    }
   ],
   "source": [
    "Person.__dict__"
   ]
  },
  {
   "cell_type": "code",
   "execution_count": 16,
   "id": "557ee0a6-5387-488b-a6c9-5b36fd01bad4",
   "metadata": {},
   "outputs": [
    {
     "name": "stdout",
     "output_type": "stream",
     "text": [
      "Person set age self._age=99\n"
     ]
    }
   ],
   "source": [
    "pers.age = 55"
   ]
  },
  {
   "cell_type": "code",
   "execution_count": 17,
   "id": "491b4d50-4044-4d82-b87b-25ddc5209f46",
   "metadata": {},
   "outputs": [
    {
     "name": "stdout",
     "output_type": "stream",
     "text": [
      "Person self._age=55\n"
     ]
    },
    {
     "data": {
      "text/plain": [
       "55"
      ]
     },
     "execution_count": 17,
     "metadata": {},
     "output_type": "execute_result"
    }
   ],
   "source": [
    "pers.age"
   ]
  },
  {
   "cell_type": "code",
   "execution_count": 19,
   "id": "0bd4f265-e694-4520-ab0c-c351a91b3a09",
   "metadata": {},
   "outputs": [
    {
     "ename": "AttributeError",
     "evalue": "property 'name' of 'Person' object has no setter",
     "output_type": "error",
     "traceback": [
      "\u001b[31m---------------------------------------------------------------------------\u001b[39m",
      "\u001b[31mAttributeError\u001b[39m                            Traceback (most recent call last)",
      "\u001b[36mCell\u001b[39m\u001b[36m \u001b[39m\u001b[32mIn[19]\u001b[39m\u001b[32m, line 1\u001b[39m\n\u001b[32m----> \u001b[39m\u001b[32m1\u001b[39m \u001b[43mpers\u001b[49m\u001b[43m.\u001b[49m\u001b[43mname\u001b[49m = \u001b[33m\"\u001b[39m\u001b[33mnew_name\u001b[39m\u001b[33m\"\u001b[39m\n",
      "\u001b[31mAttributeError\u001b[39m: property 'name' of 'Person' object has no setter"
     ]
    }
   ],
   "source": [
    "pers.name = \"new_name\""
   ]
  },
  {
   "cell_type": "code",
   "execution_count": null,
   "id": "41e38e62-8352-4de3-adc3-66c0252f63fa",
   "metadata": {},
   "outputs": [],
   "source": []
  },
  {
   "cell_type": "code",
   "execution_count": 20,
   "id": "54ed5e11-e48c-407d-af8d-a85a41374d09",
   "metadata": {},
   "outputs": [],
   "source": [
    "pers.__dict__[\"age\"] = \"mega age\"\n",
    "pers.__dict__[\"name\"] = \"mega name\""
   ]
  },
  {
   "cell_type": "code",
   "execution_count": 21,
   "id": "9155a6d5-8973-43c1-a0de-e01172c1e9cb",
   "metadata": {},
   "outputs": [
    {
     "data": {
      "text/plain": [
       "{'_name': 'walter', '_age': 55, 'age': 'mega age', 'name': 'mega name'}"
      ]
     },
     "execution_count": 21,
     "metadata": {},
     "output_type": "execute_result"
    }
   ],
   "source": [
    "pers.__dict__"
   ]
  },
  {
   "cell_type": "code",
   "execution_count": 22,
   "id": "ba53943f-6362-44f1-9437-39d2d53670d2",
   "metadata": {},
   "outputs": [
    {
     "name": "stdout",
     "output_type": "stream",
     "text": [
      "Person self._age=55\n"
     ]
    },
    {
     "data": {
      "text/plain": [
       "55"
      ]
     },
     "execution_count": 22,
     "metadata": {},
     "output_type": "execute_result"
    }
   ],
   "source": [
    "pers.age"
   ]
  },
  {
   "cell_type": "code",
   "execution_count": 23,
   "id": "6c0e83d8-26d8-4dea-ada0-b80601a8bb03",
   "metadata": {},
   "outputs": [
    {
     "name": "stdout",
     "output_type": "stream",
     "text": [
      "Person self._name='walter'\n"
     ]
    },
    {
     "data": {
      "text/plain": [
       "'walter'"
      ]
     },
     "execution_count": 23,
     "metadata": {},
     "output_type": "execute_result"
    }
   ],
   "source": [
    "pers.name"
   ]
  },
  {
   "cell_type": "code",
   "execution_count": 24,
   "id": "7bea269e-361e-4510-982b-1616e07782cd",
   "metadata": {},
   "outputs": [
    {
     "name": "stdout",
     "output_type": "stream",
     "text": [
      "Person set age self._age=55\n"
     ]
    }
   ],
   "source": [
    "pers.age = 1000"
   ]
  },
  {
   "cell_type": "code",
   "execution_count": 26,
   "id": "14b327fb-9448-4f14-ae16-9a407fe8319f",
   "metadata": {},
   "outputs": [
    {
     "name": "stdout",
     "output_type": "stream",
     "text": [
      "Person self._age=1000\n"
     ]
    },
    {
     "data": {
      "text/plain": [
       "1000"
      ]
     },
     "execution_count": 26,
     "metadata": {},
     "output_type": "execute_result"
    }
   ],
   "source": [
    "pers.age"
   ]
  },
  {
   "cell_type": "code",
   "execution_count": 27,
   "id": "8ce194f3-2e88-4a2b-ad4e-e685791a849a",
   "metadata": {},
   "outputs": [],
   "source": [
    "pers.__dict__[\"_age\"] = \"nonvalid\""
   ]
  },
  {
   "cell_type": "code",
   "execution_count": 28,
   "id": "ccdf667a-0864-48d2-9299-f3d56042c7cf",
   "metadata": {},
   "outputs": [
    {
     "name": "stdout",
     "output_type": "stream",
     "text": [
      "Person self._age='nonvalid'\n"
     ]
    },
    {
     "data": {
      "text/plain": [
       "'nonvalid'"
      ]
     },
     "execution_count": 28,
     "metadata": {},
     "output_type": "execute_result"
    }
   ],
   "source": [
    "pers.age"
   ]
  },
  {
   "cell_type": "code",
   "execution_count": 29,
   "id": "bd2300f6-0e21-4557-b312-a8e98d604d12",
   "metadata": {},
   "outputs": [
    {
     "data": {
      "text/plain": [
       "'nonvalid'"
      ]
     },
     "execution_count": 29,
     "metadata": {},
     "output_type": "execute_result"
    }
   ],
   "source": [
    "pers.__age"
   ]
  },
  {
   "cell_type": "code",
   "execution_count": 30,
   "id": "673e110b-50a6-4c6e-9e0c-d56551ee9fb7",
   "metadata": {},
   "outputs": [],
   "source": [
    "def __fn(x, y):\n",
    "    return x + y"
   ]
  },
  {
   "cell_type": "code",
   "execution_count": 31,
   "id": "9b2e47fb-37ef-40b2-b289-49fb022035ad",
   "metadata": {},
   "outputs": [
    {
     "data": {
      "text/plain": [
       "3"
      ]
     },
     "execution_count": 31,
     "metadata": {},
     "output_type": "execute_result"
    }
   ],
   "source": [
    "__fn(1, 2)"
   ]
  },
  {
   "cell_type": "code",
   "execution_count": 32,
   "id": "c6aae48e-07f2-422c-8a11-fd6e695ede56",
   "metadata": {},
   "outputs": [],
   "source": [
    "def make_hash_from_password(password):\n",
    "    return hash(password)\n",
    "\n",
    "\n",
    "class User:\n",
    "    def __init__(self, login, password):\n",
    "        self.__login = login\n",
    "        self.password_hash = None\n",
    "        self.password = password\n",
    "\n",
    "    @property\n",
    "    def login(self):\n",
    "        \"\"\"name is read-only\"\"\"\n",
    "        return self.__login\n",
    "\n",
    "    @property\n",
    "    def password(self):\n",
    "        raise AttributeError(\"Password is write-only\")\n",
    "\n",
    "    @password.setter\n",
    "    def password(self, plaintext):\n",
    "        self.password_hash = make_hash_from_password(plaintext)\n"
   ]
  },
  {
   "cell_type": "code",
   "execution_count": 33,
   "id": "a42e174c-ba15-4b94-b10e-aea061ebbe9e",
   "metadata": {},
   "outputs": [],
   "source": [
    "walter = User(\"walter\", \"12345\")"
   ]
  },
  {
   "cell_type": "code",
   "execution_count": 35,
   "id": "de8bfe74-d705-46b9-9e64-bd4c804d08aa",
   "metadata": {},
   "outputs": [
    {
     "data": {
      "text/plain": [
       "{'_User__login': 'walter', 'password_hash': -3449614614386766689}"
      ]
     },
     "execution_count": 35,
     "metadata": {},
     "output_type": "execute_result"
    }
   ],
   "source": [
    "walter.__dict__"
   ]
  },
  {
   "cell_type": "code",
   "execution_count": 36,
   "id": "789ee387-982d-4148-966d-b6e2d8392a17",
   "metadata": {},
   "outputs": [
    {
     "data": {
      "text/plain": [
       "'walter'"
      ]
     },
     "execution_count": 36,
     "metadata": {},
     "output_type": "execute_result"
    }
   ],
   "source": [
    "walter.login"
   ]
  },
  {
   "cell_type": "code",
   "execution_count": 37,
   "id": "4a8cd932-d441-4b3d-afc3-e80246823634",
   "metadata": {},
   "outputs": [
    {
     "ename": "AttributeError",
     "evalue": "Password is write-only",
     "output_type": "error",
     "traceback": [
      "\u001b[31m---------------------------------------------------------------------------\u001b[39m",
      "\u001b[31mAttributeError\u001b[39m                            Traceback (most recent call last)",
      "\u001b[36mCell\u001b[39m\u001b[36m \u001b[39m\u001b[32mIn[37]\u001b[39m\u001b[32m, line 1\u001b[39m\n\u001b[32m----> \u001b[39m\u001b[32m1\u001b[39m \u001b[43mwalter\u001b[49m\u001b[43m.\u001b[49m\u001b[43mpassword\u001b[49m\n",
      "\u001b[36mCell\u001b[39m\u001b[36m \u001b[39m\u001b[32mIn[32]\u001b[39m\u001b[32m, line 18\u001b[39m, in \u001b[36mUser.password\u001b[39m\u001b[34m(self)\u001b[39m\n\u001b[32m     16\u001b[39m \u001b[38;5;129m@property\u001b[39m\n\u001b[32m     17\u001b[39m \u001b[38;5;28;01mdef\u001b[39;00m\u001b[38;5;250m \u001b[39m\u001b[34mpassword\u001b[39m(\u001b[38;5;28mself\u001b[39m):\n\u001b[32m---> \u001b[39m\u001b[32m18\u001b[39m     \u001b[38;5;28;01mraise\u001b[39;00m \u001b[38;5;167;01mAttributeError\u001b[39;00m(\u001b[33m\"\u001b[39m\u001b[33mPassword is write-only\u001b[39m\u001b[33m\"\u001b[39m)\n",
      "\u001b[31mAttributeError\u001b[39m: Password is write-only"
     ]
    }
   ],
   "source": [
    "walter.password"
   ]
  },
  {
   "cell_type": "code",
   "execution_count": 38,
   "id": "134b4c45-ce44-4c56-8149-8ae6a42782e7",
   "metadata": {},
   "outputs": [],
   "source": [
    "walter.password = \"56789\""
   ]
  },
  {
   "cell_type": "code",
   "execution_count": 39,
   "id": "cb78f208-bffd-4b93-aba6-68273cce2b75",
   "metadata": {},
   "outputs": [
    {
     "data": {
      "text/plain": [
       "{'_User__login': 'walter', 'password_hash': 3643347532207729054}"
      ]
     },
     "execution_count": 39,
     "metadata": {},
     "output_type": "execute_result"
    }
   ],
   "source": [
    "walter.__dict__"
   ]
  },
  {
   "cell_type": "code",
   "execution_count": null,
   "id": "e2cba945-2bb9-4494-993f-0f8718e12648",
   "metadata": {},
   "outputs": [],
   "source": []
  },
  {
   "cell_type": "code",
   "execution_count": null,
   "id": "3aebd6e7-9f67-4616-abc6-8c1c410e6d98",
   "metadata": {},
   "outputs": [],
   "source": []
  },
  {
   "cell_type": "markdown",
   "id": "3003f7df-e65a-4b9e-a7e5-b2331dcc2d3e",
   "metadata": {},
   "source": [
    "# Attr access"
   ]
  },
  {
   "cell_type": "code",
   "execution_count": 48,
   "id": "9aff9b01-952b-414c-b6e7-4679b8bec0e9",
   "metadata": {},
   "outputs": [
    {
     "name": "stdout",
     "output_type": "stream",
     "text": [
      "__setattr__ name='val', val=42\n"
     ]
    }
   ],
   "source": [
    "class AttrAccess:\n",
    "    name = \"cls_attribut_access\"\n",
    "\n",
    "    def __init__(self, val):\n",
    "        self.val = val\n",
    "\n",
    "    def __getattr__(self, name):\n",
    "        print(f\"__getattr__ {name=}\")\n",
    "\n",
    "        raise AttributeError(f\"no attr {name}\")\n",
    "        # return super().__getattr__(name)  # - error\n",
    "\n",
    "    def __getattribute__(self, name):\n",
    "        print(f\"__getattribute__ {name=}\")\n",
    "        \n",
    "        return super().__getattribute__(name)\n",
    "            \n",
    "    def __setattr__(self, name, val):\n",
    "        print(f\"__setattr__ {name=}, {val=}\")\n",
    "        \n",
    "        return super().__setattr__(name, val)\n",
    "\n",
    "    def __delattr__(self, name):\n",
    "        print(f\"__delattr__ {name=}\")\n",
    "        \n",
    "        return super().__delattr__(name)\n",
    "\n",
    "    \n",
    "attr = AttrAccess(42)"
   ]
  },
  {
   "cell_type": "code",
   "execution_count": 52,
   "id": "43f852f5-ec3a-4bbf-9a6f-6f5993e81f4c",
   "metadata": {},
   "outputs": [
    {
     "name": "stdout",
     "output_type": "stream",
     "text": [
      "__setattr__ name='age', val=42\n"
     ]
    }
   ],
   "source": [
    "attr.age = 42"
   ]
  },
  {
   "cell_type": "code",
   "execution_count": 42,
   "id": "dd6d242f-5be6-4a0a-b689-aea49bc6ca91",
   "metadata": {},
   "outputs": [
    {
     "name": "stdout",
     "output_type": "stream",
     "text": [
      "__getattribute__ name='age'\n"
     ]
    },
    {
     "data": {
      "text/plain": [
       "42"
      ]
     },
     "execution_count": 42,
     "metadata": {},
     "output_type": "execute_result"
    }
   ],
   "source": [
    "attr.age"
   ]
  },
  {
   "cell_type": "code",
   "execution_count": 49,
   "id": "62add15b-a424-450f-97c4-fb549cf0c206",
   "metadata": {},
   "outputs": [
    {
     "name": "stdout",
     "output_type": "stream",
     "text": [
      "__getattribute__ name='wrong'\n",
      "__getattr__ name='wrong'\n"
     ]
    },
    {
     "ename": "AttributeError",
     "evalue": "no attr wrong",
     "output_type": "error",
     "traceback": [
      "\u001b[31m---------------------------------------------------------------------------\u001b[39m",
      "\u001b[31mAttributeError\u001b[39m                            Traceback (most recent call last)",
      "\u001b[36mCell\u001b[39m\u001b[36m \u001b[39m\u001b[32mIn[49]\u001b[39m\u001b[32m, line 1\u001b[39m\n\u001b[32m----> \u001b[39m\u001b[32m1\u001b[39m \u001b[43mattr\u001b[49m\u001b[43m.\u001b[49m\u001b[43mwrong\u001b[49m\n",
      "\u001b[36mCell\u001b[39m\u001b[36m \u001b[39m\u001b[32mIn[48]\u001b[39m\u001b[32m, line 10\u001b[39m, in \u001b[36mAttrAccess.__getattr__\u001b[39m\u001b[34m(self, name)\u001b[39m\n\u001b[32m      7\u001b[39m \u001b[38;5;28;01mdef\u001b[39;00m\u001b[38;5;250m \u001b[39m\u001b[34m__getattr__\u001b[39m(\u001b[38;5;28mself\u001b[39m, name):\n\u001b[32m      8\u001b[39m     \u001b[38;5;28mprint\u001b[39m(\u001b[33mf\u001b[39m\u001b[33m\"\u001b[39m\u001b[33m__getattr__ \u001b[39m\u001b[38;5;132;01m{\u001b[39;00mname\u001b[38;5;132;01m=}\u001b[39;00m\u001b[33m\"\u001b[39m)\n\u001b[32m---> \u001b[39m\u001b[32m10\u001b[39m     \u001b[38;5;28;01mraise\u001b[39;00m \u001b[38;5;167;01mAttributeError\u001b[39;00m(\u001b[33mf\u001b[39m\u001b[33m\"\u001b[39m\u001b[33mno attr \u001b[39m\u001b[38;5;132;01m{\u001b[39;00mname\u001b[38;5;132;01m}\u001b[39;00m\u001b[33m\"\u001b[39m)\n",
      "\u001b[31mAttributeError\u001b[39m: no attr wrong"
     ]
    }
   ],
   "source": [
    "attr.wrong"
   ]
  },
  {
   "cell_type": "code",
   "execution_count": 53,
   "id": "d7499d95-0af2-44a1-9055-1e95282e4edd",
   "metadata": {},
   "outputs": [
    {
     "name": "stdout",
     "output_type": "stream",
     "text": [
      "__delattr__ name='age'\n"
     ]
    }
   ],
   "source": [
    "del attr.age"
   ]
  },
  {
   "cell_type": "code",
   "execution_count": null,
   "id": "8bb87cb9-9754-4b1d-a0e7-efdce8e1cd07",
   "metadata": {},
   "outputs": [],
   "source": []
  },
  {
   "cell_type": "code",
   "execution_count": 57,
   "id": "fb481109-4c3d-4b04-89d3-7ec30a655ad6",
   "metadata": {},
   "outputs": [
    {
     "name": "stdout",
     "output_type": "stream",
     "text": [
      "__getattribute__ name='age'\n",
      "__getattr__ name='age'\n"
     ]
    },
    {
     "data": {
      "text/plain": [
       "99"
      ]
     },
     "execution_count": 57,
     "metadata": {},
     "output_type": "execute_result"
    }
   ],
   "source": [
    "getattr(attr, \"age\", 99)"
   ]
  },
  {
   "cell_type": "code",
   "execution_count": 58,
   "id": "b138da2e-bd6e-421d-b40f-22e5e2efae42",
   "metadata": {},
   "outputs": [
    {
     "name": "stdout",
     "output_type": "stream",
     "text": [
      "__setattr__ name='age', val=1000\n"
     ]
    }
   ],
   "source": [
    "setattr(attr, \"age\", 1000)"
   ]
  },
  {
   "cell_type": "code",
   "execution_count": 59,
   "id": "1a57a308-6ca0-4b90-88fc-ede72744d002",
   "metadata": {},
   "outputs": [
    {
     "name": "stdout",
     "output_type": "stream",
     "text": [
      "__getattribute__ name='age'\n"
     ]
    },
    {
     "data": {
      "text/plain": [
       "1000"
      ]
     },
     "execution_count": 59,
     "metadata": {},
     "output_type": "execute_result"
    }
   ],
   "source": [
    "attr.age"
   ]
  },
  {
   "cell_type": "code",
   "execution_count": null,
   "id": "f9ee3bba-a3cf-4c4f-9ad6-fcd6d7392b52",
   "metadata": {},
   "outputs": [],
   "source": [
    "name = \"age\"\n",
    "value = 999\n",
    "\n",
    "if name == \"age\":\n",
    "    attr.age = value\n",
    "\n",
    "\n",
    "setattr(attr, name, value)"
   ]
  },
  {
   "cell_type": "code",
   "execution_count": null,
   "id": "058f3c20-a370-4dac-8806-2e20d6e47001",
   "metadata": {},
   "outputs": [],
   "source": []
  },
  {
   "cell_type": "code",
   "execution_count": null,
   "id": "14e80a9c-1609-4419-8f16-e97009335196",
   "metadata": {},
   "outputs": [],
   "source": []
  },
  {
   "cell_type": "code",
   "execution_count": 63,
   "id": "aa8f1efd-1186-48e5-ba8f-a6a2469f43d9",
   "metadata": {},
   "outputs": [
    {
     "name": "stdout",
     "output_type": "stream",
     "text": [
      "__setattr__ name='val', val=42\n",
      "__setattr__ name='_age', val=999\n"
     ]
    }
   ],
   "source": [
    "class AttrAccess:\n",
    "    name = \"cls_attribut_access\"\n",
    "\n",
    "    def __init__(self, val, age):\n",
    "        self.val = val\n",
    "        self._age = age\n",
    "\n",
    "    @property\n",
    "    def age(self):\n",
    "        print(f\"PROP {self._age=}\")\n",
    "\n",
    "    def __getattr__(self, name):\n",
    "        print(f\"__getattr__ {name=}\")\n",
    "\n",
    "        raise AttributeError(f\"no attr {name}\")\n",
    "        # return super().__getattr__(name)  # - error\n",
    "\n",
    "    def __getattribute__(self, name):\n",
    "        print(f\"__getattribute__ {name=}\")\n",
    "        \n",
    "        return super().__getattribute__(name)\n",
    "            \n",
    "    def __setattr__(self, name, val):\n",
    "        print(f\"__setattr__ {name=}, {val=}\")\n",
    "        \n",
    "        return super().__setattr__(name, val)\n",
    "\n",
    "    def __delattr__(self, name):\n",
    "        print(f\"__delattr__ {name=}\")\n",
    "        \n",
    "        return super().__delattr__(name)\n",
    "\n",
    "    \n",
    "attr = AttrAccess(42, 999)"
   ]
  },
  {
   "cell_type": "code",
   "execution_count": 64,
   "id": "a0396fc9-8538-4166-a18b-461673797ee7",
   "metadata": {},
   "outputs": [
    {
     "name": "stdout",
     "output_type": "stream",
     "text": [
      "__getattribute__ name='age'\n",
      "__getattribute__ name='_age'\n",
      "PROP self._age=999\n"
     ]
    }
   ],
   "source": [
    "attr.age"
   ]
  },
  {
   "cell_type": "code",
   "execution_count": null,
   "id": "4decba36-4dc9-495b-b6ce-67a4986179c0",
   "metadata": {},
   "outputs": [],
   "source": []
  },
  {
   "cell_type": "code",
   "execution_count": null,
   "id": "6ea59bf3-d2e8-40c4-98d9-6eef09a018bc",
   "metadata": {},
   "outputs": [],
   "source": []
  },
  {
   "cell_type": "code",
   "execution_count": null,
   "id": "c4bba2c7-1756-4b51-8168-d291e678bf2b",
   "metadata": {},
   "outputs": [],
   "source": []
  },
  {
   "cell_type": "code",
   "execution_count": null,
   "id": "9318e6f1-7dfc-4582-952d-c6a0bda4cd55",
   "metadata": {},
   "outputs": [],
   "source": []
  },
  {
   "cell_type": "code",
   "execution_count": 65,
   "id": "ee93edd8-c2c5-44ab-a63b-bc6cbe9b17b8",
   "metadata": {},
   "outputs": [
    {
     "name": "stdout",
     "output_type": "stream",
     "text": [
      "Student.__init__ VSU\n"
     ]
    }
   ],
   "source": [
    "class Person:\n",
    "    def __init__(self, name, age):\n",
    "        self.name = name\n",
    "        self.__age = age\n",
    "\n",
    "    def print_info(self):\n",
    "        print(f\"Person.print_info: {self.name=}, {self.__age}\")\n",
    "\n",
    "\n",
    "class Student(Person):\n",
    "    def __init__(self, school, *args, **kwargs):\n",
    "        print(f\"Student.__init__\", school)\n",
    "\n",
    "        super().__init__(*args, **kwargs)\n",
    "\n",
    "        self.school = school\n",
    "\n",
    "\n",
    "pers = Student(\"VSU\", \"jesse\", 27)"
   ]
  },
  {
   "cell_type": "code",
   "execution_count": 66,
   "id": "046fe595-231b-48a8-a2c5-2d1e9c91231f",
   "metadata": {},
   "outputs": [
    {
     "data": {
      "text/plain": [
       "{'name': 'jesse', '_Person__age': 27, 'school': 'VSU'}"
      ]
     },
     "execution_count": 66,
     "metadata": {},
     "output_type": "execute_result"
    }
   ],
   "source": [
    "pers.__dict__"
   ]
  },
  {
   "cell_type": "code",
   "execution_count": 68,
   "id": "9c3ff646-7b07-4131-aca1-287fd03b98f4",
   "metadata": {},
   "outputs": [
    {
     "name": "stdout",
     "output_type": "stream",
     "text": [
      "Person.print_info: self.name='jesse', 27\n"
     ]
    }
   ],
   "source": [
    "pers.print_info()"
   ]
  },
  {
   "cell_type": "code",
   "execution_count": null,
   "id": "edbffe4d-92cb-4e5a-9e5e-770a477364aa",
   "metadata": {},
   "outputs": [],
   "source": []
  },
  {
   "cell_type": "code",
   "execution_count": null,
   "id": "e79b0d15-5ec7-47ab-b751-53c492abf0b1",
   "metadata": {},
   "outputs": [],
   "source": []
  },
  {
   "cell_type": "code",
   "execution_count": 76,
   "id": "049cd5f0-ee1f-4cc0-891f-f9efdc232f27",
   "metadata": {},
   "outputs": [
    {
     "name": "stdout",
     "output_type": "stream",
     "text": [
      "Student.__init__ VSU\n"
     ]
    }
   ],
   "source": [
    "class Person:\n",
    "    def __init__(self, name, age):\n",
    "        self.name = name\n",
    "        self.__age = age\n",
    "\n",
    "    def print_info(self):\n",
    "        print(f\"Person.print_info: {self.name=}, {self.__age}\")\n",
    "\n",
    "\n",
    "class Student(Person):\n",
    "    def __init__(self, school, *args, **kwargs):\n",
    "        print(f\"Student.__init__\", school)\n",
    "\n",
    "        super().__init__(*args, **kwargs)\n",
    "\n",
    "        self.school = school\n",
    "        # self.__age = super().__age\n",
    "        self.__age = 99\n",
    "\n",
    "    def print_info(self):\n",
    "        print(f\"Student.print_info: {self.name=}, {self.__age}\")\n",
    "\n",
    "\n",
    "pers = Student(\"VSU\", \"jesse\", 27)"
   ]
  },
  {
   "cell_type": "code",
   "execution_count": 77,
   "id": "ecbbd13e-e540-4c1b-b072-43b0a66160b1",
   "metadata": {},
   "outputs": [
    {
     "data": {
      "text/plain": [
       "{'name': 'jesse', '_Person__age': 27, 'school': 'VSU', '_Student__age': 99}"
      ]
     },
     "execution_count": 77,
     "metadata": {},
     "output_type": "execute_result"
    }
   ],
   "source": [
    "pers.__dict__"
   ]
  },
  {
   "cell_type": "code",
   "execution_count": 78,
   "id": "a2de3ac8-1972-43a9-8cfc-a9d6524622ec",
   "metadata": {},
   "outputs": [
    {
     "name": "stdout",
     "output_type": "stream",
     "text": [
      "Student.print_info: self.name='jesse', 99\n"
     ]
    }
   ],
   "source": [
    "pers.print_info()"
   ]
  },
  {
   "cell_type": "code",
   "execution_count": null,
   "id": "ebcddb43-6811-4f82-ae7a-fdfbb1a5a072",
   "metadata": {},
   "outputs": [],
   "source": []
  },
  {
   "cell_type": "code",
   "execution_count": null,
   "id": "2feb972d-214e-43e6-b24a-3d2b664a86bf",
   "metadata": {},
   "outputs": [],
   "source": []
  },
  {
   "cell_type": "code",
   "execution_count": 79,
   "id": "fe3df8f1-e0d8-4b93-8447-6bef90d73902",
   "metadata": {},
   "outputs": [
    {
     "name": "stdout",
     "output_type": "stream",
     "text": [
      "Student.__init__ VSU\n"
     ]
    }
   ],
   "source": [
    "class Person:\n",
    "    def __init__(self, name, age):\n",
    "        self.name = name\n",
    "        self.__age = age\n",
    "\n",
    "    def print_info(self):\n",
    "        print(f\"Person.print_info: {self.name=}, {self.__age}\")\n",
    "\n",
    "\n",
    "class Student(Person):\n",
    "    def __init__(self, school, *args, **kwargs):\n",
    "        print(f\"Student.__init__\", school)\n",
    "\n",
    "        super().__init__(*args, **kwargs)\n",
    "\n",
    "        self.school = school\n",
    "        # self.__age = super().__age\n",
    "        self.__age = 99\n",
    "\n",
    "    def print_info(self):\n",
    "        print(f\"Student.print_info: {self.name=}, {self.__age}\")\n",
    "        \n",
    "        super().print_info()\n",
    "\n",
    "\n",
    "pers = Student(\"VSU\", \"jesse\", 27)"
   ]
  },
  {
   "cell_type": "code",
   "execution_count": 80,
   "id": "b27fd98f-8738-41f9-9e90-e70881441217",
   "metadata": {},
   "outputs": [
    {
     "data": {
      "text/plain": [
       "{'name': 'jesse', '_Person__age': 27, 'school': 'VSU', '_Student__age': 99}"
      ]
     },
     "execution_count": 80,
     "metadata": {},
     "output_type": "execute_result"
    }
   ],
   "source": [
    "pers.__dict__"
   ]
  },
  {
   "cell_type": "code",
   "execution_count": 81,
   "id": "adfef528-7c96-4876-95a0-79ceff0e4b86",
   "metadata": {},
   "outputs": [
    {
     "name": "stdout",
     "output_type": "stream",
     "text": [
      "Student.print_info: self.name='jesse', 99\n",
      "Person.print_info: self.name='jesse', 27\n"
     ]
    }
   ],
   "source": [
    "pers.print_info()"
   ]
  },
  {
   "cell_type": "code",
   "execution_count": null,
   "id": "ca6865f0-1098-4eb6-af42-a163ded03a6d",
   "metadata": {},
   "outputs": [],
   "source": []
  },
  {
   "cell_type": "code",
   "execution_count": null,
   "id": "7f016d9e-4176-46a7-9e0a-280ff081084e",
   "metadata": {},
   "outputs": [],
   "source": []
  },
  {
   "cell_type": "code",
   "execution_count": 98,
   "id": "a21c18d9-0547-440f-8c7e-070d8d951caf",
   "metadata": {},
   "outputs": [
    {
     "name": "stdout",
     "output_type": "stream",
     "text": [
      "Student.__init__ VSU\n"
     ]
    }
   ],
   "source": [
    "class Person:\n",
    "    def __init__(self, name, age):\n",
    "        self.name = name\n",
    "        self.__age = age\n",
    "\n",
    "    @property\n",
    "    def age(self):\n",
    "        return self.__age\n",
    "\n",
    "    def print_info(self):\n",
    "        print(f\"Person.print_info: {self.name=}, {self.__age}\")\n",
    "\n",
    "\n",
    "class Student(Person):\n",
    "    def __init__(self, school, *args, **kwargs):\n",
    "        print(f\"Student.__init__\", school)\n",
    "\n",
    "        super().__init__(*args, **kwargs)\n",
    "\n",
    "        self.school = school\n",
    "\n",
    "    def calc_year_plus_ten(self):\n",
    "        return self.age + 10\n",
    "        #return getattr(self, f\"_{cls.__name__}__age\") + 10\n",
    "\n",
    "\n",
    "pers = Student(\"VSU\", \"jesse\", 27)"
   ]
  },
  {
   "cell_type": "code",
   "execution_count": 99,
   "id": "332f65f2-5b58-4f3e-bd33-65162564e57b",
   "metadata": {},
   "outputs": [
    {
     "data": {
      "text/plain": [
       "37"
      ]
     },
     "execution_count": 99,
     "metadata": {},
     "output_type": "execute_result"
    }
   ],
   "source": [
    "pers.calc_year_plus_ten()"
   ]
  },
  {
   "cell_type": "code",
   "execution_count": null,
   "id": "9260bad1-dfa8-4eb4-899f-85ecf0b0ae58",
   "metadata": {},
   "outputs": [],
   "source": []
  },
  {
   "cell_type": "code",
   "execution_count": null,
   "id": "f1282d11-05bc-4f20-86ea-8bb3e03de8a3",
   "metadata": {},
   "outputs": [],
   "source": []
  },
  {
   "cell_type": "code",
   "execution_count": null,
   "id": "0c4db690-ab9f-4354-9019-4b374c9de287",
   "metadata": {},
   "outputs": [],
   "source": []
  },
  {
   "cell_type": "markdown",
   "id": "99bae067-ab66-4626-8654-7dc6d97b38fc",
   "metadata": {},
   "source": [
    "# Дескрипторы"
   ]
  },
  {
   "cell_type": "code",
   "execution_count": 100,
   "id": "5d69205b-dc2f-446f-b273-68a62644e971",
   "metadata": {},
   "outputs": [
    {
     "name": "stdout",
     "output_type": "stream",
     "text": [
      "init <__main__.TablePerson object at 0x108e3b230>\n",
      "set 99 for <__main__.TablePerson object at 0x108e3b230>\n"
     ]
    }
   ],
   "source": [
    "class IntField:\n",
    "    \n",
    "    def __get__(self, obj, objtype):\n",
    "         print(f\"get {obj} cls={objtype}\")\n",
    "            \n",
    "    def __set__(self, obj, val):\n",
    "        print(f\"set {val} for {obj}\")\n",
    "    \n",
    "    def __delete__(self, obj):\n",
    "        print(f\"delete from {obj}\")\n",
    "        \n",
    "\n",
    "class TablePerson:\n",
    "    age = IntField()\n",
    "\n",
    "    def __init__(self, age):\n",
    "        print(\"init\", self)\n",
    "        self.age = age\n",
    "\n",
    "pers = TablePerson(99)"
   ]
  },
  {
   "cell_type": "code",
   "execution_count": 101,
   "id": "aea52bd4-f8fd-4a12-a1ce-79307a1fd4f9",
   "metadata": {},
   "outputs": [
    {
     "name": "stdout",
     "output_type": "stream",
     "text": [
      "get <__main__.TablePerson object at 0x108e3b230> cls=<class '__main__.TablePerson'>\n"
     ]
    }
   ],
   "source": [
    "pers.age"
   ]
  },
  {
   "cell_type": "code",
   "execution_count": 102,
   "id": "452b7ae9-7298-41b2-a8d4-463b6b1669c1",
   "metadata": {},
   "outputs": [
    {
     "name": "stdout",
     "output_type": "stream",
     "text": [
      "delete from <__main__.TablePerson object at 0x108e3b230>\n"
     ]
    }
   ],
   "source": [
    "del pers.age"
   ]
  },
  {
   "cell_type": "code",
   "execution_count": 103,
   "id": "ee1d113a-9340-4fb5-8213-7ea552075104",
   "metadata": {},
   "outputs": [
    {
     "name": "stdout",
     "output_type": "stream",
     "text": [
      "get <__main__.TablePerson object at 0x108e3b230> cls=<class '__main__.TablePerson'>\n"
     ]
    }
   ],
   "source": [
    "pers.age"
   ]
  },
  {
   "cell_type": "code",
   "execution_count": 104,
   "id": "3d8f1585-f44a-4260-87c8-b665fc9390ef",
   "metadata": {},
   "outputs": [
    {
     "name": "stdout",
     "output_type": "stream",
     "text": [
      "get None cls=<class '__main__.TablePerson'>\n"
     ]
    }
   ],
   "source": [
    "TablePerson.age"
   ]
  },
  {
   "cell_type": "code",
   "execution_count": null,
   "id": "13a9d1ca-2921-4e65-b9cc-f99022572970",
   "metadata": {},
   "outputs": [],
   "source": []
  },
  {
   "cell_type": "code",
   "execution_count": 113,
   "id": "30f1f2af-36ac-46ba-99d3-bc7f3be3170a",
   "metadata": {},
   "outputs": [
    {
     "name": "stdout",
     "output_type": "stream",
     "text": [
      "init <__main__.TablePerson object at 0x108e3be00>\n"
     ]
    }
   ],
   "source": [
    "# bad!\n",
    "\n",
    "class IntField:\n",
    "\n",
    "    def __init__(self, val=None):\n",
    "        self._val = val\n",
    "    \n",
    "    def __get__(self, obj, objtype):\n",
    "        print(f\"get {obj} cls={objtype}\")\n",
    "        return self._val\n",
    "\n",
    "    def __set__(self, obj, val):\n",
    "        print(f\"set {val} for {obj}\")\n",
    "\n",
    "        self._val = val\n",
    "    \n",
    "\n",
    "class TablePerson:\n",
    "\n",
    "    def __init__(self, age):\n",
    "        print(\"init\", self)\n",
    "        self.age = IntField()\n",
    "\n",
    "\n",
    "pers = TablePerson(99)"
   ]
  },
  {
   "cell_type": "code",
   "execution_count": 115,
   "id": "18492dc8-015b-4399-a207-a419e51cab6f",
   "metadata": {},
   "outputs": [],
   "source": [
    "pers.age = 42"
   ]
  },
  {
   "cell_type": "code",
   "execution_count": 116,
   "id": "627baa6b-b183-47a5-8510-dac18031b2df",
   "metadata": {},
   "outputs": [
    {
     "data": {
      "text/plain": [
       "42"
      ]
     },
     "execution_count": 116,
     "metadata": {},
     "output_type": "execute_result"
    }
   ],
   "source": [
    "pers.age"
   ]
  },
  {
   "cell_type": "code",
   "execution_count": null,
   "id": "7e0145d1-d273-463c-af27-1e0a6b3998c4",
   "metadata": {},
   "outputs": [],
   "source": []
  },
  {
   "cell_type": "code",
   "execution_count": null,
   "id": "e66f2218-6582-44bf-b697-a7ff802c58a5",
   "metadata": {},
   "outputs": [],
   "source": []
  },
  {
   "cell_type": "code",
   "execution_count": 120,
   "id": "b8e7428c-6d34-4036-8448-57896c61ba68",
   "metadata": {},
   "outputs": [
    {
     "name": "stdout",
     "output_type": "stream",
     "text": [
      "init <__main__.TablePerson object at 0x108e3a270>\n",
      "set 99 for <__main__.TablePerson object at 0x108e3a270>\n"
     ]
    }
   ],
   "source": [
    "# bad!\n",
    "\n",
    "class IntField:\n",
    "\n",
    "    def __init__(self, val=None):\n",
    "        self._val = val\n",
    "    \n",
    "    def __get__(self, obj, objtype):\n",
    "        print(f\"get {obj} cls={objtype}\")\n",
    "        return self._val\n",
    "\n",
    "    def __set__(self, obj, val):\n",
    "        print(f\"set {val} for {obj}\")\n",
    "\n",
    "        self._val = val\n",
    "    \n",
    "\n",
    "class TablePerson:\n",
    "    age = IntField()\n",
    "\n",
    "    def __init__(self, age):\n",
    "        print(\"init\", self)\n",
    "        self.age = age\n",
    "\n",
    "\n",
    "pers = TablePerson(99)"
   ]
  },
  {
   "cell_type": "code",
   "execution_count": 107,
   "id": "e6e9885d-2a7d-4ba4-abee-a296361d4bf4",
   "metadata": {},
   "outputs": [
    {
     "name": "stdout",
     "output_type": "stream",
     "text": [
      "get <__main__.TablePerson object at 0x108e3a510> cls=<class '__main__.TablePerson'>\n"
     ]
    },
    {
     "data": {
      "text/plain": [
       "99"
      ]
     },
     "execution_count": 107,
     "metadata": {},
     "output_type": "execute_result"
    }
   ],
   "source": [
    "pers.age"
   ]
  },
  {
   "cell_type": "code",
   "execution_count": 108,
   "id": "208e24d8-87e7-4e9d-a342-a26dc2e76786",
   "metadata": {},
   "outputs": [
    {
     "name": "stdout",
     "output_type": "stream",
     "text": [
      "set 42 for <__main__.TablePerson object at 0x108e3a510>\n"
     ]
    }
   ],
   "source": [
    "pers.age = 42"
   ]
  },
  {
   "cell_type": "code",
   "execution_count": 109,
   "id": "8cd0ba97-f3e4-43e9-9feb-f67081db72b9",
   "metadata": {},
   "outputs": [
    {
     "name": "stdout",
     "output_type": "stream",
     "text": [
      "get <__main__.TablePerson object at 0x108e3a510> cls=<class '__main__.TablePerson'>\n"
     ]
    },
    {
     "data": {
      "text/plain": [
       "42"
      ]
     },
     "execution_count": 109,
     "metadata": {},
     "output_type": "execute_result"
    }
   ],
   "source": [
    "pers.age"
   ]
  },
  {
   "cell_type": "code",
   "execution_count": 110,
   "id": "263d8631-1c13-46ce-b548-7a4aadb32267",
   "metadata": {},
   "outputs": [
    {
     "data": {
      "text/plain": [
       "{}"
      ]
     },
     "execution_count": 110,
     "metadata": {},
     "output_type": "execute_result"
    }
   ],
   "source": [
    "pers.__dict__"
   ]
  },
  {
   "cell_type": "code",
   "execution_count": 111,
   "id": "f6fc758b-fa68-4561-80be-9f26e948c810",
   "metadata": {},
   "outputs": [
    {
     "data": {
      "text/plain": [
       "mappingproxy({'__module__': '__main__',\n",
       "              '__firstlineno__': 18,\n",
       "              'age': <__main__.IntField at 0x108e38ec0>,\n",
       "              '__init__': <function __main__.TablePerson.__init__(self, age)>,\n",
       "              '__static_attributes__': ('age',),\n",
       "              '__dict__': <attribute '__dict__' of 'TablePerson' objects>,\n",
       "              '__weakref__': <attribute '__weakref__' of 'TablePerson' objects>,\n",
       "              '__doc__': None})"
      ]
     },
     "execution_count": 111,
     "metadata": {},
     "output_type": "execute_result"
    }
   ],
   "source": [
    "TablePerson.__dict__"
   ]
  },
  {
   "cell_type": "code",
   "execution_count": 117,
   "id": "1f4c3203-7d56-43ae-b096-0aafc0975fb0",
   "metadata": {},
   "outputs": [
    {
     "data": {
      "text/plain": [
       "42"
      ]
     },
     "execution_count": 117,
     "metadata": {},
     "output_type": "execute_result"
    }
   ],
   "source": [
    "pers.age"
   ]
  },
  {
   "cell_type": "code",
   "execution_count": 121,
   "id": "972aafab-d099-4bb1-ac99-7126aefa60df",
   "metadata": {},
   "outputs": [
    {
     "name": "stdout",
     "output_type": "stream",
     "text": [
      "init <__main__.TablePerson object at 0x108c7ac10>\n",
      "set 99 for <__main__.TablePerson object at 0x108c7ac10>\n",
      "init <__main__.TablePerson object at 0x108c7a5d0>\n",
      "set 42 for <__main__.TablePerson object at 0x108c7a5d0>\n",
      "get <__main__.TablePerson object at 0x108c7ac10> cls=<class '__main__.TablePerson'>\n",
      "get <__main__.TablePerson object at 0x108c7a5d0> cls=<class '__main__.TablePerson'>\n",
      "42 42\n"
     ]
    }
   ],
   "source": [
    "pers1 = TablePerson(99)\n",
    "pers2 = TablePerson(42)\n",
    "\n",
    "print(pers1.age, pers2.age)"
   ]
  },
  {
   "cell_type": "code",
   "execution_count": 122,
   "id": "65e92b47-0db3-40d4-a758-3c4aad54f59f",
   "metadata": {},
   "outputs": [
    {
     "name": "stdout",
     "output_type": "stream",
     "text": [
      "set 1000 for <__main__.TablePerson object at 0x108c7ac10>\n"
     ]
    }
   ],
   "source": [
    "pers1.age = 1000"
   ]
  },
  {
   "cell_type": "code",
   "execution_count": 123,
   "id": "45647e56-9400-46a4-8206-2b75e88f499f",
   "metadata": {},
   "outputs": [
    {
     "name": "stdout",
     "output_type": "stream",
     "text": [
      "get <__main__.TablePerson object at 0x108c7ac10> cls=<class '__main__.TablePerson'>\n",
      "get <__main__.TablePerson object at 0x108c7a5d0> cls=<class '__main__.TablePerson'>\n",
      "1000 1000\n"
     ]
    }
   ],
   "source": [
    "print(pers1.age, pers2.age)"
   ]
  },
  {
   "cell_type": "code",
   "execution_count": null,
   "id": "142e16fc-caef-45bb-9d9a-cb3f90af6e4c",
   "metadata": {},
   "outputs": [],
   "source": []
  },
  {
   "cell_type": "code",
   "execution_count": null,
   "id": "b41098ee-e9ec-499e-970b-16beaee42608",
   "metadata": {},
   "outputs": [],
   "source": []
  },
  {
   "cell_type": "code",
   "execution_count": 127,
   "id": "d3500247-c3dc-419b-8685-252d307cebe4",
   "metadata": {},
   "outputs": [
    {
     "name": "stdout",
     "output_type": "stream",
     "text": [
      "init <__main__.TablePerson object at 0x108fd0980>\n",
      "set 99 for <__main__.TablePerson object at 0x108fd0980>\n",
      "set 2017 for <__main__.TablePerson object at 0x108fd0980>\n",
      "init <__main__.TablePerson object at 0x109b6a5d0>\n",
      "set 42 for <__main__.TablePerson object at 0x109b6a5d0>\n",
      "set 1856 for <__main__.TablePerson object at 0x109b6a5d0>\n"
     ]
    }
   ],
   "source": [
    "# bad!\n",
    "\n",
    "class IntField:\n",
    "\n",
    "    def __init__(self):\n",
    "        self.name = \"_hidden_int\"\n",
    "\n",
    "    def __get__(self, obj, objtype):\n",
    "        print(f\"get {obj} cls={objtype}\")\n",
    "        \n",
    "        if obj is None:\n",
    "            return None\n",
    "\n",
    "        return obj.__dict__[self.name]\n",
    "        # return getattr(obj, self.name)\n",
    "\n",
    "    def __set__(self, obj, val):\n",
    "        print(f\"set {val} for {obj}\")\n",
    "\n",
    "        if not isinstance(val, int):\n",
    "            raise ValueError(\"wrong int\")\n",
    "\n",
    "        obj.__dict__[self.name] = val\n",
    "        #setattr(obj, self.name, val)\n",
    "\n",
    "\n",
    "class TablePerson:\n",
    "    age = IntField()\n",
    "    year = IntField()\n",
    "\n",
    "    def __init__(self, age, year):\n",
    "        print(\"init\", self)\n",
    "        self.age = age\n",
    "        self.year = year\n",
    "\n",
    "\n",
    "pers1 = TablePerson(99, 2017)\n",
    "pers2 = TablePerson(42, 1856)"
   ]
  },
  {
   "cell_type": "code",
   "execution_count": 128,
   "id": "7b154cd5-44c3-466e-901c-da5c0bf0973f",
   "metadata": {},
   "outputs": [
    {
     "name": "stdout",
     "output_type": "stream",
     "text": [
      "get <__main__.TablePerson object at 0x108fd0980> cls=<class '__main__.TablePerson'>\n",
      "get <__main__.TablePerson object at 0x108fd0980> cls=<class '__main__.TablePerson'>\n",
      "get <__main__.TablePerson object at 0x109b6a5d0> cls=<class '__main__.TablePerson'>\n",
      "get <__main__.TablePerson object at 0x109b6a5d0> cls=<class '__main__.TablePerson'>\n"
     ]
    },
    {
     "data": {
      "text/plain": [
       "(2017, 2017, 1856, 1856)"
      ]
     },
     "execution_count": 128,
     "metadata": {},
     "output_type": "execute_result"
    }
   ],
   "source": [
    "pers1.age, pers1.year, pers2.age, pers2.year"
   ]
  },
  {
   "cell_type": "code",
   "execution_count": 129,
   "id": "ec39d6f1-3480-4aa6-b116-be418c57e95e",
   "metadata": {},
   "outputs": [
    {
     "data": {
      "text/plain": [
       "({'_hidden_int': 2017}, {'_hidden_int': 1856})"
      ]
     },
     "execution_count": 129,
     "metadata": {},
     "output_type": "execute_result"
    }
   ],
   "source": [
    "pers1.__dict__, pers2.__dict__"
   ]
  },
  {
   "cell_type": "code",
   "execution_count": null,
   "id": "f1334e3f-fe14-4d0e-81ab-0fd4e2b5e632",
   "metadata": {},
   "outputs": [],
   "source": []
  },
  {
   "cell_type": "code",
   "execution_count": null,
   "id": "bbab2b99-91ee-467f-a031-1bcf4044c11d",
   "metadata": {},
   "outputs": [],
   "source": []
  },
  {
   "cell_type": "code",
   "execution_count": 132,
   "id": "45559bc2-94f7-467e-9a15-5b55a4b7dd90",
   "metadata": {},
   "outputs": [
    {
     "name": "stdout",
     "output_type": "stream",
     "text": [
      "set name: owner=<class '__main__.TablePerson'>, name='age'\n",
      "set name: owner=<class '__main__.TablePerson'>, name='year'\n",
      "init <__main__.TablePerson object at 0x108fd0980>\n",
      "set 99 for <__main__.TablePerson object at 0x108fd0980>\n",
      "set 2017 for <__main__.TablePerson object at 0x108fd0980>\n",
      "init <__main__.TablePerson object at 0x109b6b610>\n",
      "set 42 for <__main__.TablePerson object at 0x109b6b610>\n",
      "set 1865 for <__main__.TablePerson object at 0x109b6b610>\n"
     ]
    }
   ],
   "source": [
    "class IntField:\n",
    "\n",
    "    def __set_name__(self, owner, name):\n",
    "        print(f\"set name: {owner=}, {name=}\")\n",
    "        \n",
    "        self.name = f\"_hidden_int_{name}\"\n",
    "\n",
    "    def __get__(self, obj, objtype):\n",
    "        print(f\"get {obj} cls={objtype}\")\n",
    "        \n",
    "        if obj is None:\n",
    "            return None\n",
    "\n",
    "        return obj.__dict__[self.name]\n",
    "        # return getattr(obj, self.name)\n",
    "\n",
    "    def __set__(self, obj, val):\n",
    "        print(f\"set {val} for {obj}\")\n",
    "\n",
    "        if not isinstance(val, int):\n",
    "            raise ValueError(\"wrong int\")\n",
    "\n",
    "        obj.__dict__[self.name] = val\n",
    "        #setattr(obj, self.name, val)\n",
    "\n",
    "\n",
    "class TablePerson:\n",
    "    age = IntField()\n",
    "    year = IntField()\n",
    "\n",
    "    def __init__(self, age, year):\n",
    "        print(\"init\", self)\n",
    "        self.age = age\n",
    "        self.year = year\n",
    "\n",
    "\n",
    "pers1 = TablePerson(99, 2017)\n",
    "pers2 = TablePerson(42, 1865)"
   ]
  },
  {
   "cell_type": "code",
   "execution_count": 133,
   "id": "26531741-9e45-43d1-a7a9-34c83e6b4a39",
   "metadata": {},
   "outputs": [
    {
     "name": "stdout",
     "output_type": "stream",
     "text": [
      "get <__main__.TablePerson object at 0x108fd0980> cls=<class '__main__.TablePerson'>\n",
      "get <__main__.TablePerson object at 0x108fd0980> cls=<class '__main__.TablePerson'>\n",
      "get <__main__.TablePerson object at 0x109b6b610> cls=<class '__main__.TablePerson'>\n",
      "get <__main__.TablePerson object at 0x109b6b610> cls=<class '__main__.TablePerson'>\n"
     ]
    },
    {
     "data": {
      "text/plain": [
       "(99, 2017, 42, 1865)"
      ]
     },
     "execution_count": 133,
     "metadata": {},
     "output_type": "execute_result"
    }
   ],
   "source": [
    "pers1.age, pers1.year, pers2.age, pers2.year"
   ]
  },
  {
   "cell_type": "code",
   "execution_count": 134,
   "id": "5abf63f2-14dd-44e1-bb70-31e1346f923b",
   "metadata": {},
   "outputs": [
    {
     "data": {
      "text/plain": [
       "({'_hidden_int_age': 99, '_hidden_int_year': 2017},\n",
       " {'_hidden_int_age': 42, '_hidden_int_year': 1865})"
      ]
     },
     "execution_count": 134,
     "metadata": {},
     "output_type": "execute_result"
    }
   ],
   "source": [
    "pers1.__dict__, pers2.__dict__"
   ]
  },
  {
   "cell_type": "code",
   "execution_count": null,
   "id": "c0a4384f-15ca-4a6e-bdb1-3dd35cdaa740",
   "metadata": {},
   "outputs": [],
   "source": []
  },
  {
   "cell_type": "code",
   "execution_count": null,
   "id": "06045344-3958-4761-ad9e-3b9a5d9e33a2",
   "metadata": {},
   "outputs": [],
   "source": []
  },
  {
   "cell_type": "code",
   "execution_count": 135,
   "id": "07a477d2-07a4-4af7-aeee-df91bb0ccb74",
   "metadata": {},
   "outputs": [
    {
     "name": "stdout",
     "output_type": "stream",
     "text": [
      "set name: owner=<class '__main__.TablePerson'>, name='age'\n",
      "set name: owner=<class '__main__.TablePerson'>, name='year'\n",
      "init <__main__.TablePerson object at 0x108fd01a0>\n",
      "set 99 for <__main__.TablePerson object at 0x108fd01a0>\n",
      "set 2017 for <__main__.TablePerson object at 0x108fd01a0>\n",
      "init <__main__.TablePerson object at 0x109b6b750>\n",
      "set 42 for <__main__.TablePerson object at 0x109b6b750>\n",
      "set 1865 for <__main__.TablePerson object at 0x109b6b750>\n"
     ]
    }
   ],
   "source": [
    "class IntField:\n",
    "\n",
    "    def __set_name__(self, owner, name):\n",
    "        print(f\"set name: {owner=}, {name=}\")\n",
    "        \n",
    "        self.name = name\n",
    "\n",
    "    def __get__(self, obj, objtype):\n",
    "        print(f\"get {obj} cls={objtype}\")\n",
    "        \n",
    "        if obj is None:\n",
    "            return None\n",
    "\n",
    "        return obj.__dict__[self.name]\n",
    "        # return getattr(obj, self.name)\n",
    "\n",
    "    def __set__(self, obj, val):\n",
    "        print(f\"set {val} for {obj}\")\n",
    "\n",
    "        if not isinstance(val, int):\n",
    "            raise ValueError(\"wrong int\")\n",
    "\n",
    "        obj.__dict__[self.name] = val\n",
    "        #setattr(obj, self.name, val)\n",
    "\n",
    "\n",
    "class TablePerson:\n",
    "    age = IntField()\n",
    "    year = IntField()\n",
    "\n",
    "    def __init__(self, age, year):\n",
    "        print(\"init\", self)\n",
    "        self.age = age\n",
    "        self.year = year\n",
    "\n",
    "\n",
    "pers1 = TablePerson(99, 2017)\n",
    "pers2 = TablePerson(42, 1865)"
   ]
  },
  {
   "cell_type": "code",
   "execution_count": 136,
   "id": "bd334f96-c94f-4433-a945-fe5cb79b9cf4",
   "metadata": {},
   "outputs": [
    {
     "data": {
      "text/plain": [
       "({'age': 99, 'year': 2017}, {'age': 42, 'year': 1865})"
      ]
     },
     "execution_count": 136,
     "metadata": {},
     "output_type": "execute_result"
    }
   ],
   "source": [
    "pers1.__dict__, pers2.__dict__"
   ]
  },
  {
   "cell_type": "code",
   "execution_count": 137,
   "id": "bd5a5108-c967-4328-85c1-00547cb874fd",
   "metadata": {},
   "outputs": [
    {
     "name": "stdout",
     "output_type": "stream",
     "text": [
      "get <__main__.TablePerson object at 0x108fd01a0> cls=<class '__main__.TablePerson'>\n",
      "get <__main__.TablePerson object at 0x108fd01a0> cls=<class '__main__.TablePerson'>\n",
      "get <__main__.TablePerson object at 0x109b6b750> cls=<class '__main__.TablePerson'>\n",
      "get <__main__.TablePerson object at 0x109b6b750> cls=<class '__main__.TablePerson'>\n"
     ]
    },
    {
     "data": {
      "text/plain": [
       "(99, 2017, 42, 1865)"
      ]
     },
     "execution_count": 137,
     "metadata": {},
     "output_type": "execute_result"
    }
   ],
   "source": [
    "pers1.age, pers1.year, pers2.age, pers2.year"
   ]
  },
  {
   "cell_type": "code",
   "execution_count": 138,
   "id": "183de317-6267-43b4-85c0-ebc2005bf301",
   "metadata": {},
   "outputs": [
    {
     "name": "stdout",
     "output_type": "stream",
     "text": [
      "set 500 for <__main__.TablePerson object at 0x108fd01a0>\n"
     ]
    }
   ],
   "source": [
    "pers1.age = 500"
   ]
  },
  {
   "cell_type": "code",
   "execution_count": 139,
   "id": "29efc3df-02ee-4fbd-88f4-95def10cf048",
   "metadata": {},
   "outputs": [
    {
     "name": "stdout",
     "output_type": "stream",
     "text": [
      "get <__main__.TablePerson object at 0x108fd01a0> cls=<class '__main__.TablePerson'>\n",
      "get <__main__.TablePerson object at 0x108fd01a0> cls=<class '__main__.TablePerson'>\n",
      "get <__main__.TablePerson object at 0x109b6b750> cls=<class '__main__.TablePerson'>\n",
      "get <__main__.TablePerson object at 0x109b6b750> cls=<class '__main__.TablePerson'>\n"
     ]
    },
    {
     "data": {
      "text/plain": [
       "(500, 2017, 42, 1865)"
      ]
     },
     "execution_count": 139,
     "metadata": {},
     "output_type": "execute_result"
    }
   ],
   "source": [
    "pers1.age, pers1.year, pers2.age, pers2.year"
   ]
  },
  {
   "cell_type": "code",
   "execution_count": 140,
   "id": "5fbf0975-280b-44a5-92af-0e7b4beb142d",
   "metadata": {},
   "outputs": [
    {
     "name": "stdout",
     "output_type": "stream",
     "text": [
      "get <__main__.TablePerson object at 0x108fd01a0> cls=<class '__main__.TablePerson'>\n"
     ]
    },
    {
     "data": {
      "text/plain": [
       "500"
      ]
     },
     "execution_count": 140,
     "metadata": {},
     "output_type": "execute_result"
    }
   ],
   "source": [
    "getattr(pers1, \"age\")"
   ]
  },
  {
   "cell_type": "code",
   "execution_count": null,
   "id": "0a636b7d-1b3a-470c-9718-458ba6a56090",
   "metadata": {},
   "outputs": [],
   "source": []
  },
  {
   "cell_type": "code",
   "execution_count": 141,
   "id": "8ea370ed-2c3a-4d33-92a9-47ccea6dddb0",
   "metadata": {},
   "outputs": [
    {
     "name": "stdout",
     "output_type": "stream",
     "text": [
      "set name: owner=<class '__main__.TablePerson'>, name='age'\n",
      "set name: owner=<class '__main__.TablePerson'>, name='year'\n",
      "init <__main__.TablePerson object at 0x108fd12b0>\n",
      "set 99 for <__main__.TablePerson object at 0x108fd12b0>\n",
      "set 2017 for <__main__.TablePerson object at 0x108fd12b0>\n",
      "init <__main__.TablePerson object at 0x109b6b390>\n",
      "set 42 for <__main__.TablePerson object at 0x109b6b390>\n",
      "set 1865 for <__main__.TablePerson object at 0x109b6b390>\n"
     ]
    }
   ],
   "source": [
    "class IntField:\n",
    "\n",
    "    def __set_name__(self, owner, name):\n",
    "        print(f\"set name: {owner=}, {name=}\")\n",
    "        \n",
    "        self.name = f\"_hidden_int_{name}\"\n",
    "\n",
    "    def __get__(self, obj, objtype):\n",
    "        print(f\"get {obj} cls={objtype}\")\n",
    "        \n",
    "        if obj is None:\n",
    "            return None\n",
    "\n",
    "        return obj.__dict__[self.name]\n",
    "        # return getattr(obj, self.name)\n",
    "\n",
    "    def __set__(self, obj, val):\n",
    "        print(f\"set {val} for {obj}\")\n",
    "\n",
    "        if not isinstance(val, int):\n",
    "            raise ValueError(\"wrong int\")\n",
    "\n",
    "        obj.__dict__[self.name] = val\n",
    "        #setattr(obj, self.name, val)\n",
    "\n",
    "\n",
    "class TablePerson:\n",
    "    age = IntField()\n",
    "    year = IntField()\n",
    "\n",
    "    def __init__(self, age, year):\n",
    "        print(\"init\", self)\n",
    "        self.age = age\n",
    "        self.year = year\n",
    "\n",
    "    def calc_age(self):\n",
    "        print(\"TablePerson.calc_age\")\n",
    "        return self.age\n",
    "\n",
    "\n",
    "pers1 = TablePerson(99, 2017)\n",
    "pers2 = TablePerson(42, 1865)"
   ]
  },
  {
   "cell_type": "code",
   "execution_count": 142,
   "id": "e5047131-bd07-45e5-9ec7-091564b02adc",
   "metadata": {},
   "outputs": [
    {
     "name": "stdout",
     "output_type": "stream",
     "text": [
      "TablePerson.calc_age\n",
      "get <__main__.TablePerson object at 0x108fd12b0> cls=<class '__main__.TablePerson'>\n"
     ]
    },
    {
     "data": {
      "text/plain": [
       "99"
      ]
     },
     "execution_count": 142,
     "metadata": {},
     "output_type": "execute_result"
    }
   ],
   "source": [
    "pers1.calc_age()"
   ]
  },
  {
   "cell_type": "code",
   "execution_count": 147,
   "id": "9cb28f9c-799b-4cca-9121-ba8d7bb88769",
   "metadata": {},
   "outputs": [
    {
     "data": {
      "text/plain": [
       "<slot wrapper '__get__' of 'method' objects>"
      ]
     },
     "execution_count": 147,
     "metadata": {},
     "output_type": "execute_result"
    }
   ],
   "source": [
    "pers1.calc_age.__class__.__get__"
   ]
  },
  {
   "cell_type": "code",
   "execution_count": 148,
   "id": "c32bf65e-9c3f-496e-b5d3-99dbd3e36048",
   "metadata": {},
   "outputs": [
    {
     "data": {
      "text/plain": [
       "<bound method TablePerson.calc_age of <__main__.TablePerson object at 0x108fd12b0>>"
      ]
     },
     "execution_count": 148,
     "metadata": {},
     "output_type": "execute_result"
    }
   ],
   "source": [
    "pers1.calc_age"
   ]
  },
  {
   "cell_type": "code",
   "execution_count": 150,
   "id": "a2560294-d6f1-4175-861d-6d098b2c712e",
   "metadata": {},
   "outputs": [
    {
     "name": "stdout",
     "output_type": "stream",
     "text": [
      "TablePerson.calc_age\n",
      "get <__main__.TablePerson object at 0x109b6b390> cls=<class '__main__.TablePerson'>\n"
     ]
    },
    {
     "data": {
      "text/plain": [
       "42"
      ]
     },
     "execution_count": 150,
     "metadata": {},
     "output_type": "execute_result"
    }
   ],
   "source": [
    "pers1.calc_age.__func__(pers2)"
   ]
  },
  {
   "cell_type": "code",
   "execution_count": null,
   "id": "fd888f28-7e32-4482-8178-5850df7a8f23",
   "metadata": {},
   "outputs": [],
   "source": []
  },
  {
   "cell_type": "code",
   "execution_count": 151,
   "id": "a51f95da-53fd-4461-8a5b-a4ffe1fbee7e",
   "metadata": {},
   "outputs": [],
   "source": [
    "pers1.__dict__[\"calc_age\"] = \"new_calc\""
   ]
  },
  {
   "cell_type": "code",
   "execution_count": 154,
   "id": "c4f68cf8-421a-4c7f-a2f4-b70cd05d725f",
   "metadata": {},
   "outputs": [
    {
     "data": {
      "text/plain": [
       "'new_calc'"
      ]
     },
     "execution_count": 154,
     "metadata": {},
     "output_type": "execute_result"
    }
   ],
   "source": [
    "pers1.calc_age"
   ]
  },
  {
   "cell_type": "code",
   "execution_count": 155,
   "id": "b941a6ac-073b-4689-93b0-8bdc0ef053c1",
   "metadata": {},
   "outputs": [],
   "source": [
    "del pers1.calc_age"
   ]
  },
  {
   "cell_type": "code",
   "execution_count": 156,
   "id": "b9ed0827-7cad-40e5-953b-f15685a50e19",
   "metadata": {},
   "outputs": [
    {
     "data": {
      "text/plain": [
       "<bound method TablePerson.calc_age of <__main__.TablePerson object at 0x108fd12b0>>"
      ]
     },
     "execution_count": 156,
     "metadata": {},
     "output_type": "execute_result"
    }
   ],
   "source": [
    "pers1.calc_age"
   ]
  },
  {
   "cell_type": "code",
   "execution_count": null,
   "id": "09665717-1004-47b7-b18e-a78f9cf26f67",
   "metadata": {},
   "outputs": [],
   "source": []
  },
  {
   "cell_type": "code",
   "execution_count": null,
   "id": "0e64a875-88dd-48d7-9c18-3895a32f5966",
   "metadata": {},
   "outputs": [],
   "source": []
  },
  {
   "cell_type": "code",
   "execution_count": 157,
   "id": "7d48485b-6199-452b-8d2d-d22c8b15bab8",
   "metadata": {},
   "outputs": [
    {
     "name": "stdout",
     "output_type": "stream",
     "text": [
      "set name: owner=<class '__main__.TablePerson'>, name='age'\n",
      "init <__main__.TablePerson object at 0x108fd02f0>\n"
     ]
    }
   ],
   "source": [
    "class IntField:\n",
    "\n",
    "    def __set_name__(self, owner, name):\n",
    "        print(f\"set name: {owner=}, {name=}\")\n",
    "        \n",
    "        self.name = f\"_hidden_int_{name}\"\n",
    "\n",
    "    def __get__(self, obj, objtype):\n",
    "        print(f\"get {obj} cls={objtype}\")\n",
    "        \n",
    "        if obj is None:\n",
    "            return None\n",
    "\n",
    "        return obj.__dict__[self.name]\n",
    "\n",
    "\n",
    "class TablePerson:\n",
    "    age = IntField()\n",
    "    year = IntField()\n",
    "\n",
    "    def __init__(self, age):\n",
    "        print(\"init\", self)\n",
    "        self.age = age\n",
    "\n",
    "    def calc_age(self):\n",
    "        print(\"TablePerson.calc_age\")\n",
    "        return self.age\n",
    "\n",
    "\n",
    "pers = TablePerson(99)"
   ]
  },
  {
   "cell_type": "code",
   "execution_count": 158,
   "id": "6ffe664e-03b7-45e3-aec0-31763275bd33",
   "metadata": {},
   "outputs": [
    {
     "data": {
      "text/plain": [
       "99"
      ]
     },
     "execution_count": 158,
     "metadata": {},
     "output_type": "execute_result"
    }
   ],
   "source": [
    "pers.age"
   ]
  },
  {
   "cell_type": "code",
   "execution_count": 159,
   "id": "944014a3-4b71-476a-bb2e-174dcba731e9",
   "metadata": {},
   "outputs": [
    {
     "data": {
      "text/plain": [
       "{'age': 99}"
      ]
     },
     "execution_count": 159,
     "metadata": {},
     "output_type": "execute_result"
    }
   ],
   "source": [
    "pers.__dict__"
   ]
  },
  {
   "cell_type": "code",
   "execution_count": 160,
   "id": "c7ffa08a-ba3d-4528-9dca-7fc67a54d43d",
   "metadata": {},
   "outputs": [],
   "source": [
    "del pers.age"
   ]
  },
  {
   "cell_type": "code",
   "execution_count": 161,
   "id": "146d4103-9134-485b-aafe-f23c17cac57b",
   "metadata": {},
   "outputs": [
    {
     "data": {
      "text/plain": [
       "{}"
      ]
     },
     "execution_count": 161,
     "metadata": {},
     "output_type": "execute_result"
    }
   ],
   "source": [
    "pers.__dict__"
   ]
  },
  {
   "cell_type": "code",
   "execution_count": 162,
   "id": "df5d49d7-1a94-4f58-923f-591581682f7b",
   "metadata": {},
   "outputs": [
    {
     "name": "stdout",
     "output_type": "stream",
     "text": [
      "get <__main__.TablePerson object at 0x108fd02f0> cls=<class '__main__.TablePerson'>\n"
     ]
    },
    {
     "ename": "KeyError",
     "evalue": "'_hidden_int_age'",
     "output_type": "error",
     "traceback": [
      "\u001b[31m---------------------------------------------------------------------------\u001b[39m",
      "\u001b[31mKeyError\u001b[39m                                  Traceback (most recent call last)",
      "\u001b[36mCell\u001b[39m\u001b[36m \u001b[39m\u001b[32mIn[162]\u001b[39m\u001b[32m, line 1\u001b[39m\n\u001b[32m----> \u001b[39m\u001b[32m1\u001b[39m \u001b[43mpers\u001b[49m\u001b[43m.\u001b[49m\u001b[43mage\u001b[49m\n",
      "\u001b[36mCell\u001b[39m\u001b[36m \u001b[39m\u001b[32mIn[157]\u001b[39m\u001b[32m, line 14\u001b[39m, in \u001b[36mIntField.__get__\u001b[39m\u001b[34m(self, obj, objtype)\u001b[39m\n\u001b[32m     11\u001b[39m \u001b[38;5;28;01mif\u001b[39;00m obj \u001b[38;5;129;01mis\u001b[39;00m \u001b[38;5;28;01mNone\u001b[39;00m:\n\u001b[32m     12\u001b[39m     \u001b[38;5;28;01mreturn\u001b[39;00m \u001b[38;5;28;01mNone\u001b[39;00m\n\u001b[32m---> \u001b[39m\u001b[32m14\u001b[39m \u001b[38;5;28;01mreturn\u001b[39;00m \u001b[43mobj\u001b[49m\u001b[43m.\u001b[49m\u001b[34;43m__dict__\u001b[39;49m\u001b[43m[\u001b[49m\u001b[38;5;28;43mself\u001b[39;49m\u001b[43m.\u001b[49m\u001b[43mname\u001b[49m\u001b[43m]\u001b[49m\n",
      "\u001b[31mKeyError\u001b[39m: '_hidden_int_age'"
     ]
    }
   ],
   "source": [
    "pers.age"
   ]
  },
  {
   "cell_type": "code",
   "execution_count": null,
   "id": "4531d626-7a14-4bdc-89a6-57c3a14bf93e",
   "metadata": {},
   "outputs": [],
   "source": []
  },
  {
   "cell_type": "code",
   "execution_count": null,
   "id": "3055d28d-ec33-468c-adc5-368122045db3",
   "metadata": {},
   "outputs": [],
   "source": []
  },
  {
   "cell_type": "markdown",
   "id": "04b6f6b4-cb1e-4e2e-8e05-cce315dfa07a",
   "metadata": {},
   "source": [
    "# Наследование"
   ]
  },
  {
   "cell_type": "code",
   "execution_count": 163,
   "id": "2f3f8ff1-4d4d-4503-9a25-f9227878a051",
   "metadata": {},
   "outputs": [
    {
     "name": "stdout",
     "output_type": "stream",
     "text": [
      "PostGrad.__init__\n",
      "Student.__init__ VSU\n",
      "Teacher.__init__ phd\n",
      "Person.__init__ walter\n"
     ]
    }
   ],
   "source": [
    "class Person:\n",
    "    def __init__(self, name):\n",
    "        print(f\"Person.__init__\", name)\n",
    "        self.name = name\n",
    "\n",
    "\n",
    "class Student(Person):\n",
    "    def __init__(self, school, *args, **kwargs):\n",
    "        print(f\"Student.__init__\", school)\n",
    "\n",
    "        super().__init__(*args, **kwargs)\n",
    "\n",
    "        self.school = school\n",
    "\n",
    "\n",
    "class Teacher(Person):\n",
    "    def __init__(self, rank, *args, **kwargs):\n",
    "        print(f\"Teacher.__init__\", rank)\n",
    "\n",
    "        super().__init__(*args, **kwargs)\n",
    "\n",
    "        self.rank = rank\n",
    "\n",
    "\n",
    "class PostGrad(Student, Teacher):\n",
    "    def __init__(self, *args, **kwargs):\n",
    "        print(f\"PostGrad.__init__\")\n",
    "\n",
    "        super().__init__(*args, **kwargs)\n",
    "\n",
    "\n",
    "pers = PostGrad(\"VSU\", \"phd\", \"walter\")"
   ]
  },
  {
   "cell_type": "code",
   "execution_count": 164,
   "id": "a97e8c4a-fa5b-4cf5-b612-db3bb7d33a5b",
   "metadata": {},
   "outputs": [
    {
     "data": {
      "text/plain": [
       "[__main__.PostGrad,\n",
       " __main__.Student,\n",
       " __main__.Teacher,\n",
       " __main__.Person,\n",
       " object]"
      ]
     },
     "execution_count": 164,
     "metadata": {},
     "output_type": "execute_result"
    }
   ],
   "source": [
    "PostGrad.mro()"
   ]
  },
  {
   "cell_type": "code",
   "execution_count": null,
   "id": "ff18e2a2-f362-4258-87c7-34cf5c179c3d",
   "metadata": {},
   "outputs": [],
   "source": []
  },
  {
   "cell_type": "code",
   "execution_count": 166,
   "id": "56a4ac31-02b4-4761-aebd-70ee8f4d098d",
   "metadata": {},
   "outputs": [
    {
     "name": "stdout",
     "output_type": "stream",
     "text": [
      "Student.__init__ abc\n",
      "Person.__init__ some\n"
     ]
    }
   ],
   "source": [
    "tch = Student(\"abc\", \"some\")"
   ]
  },
  {
   "cell_type": "code",
   "execution_count": null,
   "id": "42c6f9e0-b7cd-4948-bcc6-9d663f07c239",
   "metadata": {},
   "outputs": [],
   "source": []
  },
  {
   "cell_type": "code",
   "execution_count": null,
   "id": "c6883ade-b29e-4cb9-846f-47e24aafe935",
   "metadata": {},
   "outputs": [],
   "source": []
  },
  {
   "cell_type": "code",
   "execution_count": null,
   "id": "7de6f9bc-52a7-4723-8d7b-9e15d3544668",
   "metadata": {},
   "outputs": [],
   "source": []
  },
  {
   "cell_type": "markdown",
   "id": "41ea8218-f066-49ba-af23-1e1c60e71585",
   "metadata": {},
   "source": [
    "# Метаклассы"
   ]
  },
  {
   "cell_type": "code",
   "execution_count": null,
   "id": "a1e93ebd-2155-4ece-98bc-64945a1591e8",
   "metadata": {},
   "outputs": [],
   "source": []
  }
 ],
 "metadata": {
  "kernelspec": {
   "display_name": "Python 3 (ipykernel)",
   "language": "python",
   "name": "python3"
  },
  "language_info": {
   "codemirror_mode": {
    "name": "ipython",
    "version": 3
   },
   "file_extension": ".py",
   "mimetype": "text/x-python",
   "name": "python",
   "nbconvert_exporter": "python",
   "pygments_lexer": "ipython3",
   "version": "3.13.2"
  }
 },
 "nbformat": 4,
 "nbformat_minor": 5
}
